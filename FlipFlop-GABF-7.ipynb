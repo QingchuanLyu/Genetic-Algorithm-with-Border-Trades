{
 "cells": [
  {
   "cell_type": "code",
   "execution_count": 1,
   "outputs": [],
   "source": [
    "#pip install /Users/qingchuanlyu/Documents/Conferences/ICML-2025/icml2025/code/mlrose"
   ],
   "metadata": {
    "collapsed": false
   }
  },
  {
   "cell_type": "code",
   "execution_count": 2,
   "id": "b243b22c",
   "metadata": {},
   "outputs": [],
   "source": [
    "import mlrose_hiive as mh"
   ]
  },
  {
   "cell_type": "code",
   "execution_count": 1,
   "id": "cb9e02c3",
   "metadata": {},
   "outputs": [
    {
     "name": "stderr",
     "output_type": "stream",
     "text": [
      "/var/folders/c6/5zg6wy5n121f2pzclkwbzplm0000gn/T/ipykernel_37634/1000570959.py:7: DeprecationWarning: Importing display from IPython.core.display is deprecated since IPython 7.14, please import from IPython display\n",
      "  from IPython.core.display import display, HTML # for some notebook formatting.\n"
     ]
    }
   ],
   "source": [
    "import numpy as np\n",
    "\n",
    "from sklearn.model_selection import train_test_split\n",
    "from sklearn.preprocessing import MinMaxScaler, OneHotEncoder\n",
    "from sklearn.metrics import accuracy_score\n",
    "\n",
    "from IPython.core.display import display, HTML # for some notebook formatting.\n",
    "\n",
    "import logging\n",
    "import networkx as nx\n",
    "import matplotlib.pyplot as plt\n",
    "import string\n",
    "\n",
    "\n",
    "from ast import literal_eval\n",
    "\n",
    "from sklearn.model_selection import train_test_split\n",
    "from sklearn.preprocessing import MinMaxScaler, OneHotEncoder\n",
    "from sklearn.metrics import accuracy_score\n",
    "\n",
    "# switch off the chatter\n",
    "logging.basicConfig(level=logging.WARNING)"
   ]
  },
  {
   "cell_type": "code",
   "execution_count": 2,
   "id": "f314d532",
   "metadata": {},
   "outputs": [],
   "source": [
    "import pandas as pd"
   ]
  },
  {
   "cell_type": "code",
   "execution_count": 5,
   "outputs": [],
   "source": [
    "# # Flip Flop with problem size 7\n",
    "problem_ffp_tiny = mh.FlipFlopGenerator().generate(seed=0, size=7)\n",
    "#state = problem_ffp.get_state()"
   ],
   "metadata": {
    "collapsed": false
   }
  },
  {
   "cell_type": "code",
   "execution_count": 6,
   "outputs": [],
   "source": [
    "# GABF runner class\n",
    "# 1. tune population size and mutation rates\n",
    "ga_ffp = mh.GABFRunner(problem=problem_ffp_tiny,\n",
    "              experiment_name='ffp_ga',\n",
    "              output_directory=None, # note: specify an output directory to have results saved to disk\n",
    "              seed=0,\n",
    "              iteration_list=2 ** np.arange(12),\n",
    "              max_attempts=500,\n",
    "              population_sizes=[3, 5], # 20 bits in total\n",
    "              mutation_rates=[0.4, 0.5]) # Probability of a mutation at each element of the state vector during reproduction, expressed as a value between 0 and 1.\n",
    "\n",
    "# the two data frames will contain the results\n",
    "df_run_stats_ffp, df_run_curves_ffp = ga_ffp.run()"
   ],
   "metadata": {
    "collapsed": false
   }
  },
  {
   "cell_type": "code",
   "execution_count": 7,
   "outputs": [
    {
     "data": {
      "text/plain": "(8, 7)"
     },
     "execution_count": 7,
     "metadata": {},
     "output_type": "execute_result"
    }
   ],
   "source": [
    "df_run_curves_ffp.shape"
   ],
   "metadata": {
    "collapsed": false
   }
  },
  {
   "cell_type": "code",
   "execution_count": 8,
   "outputs": [
    {
     "data": {
      "text/plain": "   Iteration      Time  Fitness  FEvals  Population Size  Mutation Rate  \\\n0          0  0.001131      2.0     0.0                3            0.4   \n1          1  0.011030      6.0     2.0                3            0.4   \n2          0  0.001131      2.0     0.0                3            0.5   \n3          1  0.011030      6.0     2.0                3            0.5   \n4          0  0.001131      2.0     0.0                5            0.4   \n\n   max_iters  \n0       2048  \n1       2048  \n2       2048  \n3       2048  \n4       2048  ",
      "text/html": "<div>\n<style scoped>\n    .dataframe tbody tr th:only-of-type {\n        vertical-align: middle;\n    }\n\n    .dataframe tbody tr th {\n        vertical-align: top;\n    }\n\n    .dataframe thead th {\n        text-align: right;\n    }\n</style>\n<table border=\"1\" class=\"dataframe\">\n  <thead>\n    <tr style=\"text-align: right;\">\n      <th></th>\n      <th>Iteration</th>\n      <th>Time</th>\n      <th>Fitness</th>\n      <th>FEvals</th>\n      <th>Population Size</th>\n      <th>Mutation Rate</th>\n      <th>max_iters</th>\n    </tr>\n  </thead>\n  <tbody>\n    <tr>\n      <th>0</th>\n      <td>0</td>\n      <td>0.001131</td>\n      <td>2.0</td>\n      <td>0.0</td>\n      <td>3</td>\n      <td>0.4</td>\n      <td>2048</td>\n    </tr>\n    <tr>\n      <th>1</th>\n      <td>1</td>\n      <td>0.011030</td>\n      <td>6.0</td>\n      <td>2.0</td>\n      <td>3</td>\n      <td>0.4</td>\n      <td>2048</td>\n    </tr>\n    <tr>\n      <th>2</th>\n      <td>0</td>\n      <td>0.001131</td>\n      <td>2.0</td>\n      <td>0.0</td>\n      <td>3</td>\n      <td>0.5</td>\n      <td>2048</td>\n    </tr>\n    <tr>\n      <th>3</th>\n      <td>1</td>\n      <td>0.011030</td>\n      <td>6.0</td>\n      <td>2.0</td>\n      <td>3</td>\n      <td>0.5</td>\n      <td>2048</td>\n    </tr>\n    <tr>\n      <th>4</th>\n      <td>0</td>\n      <td>0.001131</td>\n      <td>2.0</td>\n      <td>0.0</td>\n      <td>5</td>\n      <td>0.4</td>\n      <td>2048</td>\n    </tr>\n  </tbody>\n</table>\n</div>"
     },
     "execution_count": 8,
     "metadata": {},
     "output_type": "execute_result"
    }
   ],
   "source": [
    "df_run_curves_ffp.head()"
   ],
   "metadata": {
    "collapsed": false
   }
  },
  {
   "cell_type": "code",
   "execution_count": 9,
   "outputs": [
    {
     "data": {
      "text/plain": "6.0"
     },
     "execution_count": 9,
     "metadata": {},
     "output_type": "execute_result"
    }
   ],
   "source": [
    "df_run_curves_ffp['Fitness'].max()"
   ],
   "metadata": {
    "collapsed": false
   }
  },
  {
   "cell_type": "code",
   "execution_count": 10,
   "outputs": [],
   "source": [
    "# need to check Time and FEvals"
   ],
   "metadata": {
    "collapsed": false
   }
  },
  {
   "cell_type": "code",
   "execution_count": 11,
   "outputs": [
    {
     "data": {
      "text/plain": "Iteration            int64\nTime               float64\nFitness            float64\nFEvals             float64\nPopulation Size      int64\nMutation Rate      float64\nmax_iters            int64\ndtype: object"
     },
     "execution_count": 11,
     "metadata": {},
     "output_type": "execute_result"
    }
   ],
   "source": [
    "df_run_curves_ffp.dtypes"
   ],
   "metadata": {
    "collapsed": false
   }
  },
  {
   "cell_type": "code",
   "execution_count": 12,
   "outputs": [],
   "source": [
    "df_curves_bestfitness_ffp = df_run_curves_ffp[(df_run_curves_ffp['Fitness'] == df_run_curves_ffp['Fitness'].max())]"
   ],
   "metadata": {
    "collapsed": false
   }
  },
  {
   "cell_type": "code",
   "execution_count": 13,
   "outputs": [
    {
     "data": {
      "text/plain": "   Iteration     Time  Fitness  FEvals  Population Size  Mutation Rate  \\\n1          1  0.01103      6.0     2.0                3            0.4   \n3          1  0.01103      6.0     2.0                3            0.5   \n5          1  0.01103      6.0     2.0                5            0.4   \n7          1  0.01103      6.0     2.0                5            0.5   \n\n   max_iters  \n1       2048  \n3       2048  \n5       2048  \n7       2048  ",
      "text/html": "<div>\n<style scoped>\n    .dataframe tbody tr th:only-of-type {\n        vertical-align: middle;\n    }\n\n    .dataframe tbody tr th {\n        vertical-align: top;\n    }\n\n    .dataframe thead th {\n        text-align: right;\n    }\n</style>\n<table border=\"1\" class=\"dataframe\">\n  <thead>\n    <tr style=\"text-align: right;\">\n      <th></th>\n      <th>Iteration</th>\n      <th>Time</th>\n      <th>Fitness</th>\n      <th>FEvals</th>\n      <th>Population Size</th>\n      <th>Mutation Rate</th>\n      <th>max_iters</th>\n    </tr>\n  </thead>\n  <tbody>\n    <tr>\n      <th>1</th>\n      <td>1</td>\n      <td>0.01103</td>\n      <td>6.0</td>\n      <td>2.0</td>\n      <td>3</td>\n      <td>0.4</td>\n      <td>2048</td>\n    </tr>\n    <tr>\n      <th>3</th>\n      <td>1</td>\n      <td>0.01103</td>\n      <td>6.0</td>\n      <td>2.0</td>\n      <td>3</td>\n      <td>0.5</td>\n      <td>2048</td>\n    </tr>\n    <tr>\n      <th>5</th>\n      <td>1</td>\n      <td>0.01103</td>\n      <td>6.0</td>\n      <td>2.0</td>\n      <td>5</td>\n      <td>0.4</td>\n      <td>2048</td>\n    </tr>\n    <tr>\n      <th>7</th>\n      <td>1</td>\n      <td>0.01103</td>\n      <td>6.0</td>\n      <td>2.0</td>\n      <td>5</td>\n      <td>0.5</td>\n      <td>2048</td>\n    </tr>\n  </tbody>\n</table>\n</div>"
     },
     "execution_count": 13,
     "metadata": {},
     "output_type": "execute_result"
    }
   ],
   "source": [
    "df_curves_bestfitness_ffp"
   ],
   "metadata": {
    "collapsed": false
   }
  },
  {
   "cell_type": "code",
   "execution_count": 14,
   "outputs": [
    {
     "data": {
      "text/plain": "   Population Size  Mutation Rate  FEvals  Iteration     Time\n0                3            0.4     2.0        1.0  0.01103\n1                3            0.5     2.0        1.0  0.01103\n2                5            0.4     2.0        1.0  0.01103\n3                5            0.5     2.0        1.0  0.01103",
      "text/html": "<div>\n<style scoped>\n    .dataframe tbody tr th:only-of-type {\n        vertical-align: middle;\n    }\n\n    .dataframe tbody tr th {\n        vertical-align: top;\n    }\n\n    .dataframe thead th {\n        text-align: right;\n    }\n</style>\n<table border=\"1\" class=\"dataframe\">\n  <thead>\n    <tr style=\"text-align: right;\">\n      <th></th>\n      <th>Population Size</th>\n      <th>Mutation Rate</th>\n      <th>FEvals</th>\n      <th>Iteration</th>\n      <th>Time</th>\n    </tr>\n  </thead>\n  <tbody>\n    <tr>\n      <th>0</th>\n      <td>3</td>\n      <td>0.4</td>\n      <td>2.0</td>\n      <td>1.0</td>\n      <td>0.01103</td>\n    </tr>\n    <tr>\n      <th>1</th>\n      <td>3</td>\n      <td>0.5</td>\n      <td>2.0</td>\n      <td>1.0</td>\n      <td>0.01103</td>\n    </tr>\n    <tr>\n      <th>2</th>\n      <td>5</td>\n      <td>0.4</td>\n      <td>2.0</td>\n      <td>1.0</td>\n      <td>0.01103</td>\n    </tr>\n    <tr>\n      <th>3</th>\n      <td>5</td>\n      <td>0.5</td>\n      <td>2.0</td>\n      <td>1.0</td>\n      <td>0.01103</td>\n    </tr>\n  </tbody>\n</table>\n</div>"
     },
     "execution_count": 14,
     "metadata": {},
     "output_type": "execute_result"
    }
   ],
   "source": [
    "df_curves_bestfitness_ffp.groupby(['Population Size', 'Mutation Rate']).agg({'FEvals': 'min', 'Iteration': 'mean', 'Time': 'min'}).reset_index()\n",
    "# Temp = 1 => less Fevals. Pick temp=1"
   ],
   "metadata": {
    "collapsed": false
   }
  },
  {
   "cell_type": "code",
   "execution_count": 39,
   "outputs": [],
   "source": [
    "# all results are the same. Take (5, 0.4)"
   ],
   "metadata": {
    "collapsed": false
   }
  },
  {
   "cell_type": "code",
   "execution_count": 15,
   "outputs": [
    {
     "data": {
      "text/plain": "   Iteration      Time  Fitness  FEvals  Population Size  Mutation Rate  \\\n0          0  0.001131      2.0     0.0                3            0.4   \n1          1  0.011030      6.0     2.0                3            0.4   \n2          0  0.001131      2.0     0.0                3            0.5   \n3          1  0.011030      6.0     2.0                3            0.5   \n4          0  0.001131      2.0     0.0                5            0.4   \n\n   max_iters  \n0       2048  \n1       2048  \n2       2048  \n3       2048  \n4       2048  ",
      "text/html": "<div>\n<style scoped>\n    .dataframe tbody tr th:only-of-type {\n        vertical-align: middle;\n    }\n\n    .dataframe tbody tr th {\n        vertical-align: top;\n    }\n\n    .dataframe thead th {\n        text-align: right;\n    }\n</style>\n<table border=\"1\" class=\"dataframe\">\n  <thead>\n    <tr style=\"text-align: right;\">\n      <th></th>\n      <th>Iteration</th>\n      <th>Time</th>\n      <th>Fitness</th>\n      <th>FEvals</th>\n      <th>Population Size</th>\n      <th>Mutation Rate</th>\n      <th>max_iters</th>\n    </tr>\n  </thead>\n  <tbody>\n    <tr>\n      <th>0</th>\n      <td>0</td>\n      <td>0.001131</td>\n      <td>2.0</td>\n      <td>0.0</td>\n      <td>3</td>\n      <td>0.4</td>\n      <td>2048</td>\n    </tr>\n    <tr>\n      <th>1</th>\n      <td>1</td>\n      <td>0.011030</td>\n      <td>6.0</td>\n      <td>2.0</td>\n      <td>3</td>\n      <td>0.4</td>\n      <td>2048</td>\n    </tr>\n    <tr>\n      <th>2</th>\n      <td>0</td>\n      <td>0.001131</td>\n      <td>2.0</td>\n      <td>0.0</td>\n      <td>3</td>\n      <td>0.5</td>\n      <td>2048</td>\n    </tr>\n    <tr>\n      <th>3</th>\n      <td>1</td>\n      <td>0.011030</td>\n      <td>6.0</td>\n      <td>2.0</td>\n      <td>3</td>\n      <td>0.5</td>\n      <td>2048</td>\n    </tr>\n    <tr>\n      <th>4</th>\n      <td>0</td>\n      <td>0.001131</td>\n      <td>2.0</td>\n      <td>0.0</td>\n      <td>5</td>\n      <td>0.4</td>\n      <td>2048</td>\n    </tr>\n  </tbody>\n</table>\n</div>"
     },
     "execution_count": 15,
     "metadata": {},
     "output_type": "execute_result"
    }
   ],
   "source": [
    "df_run_curves_ffp.head()"
   ],
   "metadata": {
    "collapsed": false
   }
  },
  {
   "cell_type": "code",
   "execution_count": 16,
   "outputs": [],
   "source": [
    "# clean up an existing result table to store the iterative resutls\n",
    "df_iter_curves_ffp = df_run_curves_ffp.drop(df_run_curves_ffp.index, inplace=False)"
   ],
   "metadata": {
    "collapsed": false
   }
  },
  {
   "cell_type": "code",
   "execution_count": 17,
   "outputs": [
    {
     "name": "stdout",
     "output_type": "stream",
     "text": [
      "(2, 7)\n",
      "(15, 7)\n",
      "(51, 7)\n",
      "(58, 7)\n",
      "(78, 7)\n",
      "(97, 7)\n",
      "(110, 7)\n",
      "(112, 7)\n",
      "(118, 7)\n",
      "(136, 7)\n"
     ]
    }
   ],
   "source": [
    "# GABF runner\n",
    "# 2. iterate through 10 seeds\n",
    "for s in range(10):\n",
    "    ga_ffp = mh.GABFRunner(problem=problem_ffp_tiny,\n",
    "              experiment_name='ffp_ga_{s}',\n",
    "              output_directory=None, # note: specify an output directory to have results saved to disk\n",
    "              seed=s,\n",
    "              iteration_list=2 ** np.arange(12),\n",
    "              max_attempts=500,\n",
    "              population_sizes=[5],\n",
    "              mutation_rates=[0.4])\n",
    "\n",
    "    # the two data frames will contain the results\n",
    "    df_run_stats_ffp_sub, df_run_curves_ffp_sub = ga_ffp.run()\n",
    "    #print(\"number of rows\")\n",
    "    #print(df_run_curves_ffp_sub.shape)\n",
    "    # append to the result df\n",
    "    df_iter_curves_ffp = pd.concat([df_iter_curves_ffp, df_run_curves_ffp_sub])\n",
    "    #print(\"after concatenation\")\n",
    "    #print(df_iter_curves_ffp.shape)"
   ],
   "metadata": {
    "collapsed": false
   }
  },
  {
   "cell_type": "code",
   "execution_count": 18,
   "outputs": [],
   "source": [
    "#df_iter_curves_ffp.to_csv('gabf-flip-flop-ps7.csv')"
   ],
   "metadata": {
    "collapsed": false
   }
  },
  {
   "cell_type": "code",
   "execution_count": 3,
   "outputs": [],
   "source": [
    "df_iter_curves_ffp = pd.read_csv('../../csv-files/gabf-flip-flop-ps7.csv')"
   ],
   "metadata": {
    "collapsed": false
   }
  },
  {
   "cell_type": "code",
   "execution_count": 19,
   "outputs": [
    {
     "data": {
      "text/plain": "35"
     },
     "execution_count": 19,
     "metadata": {},
     "output_type": "execute_result"
    }
   ],
   "source": [
    "df_iter_curves_ffp.Iteration.max()"
   ],
   "metadata": {
    "collapsed": false
   }
  },
  {
   "cell_type": "code",
   "execution_count": 4,
   "outputs": [],
   "source": [
    "df_fitness_iter_ffp = df_iter_curves_ffp.groupby('Iteration')\\\n",
    "                                .agg(avg_fitness=('Fitness', 'mean'), var_fitness = ('Fitness', 'var'))\\\n",
    "                                .reset_index()"
   ],
   "metadata": {
    "collapsed": false
   }
  },
  {
   "cell_type": "code",
   "execution_count": 21,
   "outputs": [
    {
     "data": {
      "text/plain": "(36, 3)"
     },
     "execution_count": 21,
     "metadata": {},
     "output_type": "execute_result"
    }
   ],
   "source": [
    "df_fitness_iter_ffp.shape"
   ],
   "metadata": {
    "collapsed": false
   }
  },
  {
   "cell_type": "code",
   "execution_count": 22,
   "outputs": [
    {
     "data": {
      "text/plain": "   Iteration  avg_fitness  var_fitness\n0          0         2.90     0.544444\n1          1         4.70     0.900000\n2          2         4.50     0.571429\n3          3         4.50     0.571429\n4          4         4.75     0.214286",
      "text/html": "<div>\n<style scoped>\n    .dataframe tbody tr th:only-of-type {\n        vertical-align: middle;\n    }\n\n    .dataframe tbody tr th {\n        vertical-align: top;\n    }\n\n    .dataframe thead th {\n        text-align: right;\n    }\n</style>\n<table border=\"1\" class=\"dataframe\">\n  <thead>\n    <tr style=\"text-align: right;\">\n      <th></th>\n      <th>Iteration</th>\n      <th>avg_fitness</th>\n      <th>var_fitness</th>\n    </tr>\n  </thead>\n  <tbody>\n    <tr>\n      <th>0</th>\n      <td>0</td>\n      <td>2.90</td>\n      <td>0.544444</td>\n    </tr>\n    <tr>\n      <th>1</th>\n      <td>1</td>\n      <td>4.70</td>\n      <td>0.900000</td>\n    </tr>\n    <tr>\n      <th>2</th>\n      <td>2</td>\n      <td>4.50</td>\n      <td>0.571429</td>\n    </tr>\n    <tr>\n      <th>3</th>\n      <td>3</td>\n      <td>4.50</td>\n      <td>0.571429</td>\n    </tr>\n    <tr>\n      <th>4</th>\n      <td>4</td>\n      <td>4.75</td>\n      <td>0.214286</td>\n    </tr>\n  </tbody>\n</table>\n</div>"
     },
     "execution_count": 22,
     "metadata": {},
     "output_type": "execute_result"
    }
   ],
   "source": [
    "df_fitness_iter_ffp.head()"
   ],
   "metadata": {
    "collapsed": false
   }
  },
  {
   "cell_type": "code",
   "execution_count": 23,
   "outputs": [
    {
     "data": {
      "text/plain": "6.0"
     },
     "execution_count": 23,
     "metadata": {},
     "output_type": "execute_result"
    }
   ],
   "source": [
    "df_iter_curves_ffp.Fitness.max()"
   ],
   "metadata": {
    "collapsed": false
   }
  },
  {
   "cell_type": "code",
   "execution_count": 24,
   "outputs": [
    {
     "data": {
      "text/plain": "6"
     },
     "execution_count": 24,
     "metadata": {},
     "output_type": "execute_result"
    }
   ],
   "source": [
    "# semi - converge point\n",
    "df_fitness_iter_ffp[df_fitness_iter_ffp.avg_fitness == df_iter_curves_ffp.Fitness.max()-1].Iteration.min()"
   ],
   "metadata": {
    "collapsed": false
   }
  },
  {
   "cell_type": "code",
   "execution_count": 28,
   "outputs": [
    {
     "data": {
      "text/plain": "35"
     },
     "execution_count": 28,
     "metadata": {},
     "output_type": "execute_result"
    }
   ],
   "source": [
    "#convergence point\n",
    "df_fitness_iter_ffp[df_fitness_iter_ffp.avg_fitness >= df_iter_curves_ffp.Fitness.max()].Iteration.min()"
   ],
   "metadata": {
    "collapsed": false
   }
  },
  {
   "cell_type": "code",
   "execution_count": 5,
   "outputs": [],
   "source": [
    "df_fitness_iter_ffp['stddev_fitness'] = df_fitness_iter_ffp['var_fitness'].apply(np.sqrt)"
   ],
   "metadata": {
    "collapsed": false
   }
  },
  {
   "cell_type": "code",
   "execution_count": 6,
   "outputs": [
    {
     "data": {
      "text/plain": "    Iteration  avg_fitness  var_fitness  stddev_fitness\n0           0     2.900000     0.544444        0.737865\n1           1     4.700000     0.900000        0.948683\n2           2     4.500000     0.571429        0.755929\n3           3     4.500000     0.571429        0.755929\n4           4     4.750000     0.214286        0.462910\n5           5     4.875000     0.410714        0.640870\n6           6     5.000000     0.333333        0.577350\n12         12     5.333333     0.266667        0.516398\n17         17     5.250000     0.250000        0.500000\n18         18     5.333333     0.333333        0.577350\n19         19     5.500000     0.500000        0.707107",
      "text/html": "<div>\n<style scoped>\n    .dataframe tbody tr th:only-of-type {\n        vertical-align: middle;\n    }\n\n    .dataframe tbody tr th {\n        vertical-align: top;\n    }\n\n    .dataframe thead th {\n        text-align: right;\n    }\n</style>\n<table border=\"1\" class=\"dataframe\">\n  <thead>\n    <tr style=\"text-align: right;\">\n      <th></th>\n      <th>Iteration</th>\n      <th>avg_fitness</th>\n      <th>var_fitness</th>\n      <th>stddev_fitness</th>\n    </tr>\n  </thead>\n  <tbody>\n    <tr>\n      <th>0</th>\n      <td>0</td>\n      <td>2.900000</td>\n      <td>0.544444</td>\n      <td>0.737865</td>\n    </tr>\n    <tr>\n      <th>1</th>\n      <td>1</td>\n      <td>4.700000</td>\n      <td>0.900000</td>\n      <td>0.948683</td>\n    </tr>\n    <tr>\n      <th>2</th>\n      <td>2</td>\n      <td>4.500000</td>\n      <td>0.571429</td>\n      <td>0.755929</td>\n    </tr>\n    <tr>\n      <th>3</th>\n      <td>3</td>\n      <td>4.500000</td>\n      <td>0.571429</td>\n      <td>0.755929</td>\n    </tr>\n    <tr>\n      <th>4</th>\n      <td>4</td>\n      <td>4.750000</td>\n      <td>0.214286</td>\n      <td>0.462910</td>\n    </tr>\n    <tr>\n      <th>5</th>\n      <td>5</td>\n      <td>4.875000</td>\n      <td>0.410714</td>\n      <td>0.640870</td>\n    </tr>\n    <tr>\n      <th>6</th>\n      <td>6</td>\n      <td>5.000000</td>\n      <td>0.333333</td>\n      <td>0.577350</td>\n    </tr>\n    <tr>\n      <th>12</th>\n      <td>12</td>\n      <td>5.333333</td>\n      <td>0.266667</td>\n      <td>0.516398</td>\n    </tr>\n    <tr>\n      <th>17</th>\n      <td>17</td>\n      <td>5.250000</td>\n      <td>0.250000</td>\n      <td>0.500000</td>\n    </tr>\n    <tr>\n      <th>18</th>\n      <td>18</td>\n      <td>5.333333</td>\n      <td>0.333333</td>\n      <td>0.577350</td>\n    </tr>\n    <tr>\n      <th>19</th>\n      <td>19</td>\n      <td>5.500000</td>\n      <td>0.500000</td>\n      <td>0.707107</td>\n    </tr>\n  </tbody>\n</table>\n</div>"
     },
     "execution_count": 6,
     "metadata": {},
     "output_type": "execute_result"
    }
   ],
   "source": [
    "df_fitness_iter_ffp[df_fitness_iter_ffp.stddev_fitness > 0]"
   ],
   "metadata": {
    "collapsed": false
   }
  },
  {
   "cell_type": "code",
   "execution_count": 7,
   "outputs": [
    {
     "data": {
      "text/plain": "0.6527628246243725"
     },
     "execution_count": 7,
     "metadata": {},
     "output_type": "execute_result"
    }
   ],
   "source": [
    "np.mean(df_fitness_iter_ffp[df_fitness_iter_ffp.stddev_fitness > 0].stddev_fitness)"
   ],
   "metadata": {
    "collapsed": false
   }
  },
  {
   "cell_type": "code",
   "execution_count": 26,
   "outputs": [
    {
     "data": {
      "text/plain": "   Iteration  avg_fitness  var_fitness  stddev_fitness\n0          0         2.90     0.544444        0.737865\n1          1         4.70     0.900000        0.948683\n2          2         4.50     0.571429        0.755929\n3          3         4.50     0.571429        0.755929\n4          4         4.75     0.214286        0.462910",
      "text/html": "<div>\n<style scoped>\n    .dataframe tbody tr th:only-of-type {\n        vertical-align: middle;\n    }\n\n    .dataframe tbody tr th {\n        vertical-align: top;\n    }\n\n    .dataframe thead th {\n        text-align: right;\n    }\n</style>\n<table border=\"1\" class=\"dataframe\">\n  <thead>\n    <tr style=\"text-align: right;\">\n      <th></th>\n      <th>Iteration</th>\n      <th>avg_fitness</th>\n      <th>var_fitness</th>\n      <th>stddev_fitness</th>\n    </tr>\n  </thead>\n  <tbody>\n    <tr>\n      <th>0</th>\n      <td>0</td>\n      <td>2.90</td>\n      <td>0.544444</td>\n      <td>0.737865</td>\n    </tr>\n    <tr>\n      <th>1</th>\n      <td>1</td>\n      <td>4.70</td>\n      <td>0.900000</td>\n      <td>0.948683</td>\n    </tr>\n    <tr>\n      <th>2</th>\n      <td>2</td>\n      <td>4.50</td>\n      <td>0.571429</td>\n      <td>0.755929</td>\n    </tr>\n    <tr>\n      <th>3</th>\n      <td>3</td>\n      <td>4.50</td>\n      <td>0.571429</td>\n      <td>0.755929</td>\n    </tr>\n    <tr>\n      <th>4</th>\n      <td>4</td>\n      <td>4.75</td>\n      <td>0.214286</td>\n      <td>0.462910</td>\n    </tr>\n  </tbody>\n</table>\n</div>"
     },
     "execution_count": 26,
     "metadata": {},
     "output_type": "execute_result"
    }
   ],
   "source": [
    "df_fitness_iter_ffp.head()"
   ],
   "metadata": {
    "collapsed": false
   }
  },
  {
   "cell_type": "code",
   "execution_count": 27,
   "outputs": [
    {
     "data": {
      "text/plain": "Text(0, 0.5, 'Fitness')"
     },
     "execution_count": 27,
     "metadata": {},
     "output_type": "execute_result"
    },
    {
     "data": {
      "text/plain": "<Figure size 640x480 with 1 Axes>",
      "image/png": "[encoded data removed]"
     },
     "metadata": {},
     "output_type": "display_data"
    }
   ],
   "source": [
    "plt.plot(df_fitness_iter_ffp.Iteration, df_fitness_iter_ffp.avg_fitness, 'k', color='#1B2ACC')\n",
    "plt.fill_between(df_fitness_iter_ffp.Iteration, df_fitness_iter_ffp.avg_fitness - df_fitness_iter_ffp.stddev_fitness\\\n",
    "                 , df_fitness_iter_ffp.avg_fitness + df_fitness_iter_ffp.stddev_fitness\\\n",
    "                 , alpha=0.5, edgecolor='#1B2ACC', facecolor='#089FFF')\n",
    "plt.title('Fitness by Iterations with Problem Size 7 \\n Genetic Algorithm with Border Swaps on Flip Flop')\n",
    "plt.xlabel('Iterations')\n",
    "plt.ylabel('Fitness')"
   ],
   "metadata": {
    "collapsed": false
   }
  },
  {
   "cell_type": "code",
   "execution_count": 71,
   "outputs": [],
   "source": [
    "# Fevals - iteration"
   ],
   "metadata": {
    "collapsed": false
   }
  },
  {
   "cell_type": "code",
   "execution_count": 8,
   "outputs": [],
   "source": [
    "df_FEvals_iter_ffp = df_iter_curves_ffp.groupby('Iteration')\\\n",
    "                                .agg(avg_FEvals=('FEvals', 'mean'), var_FEvals = ('FEvals', 'var'))\\\n",
    "                                .reset_index()"
   ],
   "metadata": {
    "collapsed": false
   }
  },
  {
   "cell_type": "code",
   "execution_count": 30,
   "outputs": [
    {
     "data": {
      "text/plain": "(36, 3)"
     },
     "execution_count": 30,
     "metadata": {},
     "output_type": "execute_result"
    }
   ],
   "source": [
    "df_FEvals_iter_ffp.shape"
   ],
   "metadata": {
    "collapsed": false
   }
  },
  {
   "cell_type": "code",
   "execution_count": 31,
   "outputs": [
    {
     "data": {
      "text/plain": "   Iteration  avg_FEvals  var_FEvals\n0          0       0.000    0.000000\n1          1       1.800    0.177778\n2          2       2.875    0.410714\n3          3       3.875    0.410714\n4          4       5.125    0.410714",
      "text/html": "<div>\n<style scoped>\n    .dataframe tbody tr th:only-of-type {\n        vertical-align: middle;\n    }\n\n    .dataframe tbody tr th {\n        vertical-align: top;\n    }\n\n    .dataframe thead th {\n        text-align: right;\n    }\n</style>\n<table border=\"1\" class=\"dataframe\">\n  <thead>\n    <tr style=\"text-align: right;\">\n      <th></th>\n      <th>Iteration</th>\n      <th>avg_FEvals</th>\n      <th>var_FEvals</th>\n    </tr>\n  </thead>\n  <tbody>\n    <tr>\n      <th>0</th>\n      <td>0</td>\n      <td>0.000</td>\n      <td>0.000000</td>\n    </tr>\n    <tr>\n      <th>1</th>\n      <td>1</td>\n      <td>1.800</td>\n      <td>0.177778</td>\n    </tr>\n    <tr>\n      <th>2</th>\n      <td>2</td>\n      <td>2.875</td>\n      <td>0.410714</td>\n    </tr>\n    <tr>\n      <th>3</th>\n      <td>3</td>\n      <td>3.875</td>\n      <td>0.410714</td>\n    </tr>\n    <tr>\n      <th>4</th>\n      <td>4</td>\n      <td>5.125</td>\n      <td>0.410714</td>\n    </tr>\n  </tbody>\n</table>\n</div>"
     },
     "execution_count": 31,
     "metadata": {},
     "output_type": "execute_result"
    }
   ],
   "source": [
    "df_FEvals_iter_ffp.head()"
   ],
   "metadata": {
    "collapsed": false
   }
  },
  {
   "cell_type": "code",
   "execution_count": 32,
   "outputs": [],
   "source": [
    "df_FEvals_iter_ffp['stddev_FEvals'] = df_FEvals_iter_ffp['var_FEvals'].apply(np.sqrt)"
   ],
   "metadata": {
    "collapsed": false
   }
  },
  {
   "cell_type": "code",
   "execution_count": 33,
   "outputs": [
    {
     "data": {
      "text/plain": "(0.0, 1.154700538379251)"
     },
     "execution_count": 33,
     "metadata": {},
     "output_type": "execute_result"
    }
   ],
   "source": [
    "df_FEvals_iter_ffp['stddev_FEvals'].min(), df_FEvals_iter_ffp['stddev_FEvals'].max()"
   ],
   "metadata": {
    "collapsed": false
   }
  },
  {
   "cell_type": "code",
   "execution_count": 34,
   "outputs": [
    {
     "data": {
      "text/plain": "   Iteration  avg_FEvals  var_FEvals  stddev_FEvals\n0          0       0.000    0.000000       0.000000\n1          1       1.800    0.177778       0.421637\n2          2       2.875    0.410714       0.640870\n3          3       3.875    0.410714       0.640870\n4          4       5.125    0.410714       0.640870",
      "text/html": "<div>\n<style scoped>\n    .dataframe tbody tr th:only-of-type {\n        vertical-align: middle;\n    }\n\n    .dataframe tbody tr th {\n        vertical-align: top;\n    }\n\n    .dataframe thead th {\n        text-align: right;\n    }\n</style>\n<table border=\"1\" class=\"dataframe\">\n  <thead>\n    <tr style=\"text-align: right;\">\n      <th></th>\n      <th>Iteration</th>\n      <th>avg_FEvals</th>\n      <th>var_FEvals</th>\n      <th>stddev_FEvals</th>\n    </tr>\n  </thead>\n  <tbody>\n    <tr>\n      <th>0</th>\n      <td>0</td>\n      <td>0.000</td>\n      <td>0.000000</td>\n      <td>0.000000</td>\n    </tr>\n    <tr>\n      <th>1</th>\n      <td>1</td>\n      <td>1.800</td>\n      <td>0.177778</td>\n      <td>0.421637</td>\n    </tr>\n    <tr>\n      <th>2</th>\n      <td>2</td>\n      <td>2.875</td>\n      <td>0.410714</td>\n      <td>0.640870</td>\n    </tr>\n    <tr>\n      <th>3</th>\n      <td>3</td>\n      <td>3.875</td>\n      <td>0.410714</td>\n      <td>0.640870</td>\n    </tr>\n    <tr>\n      <th>4</th>\n      <td>4</td>\n      <td>5.125</td>\n      <td>0.410714</td>\n      <td>0.640870</td>\n    </tr>\n  </tbody>\n</table>\n</div>"
     },
     "execution_count": 34,
     "metadata": {},
     "output_type": "execute_result"
    }
   ],
   "source": [
    "df_FEvals_iter_ffp.head()"
   ],
   "metadata": {
    "collapsed": false
   }
  },
  {
   "cell_type": "code",
   "execution_count": 9,
   "outputs": [
    {
     "data": {
      "text/plain": "37.0"
     },
     "execution_count": 9,
     "metadata": {},
     "output_type": "execute_result"
    }
   ],
   "source": [
    "df_FEvals_iter_ffp.avg_FEvals.max()"
   ],
   "metadata": {
    "collapsed": false
   }
  },
  {
   "cell_type": "code",
   "execution_count": 10,
   "outputs": [
    {
     "data": {
      "text/plain": "    Iteration  avg_FEvals  var_FEvals\n35         35        37.0         NaN",
      "text/html": "<div>\n<style scoped>\n    .dataframe tbody tr th:only-of-type {\n        vertical-align: middle;\n    }\n\n    .dataframe tbody tr th {\n        vertical-align: top;\n    }\n\n    .dataframe thead th {\n        text-align: right;\n    }\n</style>\n<table border=\"1\" class=\"dataframe\">\n  <thead>\n    <tr style=\"text-align: right;\">\n      <th></th>\n      <th>Iteration</th>\n      <th>avg_FEvals</th>\n      <th>var_FEvals</th>\n    </tr>\n  </thead>\n  <tbody>\n    <tr>\n      <th>35</th>\n      <td>35</td>\n      <td>37.0</td>\n      <td>NaN</td>\n    </tr>\n  </tbody>\n</table>\n</div>"
     },
     "execution_count": 10,
     "metadata": {},
     "output_type": "execute_result"
    }
   ],
   "source": [
    "df_FEvals_iter_ffp[df_FEvals_iter_ffp.Iteration == 35]"
   ],
   "metadata": {
    "collapsed": false
   }
  },
  {
   "cell_type": "code",
   "execution_count": 35,
   "outputs": [
    {
     "data": {
      "text/plain": "Text(0, 0.5, 'FEvals')"
     },
     "execution_count": 35,
     "metadata": {},
     "output_type": "execute_result"
    },
    {
     "data": {
      "text/plain": "<Figure size 640x480 with 1 Axes>",
      "image/png": "[encoded data removed]"
     },
     "metadata": {},
     "output_type": "display_data"
    }
   ],
   "source": [
    "plt.plot(df_FEvals_iter_ffp.Iteration, df_FEvals_iter_ffp.avg_FEvals, 'k', color='#1B2ACC')\n",
    "plt.fill_between(df_FEvals_iter_ffp.Iteration, df_FEvals_iter_ffp.avg_FEvals - df_FEvals_iter_ffp.stddev_FEvals\\\n",
    "                 , df_FEvals_iter_ffp.avg_FEvals + df_FEvals_iter_ffp.stddev_FEvals\\\n",
    "                 , alpha=0.5, edgecolor='#1B2ACC', facecolor='#089FFF')\n",
    "plt.title('FEvals by Iterations \\n Genetic Algorithm with Border Swaps')\n",
    "plt.xlabel('Iterations')\n",
    "plt.ylabel('FEvals')"
   ],
   "metadata": {
    "collapsed": false
   }
  },
  {
   "cell_type": "code",
   "execution_count": 36,
   "outputs": [
    {
     "data": {
      "text/plain": "0    0\nName: Iteration, dtype: int64"
     },
     "execution_count": 36,
     "metadata": {},
     "output_type": "execute_result"
    }
   ],
   "source": [
    "df_FEvals_iter_ffp[df_FEvals_iter_ffp.stddev_FEvals == 0]['Iteration']"
   ],
   "metadata": {
    "collapsed": false
   }
  },
  {
   "cell_type": "code",
   "execution_count": 37,
   "outputs": [
    {
     "data": {
      "text/plain": "20"
     },
     "execution_count": 37,
     "metadata": {},
     "output_type": "execute_result"
    }
   ],
   "source": [
    "df_FEvals_iter_ffp[df_FEvals_iter_ffp.stddev_FEvals.isna()]['Iteration'].min()"
   ],
   "metadata": {
    "collapsed": false
   }
  },
  {
   "cell_type": "code",
   "execution_count": 64,
   "outputs": [],
   "source": [
    "# fitness - wall clock time"
   ],
   "metadata": {
    "collapsed": false
   }
  },
  {
   "cell_type": "code",
   "execution_count": 13,
   "outputs": [],
   "source": [
    "df_time_iter_ffp = df_iter_curves_ffp.groupby('Iteration')\\\n",
    "                                .agg(avg_time=('Time', 'mean'), var_time = ('Time', 'var'))\\\n",
    "                                .reset_index()"
   ],
   "metadata": {
    "collapsed": false
   }
  },
  {
   "cell_type": "code",
   "execution_count": 39,
   "outputs": [
    {
     "data": {
      "text/plain": "(36, 3)"
     },
     "execution_count": 39,
     "metadata": {},
     "output_type": "execute_result"
    }
   ],
   "source": [
    "df_time_iter_ffp.shape"
   ],
   "metadata": {
    "collapsed": false
   }
  },
  {
   "cell_type": "code",
   "execution_count": 40,
   "outputs": [
    {
     "data": {
      "text/plain": "   Iteration  avg_time      var_time\n0          0  0.000483  9.252848e-08\n1          1  0.004931  2.556649e-06\n2          2  0.009492  5.743888e-06\n3          3  0.014246  3.759503e-06\n4          4  0.015037  3.856802e-06",
      "text/html": "<div>\n<style scoped>\n    .dataframe tbody tr th:only-of-type {\n        vertical-align: middle;\n    }\n\n    .dataframe tbody tr th {\n        vertical-align: top;\n    }\n\n    .dataframe thead th {\n        text-align: right;\n    }\n</style>\n<table border=\"1\" class=\"dataframe\">\n  <thead>\n    <tr style=\"text-align: right;\">\n      <th></th>\n      <th>Iteration</th>\n      <th>avg_time</th>\n      <th>var_time</th>\n    </tr>\n  </thead>\n  <tbody>\n    <tr>\n      <th>0</th>\n      <td>0</td>\n      <td>0.000483</td>\n      <td>9.252848e-08</td>\n    </tr>\n    <tr>\n      <th>1</th>\n      <td>1</td>\n      <td>0.004931</td>\n      <td>2.556649e-06</td>\n    </tr>\n    <tr>\n      <th>2</th>\n      <td>2</td>\n      <td>0.009492</td>\n      <td>5.743888e-06</td>\n    </tr>\n    <tr>\n      <th>3</th>\n      <td>3</td>\n      <td>0.014246</td>\n      <td>3.759503e-06</td>\n    </tr>\n    <tr>\n      <th>4</th>\n      <td>4</td>\n      <td>0.015037</td>\n      <td>3.856802e-06</td>\n    </tr>\n  </tbody>\n</table>\n</div>"
     },
     "execution_count": 40,
     "metadata": {},
     "output_type": "execute_result"
    }
   ],
   "source": [
    "df_time_iter_ffp.head()"
   ],
   "metadata": {
    "collapsed": false
   }
  },
  {
   "cell_type": "code",
   "execution_count": 14,
   "outputs": [],
   "source": [
    "df_time_iter_ffp['stddev_time'] = df_time_iter_ffp['var_time'].apply(np.sqrt)"
   ],
   "metadata": {
    "collapsed": false
   }
  },
  {
   "cell_type": "code",
   "execution_count": 42,
   "outputs": [
    {
     "data": {
      "text/plain": "   Iteration  avg_time      var_time  stddev_time\n0          0  0.000483  9.252848e-08     0.000304\n1          1  0.004931  2.556649e-06     0.001599\n2          2  0.009492  5.743888e-06     0.002397\n3          3  0.014246  3.759503e-06     0.001939\n4          4  0.015037  3.856802e-06     0.001964",
      "text/html": "<div>\n<style scoped>\n    .dataframe tbody tr th:only-of-type {\n        vertical-align: middle;\n    }\n\n    .dataframe tbody tr th {\n        vertical-align: top;\n    }\n\n    .dataframe thead th {\n        text-align: right;\n    }\n</style>\n<table border=\"1\" class=\"dataframe\">\n  <thead>\n    <tr style=\"text-align: right;\">\n      <th></th>\n      <th>Iteration</th>\n      <th>avg_time</th>\n      <th>var_time</th>\n      <th>stddev_time</th>\n    </tr>\n  </thead>\n  <tbody>\n    <tr>\n      <th>0</th>\n      <td>0</td>\n      <td>0.000483</td>\n      <td>9.252848e-08</td>\n      <td>0.000304</td>\n    </tr>\n    <tr>\n      <th>1</th>\n      <td>1</td>\n      <td>0.004931</td>\n      <td>2.556649e-06</td>\n      <td>0.001599</td>\n    </tr>\n    <tr>\n      <th>2</th>\n      <td>2</td>\n      <td>0.009492</td>\n      <td>5.743888e-06</td>\n      <td>0.002397</td>\n    </tr>\n    <tr>\n      <th>3</th>\n      <td>3</td>\n      <td>0.014246</td>\n      <td>3.759503e-06</td>\n      <td>0.001939</td>\n    </tr>\n    <tr>\n      <th>4</th>\n      <td>4</td>\n      <td>0.015037</td>\n      <td>3.856802e-06</td>\n      <td>0.001964</td>\n    </tr>\n  </tbody>\n</table>\n</div>"
     },
     "execution_count": 42,
     "metadata": {},
     "output_type": "execute_result"
    }
   ],
   "source": [
    "df_time_iter_ffp.head()"
   ],
   "metadata": {
    "collapsed": false
   }
  },
  {
   "cell_type": "code",
   "execution_count": 43,
   "outputs": [
    {
     "data": {
      "text/plain": "0.002626721719381991"
     },
     "execution_count": 43,
     "metadata": {},
     "output_type": "execute_result"
    }
   ],
   "source": [
    "df_time_iter_ffp.stddev_time.max()"
   ],
   "metadata": {
    "collapsed": false
   }
  },
  {
   "cell_type": "code",
   "execution_count": 44,
   "outputs": [
    {
     "data": {
      "text/plain": "Text(0, 0.5, 'Time')"
     },
     "execution_count": 44,
     "metadata": {},
     "output_type": "execute_result"
    },
    {
     "data": {
      "text/plain": "<Figure size 640x480 with 1 Axes>",
      "image/png": "[encoded data removed]"
     },
     "metadata": {},
     "output_type": "display_data"
    }
   ],
   "source": [
    "plt.plot(df_time_iter_ffp.Iteration, df_time_iter_ffp.avg_time, 'k', color='#1B2ACC')\n",
    "plt.fill_between(df_time_iter_ffp.Iteration, df_time_iter_ffp.avg_time - df_time_iter_ffp.stddev_time\\\n",
    "                 , df_time_iter_ffp.avg_time + df_time_iter_ffp.stddev_time\\\n",
    "                 , alpha=0.5, edgecolor='#1B2ACC', facecolor='#089FFF')\n",
    "plt.title('Wall Clock Time by Iterations \\n Genetic Algorithm with Border Swaps')\n",
    "plt.xlabel('Iterations')\n",
    "plt.ylabel('Time')"
   ],
   "metadata": {
    "collapsed": false
   }
  },
  {
   "cell_type": "code",
   "execution_count": 45,
   "outputs": [
    {
     "data": {
      "text/plain": "0.07301538600586355"
     },
     "execution_count": 45,
     "metadata": {},
     "output_type": "execute_result"
    }
   ],
   "source": [
    "df_time_iter_ffp.avg_time.max()"
   ],
   "metadata": {
    "collapsed": false
   }
  },
  {
   "cell_type": "code",
   "execution_count": 15,
   "outputs": [
    {
     "data": {
      "text/plain": "(4.133321677124213e-05, 0.0026267217193819796, 0.001730158223148251)"
     },
     "execution_count": 15,
     "metadata": {},
     "output_type": "execute_result"
    }
   ],
   "source": [
    "df_time_iter_ffp.stddev_time.min(), df_time_iter_ffp.stddev_time.max(), np.mean(df_time_iter_ffp.stddev_time)"
   ],
   "metadata": {
    "collapsed": false
   }
  },
  {
   "cell_type": "code",
   "execution_count": 46,
   "outputs": [
    {
     "data": {
      "text/plain": "20"
     },
     "execution_count": 46,
     "metadata": {},
     "output_type": "execute_result"
    }
   ],
   "source": [
    "df_time_iter_ffp[df_time_iter_ffp.var_time.isna()].Iteration.min()"
   ],
   "metadata": {
    "collapsed": false
   }
  },
  {
   "cell_type": "code",
   "execution_count": 47,
   "outputs": [
    {
     "data": {
      "text/plain": "    Iteration      Time  Fitness  FEvals  Population Size  Mutation Rate  \\\n20         20  0.042767      5.0    21.0                5            0.4   \n\n    max_iters  \n20       2048  ",
      "text/html": "<div>\n<style scoped>\n    .dataframe tbody tr th:only-of-type {\n        vertical-align: middle;\n    }\n\n    .dataframe tbody tr th {\n        vertical-align: top;\n    }\n\n    .dataframe thead th {\n        text-align: right;\n    }\n</style>\n<table border=\"1\" class=\"dataframe\">\n  <thead>\n    <tr style=\"text-align: right;\">\n      <th></th>\n      <th>Iteration</th>\n      <th>Time</th>\n      <th>Fitness</th>\n      <th>FEvals</th>\n      <th>Population Size</th>\n      <th>Mutation Rate</th>\n      <th>max_iters</th>\n    </tr>\n  </thead>\n  <tbody>\n    <tr>\n      <th>20</th>\n      <td>20</td>\n      <td>0.042767</td>\n      <td>5.0</td>\n      <td>21.0</td>\n      <td>5</td>\n      <td>0.4</td>\n      <td>2048</td>\n    </tr>\n  </tbody>\n</table>\n</div>"
     },
     "execution_count": 47,
     "metadata": {},
     "output_type": "execute_result"
    }
   ],
   "source": [
    "df_iter_curves_ffp[df_iter_curves_ffp.Iteration == 20]"
   ],
   "metadata": {
    "collapsed": false
   }
  },
  {
   "cell_type": "code",
   "execution_count": 48,
   "outputs": [
    {
     "data": {
      "text/plain": "    Iteration      Time  Fitness  FEvals  Population Size  Mutation Rate  \\\n35         35  0.073015      6.0    37.0                5            0.4   \n\n    max_iters  \n35       2048  ",
      "text/html": "<div>\n<style scoped>\n    .dataframe tbody tr th:only-of-type {\n        vertical-align: middle;\n    }\n\n    .dataframe tbody tr th {\n        vertical-align: top;\n    }\n\n    .dataframe thead th {\n        text-align: right;\n    }\n</style>\n<table border=\"1\" class=\"dataframe\">\n  <thead>\n    <tr style=\"text-align: right;\">\n      <th></th>\n      <th>Iteration</th>\n      <th>Time</th>\n      <th>Fitness</th>\n      <th>FEvals</th>\n      <th>Population Size</th>\n      <th>Mutation Rate</th>\n      <th>max_iters</th>\n    </tr>\n  </thead>\n  <tbody>\n    <tr>\n      <th>35</th>\n      <td>35</td>\n      <td>0.073015</td>\n      <td>6.0</td>\n      <td>37.0</td>\n      <td>5</td>\n      <td>0.4</td>\n      <td>2048</td>\n    </tr>\n  </tbody>\n</table>\n</div>"
     },
     "execution_count": 48,
     "metadata": {},
     "output_type": "execute_result"
    }
   ],
   "source": [
    "df_iter_curves_ffp[df_iter_curves_ffp.Iteration == 35]"
   ],
   "metadata": {
    "collapsed": false
   }
  },
  {
   "cell_type": "code",
   "execution_count": 49,
   "outputs": [
    {
     "data": {
      "text/plain": "    Iteration  counts\n0           0      10\n1           1      10\n2           2       8\n3           3       8\n4           4       8\n5           5       8\n6           6       7\n7           7       6\n8           8       6\n9           9       6\n10         10       6\n11         11       6\n12         12       6\n13         13       4\n14         14       4\n15         15       4\n16         16       4\n17         17       4\n18         18       3\n19         19       2\n20         20       1\n21         21       1\n22         22       1\n23         23       1\n24         24       1\n25         25       1\n26         26       1\n27         27       1\n28         28       1\n29         29       1\n30         30       1\n31         31       1\n32         32       1\n33         33       1\n34         34       1\n35         35       1",
      "text/html": "<div>\n<style scoped>\n    .dataframe tbody tr th:only-of-type {\n        vertical-align: middle;\n    }\n\n    .dataframe tbody tr th {\n        vertical-align: top;\n    }\n\n    .dataframe thead th {\n        text-align: right;\n    }\n</style>\n<table border=\"1\" class=\"dataframe\">\n  <thead>\n    <tr style=\"text-align: right;\">\n      <th></th>\n      <th>Iteration</th>\n      <th>counts</th>\n    </tr>\n  </thead>\n  <tbody>\n    <tr>\n      <th>0</th>\n      <td>0</td>\n      <td>10</td>\n    </tr>\n    <tr>\n      <th>1</th>\n      <td>1</td>\n      <td>10</td>\n    </tr>\n    <tr>\n      <th>2</th>\n      <td>2</td>\n      <td>8</td>\n    </tr>\n    <tr>\n      <th>3</th>\n      <td>3</td>\n      <td>8</td>\n    </tr>\n    <tr>\n      <th>4</th>\n      <td>4</td>\n      <td>8</td>\n    </tr>\n    <tr>\n      <th>5</th>\n      <td>5</td>\n      <td>8</td>\n    </tr>\n    <tr>\n      <th>6</th>\n      <td>6</td>\n      <td>7</td>\n    </tr>\n    <tr>\n      <th>7</th>\n      <td>7</td>\n      <td>6</td>\n    </tr>\n    <tr>\n      <th>8</th>\n      <td>8</td>\n      <td>6</td>\n    </tr>\n    <tr>\n      <th>9</th>\n      <td>9</td>\n      <td>6</td>\n    </tr>\n    <tr>\n      <th>10</th>\n      <td>10</td>\n      <td>6</td>\n    </tr>\n    <tr>\n      <th>11</th>\n      <td>11</td>\n      <td>6</td>\n    </tr>\n    <tr>\n      <th>12</th>\n      <td>12</td>\n      <td>6</td>\n    </tr>\n    <tr>\n      <th>13</th>\n      <td>13</td>\n      <td>4</td>\n    </tr>\n    <tr>\n      <th>14</th>\n      <td>14</td>\n      <td>4</td>\n    </tr>\n    <tr>\n      <th>15</th>\n      <td>15</td>\n      <td>4</td>\n    </tr>\n    <tr>\n      <th>16</th>\n      <td>16</td>\n      <td>4</td>\n    </tr>\n    <tr>\n      <th>17</th>\n      <td>17</td>\n      <td>4</td>\n    </tr>\n    <tr>\n      <th>18</th>\n      <td>18</td>\n      <td>3</td>\n    </tr>\n    <tr>\n      <th>19</th>\n      <td>19</td>\n      <td>2</td>\n    </tr>\n    <tr>\n      <th>20</th>\n      <td>20</td>\n      <td>1</td>\n    </tr>\n    <tr>\n      <th>21</th>\n      <td>21</td>\n      <td>1</td>\n    </tr>\n    <tr>\n      <th>22</th>\n      <td>22</td>\n      <td>1</td>\n    </tr>\n    <tr>\n      <th>23</th>\n      <td>23</td>\n      <td>1</td>\n    </tr>\n    <tr>\n      <th>24</th>\n      <td>24</td>\n      <td>1</td>\n    </tr>\n    <tr>\n      <th>25</th>\n      <td>25</td>\n      <td>1</td>\n    </tr>\n    <tr>\n      <th>26</th>\n      <td>26</td>\n      <td>1</td>\n    </tr>\n    <tr>\n      <th>27</th>\n      <td>27</td>\n      <td>1</td>\n    </tr>\n    <tr>\n      <th>28</th>\n      <td>28</td>\n      <td>1</td>\n    </tr>\n    <tr>\n      <th>29</th>\n      <td>29</td>\n      <td>1</td>\n    </tr>\n    <tr>\n      <th>30</th>\n      <td>30</td>\n      <td>1</td>\n    </tr>\n    <tr>\n      <th>31</th>\n      <td>31</td>\n      <td>1</td>\n    </tr>\n    <tr>\n      <th>32</th>\n      <td>32</td>\n      <td>1</td>\n    </tr>\n    <tr>\n      <th>33</th>\n      <td>33</td>\n      <td>1</td>\n    </tr>\n    <tr>\n      <th>34</th>\n      <td>34</td>\n      <td>1</td>\n    </tr>\n    <tr>\n      <th>35</th>\n      <td>35</td>\n      <td>1</td>\n    </tr>\n  </tbody>\n</table>\n</div>"
     },
     "execution_count": 49,
     "metadata": {},
     "output_type": "execute_result"
    }
   ],
   "source": [
    "df_iter_curves_ffp.groupby(['Iteration']).size().reset_index(name='counts') # 20 => 1 iter"
   ],
   "metadata": {
    "collapsed": false
   }
  },
  {
   "cell_type": "code",
   "execution_count": null,
   "outputs": [],
   "source": [],
   "metadata": {
    "collapsed": false
   }
  }
 ],
 "metadata": {
  "kernelspec": {
   "display_name": "Python 3 (ipykernel)",
   "language": "python",
   "name": "python3"
  },
  "language_info": {
   "codemirror_mode": {
    "name": "ipython",
    "version": 3
   },
   "file_extension": ".py",
   "mimetype": "text/x-python",
   "name": "python",
   "nbconvert_exporter": "python",
   "pygments_lexer": "ipython3",
   "version": "3.11.4"
  }
 },
 "nbformat": 4,
 "nbformat_minor": 5
}
