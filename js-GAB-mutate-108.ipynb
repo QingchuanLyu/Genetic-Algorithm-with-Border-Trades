{
 "cells": [
  {
   "cell_type": "code",
   "execution_count": 1,
   "outputs": [
    {
     "name": "stdout",
     "output_type": "stream",
     "text": [
      "Processing ./mlrose\r\n",
      "  Preparing metadata (setup.py) ... \u001B[?25ldone\r\n",
      "\u001B[?25hRequirement already satisfied: numpy in /Users/qingchuanlyu/anaconda3/envs/cs7641/lib/python3.10/site-packages (from mlrose_hiive==2.2.4) (1.26.4)\r\n",
      "Requirement already satisfied: scipy in /Users/qingchuanlyu/anaconda3/envs/cs7641/lib/python3.10/site-packages (from mlrose_hiive==2.2.4) (1.14.1)\r\n",
      "Requirement already satisfied: scikit-learn in /Users/qingchuanlyu/anaconda3/envs/cs7641/lib/python3.10/site-packages (from mlrose_hiive==2.2.4) (1.4.2)\r\n",
      "Requirement already satisfied: pandas in /Users/qingchuanlyu/anaconda3/envs/cs7641/lib/python3.10/site-packages (from mlrose_hiive==2.2.4) (2.2.3)\r\n",
      "Requirement already satisfied: networkx in /Users/qingchuanlyu/anaconda3/envs/cs7641/lib/python3.10/site-packages (from mlrose_hiive==2.2.4) (3.3)\r\n",
      "Requirement already satisfied: joblib in /Users/qingchuanlyu/anaconda3/envs/cs7641/lib/python3.10/site-packages (from mlrose_hiive==2.2.4) (1.4.2)\r\n",
      "Requirement already satisfied: python-dateutil>=2.8.2 in /Users/qingchuanlyu/anaconda3/envs/cs7641/lib/python3.10/site-packages (from pandas->mlrose_hiive==2.2.4) (2.9.0.post0)\r\n",
      "Requirement already satisfied: pytz>=2020.1 in /Users/qingchuanlyu/anaconda3/envs/cs7641/lib/python3.10/site-packages (from pandas->mlrose_hiive==2.2.4) (2024.1)\r\n",
      "Requirement already satisfied: tzdata>=2022.7 in /Users/qingchuanlyu/anaconda3/envs/cs7641/lib/python3.10/site-packages (from pandas->mlrose_hiive==2.2.4) (2024.2)\r\n",
      "Requirement already satisfied: threadpoolctl>=2.0.0 in /Users/qingchuanlyu/anaconda3/envs/cs7641/lib/python3.10/site-packages (from scikit-learn->mlrose_hiive==2.2.4) (3.5.0)\r\n",
      "Requirement already satisfied: six>=1.5 in /Users/qingchuanlyu/anaconda3/envs/cs7641/lib/python3.10/site-packages (from python-dateutil>=2.8.2->pandas->mlrose_hiive==2.2.4) (1.16.0)\r\n",
      "Building wheels for collected packages: mlrose_hiive\r\n",
      "  Building wheel for mlrose_hiive (setup.py) ... \u001B[?25ldone\r\n",
      "\u001B[?25h  Created wheel for mlrose_hiive: filename=mlrose_hiive-2.2.4-py3-none-any.whl size=132287 sha256=2db9b46211e3e70f99f7cd7858b40fd9f3cf514f5a780404ac3dc2701be7d5d1\r\n",
      "  Stored in directory: /private/var/folders/c6/5zg6wy5n121f2pzclkwbzplm0000gn/T/pip-ephem-wheel-cache-16ya62yd/wheels/77/c5/de/7a63a2c78a12ad335a5091a9209439e12d86616744464a5ae4\r\n",
      "Successfully built mlrose_hiive\r\n",
      "Installing collected packages: mlrose_hiive\r\n",
      "  Attempting uninstall: mlrose_hiive\r\n",
      "    Found existing installation: mlrose_hiive 2.2.4\r\n",
      "    Uninstalling mlrose_hiive-2.2.4:\r\n",
      "      Successfully uninstalled mlrose_hiive-2.2.4\r\n",
      "Successfully installed mlrose_hiive-2.2.4\r\n",
      "Note: you may need to restart the kernel to use updated packages.\n"
     ]
    }
   ],
   "source": [
    "pip install /Users/qingchuanlyu/Documents/Conferences/ICML-2025/icml2025/code/mlrose"
   ],
   "metadata": {
    "collapsed": false
   }
  },
  {
   "cell_type": "code",
   "execution_count": 109,
   "outputs": [
    {
     "data": {
      "text/plain": "'\\n# B.\\ndef border_swap(problem, next_gen, child, schedule):\\n    if schedule is None:\\n        print(\"order is none.\")\\n        return next_gen\\n    if len(next_gen) == 0:\\n        next_gen.append(child)\\n    else:\\n        for i in schedule:\\n            if schedule[i] == -1 and i < len(schedule) - 1:\\n                schedule[i-1], schedule[i+1] = schedule[i+1], schedule[i-1]\\n        temp_schedule = [i for i in schedule if i != -1]\\n        #if problem.eval_fitness(temp_schedule) > problem.eval_fitness(child):\\n        next_gen.append(temp_schedule)\\n    return next_gen\\n'"
     },
     "execution_count": 109,
     "metadata": {},
     "output_type": "execute_result"
    }
   ],
   "source": [
    "\"\"\"\n",
    "# B.\n",
    "def border_swap(problem, next_gen, child, schedule):\n",
    "    if schedule is None:\n",
    "        print(\"order is none.\")\n",
    "        return next_gen\n",
    "    if len(next_gen) == 0:\n",
    "        next_gen.append(child)\n",
    "    else:\n",
    "        for i in schedule:\n",
    "            if schedule[i] == -1 and i < len(schedule) - 1:\n",
    "                schedule[i-1], schedule[i+1] = schedule[i+1], schedule[i-1]\n",
    "        temp_schedule = [i for i in schedule if i != -1]\n",
    "        #if problem.eval_fitness(temp_schedule) > problem.eval_fitness(child):\n",
    "        next_gen.append(temp_schedule)\n",
    "    return next_gen\n",
    "\"\"\""
   ],
   "metadata": {
    "collapsed": false
   }
  },
  {
   "cell_type": "code",
   "execution_count": 2,
   "id": "b243b22c",
   "metadata": {},
   "outputs": [],
   "source": [
    "import mlrose_hiive as mh"
   ]
  },
  {
   "cell_type": "code",
   "execution_count": 3,
   "outputs": [],
   "source": [
    "#help(mh.runners)"
   ],
   "metadata": {
    "collapsed": false
   }
  },
  {
   "cell_type": "code",
   "execution_count": 4,
   "id": "cb9e02c3",
   "metadata": {},
   "outputs": [],
   "source": [
    "import numpy as np\n",
    "\n",
    "from sklearn.model_selection import train_test_split\n",
    "from sklearn.preprocessing import MinMaxScaler, OneHotEncoder\n",
    "from sklearn.metrics import accuracy_score\n",
    "\n",
    "from IPython.core.display import display, HTML # for some notebook formatting.\n",
    "\n",
    "import logging\n",
    "import networkx as nx\n",
    "import matplotlib.pyplot as plt\n",
    "import string\n",
    "\n",
    "\n",
    "from ast import literal_eval\n",
    "\n",
    "from sklearn.model_selection import train_test_split\n",
    "from sklearn.preprocessing import MinMaxScaler, OneHotEncoder\n",
    "from sklearn.metrics import accuracy_score\n",
    "\n",
    "# switch off the chatter\n",
    "logging.basicConfig(level=logging.WARNING)"
   ]
  },
  {
   "cell_type": "code",
   "execution_count": 5,
   "id": "f314d532",
   "metadata": {},
   "outputs": [],
   "source": [
    "import pandas as pd\n",
    "import utility as u\n",
    "import importlib"
   ]
  },
  {
   "cell_type": "code",
   "execution_count": 6,
   "outputs": [],
   "source": [
    "class Task:\n",
    "    def __init__(self, task_id, duration, deadline, profit):\n",
    "        self.task_id = task_id\n",
    "        self.duration = duration\n",
    "        self.deadline = deadline\n",
    "        self.profit = profit"
   ],
   "metadata": {
    "collapsed": false
   }
  },
  {
   "cell_type": "code",
   "execution_count": 7,
   "outputs": [],
   "source": [
    "size = 108\n",
    "importlib.reload(u)\n",
    "tasks = u.generate_random_tasks(size, 5, 80, 25)"
   ],
   "metadata": {
    "collapsed": false
   }
  },
  {
   "cell_type": "code",
   "execution_count": 8,
   "id": "c907b845",
   "metadata": {},
   "outputs": [],
   "source": [
    "# # Job Scheduling\n",
    "problem_ffp = mh.JobSchedulingGenerator().generate(seed=0, size=size, tasks=tasks, break_time=1, work_limit=2)\n",
    "#state = problem_ffp.get_state()"
   ]
  },
  {
   "cell_type": "code",
   "execution_count": 9,
   "outputs": [
    {
     "data": {
      "text/plain": "108"
     },
     "execution_count": 9,
     "metadata": {},
     "output_type": "execute_result"
    }
   ],
   "source": [
    "problem_ffp.length"
   ],
   "metadata": {
    "collapsed": false
   }
  },
  {
   "cell_type": "code",
   "execution_count": 10,
   "outputs": [
    {
     "data": {
      "text/plain": "245.0"
     },
     "execution_count": 10,
     "metadata": {},
     "output_type": "execute_result"
    }
   ],
   "source": [
    "problem_ffp.fitness"
   ],
   "metadata": {
    "collapsed": false
   }
  },
  {
   "cell_type": "code",
   "execution_count": 11,
   "id": "34174e8f",
   "metadata": {},
   "outputs": [],
   "source": [
    "# GA runner class\n",
    "# 1. tune population size and mutation rates\n",
    "ga_ffp = mh.GAJSRunner(problem=problem_ffp,\n",
    "              experiment_name='ffp_ga',\n",
    "              output_directory=None, # note: specify an output directory to have results saved to disk\n",
    "              seed=0,\n",
    "              iteration_list=2 ** np.arange(12),\n",
    "              max_attempts=500,\n",
    "              population_sizes=[40, 50, 60],\n",
    "              mutation_rates=[0.07, 0.08]) # Probability of a mutation at each element of the state vector during reproduction, expressed as a value between 0 and 1.\n",
    "\n",
    "# the two data frames will contain the results\n",
    "df_run_stats_ffp, df_run_curves_ffp = ga_ffp.run()"
   ]
  },
  {
   "cell_type": "code",
   "execution_count": 12,
   "id": "3139bc51",
   "metadata": {},
   "outputs": [
    {
     "data": {
      "text/plain": "(11292, 7)"
     },
     "execution_count": 12,
     "metadata": {},
     "output_type": "execute_result"
    }
   ],
   "source": [
    "df_run_curves_ffp.shape"
   ]
  },
  {
   "cell_type": "code",
   "execution_count": 13,
   "id": "78ec6ce8",
   "metadata": {},
   "outputs": [
    {
     "data": {
      "text/plain": "   Iteration      Time  Fitness  FEvals  Population Size  Mutation Rate  \\\n0          0  0.005228    274.0     0.0               40           0.07   \n1          1  0.031928    368.0     2.0               40           0.07   \n2          2  0.060989    368.0     3.0               40           0.07   \n3          3  0.087457    368.0     4.0               40           0.07   \n4          4  0.109159    368.0     5.0               40           0.07   \n\n   max_iters  \n0       2048  \n1       2048  \n2       2048  \n3       2048  \n4       2048  ",
      "text/html": "<div>\n<style scoped>\n    .dataframe tbody tr th:only-of-type {\n        vertical-align: middle;\n    }\n\n    .dataframe tbody tr th {\n        vertical-align: top;\n    }\n\n    .dataframe thead th {\n        text-align: right;\n    }\n</style>\n<table border=\"1\" class=\"dataframe\">\n  <thead>\n    <tr style=\"text-align: right;\">\n      <th></th>\n      <th>Iteration</th>\n      <th>Time</th>\n      <th>Fitness</th>\n      <th>FEvals</th>\n      <th>Population Size</th>\n      <th>Mutation Rate</th>\n      <th>max_iters</th>\n    </tr>\n  </thead>\n  <tbody>\n    <tr>\n      <th>0</th>\n      <td>0</td>\n      <td>0.005228</td>\n      <td>274.0</td>\n      <td>0.0</td>\n      <td>40</td>\n      <td>0.07</td>\n      <td>2048</td>\n    </tr>\n    <tr>\n      <th>1</th>\n      <td>1</td>\n      <td>0.031928</td>\n      <td>368.0</td>\n      <td>2.0</td>\n      <td>40</td>\n      <td>0.07</td>\n      <td>2048</td>\n    </tr>\n    <tr>\n      <th>2</th>\n      <td>2</td>\n      <td>0.060989</td>\n      <td>368.0</td>\n      <td>3.0</td>\n      <td>40</td>\n      <td>0.07</td>\n      <td>2048</td>\n    </tr>\n    <tr>\n      <th>3</th>\n      <td>3</td>\n      <td>0.087457</td>\n      <td>368.0</td>\n      <td>4.0</td>\n      <td>40</td>\n      <td>0.07</td>\n      <td>2048</td>\n    </tr>\n    <tr>\n      <th>4</th>\n      <td>4</td>\n      <td>0.109159</td>\n      <td>368.0</td>\n      <td>5.0</td>\n      <td>40</td>\n      <td>0.07</td>\n      <td>2048</td>\n    </tr>\n  </tbody>\n</table>\n</div>"
     },
     "execution_count": 13,
     "metadata": {},
     "output_type": "execute_result"
    }
   ],
   "source": [
    "df_run_curves_ffp.head()"
   ]
  },
  {
   "cell_type": "code",
   "execution_count": 14,
   "id": "a6cb09ff",
   "metadata": {},
   "outputs": [
    {
     "data": {
      "text/plain": "922.0"
     },
     "execution_count": 14,
     "metadata": {},
     "output_type": "execute_result"
    }
   ],
   "source": [
    "df_run_curves_ffp['Fitness'].max()"
   ]
  },
  {
   "cell_type": "code",
   "execution_count": 15,
   "outputs": [
    {
     "data": {
      "text/plain": "       Iteration       Time  Fitness  FEvals  Population Size  Mutation Rate  \\\n9276        1816  23.776018    922.0  1907.0               60           0.07   \n9277        1817  23.797001    922.0  1908.0               60           0.07   \n9278        1818  23.821385    922.0  1909.0               60           0.07   \n9279        1819  23.839184    922.0  1910.0               60           0.07   \n9280        1820  23.854577    922.0  1911.0               60           0.07   \n...          ...        ...      ...     ...              ...            ...   \n11287       1778  23.247471    922.0  1868.0               60           0.08   \n11288       1779  23.260020    922.0  1869.0               60           0.08   \n11289       1780  23.273632    922.0  1870.0               60           0.08   \n11290       1781  23.287153    922.0  1871.0               60           0.08   \n11291       1782  23.301365    922.0  1872.0               60           0.08   \n\n       max_iters  \n9276        2048  \n9277        2048  \n9278        2048  \n9279        2048  \n9280        2048  \n...          ...  \n11287       2048  \n11288       2048  \n11289       2048  \n11290       2048  \n11291       2048  \n\n[734 rows x 7 columns]",
      "text/html": "<div>\n<style scoped>\n    .dataframe tbody tr th:only-of-type {\n        vertical-align: middle;\n    }\n\n    .dataframe tbody tr th {\n        vertical-align: top;\n    }\n\n    .dataframe thead th {\n        text-align: right;\n    }\n</style>\n<table border=\"1\" class=\"dataframe\">\n  <thead>\n    <tr style=\"text-align: right;\">\n      <th></th>\n      <th>Iteration</th>\n      <th>Time</th>\n      <th>Fitness</th>\n      <th>FEvals</th>\n      <th>Population Size</th>\n      <th>Mutation Rate</th>\n      <th>max_iters</th>\n    </tr>\n  </thead>\n  <tbody>\n    <tr>\n      <th>9276</th>\n      <td>1816</td>\n      <td>23.776018</td>\n      <td>922.0</td>\n      <td>1907.0</td>\n      <td>60</td>\n      <td>0.07</td>\n      <td>2048</td>\n    </tr>\n    <tr>\n      <th>9277</th>\n      <td>1817</td>\n      <td>23.797001</td>\n      <td>922.0</td>\n      <td>1908.0</td>\n      <td>60</td>\n      <td>0.07</td>\n      <td>2048</td>\n    </tr>\n    <tr>\n      <th>9278</th>\n      <td>1818</td>\n      <td>23.821385</td>\n      <td>922.0</td>\n      <td>1909.0</td>\n      <td>60</td>\n      <td>0.07</td>\n      <td>2048</td>\n    </tr>\n    <tr>\n      <th>9279</th>\n      <td>1819</td>\n      <td>23.839184</td>\n      <td>922.0</td>\n      <td>1910.0</td>\n      <td>60</td>\n      <td>0.07</td>\n      <td>2048</td>\n    </tr>\n    <tr>\n      <th>9280</th>\n      <td>1820</td>\n      <td>23.854577</td>\n      <td>922.0</td>\n      <td>1911.0</td>\n      <td>60</td>\n      <td>0.07</td>\n      <td>2048</td>\n    </tr>\n    <tr>\n      <th>...</th>\n      <td>...</td>\n      <td>...</td>\n      <td>...</td>\n      <td>...</td>\n      <td>...</td>\n      <td>...</td>\n      <td>...</td>\n    </tr>\n    <tr>\n      <th>11287</th>\n      <td>1778</td>\n      <td>23.247471</td>\n      <td>922.0</td>\n      <td>1868.0</td>\n      <td>60</td>\n      <td>0.08</td>\n      <td>2048</td>\n    </tr>\n    <tr>\n      <th>11288</th>\n      <td>1779</td>\n      <td>23.260020</td>\n      <td>922.0</td>\n      <td>1869.0</td>\n      <td>60</td>\n      <td>0.08</td>\n      <td>2048</td>\n    </tr>\n    <tr>\n      <th>11289</th>\n      <td>1780</td>\n      <td>23.273632</td>\n      <td>922.0</td>\n      <td>1870.0</td>\n      <td>60</td>\n      <td>0.08</td>\n      <td>2048</td>\n    </tr>\n    <tr>\n      <th>11290</th>\n      <td>1781</td>\n      <td>23.287153</td>\n      <td>922.0</td>\n      <td>1871.0</td>\n      <td>60</td>\n      <td>0.08</td>\n      <td>2048</td>\n    </tr>\n    <tr>\n      <th>11291</th>\n      <td>1782</td>\n      <td>23.301365</td>\n      <td>922.0</td>\n      <td>1872.0</td>\n      <td>60</td>\n      <td>0.08</td>\n      <td>2048</td>\n    </tr>\n  </tbody>\n</table>\n<p>734 rows × 7 columns</p>\n</div>"
     },
     "execution_count": 15,
     "metadata": {},
     "output_type": "execute_result"
    }
   ],
   "source": [
    "df_run_curves_ffp[df_run_curves_ffp.Fitness == df_run_curves_ffp['Fitness'].max()]"
   ],
   "metadata": {
    "collapsed": false
   }
  },
  {
   "cell_type": "code",
   "execution_count": 16,
   "outputs": [],
   "source": [
    "# need to check Time and FEvals"
   ],
   "metadata": {
    "collapsed": false
   }
  },
  {
   "cell_type": "code",
   "execution_count": 17,
   "id": "59c463dd",
   "metadata": {},
   "outputs": [],
   "source": [
    "df_curves_bestfitness_ffp = df_run_curves_ffp[(df_run_curves_ffp['Fitness'] == df_run_curves_ffp['Fitness'].max())]"
   ]
  },
  {
   "cell_type": "code",
   "execution_count": 18,
   "id": "5e04b1a5",
   "metadata": {},
   "outputs": [
    {
     "data": {
      "text/plain": "       Iteration       Time  Fitness  FEvals  Population Size  Mutation Rate  \\\n9276        1816  23.776018    922.0  1907.0               60           0.07   \n9277        1817  23.797001    922.0  1908.0               60           0.07   \n9278        1818  23.821385    922.0  1909.0               60           0.07   \n9279        1819  23.839184    922.0  1910.0               60           0.07   \n9280        1820  23.854577    922.0  1911.0               60           0.07   \n...          ...        ...      ...     ...              ...            ...   \n11287       1778  23.247471    922.0  1868.0               60           0.08   \n11288       1779  23.260020    922.0  1869.0               60           0.08   \n11289       1780  23.273632    922.0  1870.0               60           0.08   \n11290       1781  23.287153    922.0  1871.0               60           0.08   \n11291       1782  23.301365    922.0  1872.0               60           0.08   \n\n       max_iters  \n9276        2048  \n9277        2048  \n9278        2048  \n9279        2048  \n9280        2048  \n...          ...  \n11287       2048  \n11288       2048  \n11289       2048  \n11290       2048  \n11291       2048  \n\n[734 rows x 7 columns]",
      "text/html": "<div>\n<style scoped>\n    .dataframe tbody tr th:only-of-type {\n        vertical-align: middle;\n    }\n\n    .dataframe tbody tr th {\n        vertical-align: top;\n    }\n\n    .dataframe thead th {\n        text-align: right;\n    }\n</style>\n<table border=\"1\" class=\"dataframe\">\n  <thead>\n    <tr style=\"text-align: right;\">\n      <th></th>\n      <th>Iteration</th>\n      <th>Time</th>\n      <th>Fitness</th>\n      <th>FEvals</th>\n      <th>Population Size</th>\n      <th>Mutation Rate</th>\n      <th>max_iters</th>\n    </tr>\n  </thead>\n  <tbody>\n    <tr>\n      <th>9276</th>\n      <td>1816</td>\n      <td>23.776018</td>\n      <td>922.0</td>\n      <td>1907.0</td>\n      <td>60</td>\n      <td>0.07</td>\n      <td>2048</td>\n    </tr>\n    <tr>\n      <th>9277</th>\n      <td>1817</td>\n      <td>23.797001</td>\n      <td>922.0</td>\n      <td>1908.0</td>\n      <td>60</td>\n      <td>0.07</td>\n      <td>2048</td>\n    </tr>\n    <tr>\n      <th>9278</th>\n      <td>1818</td>\n      <td>23.821385</td>\n      <td>922.0</td>\n      <td>1909.0</td>\n      <td>60</td>\n      <td>0.07</td>\n      <td>2048</td>\n    </tr>\n    <tr>\n      <th>9279</th>\n      <td>1819</td>\n      <td>23.839184</td>\n      <td>922.0</td>\n      <td>1910.0</td>\n      <td>60</td>\n      <td>0.07</td>\n      <td>2048</td>\n    </tr>\n    <tr>\n      <th>9280</th>\n      <td>1820</td>\n      <td>23.854577</td>\n      <td>922.0</td>\n      <td>1911.0</td>\n      <td>60</td>\n      <td>0.07</td>\n      <td>2048</td>\n    </tr>\n    <tr>\n      <th>...</th>\n      <td>...</td>\n      <td>...</td>\n      <td>...</td>\n      <td>...</td>\n      <td>...</td>\n      <td>...</td>\n      <td>...</td>\n    </tr>\n    <tr>\n      <th>11287</th>\n      <td>1778</td>\n      <td>23.247471</td>\n      <td>922.0</td>\n      <td>1868.0</td>\n      <td>60</td>\n      <td>0.08</td>\n      <td>2048</td>\n    </tr>\n    <tr>\n      <th>11288</th>\n      <td>1779</td>\n      <td>23.260020</td>\n      <td>922.0</td>\n      <td>1869.0</td>\n      <td>60</td>\n      <td>0.08</td>\n      <td>2048</td>\n    </tr>\n    <tr>\n      <th>11289</th>\n      <td>1780</td>\n      <td>23.273632</td>\n      <td>922.0</td>\n      <td>1870.0</td>\n      <td>60</td>\n      <td>0.08</td>\n      <td>2048</td>\n    </tr>\n    <tr>\n      <th>11290</th>\n      <td>1781</td>\n      <td>23.287153</td>\n      <td>922.0</td>\n      <td>1871.0</td>\n      <td>60</td>\n      <td>0.08</td>\n      <td>2048</td>\n    </tr>\n    <tr>\n      <th>11291</th>\n      <td>1782</td>\n      <td>23.301365</td>\n      <td>922.0</td>\n      <td>1872.0</td>\n      <td>60</td>\n      <td>0.08</td>\n      <td>2048</td>\n    </tr>\n  </tbody>\n</table>\n<p>734 rows × 7 columns</p>\n</div>"
     },
     "execution_count": 18,
     "metadata": {},
     "output_type": "execute_result"
    }
   ],
   "source": [
    "df_curves_bestfitness_ffp"
   ]
  },
  {
   "cell_type": "code",
   "execution_count": 19,
   "outputs": [
    {
     "data": {
      "text/plain": "   Population Size  Mutation Rate  FEvals  Iteration       Time\n0               60           0.07  1907.0     1932.0   0.001975\n1               60           0.08  1372.0     1532.0  16.992362",
      "text/html": "<div>\n<style scoped>\n    .dataframe tbody tr th:only-of-type {\n        vertical-align: middle;\n    }\n\n    .dataframe tbody tr th {\n        vertical-align: top;\n    }\n\n    .dataframe thead th {\n        text-align: right;\n    }\n</style>\n<table border=\"1\" class=\"dataframe\">\n  <thead>\n    <tr style=\"text-align: right;\">\n      <th></th>\n      <th>Population Size</th>\n      <th>Mutation Rate</th>\n      <th>FEvals</th>\n      <th>Iteration</th>\n      <th>Time</th>\n    </tr>\n  </thead>\n  <tbody>\n    <tr>\n      <th>0</th>\n      <td>60</td>\n      <td>0.07</td>\n      <td>1907.0</td>\n      <td>1932.0</td>\n      <td>0.001975</td>\n    </tr>\n    <tr>\n      <th>1</th>\n      <td>60</td>\n      <td>0.08</td>\n      <td>1372.0</td>\n      <td>1532.0</td>\n      <td>16.992362</td>\n    </tr>\n  </tbody>\n</table>\n</div>"
     },
     "execution_count": 19,
     "metadata": {},
     "output_type": "execute_result"
    }
   ],
   "source": [
    "df_curves_bestfitness_ffp.groupby(['Population Size', 'Mutation Rate']).agg({'FEvals': 'min', 'Iteration': 'mean', 'Time': 'min'}).reset_index()\n",
    "# Temp = 1 => less Fevals. Pick temp=1"
   ],
   "metadata": {
    "collapsed": false
   }
  },
  {
   "cell_type": "code",
   "execution_count": 20,
   "id": "6e0ad656",
   "metadata": {},
   "outputs": [],
   "source": [
    "# tentatively, pick pop size = 60 and mutation_rate = 0.07, as the only choice"
   ]
  },
  {
   "cell_type": "code",
   "execution_count": 21,
   "id": "62fe58b2",
   "metadata": {},
   "outputs": [
    {
     "data": {
      "text/plain": "   Iteration      Time  Fitness  FEvals  Population Size  Mutation Rate  \\\n0          0  0.005228    274.0     0.0               40           0.07   \n1          1  0.031928    368.0     2.0               40           0.07   \n2          2  0.060989    368.0     3.0               40           0.07   \n3          3  0.087457    368.0     4.0               40           0.07   \n4          4  0.109159    368.0     5.0               40           0.07   \n\n   max_iters  \n0       2048  \n1       2048  \n2       2048  \n3       2048  \n4       2048  ",
      "text/html": "<div>\n<style scoped>\n    .dataframe tbody tr th:only-of-type {\n        vertical-align: middle;\n    }\n\n    .dataframe tbody tr th {\n        vertical-align: top;\n    }\n\n    .dataframe thead th {\n        text-align: right;\n    }\n</style>\n<table border=\"1\" class=\"dataframe\">\n  <thead>\n    <tr style=\"text-align: right;\">\n      <th></th>\n      <th>Iteration</th>\n      <th>Time</th>\n      <th>Fitness</th>\n      <th>FEvals</th>\n      <th>Population Size</th>\n      <th>Mutation Rate</th>\n      <th>max_iters</th>\n    </tr>\n  </thead>\n  <tbody>\n    <tr>\n      <th>0</th>\n      <td>0</td>\n      <td>0.005228</td>\n      <td>274.0</td>\n      <td>0.0</td>\n      <td>40</td>\n      <td>0.07</td>\n      <td>2048</td>\n    </tr>\n    <tr>\n      <th>1</th>\n      <td>1</td>\n      <td>0.031928</td>\n      <td>368.0</td>\n      <td>2.0</td>\n      <td>40</td>\n      <td>0.07</td>\n      <td>2048</td>\n    </tr>\n    <tr>\n      <th>2</th>\n      <td>2</td>\n      <td>0.060989</td>\n      <td>368.0</td>\n      <td>3.0</td>\n      <td>40</td>\n      <td>0.07</td>\n      <td>2048</td>\n    </tr>\n    <tr>\n      <th>3</th>\n      <td>3</td>\n      <td>0.087457</td>\n      <td>368.0</td>\n      <td>4.0</td>\n      <td>40</td>\n      <td>0.07</td>\n      <td>2048</td>\n    </tr>\n    <tr>\n      <th>4</th>\n      <td>4</td>\n      <td>0.109159</td>\n      <td>368.0</td>\n      <td>5.0</td>\n      <td>40</td>\n      <td>0.07</td>\n      <td>2048</td>\n    </tr>\n  </tbody>\n</table>\n</div>"
     },
     "execution_count": 21,
     "metadata": {},
     "output_type": "execute_result"
    }
   ],
   "source": [
    "df_run_curves_ffp.head()"
   ]
  },
  {
   "cell_type": "code",
   "execution_count": 22,
   "id": "4ce94f88",
   "metadata": {},
   "outputs": [],
   "source": [
    "# clean up an existing result table to store the iterative resutls\n",
    "df_iter_curves_ffp = df_run_curves_ffp.drop(df_run_curves_ffp.index, inplace=False)"
   ]
  },
  {
   "cell_type": "code",
   "execution_count": 23,
   "outputs": [],
   "source": [
    "# GA runner\n",
    "# 2. iterate through 10 seeds\n",
    "for s in range(10):\n",
    "    ga_ffp = mh.GAJSRunner(problem=problem_ffp,\n",
    "              experiment_name='ffp_ga_{s}',\n",
    "              output_directory=None, # note: specify an output directory to have results saved to disk\n",
    "              seed=s,\n",
    "              iteration_list=2 ** np.arange(12),\n",
    "              max_attempts=500,\n",
    "              population_sizes=[60], # 20 bits in total\n",
    "              mutation_rates=[0.07])\n",
    "\n",
    "    # the two data frames will contain the results\n",
    "    df_run_stats_ffp_sub, df_run_curves_ffp_sub = ga_ffp.run()\n",
    "    # append to the result df\n",
    "    df_iter_curves_ffp = pd.concat([df_iter_curves_ffp, df_run_curves_ffp_sub])"
   ],
   "metadata": {
    "collapsed": false
   }
  },
  {
   "cell_type": "code",
   "execution_count": 24,
   "outputs": [
    {
     "data": {
      "text/plain": "(19588, 7)"
     },
     "execution_count": 24,
     "metadata": {},
     "output_type": "execute_result"
    }
   ],
   "source": [
    "df_iter_curves_ffp.shape"
   ],
   "metadata": {
    "collapsed": false
   }
  },
  {
   "cell_type": "code",
   "execution_count": 25,
   "outputs": [
    {
     "data": {
      "text/plain": "   Iteration      Time  Fitness  FEvals  Population Size  Mutation Rate  \\\n0          0  0.005904    274.0     0.0               60           0.07   \n1          1  0.049360    374.0     2.0               60           0.07   \n2          2  0.080509    374.0     3.0               60           0.07   \n3          3  0.116294    392.0     5.0               60           0.07   \n4          4  0.154327    392.0     6.0               60           0.07   \n\n   max_iters  \n0       2048  \n1       2048  \n2       2048  \n3       2048  \n4       2048  ",
      "text/html": "<div>\n<style scoped>\n    .dataframe tbody tr th:only-of-type {\n        vertical-align: middle;\n    }\n\n    .dataframe tbody tr th {\n        vertical-align: top;\n    }\n\n    .dataframe thead th {\n        text-align: right;\n    }\n</style>\n<table border=\"1\" class=\"dataframe\">\n  <thead>\n    <tr style=\"text-align: right;\">\n      <th></th>\n      <th>Iteration</th>\n      <th>Time</th>\n      <th>Fitness</th>\n      <th>FEvals</th>\n      <th>Population Size</th>\n      <th>Mutation Rate</th>\n      <th>max_iters</th>\n    </tr>\n  </thead>\n  <tbody>\n    <tr>\n      <th>0</th>\n      <td>0</td>\n      <td>0.005904</td>\n      <td>274.0</td>\n      <td>0.0</td>\n      <td>60</td>\n      <td>0.07</td>\n      <td>2048</td>\n    </tr>\n    <tr>\n      <th>1</th>\n      <td>1</td>\n      <td>0.049360</td>\n      <td>374.0</td>\n      <td>2.0</td>\n      <td>60</td>\n      <td>0.07</td>\n      <td>2048</td>\n    </tr>\n    <tr>\n      <th>2</th>\n      <td>2</td>\n      <td>0.080509</td>\n      <td>374.0</td>\n      <td>3.0</td>\n      <td>60</td>\n      <td>0.07</td>\n      <td>2048</td>\n    </tr>\n    <tr>\n      <th>3</th>\n      <td>3</td>\n      <td>0.116294</td>\n      <td>392.0</td>\n      <td>5.0</td>\n      <td>60</td>\n      <td>0.07</td>\n      <td>2048</td>\n    </tr>\n    <tr>\n      <th>4</th>\n      <td>4</td>\n      <td>0.154327</td>\n      <td>392.0</td>\n      <td>6.0</td>\n      <td>60</td>\n      <td>0.07</td>\n      <td>2048</td>\n    </tr>\n  </tbody>\n</table>\n</div>"
     },
     "execution_count": 25,
     "metadata": {},
     "output_type": "execute_result"
    }
   ],
   "source": [
    "df_iter_curves_ffp.head()"
   ],
   "metadata": {
    "collapsed": false
   }
  },
  {
   "cell_type": "code",
   "execution_count": 26,
   "outputs": [
    {
     "data": {
      "text/plain": "925.0"
     },
     "execution_count": 26,
     "metadata": {},
     "output_type": "execute_result"
    }
   ],
   "source": [
    "df_iter_curves_ffp.Fitness.max()"
   ],
   "metadata": {
    "collapsed": false
   }
  },
  {
   "cell_type": "code",
   "execution_count": 1,
   "outputs": [],
   "source": [
    "#df_iter_curves_ffp.to_csv('gab_mutate_js_108.csv')\n",
    "import pandas as pd\n",
    "df_iter_curves_ffp = pd.read_csv('../../csv-files/gab_mutate_js_108.csv')"
   ],
   "metadata": {
    "collapsed": false
   }
  },
  {
   "cell_type": "code",
   "execution_count": 28,
   "outputs": [
    {
     "data": {
      "text/plain": "2048"
     },
     "execution_count": 28,
     "metadata": {},
     "output_type": "execute_result"
    }
   ],
   "source": [
    "df_iter_curves_ffp.Iteration.max()"
   ],
   "metadata": {
    "collapsed": false
   }
  },
  {
   "cell_type": "code",
   "execution_count": 2,
   "outputs": [],
   "source": [
    "df_fitness_iter_ffp = df_iter_curves_ffp.groupby('Iteration')\\\n",
    "                                .agg(avg_fitness=('Fitness', 'mean'), var_fitness = ('Fitness', 'var'))\\\n",
    "                                .reset_index()"
   ],
   "metadata": {
    "collapsed": false
   }
  },
  {
   "cell_type": "code",
   "execution_count": 30,
   "outputs": [
    {
     "data": {
      "text/plain": "(2049, 3)"
     },
     "execution_count": 30,
     "metadata": {},
     "output_type": "execute_result"
    }
   ],
   "source": [
    "df_fitness_iter_ffp.shape"
   ],
   "metadata": {
    "collapsed": false
   }
  },
  {
   "cell_type": "code",
   "execution_count": 31,
   "outputs": [
    {
     "data": {
      "text/plain": "   Iteration  avg_fitness  var_fitness\n0          0        316.3  1212.011111\n1          1        382.7   321.122222\n2          2        391.2   252.844444\n3          3        394.4   212.488889\n4          4        398.8   290.177778",
      "text/html": "<div>\n<style scoped>\n    .dataframe tbody tr th:only-of-type {\n        vertical-align: middle;\n    }\n\n    .dataframe tbody tr th {\n        vertical-align: top;\n    }\n\n    .dataframe thead th {\n        text-align: right;\n    }\n</style>\n<table border=\"1\" class=\"dataframe\">\n  <thead>\n    <tr style=\"text-align: right;\">\n      <th></th>\n      <th>Iteration</th>\n      <th>avg_fitness</th>\n      <th>var_fitness</th>\n    </tr>\n  </thead>\n  <tbody>\n    <tr>\n      <th>0</th>\n      <td>0</td>\n      <td>316.3</td>\n      <td>1212.011111</td>\n    </tr>\n    <tr>\n      <th>1</th>\n      <td>1</td>\n      <td>382.7</td>\n      <td>321.122222</td>\n    </tr>\n    <tr>\n      <th>2</th>\n      <td>2</td>\n      <td>391.2</td>\n      <td>252.844444</td>\n    </tr>\n    <tr>\n      <th>3</th>\n      <td>3</td>\n      <td>394.4</td>\n      <td>212.488889</td>\n    </tr>\n    <tr>\n      <th>4</th>\n      <td>4</td>\n      <td>398.8</td>\n      <td>290.177778</td>\n    </tr>\n  </tbody>\n</table>\n</div>"
     },
     "execution_count": 31,
     "metadata": {},
     "output_type": "execute_result"
    }
   ],
   "source": [
    "df_fitness_iter_ffp.head()"
   ],
   "metadata": {
    "collapsed": false
   }
  },
  {
   "cell_type": "code",
   "execution_count": 32,
   "outputs": [
    {
     "data": {
      "text/plain": "1679    1679\n1680    1680\n1681    1681\n1682    1682\n1683    1683\n        ... \n1776    1776\n1777    1777\n1778    1778\n1779    1779\n1780    1780\nName: Iteration, Length: 871, dtype: int64"
     },
     "execution_count": 32,
     "metadata": {},
     "output_type": "execute_result"
    }
   ],
   "source": [
    "# convergence point\n",
    "df_iter_curves_ffp[df_iter_curves_ffp.Fitness == df_iter_curves_ffp.Fitness.max()].Iteration"
   ],
   "metadata": {
    "collapsed": false
   }
  },
  {
   "cell_type": "code",
   "execution_count": 33,
   "outputs": [
    {
     "data": {
      "text/plain": "nan"
     },
     "execution_count": 33,
     "metadata": {},
     "output_type": "execute_result"
    }
   ],
   "source": [
    "# converge point-never converged\n",
    "df_fitness_iter_ffp[df_fitness_iter_ffp.avg_fitness >= df_iter_curves_ffp.Fitness.max()].Iteration.min()"
   ],
   "metadata": {
    "collapsed": false
   }
  },
  {
   "cell_type": "code",
   "execution_count": 7,
   "outputs": [],
   "source": [
    "#import numpy as np\n",
    "df_fitness_iter_ffp['stddev_fitness'] = df_fitness_iter_ffp['var_fitness'].apply(np.sqrt)"
   ],
   "metadata": {
    "collapsed": false
   }
  },
  {
   "cell_type": "code",
   "execution_count": 35,
   "outputs": [
    {
     "data": {
      "text/plain": "   Iteration  avg_fitness  var_fitness  stddev_fitness\n0          0        316.3  1212.011111       34.813950\n1          1        382.7   321.122222       17.919883\n2          2        391.2   252.844444       15.901083\n3          3        394.4   212.488889       14.576999\n4          4        398.8   290.177778       17.034605",
      "text/html": "<div>\n<style scoped>\n    .dataframe tbody tr th:only-of-type {\n        vertical-align: middle;\n    }\n\n    .dataframe tbody tr th {\n        vertical-align: top;\n    }\n\n    .dataframe thead th {\n        text-align: right;\n    }\n</style>\n<table border=\"1\" class=\"dataframe\">\n  <thead>\n    <tr style=\"text-align: right;\">\n      <th></th>\n      <th>Iteration</th>\n      <th>avg_fitness</th>\n      <th>var_fitness</th>\n      <th>stddev_fitness</th>\n    </tr>\n  </thead>\n  <tbody>\n    <tr>\n      <th>0</th>\n      <td>0</td>\n      <td>316.3</td>\n      <td>1212.011111</td>\n      <td>34.813950</td>\n    </tr>\n    <tr>\n      <th>1</th>\n      <td>1</td>\n      <td>382.7</td>\n      <td>321.122222</td>\n      <td>17.919883</td>\n    </tr>\n    <tr>\n      <th>2</th>\n      <td>2</td>\n      <td>391.2</td>\n      <td>252.844444</td>\n      <td>15.901083</td>\n    </tr>\n    <tr>\n      <th>3</th>\n      <td>3</td>\n      <td>394.4</td>\n      <td>212.488889</td>\n      <td>14.576999</td>\n    </tr>\n    <tr>\n      <th>4</th>\n      <td>4</td>\n      <td>398.8</td>\n      <td>290.177778</td>\n      <td>17.034605</td>\n    </tr>\n  </tbody>\n</table>\n</div>"
     },
     "execution_count": 35,
     "metadata": {},
     "output_type": "execute_result"
    }
   ],
   "source": [
    "df_fitness_iter_ffp.head()"
   ],
   "metadata": {
    "collapsed": false
   }
  },
  {
   "cell_type": "code",
   "execution_count": 36,
   "outputs": [
    {
     "data": {
      "text/plain": "Text(0, 0.5, 'Fitness')"
     },
     "execution_count": 36,
     "metadata": {},
     "output_type": "execute_result"
    },
    {
     "data": {
      "text/plain": "<Figure size 640x480 with 1 Axes>",
      "image/png": "[encoded data removed]"
     },
     "metadata": {},
     "output_type": "display_data"
    }
   ],
   "source": [
    "plt.plot(df_fitness_iter_ffp.Iteration, df_fitness_iter_ffp.avg_fitness, 'k', color='#3F7F4C')\n",
    "plt.fill_between(df_fitness_iter_ffp.Iteration, df_fitness_iter_ffp.avg_fitness - df_fitness_iter_ffp.stddev_fitness\\\n",
    "                 , df_fitness_iter_ffp.avg_fitness + df_fitness_iter_ffp.stddev_fitness\\\n",
    "                 , alpha=0.5, edgecolor='#3F7F4C', facecolor='#7EFF99')\n",
    "plt.title(f'Fitness by Iterations with Problem Size {size} - GAB on Job Scheduling')\n",
    "plt.xlabel('Iterations')\n",
    "plt.ylabel('Fitness')"
   ],
   "metadata": {
    "collapsed": false
   }
  },
  {
   "cell_type": "code",
   "execution_count": 4,
   "outputs": [
    {
     "name": "stdout",
     "output_type": "stream",
     "text": [
      "141\n"
     ]
    }
   ],
   "source": [
    "# elbow analysis\n",
    "from kneed import DataGenerator, KneeLocator\n",
    "kneedle = KneeLocator(df_fitness_iter_ffp.Iteration, df_fitness_iter_ffp.avg_fitness, S=1.0, curve=\"concave\", direction=\"increasing\")\n",
    "\n",
    "print(kneedle.knee)"
   ],
   "metadata": {
    "collapsed": false
   }
  },
  {
   "cell_type": "code",
   "execution_count": 8,
   "outputs": [
    {
     "data": {
      "text/plain": "     Iteration  avg_fitness  var_fitness  stddev_fitness\n141        141        725.1  6685.433333       81.764499",
      "text/html": "<div>\n<style scoped>\n    .dataframe tbody tr th:only-of-type {\n        vertical-align: middle;\n    }\n\n    .dataframe tbody tr th {\n        vertical-align: top;\n    }\n\n    .dataframe thead th {\n        text-align: right;\n    }\n</style>\n<table border=\"1\" class=\"dataframe\">\n  <thead>\n    <tr style=\"text-align: right;\">\n      <th></th>\n      <th>Iteration</th>\n      <th>avg_fitness</th>\n      <th>var_fitness</th>\n      <th>stddev_fitness</th>\n    </tr>\n  </thead>\n  <tbody>\n    <tr>\n      <th>141</th>\n      <td>141</td>\n      <td>725.1</td>\n      <td>6685.433333</td>\n      <td>81.764499</td>\n    </tr>\n  </tbody>\n</table>\n</div>"
     },
     "execution_count": 8,
     "metadata": {},
     "output_type": "execute_result"
    }
   ],
   "source": [
    "df_fitness_iter_ffp[df_fitness_iter_ffp['Iteration'] == kneedle.knee]"
   ],
   "metadata": {
    "collapsed": false
   }
  },
  {
   "cell_type": "code",
   "execution_count": 37,
   "outputs": [
    {
     "data": {
      "text/plain": "917.0"
     },
     "execution_count": 37,
     "metadata": {},
     "output_type": "execute_result"
    }
   ],
   "source": [
    "df_fitness_iter_ffp.avg_fitness.max()"
   ],
   "metadata": {
    "collapsed": false
   }
  },
  {
   "cell_type": "code",
   "execution_count": 38,
   "outputs": [
    {
     "data": {
      "text/plain": "86.118845530787"
     },
     "execution_count": 38,
     "metadata": {},
     "output_type": "execute_result"
    }
   ],
   "source": [
    "df_fitness_iter_ffp[df_fitness_iter_ffp['Iteration']>0].stddev_fitness.max()"
   ],
   "metadata": {
    "collapsed": false
   }
  },
  {
   "cell_type": "code",
   "execution_count": 39,
   "outputs": [
    {
     "data": {
      "text/plain": "(346    346\n Name: Iteration, dtype: int64,)"
     },
     "execution_count": 39,
     "metadata": {},
     "output_type": "execute_result"
    }
   ],
   "source": [
    "df_fitness_iter_ffp[df_fitness_iter_ffp.stddev_fitness == df_fitness_iter_ffp.stddev_fitness.max()].Iteration,"
   ],
   "metadata": {
    "collapsed": false
   }
  },
  {
   "cell_type": "code",
   "execution_count": 40,
   "outputs": [],
   "source": [
    "# Fevals - iteration"
   ],
   "metadata": {
    "collapsed": false
   }
  },
  {
   "cell_type": "code",
   "execution_count": 2,
   "outputs": [],
   "source": [
    "df_FEvals_iter_ffp = df_iter_curves_ffp.groupby('Iteration')\\\n",
    "                                .agg(avg_FEvals=('FEvals', 'mean'), var_FEvals = ('FEvals', 'var'))\\\n",
    "                                .reset_index()"
   ],
   "metadata": {
    "collapsed": false
   }
  },
  {
   "cell_type": "code",
   "execution_count": 3,
   "outputs": [
    {
     "data": {
      "text/plain": "2146.5714285714284"
     },
     "execution_count": 3,
     "metadata": {},
     "output_type": "execute_result"
    }
   ],
   "source": [
    "df_FEvals_iter_ffp.avg_FEvals.max()"
   ],
   "metadata": {
    "collapsed": false
   }
  },
  {
   "cell_type": "code",
   "execution_count": 42,
   "outputs": [
    {
     "data": {
      "text/plain": "(2049, 3)"
     },
     "execution_count": 42,
     "metadata": {},
     "output_type": "execute_result"
    }
   ],
   "source": [
    "df_FEvals_iter_ffp.shape"
   ],
   "metadata": {
    "collapsed": false
   }
  },
  {
   "cell_type": "code",
   "execution_count": 43,
   "outputs": [
    {
     "data": {
      "text/plain": "   Iteration  avg_FEvals  var_FEvals\n0          0         0.0    0.000000\n1          1         1.9    0.100000\n2          2         3.4    0.488889\n3          3         4.9    0.988889\n4          4         6.3    1.788889",
      "text/html": "<div>\n<style scoped>\n    .dataframe tbody tr th:only-of-type {\n        vertical-align: middle;\n    }\n\n    .dataframe tbody tr th {\n        vertical-align: top;\n    }\n\n    .dataframe thead th {\n        text-align: right;\n    }\n</style>\n<table border=\"1\" class=\"dataframe\">\n  <thead>\n    <tr style=\"text-align: right;\">\n      <th></th>\n      <th>Iteration</th>\n      <th>avg_FEvals</th>\n      <th>var_FEvals</th>\n    </tr>\n  </thead>\n  <tbody>\n    <tr>\n      <th>0</th>\n      <td>0</td>\n      <td>0.0</td>\n      <td>0.000000</td>\n    </tr>\n    <tr>\n      <th>1</th>\n      <td>1</td>\n      <td>1.9</td>\n      <td>0.100000</td>\n    </tr>\n    <tr>\n      <th>2</th>\n      <td>2</td>\n      <td>3.4</td>\n      <td>0.488889</td>\n    </tr>\n    <tr>\n      <th>3</th>\n      <td>3</td>\n      <td>4.9</td>\n      <td>0.988889</td>\n    </tr>\n    <tr>\n      <th>4</th>\n      <td>4</td>\n      <td>6.3</td>\n      <td>1.788889</td>\n    </tr>\n  </tbody>\n</table>\n</div>"
     },
     "execution_count": 43,
     "metadata": {},
     "output_type": "execute_result"
    }
   ],
   "source": [
    "df_FEvals_iter_ffp.head()"
   ],
   "metadata": {
    "collapsed": false
   }
  },
  {
   "cell_type": "code",
   "execution_count": 44,
   "outputs": [],
   "source": [
    "df_FEvals_iter_ffp['stddev_FEvals'] = df_FEvals_iter_ffp['var_FEvals'].apply(np.sqrt)"
   ],
   "metadata": {
    "collapsed": false
   }
  },
  {
   "cell_type": "code",
   "execution_count": 45,
   "outputs": [
    {
     "data": {
      "text/plain": "(0.0, 15.704109259013878)"
     },
     "execution_count": 45,
     "metadata": {},
     "output_type": "execute_result"
    }
   ],
   "source": [
    "df_FEvals_iter_ffp['stddev_FEvals'].min(), df_FEvals_iter_ffp['stddev_FEvals'].max()"
   ],
   "metadata": {
    "collapsed": false
   }
  },
  {
   "cell_type": "code",
   "execution_count": 46,
   "outputs": [
    {
     "data": {
      "text/plain": "   Iteration  avg_FEvals  var_FEvals  stddev_FEvals\n0          0         0.0    0.000000       0.000000\n1          1         1.9    0.100000       0.316228\n2          2         3.4    0.488889       0.699206\n3          3         4.9    0.988889       0.994429\n4          4         6.3    1.788889       1.337494",
      "text/html": "<div>\n<style scoped>\n    .dataframe tbody tr th:only-of-type {\n        vertical-align: middle;\n    }\n\n    .dataframe tbody tr th {\n        vertical-align: top;\n    }\n\n    .dataframe thead th {\n        text-align: right;\n    }\n</style>\n<table border=\"1\" class=\"dataframe\">\n  <thead>\n    <tr style=\"text-align: right;\">\n      <th></th>\n      <th>Iteration</th>\n      <th>avg_FEvals</th>\n      <th>var_FEvals</th>\n      <th>stddev_FEvals</th>\n    </tr>\n  </thead>\n  <tbody>\n    <tr>\n      <th>0</th>\n      <td>0</td>\n      <td>0.0</td>\n      <td>0.000000</td>\n      <td>0.000000</td>\n    </tr>\n    <tr>\n      <th>1</th>\n      <td>1</td>\n      <td>1.9</td>\n      <td>0.100000</td>\n      <td>0.316228</td>\n    </tr>\n    <tr>\n      <th>2</th>\n      <td>2</td>\n      <td>3.4</td>\n      <td>0.488889</td>\n      <td>0.699206</td>\n    </tr>\n    <tr>\n      <th>3</th>\n      <td>3</td>\n      <td>4.9</td>\n      <td>0.988889</td>\n      <td>0.994429</td>\n    </tr>\n    <tr>\n      <th>4</th>\n      <td>4</td>\n      <td>6.3</td>\n      <td>1.788889</td>\n      <td>1.337494</td>\n    </tr>\n  </tbody>\n</table>\n</div>"
     },
     "execution_count": 46,
     "metadata": {},
     "output_type": "execute_result"
    }
   ],
   "source": [
    "df_FEvals_iter_ffp.head()"
   ],
   "metadata": {
    "collapsed": false
   }
  },
  {
   "cell_type": "code",
   "execution_count": 47,
   "outputs": [
    {
     "data": {
      "text/plain": "Text(0, 0.5, 'FEvals')"
     },
     "execution_count": 47,
     "metadata": {},
     "output_type": "execute_result"
    },
    {
     "data": {
      "text/plain": "<Figure size 640x480 with 1 Axes>",
      "image/png": "[encoded data removed]"
     },
     "metadata": {},
     "output_type": "display_data"
    }
   ],
   "source": [
    "plt.plot(df_FEvals_iter_ffp.Iteration, df_FEvals_iter_ffp.avg_FEvals, 'k', color='#3F7F4C')\n",
    "plt.fill_between(df_FEvals_iter_ffp.Iteration, df_FEvals_iter_ffp.avg_FEvals - df_FEvals_iter_ffp.stddev_FEvals\\\n",
    "                 , df_FEvals_iter_ffp.avg_FEvals + df_FEvals_iter_ffp.stddev_FEvals\\\n",
    "                 , alpha=0.5, edgecolor='#3F7F4C', facecolor='#7EFF99')\n",
    "plt.title('FEvals by Iterations - Genetic Algorithm')\n",
    "plt.xlabel('Iterations')\n",
    "plt.ylabel('FEvals')"
   ],
   "metadata": {
    "collapsed": false
   }
  },
  {
   "cell_type": "code",
   "execution_count": 48,
   "outputs": [],
   "source": [
    "# fitness - wall clock time"
   ],
   "metadata": {
    "collapsed": false
   }
  },
  {
   "cell_type": "code",
   "execution_count": 49,
   "outputs": [],
   "source": [
    "df_time_iter_ffp = df_iter_curves_ffp.groupby('Iteration')\\\n",
    "                                .agg(avg_time=('Time', 'mean'), var_time = ('Time', 'var'))\\\n",
    "                                .reset_index()"
   ],
   "metadata": {
    "collapsed": false
   }
  },
  {
   "cell_type": "code",
   "execution_count": 50,
   "outputs": [
    {
     "data": {
      "text/plain": "(2049, 3)"
     },
     "execution_count": 50,
     "metadata": {},
     "output_type": "execute_result"
    }
   ],
   "source": [
    "df_time_iter_ffp.shape"
   ],
   "metadata": {
    "collapsed": false
   }
  },
  {
   "cell_type": "code",
   "execution_count": 51,
   "outputs": [
    {
     "data": {
      "text/plain": "   Iteration  avg_time  var_time\n0          0  0.003938  0.000003\n1          1  0.030052  0.000764\n2          2  0.049321  0.001277\n3          3  0.067015  0.001479\n4          4  0.083256  0.001897",
      "text/html": "<div>\n<style scoped>\n    .dataframe tbody tr th:only-of-type {\n        vertical-align: middle;\n    }\n\n    .dataframe tbody tr th {\n        vertical-align: top;\n    }\n\n    .dataframe thead th {\n        text-align: right;\n    }\n</style>\n<table border=\"1\" class=\"dataframe\">\n  <thead>\n    <tr style=\"text-align: right;\">\n      <th></th>\n      <th>Iteration</th>\n      <th>avg_time</th>\n      <th>var_time</th>\n    </tr>\n  </thead>\n  <tbody>\n    <tr>\n      <th>0</th>\n      <td>0</td>\n      <td>0.003938</td>\n      <td>0.000003</td>\n    </tr>\n    <tr>\n      <th>1</th>\n      <td>1</td>\n      <td>0.030052</td>\n      <td>0.000764</td>\n    </tr>\n    <tr>\n      <th>2</th>\n      <td>2</td>\n      <td>0.049321</td>\n      <td>0.001277</td>\n    </tr>\n    <tr>\n      <th>3</th>\n      <td>3</td>\n      <td>0.067015</td>\n      <td>0.001479</td>\n    </tr>\n    <tr>\n      <th>4</th>\n      <td>4</td>\n      <td>0.083256</td>\n      <td>0.001897</td>\n    </tr>\n  </tbody>\n</table>\n</div>"
     },
     "execution_count": 51,
     "metadata": {},
     "output_type": "execute_result"
    }
   ],
   "source": [
    "df_time_iter_ffp.head()"
   ],
   "metadata": {
    "collapsed": false
   }
  },
  {
   "cell_type": "code",
   "execution_count": 52,
   "outputs": [],
   "source": [
    "df_time_iter_ffp['stddev_time'] = df_time_iter_ffp['var_time'].apply(np.sqrt)"
   ],
   "metadata": {
    "collapsed": false
   }
  },
  {
   "cell_type": "code",
   "execution_count": 53,
   "outputs": [
    {
     "data": {
      "text/plain": "   Iteration  avg_time  var_time  stddev_time\n0          0  0.003938  0.000003     0.001643\n1          1  0.030052  0.000764     0.027642\n2          2  0.049321  0.001277     0.035741\n3          3  0.067015  0.001479     0.038454\n4          4  0.083256  0.001897     0.043553",
      "text/html": "<div>\n<style scoped>\n    .dataframe tbody tr th:only-of-type {\n        vertical-align: middle;\n    }\n\n    .dataframe tbody tr th {\n        vertical-align: top;\n    }\n\n    .dataframe thead th {\n        text-align: right;\n    }\n</style>\n<table border=\"1\" class=\"dataframe\">\n  <thead>\n    <tr style=\"text-align: right;\">\n      <th></th>\n      <th>Iteration</th>\n      <th>avg_time</th>\n      <th>var_time</th>\n      <th>stddev_time</th>\n    </tr>\n  </thead>\n  <tbody>\n    <tr>\n      <th>0</th>\n      <td>0</td>\n      <td>0.003938</td>\n      <td>0.000003</td>\n      <td>0.001643</td>\n    </tr>\n    <tr>\n      <th>1</th>\n      <td>1</td>\n      <td>0.030052</td>\n      <td>0.000764</td>\n      <td>0.027642</td>\n    </tr>\n    <tr>\n      <th>2</th>\n      <td>2</td>\n      <td>0.049321</td>\n      <td>0.001277</td>\n      <td>0.035741</td>\n    </tr>\n    <tr>\n      <th>3</th>\n      <td>3</td>\n      <td>0.067015</td>\n      <td>0.001479</td>\n      <td>0.038454</td>\n    </tr>\n    <tr>\n      <th>4</th>\n      <td>4</td>\n      <td>0.083256</td>\n      <td>0.001897</td>\n      <td>0.043553</td>\n    </tr>\n  </tbody>\n</table>\n</div>"
     },
     "execution_count": 53,
     "metadata": {},
     "output_type": "execute_result"
    }
   ],
   "source": [
    "df_time_iter_ffp.head()"
   ],
   "metadata": {
    "collapsed": false
   }
  },
  {
   "cell_type": "code",
   "execution_count": 54,
   "outputs": [
    {
     "data": {
      "text/plain": "Text(0, 0.5, 'Time')"
     },
     "execution_count": 54,
     "metadata": {},
     "output_type": "execute_result"
    },
    {
     "data": {
      "text/plain": "<Figure size 640x480 with 1 Axes>",
      "image/png": "[encoded data removed]"
     },
     "metadata": {},
     "output_type": "display_data"
    }
   ],
   "source": [
    "plt.plot(df_time_iter_ffp.Iteration, df_time_iter_ffp.avg_time, 'k', color='#3F7F4C')\n",
    "plt.fill_between(df_time_iter_ffp.Iteration, df_time_iter_ffp.avg_time - df_time_iter_ffp.stddev_time\\\n",
    "                 , df_time_iter_ffp.avg_time + df_time_iter_ffp.stddev_time\\\n",
    "                 , alpha=0.5, edgecolor='#3F7F4C', facecolor='#7EFF99')\n",
    "plt.title('Wall Clock Time by Iterations - Genetic Algorithm')\n",
    "plt.xlabel('Iterations')\n",
    "plt.ylabel('Time')"
   ],
   "metadata": {
    "collapsed": false
   }
  },
  {
   "cell_type": "code",
   "execution_count": 55,
   "outputs": [
    {
     "data": {
      "text/plain": "14.417785316425556"
     },
     "execution_count": 55,
     "metadata": {},
     "output_type": "execute_result"
    }
   ],
   "source": [
    "df_time_iter_ffp.stddev_time.max()"
   ],
   "metadata": {
    "collapsed": false
   }
  },
  {
   "cell_type": "code",
   "execution_count": 56,
   "outputs": [
    {
     "data": {
      "text/plain": "2048    2048\nName: Iteration, dtype: int64"
     },
     "execution_count": 56,
     "metadata": {},
     "output_type": "execute_result"
    }
   ],
   "source": [
    "df_time_iter_ffp[df_time_iter_ffp.stddev_time == df_time_iter_ffp.stddev_time.max()].Iteration"
   ],
   "metadata": {
    "collapsed": false
   }
  },
  {
   "cell_type": "code",
   "execution_count": 57,
   "outputs": [
    {
     "data": {
      "text/plain": "43.902593606293"
     },
     "execution_count": 57,
     "metadata": {},
     "output_type": "execute_result"
    }
   ],
   "source": [
    "df_time_iter_ffp.avg_time.max()"
   ],
   "metadata": {
    "collapsed": false
   }
  },
  {
   "cell_type": "code",
   "execution_count": 59,
   "outputs": [],
   "source": [],
   "metadata": {
    "collapsed": false
   }
  }
 ],
 "metadata": {
  "kernelspec": {
   "display_name": "Python 3 (ipykernel)",
   "language": "python",
   "name": "python3"
  },
  "language_info": {
   "codemirror_mode": {
    "name": "ipython",
    "version": 3
   },
   "file_extension": ".py",
   "mimetype": "text/x-python",
   "name": "python",
   "nbconvert_exporter": "python",
   "pygments_lexer": "ipython3",
   "version": "3.11.4"
  }
 },
 "nbformat": 4,
 "nbformat_minor": 5
}
