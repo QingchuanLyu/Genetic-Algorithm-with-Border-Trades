{
 "cells": [
  {
   "cell_type": "code",
   "execution_count": 1,
   "outputs": [
    {
     "name": "stdout",
     "output_type": "stream",
     "text": [
      "Processing ./mlrose\r\n",
      "  Preparing metadata (setup.py) ... \u001B[?25ldone\r\n",
      "\u001B[?25hRequirement already satisfied: numpy in /Users/qingchuanlyu/anaconda3/envs/cs7641/lib/python3.10/site-packages (from mlrose_hiive==2.2.4) (1.26.4)\r\n",
      "Requirement already satisfied: scipy in /Users/qingchuanlyu/anaconda3/envs/cs7641/lib/python3.10/site-packages (from mlrose_hiive==2.2.4) (1.14.1)\r\n",
      "Requirement already satisfied: scikit-learn in /Users/qingchuanlyu/anaconda3/envs/cs7641/lib/python3.10/site-packages (from mlrose_hiive==2.2.4) (1.4.2)\r\n",
      "Requirement already satisfied: pandas in /Users/qingchuanlyu/anaconda3/envs/cs7641/lib/python3.10/site-packages (from mlrose_hiive==2.2.4) (2.2.3)\r\n",
      "Requirement already satisfied: networkx in /Users/qingchuanlyu/anaconda3/envs/cs7641/lib/python3.10/site-packages (from mlrose_hiive==2.2.4) (3.3)\r\n",
      "Requirement already satisfied: joblib in /Users/qingchuanlyu/anaconda3/envs/cs7641/lib/python3.10/site-packages (from mlrose_hiive==2.2.4) (1.4.2)\r\n",
      "Requirement already satisfied: python-dateutil>=2.8.2 in /Users/qingchuanlyu/anaconda3/envs/cs7641/lib/python3.10/site-packages (from pandas->mlrose_hiive==2.2.4) (2.9.0.post0)\r\n",
      "Requirement already satisfied: pytz>=2020.1 in /Users/qingchuanlyu/anaconda3/envs/cs7641/lib/python3.10/site-packages (from pandas->mlrose_hiive==2.2.4) (2024.1)\r\n",
      "Requirement already satisfied: tzdata>=2022.7 in /Users/qingchuanlyu/anaconda3/envs/cs7641/lib/python3.10/site-packages (from pandas->mlrose_hiive==2.2.4) (2024.2)\r\n",
      "Requirement already satisfied: threadpoolctl>=2.0.0 in /Users/qingchuanlyu/anaconda3/envs/cs7641/lib/python3.10/site-packages (from scikit-learn->mlrose_hiive==2.2.4) (3.5.0)\r\n",
      "Requirement already satisfied: six>=1.5 in /Users/qingchuanlyu/anaconda3/envs/cs7641/lib/python3.10/site-packages (from python-dateutil>=2.8.2->pandas->mlrose_hiive==2.2.4) (1.16.0)\r\n",
      "Building wheels for collected packages: mlrose_hiive\r\n",
      "  Building wheel for mlrose_hiive (setup.py) ... \u001B[?25ldone\r\n",
      "\u001B[?25h  Created wheel for mlrose_hiive: filename=mlrose_hiive-2.2.4-py3-none-any.whl size=132207 sha256=f26eec50120e9e54abe4256ed4ad7e3c700bb7659f332bb6e6a7654e6972200c\r\n",
      "  Stored in directory: /private/var/folders/c6/5zg6wy5n121f2pzclkwbzplm0000gn/T/pip-ephem-wheel-cache-u2nqg10y/wheels/77/c5/de/7a63a2c78a12ad335a5091a9209439e12d86616744464a5ae4\r\n",
      "Successfully built mlrose_hiive\r\n",
      "Installing collected packages: mlrose_hiive\r\n",
      "  Attempting uninstall: mlrose_hiive\r\n",
      "    Found existing installation: mlrose_hiive 2.2.4\r\n",
      "    Uninstalling mlrose_hiive-2.2.4:\r\n",
      "      Successfully uninstalled mlrose_hiive-2.2.4\r\n",
      "Successfully installed mlrose_hiive-2.2.4\r\n",
      "Note: you may need to restart the kernel to use updated packages.\n"
     ]
    }
   ],
   "source": [
    "pip install /Users/qingchuanlyu/Documents/Conferences/ICML-2025/icml2025/code/mlrose"
   ],
   "metadata": {
    "collapsed": false
   }
  },
  {
   "cell_type": "code",
   "execution_count": 2,
   "outputs": [
    {
     "data": {
      "text/plain": "'\\n# A. \\ndef border_swap(next_gen, child, dic_values):\\n    if len(next_gen) == 0:\\n        next_gen.append(child)\\n    else:\\n        dic_above = dic_values[\\'above_avg\\']\\n        dic_below = dic_values[\\'below_avg\\']\\n        new_start = child[0]\\n        last_start = next_gen[-1][0]\\n        if ((new_start in dic_below) & (last_start not in dic_below)) or                 ((new_start in dic_above) & (last_start not in dic_above)):\\n            next_gen.append(child)\\n        else:\\n            child_flip = []\\n            for i in range(len(child)):\\n                j = i + 1\\n                if j < len(child):\\n                    #print(child_flip)\\n                    #print(child[j])\\n                    #print(child[i])\\n                    child_flip.extend([child[j], child[i]])\\n            child_flip = np.array(child_flip[:len(child)])\\n            #first = child[len(child)//2:]\\n            #second = child[:len(child)//2]\\n            #child_flip = np.concatenate([first, second])\\n            #child_flip = len(child) - 1 - child\\n            #print(\"border trades start\")\\n            #print(\"next gen is\", next_gen)\\n            #print(\"child is\", child)\\n            #print(\"second half of child is\", child[len(child)//2:])\\n            #print(\"first half of child is\", child[:len(child)//2])\\n            #print(\"child_flip is\", child_flip)\\n            next_gen.append(child_flip)\\n    return next_gen\\n\\n'"
     },
     "execution_count": 2,
     "metadata": {},
     "output_type": "execute_result"
    }
   ],
   "source": [
    "\"\"\"\n",
    "# A.\n",
    "def border_swap(next_gen, child, dic_values):\n",
    "    if len(next_gen) == 0:\n",
    "        next_gen.append(child)\n",
    "    else:\n",
    "        dic_above = dic_values['above_avg']\n",
    "        dic_below = dic_values['below_avg']\n",
    "        new_start = child[0]\n",
    "        last_start = next_gen[-1][0]\n",
    "        if ((new_start in dic_below) & (last_start not in dic_below)) or \\\n",
    "                ((new_start in dic_above) & (last_start not in dic_above)):\n",
    "            next_gen.append(child)\n",
    "        else:\n",
    "            child_flip = []\n",
    "            for i in range(len(child)):\n",
    "                j = i + 1\n",
    "                if j < len(child):\n",
    "                    #print(child_flip)\n",
    "                    #print(child[j])\n",
    "                    #print(child[i])\n",
    "                    child_flip.extend([child[j], child[i]])\n",
    "            child_flip = np.array(child_flip[:len(child)])\n",
    "            #first = child[len(child)//2:]\n",
    "            #second = child[:len(child)//2]\n",
    "            #child_flip = np.concatenate([first, second])\n",
    "            #child_flip = len(child) - 1 - child\n",
    "            #print(\"border trades start\")\n",
    "            #print(\"next gen is\", next_gen)\n",
    "            #print(\"child is\", child)\n",
    "            #print(\"second half of child is\", child[len(child)//2:])\n",
    "            #print(\"first half of child is\", child[:len(child)//2])\n",
    "            #print(\"child_flip is\", child_flip)\n",
    "            next_gen.append(child_flip)\n",
    "    return next_gen\n",
    "\n",
    "\"\"\""
   ],
   "metadata": {
    "collapsed": false
   }
  },
  {
   "cell_type": "code",
   "execution_count": 3,
   "id": "b243b22c",
   "metadata": {},
   "outputs": [],
   "source": [
    "import mlrose_hiive as mh"
   ]
  },
  {
   "cell_type": "code",
   "execution_count": 4,
   "outputs": [],
   "source": [
    "#help(mh.runners)"
   ],
   "metadata": {
    "collapsed": false
   }
  },
  {
   "cell_type": "code",
   "execution_count": 5,
   "id": "cb9e02c3",
   "metadata": {},
   "outputs": [],
   "source": [
    "import numpy as np\n",
    "\n",
    "from sklearn.model_selection import train_test_split\n",
    "from sklearn.preprocessing import MinMaxScaler, OneHotEncoder\n",
    "from sklearn.metrics import accuracy_score\n",
    "\n",
    "from IPython.core.display import display, HTML # for some notebook formatting.\n",
    "\n",
    "import logging\n",
    "import networkx as nx\n",
    "import matplotlib.pyplot as plt\n",
    "import string\n",
    "\n",
    "\n",
    "from ast import literal_eval\n",
    "\n",
    "from sklearn.model_selection import train_test_split\n",
    "from sklearn.preprocessing import MinMaxScaler, OneHotEncoder\n",
    "from sklearn.metrics import accuracy_score\n",
    "\n",
    "# switch off the chatter\n",
    "logging.basicConfig(level=logging.WARNING)"
   ]
  },
  {
   "cell_type": "code",
   "execution_count": 6,
   "id": "f314d532",
   "metadata": {},
   "outputs": [],
   "source": [
    "import pandas as pd\n",
    "import utility as u\n",
    "import importlib"
   ]
  },
  {
   "cell_type": "code",
   "execution_count": 7,
   "outputs": [],
   "source": [
    "class Task:\n",
    "    def __init__(self, task_id, duration, deadline, profit):\n",
    "        self.task_id = task_id\n",
    "        self.duration = duration\n",
    "        self.deadline = deadline\n",
    "        self.profit = profit"
   ],
   "metadata": {
    "collapsed": false
   }
  },
  {
   "cell_type": "code",
   "execution_count": 8,
   "outputs": [],
   "source": [
    "size = 108\n",
    "importlib.reload(u)\n",
    "tasks = u.generate_random_tasks(size, 5, 80, 25)"
   ],
   "metadata": {
    "collapsed": false
   }
  },
  {
   "cell_type": "code",
   "execution_count": 9,
   "id": "c907b845",
   "metadata": {},
   "outputs": [],
   "source": [
    "# # Job Scheduling\n",
    "problem_ffp = mh.JobSchedulingGenerator().generate(seed=0, size=size, tasks=tasks, break_time=1, work_limit=2)\n",
    "#state = problem_ffp.get_state()"
   ]
  },
  {
   "cell_type": "code",
   "execution_count": 10,
   "outputs": [
    {
     "data": {
      "text/plain": "108"
     },
     "execution_count": 10,
     "metadata": {},
     "output_type": "execute_result"
    }
   ],
   "source": [
    "problem_ffp.length"
   ],
   "metadata": {
    "collapsed": false
   }
  },
  {
   "cell_type": "code",
   "execution_count": 11,
   "outputs": [
    {
     "data": {
      "text/plain": "245.0"
     },
     "execution_count": 11,
     "metadata": {},
     "output_type": "execute_result"
    }
   ],
   "source": [
    "problem_ffp.fitness"
   ],
   "metadata": {
    "collapsed": false
   }
  },
  {
   "cell_type": "code",
   "execution_count": 12,
   "id": "34174e8f",
   "metadata": {},
   "outputs": [],
   "source": [
    "# GA runner class\n",
    "# 1. tune population size and mutation rates\n",
    "ga_ffp = mh.GAJSRunner(problem=problem_ffp,\n",
    "              experiment_name='ffp_ga',\n",
    "              output_directory=None, # note: specify an output directory to have results saved to disk\n",
    "              seed=0,\n",
    "              iteration_list=2 ** np.arange(12),\n",
    "              max_attempts=500,\n",
    "              population_sizes=[40, 50, 60],\n",
    "              mutation_rates=[0.07, 0.08]) # Probability of a mutation at each element of the state vector during reproduction, expressed as a value between 0 and 1.\n",
    "\n",
    "# the two data frames will contain the results\n",
    "df_run_stats_ffp, df_run_curves_ffp = ga_ffp.run()"
   ]
  },
  {
   "cell_type": "code",
   "execution_count": 13,
   "id": "3139bc51",
   "metadata": {},
   "outputs": [
    {
     "data": {
      "text/plain": "(5376, 7)"
     },
     "execution_count": 13,
     "metadata": {},
     "output_type": "execute_result"
    }
   ],
   "source": [
    "df_run_curves_ffp.shape"
   ]
  },
  {
   "cell_type": "code",
   "execution_count": 14,
   "id": "78ec6ce8",
   "metadata": {},
   "outputs": [
    {
     "data": {
      "text/plain": "   Iteration      Time  Fitness  FEvals  Population Size  Mutation Rate  \\\n0          0  0.008548    274.0     0.0               40           0.07   \n1          1  0.032897    385.0     2.0               40           0.07   \n2          2  0.046580    403.0     4.0               40           0.07   \n3          3  0.068311    403.0     5.0               40           0.07   \n4          4  0.081857    428.0     7.0               40           0.07   \n\n   max_iters  \n0       2048  \n1       2048  \n2       2048  \n3       2048  \n4       2048  ",
      "text/html": "<div>\n<style scoped>\n    .dataframe tbody tr th:only-of-type {\n        vertical-align: middle;\n    }\n\n    .dataframe tbody tr th {\n        vertical-align: top;\n    }\n\n    .dataframe thead th {\n        text-align: right;\n    }\n</style>\n<table border=\"1\" class=\"dataframe\">\n  <thead>\n    <tr style=\"text-align: right;\">\n      <th></th>\n      <th>Iteration</th>\n      <th>Time</th>\n      <th>Fitness</th>\n      <th>FEvals</th>\n      <th>Population Size</th>\n      <th>Mutation Rate</th>\n      <th>max_iters</th>\n    </tr>\n  </thead>\n  <tbody>\n    <tr>\n      <th>0</th>\n      <td>0</td>\n      <td>0.008548</td>\n      <td>274.0</td>\n      <td>0.0</td>\n      <td>40</td>\n      <td>0.07</td>\n      <td>2048</td>\n    </tr>\n    <tr>\n      <th>1</th>\n      <td>1</td>\n      <td>0.032897</td>\n      <td>385.0</td>\n      <td>2.0</td>\n      <td>40</td>\n      <td>0.07</td>\n      <td>2048</td>\n    </tr>\n    <tr>\n      <th>2</th>\n      <td>2</td>\n      <td>0.046580</td>\n      <td>403.0</td>\n      <td>4.0</td>\n      <td>40</td>\n      <td>0.07</td>\n      <td>2048</td>\n    </tr>\n    <tr>\n      <th>3</th>\n      <td>3</td>\n      <td>0.068311</td>\n      <td>403.0</td>\n      <td>5.0</td>\n      <td>40</td>\n      <td>0.07</td>\n      <td>2048</td>\n    </tr>\n    <tr>\n      <th>4</th>\n      <td>4</td>\n      <td>0.081857</td>\n      <td>428.0</td>\n      <td>7.0</td>\n      <td>40</td>\n      <td>0.07</td>\n      <td>2048</td>\n    </tr>\n  </tbody>\n</table>\n</div>"
     },
     "execution_count": 14,
     "metadata": {},
     "output_type": "execute_result"
    }
   ],
   "source": [
    "df_run_curves_ffp.head()"
   ]
  },
  {
   "cell_type": "code",
   "execution_count": 15,
   "id": "a6cb09ff",
   "metadata": {},
   "outputs": [
    {
     "data": {
      "text/plain": "874.0"
     },
     "execution_count": 15,
     "metadata": {},
     "output_type": "execute_result"
    }
   ],
   "source": [
    "df_run_curves_ffp['Fitness'].max()"
   ]
  },
  {
   "cell_type": "code",
   "execution_count": 16,
   "outputs": [
    {
     "data": {
      "text/plain": "      Iteration      Time  Fitness  FEvals  Population Size  Mutation Rate  \\\n4875        437  5.504219    874.0   450.0               60           0.08   \n4876        438  5.515222    874.0   451.0               60           0.08   \n4877        439  5.524668    874.0   452.0               60           0.08   \n4878        440  5.537235    874.0   453.0               60           0.08   \n4879        441  5.552411    874.0   454.0               60           0.08   \n...         ...       ...      ...     ...              ...            ...   \n5371        933  0.521875    874.0   946.0               60           0.08   \n5372        934  0.530887    874.0   947.0               60           0.08   \n5373        935  0.539669    874.0   948.0               60           0.08   \n5374        936  0.548563    874.0   949.0               60           0.08   \n5375        937  0.557642    874.0   950.0               60           0.08   \n\n      max_iters  \n4875       2048  \n4876       2048  \n4877       2048  \n4878       2048  \n4879       2048  \n...         ...  \n5371       2048  \n5372       2048  \n5373       2048  \n5374       2048  \n5375       2048  \n\n[501 rows x 7 columns]",
      "text/html": "<div>\n<style scoped>\n    .dataframe tbody tr th:only-of-type {\n        vertical-align: middle;\n    }\n\n    .dataframe tbody tr th {\n        vertical-align: top;\n    }\n\n    .dataframe thead th {\n        text-align: right;\n    }\n</style>\n<table border=\"1\" class=\"dataframe\">\n  <thead>\n    <tr style=\"text-align: right;\">\n      <th></th>\n      <th>Iteration</th>\n      <th>Time</th>\n      <th>Fitness</th>\n      <th>FEvals</th>\n      <th>Population Size</th>\n      <th>Mutation Rate</th>\n      <th>max_iters</th>\n    </tr>\n  </thead>\n  <tbody>\n    <tr>\n      <th>4875</th>\n      <td>437</td>\n      <td>5.504219</td>\n      <td>874.0</td>\n      <td>450.0</td>\n      <td>60</td>\n      <td>0.08</td>\n      <td>2048</td>\n    </tr>\n    <tr>\n      <th>4876</th>\n      <td>438</td>\n      <td>5.515222</td>\n      <td>874.0</td>\n      <td>451.0</td>\n      <td>60</td>\n      <td>0.08</td>\n      <td>2048</td>\n    </tr>\n    <tr>\n      <th>4877</th>\n      <td>439</td>\n      <td>5.524668</td>\n      <td>874.0</td>\n      <td>452.0</td>\n      <td>60</td>\n      <td>0.08</td>\n      <td>2048</td>\n    </tr>\n    <tr>\n      <th>4878</th>\n      <td>440</td>\n      <td>5.537235</td>\n      <td>874.0</td>\n      <td>453.0</td>\n      <td>60</td>\n      <td>0.08</td>\n      <td>2048</td>\n    </tr>\n    <tr>\n      <th>4879</th>\n      <td>441</td>\n      <td>5.552411</td>\n      <td>874.0</td>\n      <td>454.0</td>\n      <td>60</td>\n      <td>0.08</td>\n      <td>2048</td>\n    </tr>\n    <tr>\n      <th>...</th>\n      <td>...</td>\n      <td>...</td>\n      <td>...</td>\n      <td>...</td>\n      <td>...</td>\n      <td>...</td>\n      <td>...</td>\n    </tr>\n    <tr>\n      <th>5371</th>\n      <td>933</td>\n      <td>0.521875</td>\n      <td>874.0</td>\n      <td>946.0</td>\n      <td>60</td>\n      <td>0.08</td>\n      <td>2048</td>\n    </tr>\n    <tr>\n      <th>5372</th>\n      <td>934</td>\n      <td>0.530887</td>\n      <td>874.0</td>\n      <td>947.0</td>\n      <td>60</td>\n      <td>0.08</td>\n      <td>2048</td>\n    </tr>\n    <tr>\n      <th>5373</th>\n      <td>935</td>\n      <td>0.539669</td>\n      <td>874.0</td>\n      <td>948.0</td>\n      <td>60</td>\n      <td>0.08</td>\n      <td>2048</td>\n    </tr>\n    <tr>\n      <th>5374</th>\n      <td>936</td>\n      <td>0.548563</td>\n      <td>874.0</td>\n      <td>949.0</td>\n      <td>60</td>\n      <td>0.08</td>\n      <td>2048</td>\n    </tr>\n    <tr>\n      <th>5375</th>\n      <td>937</td>\n      <td>0.557642</td>\n      <td>874.0</td>\n      <td>950.0</td>\n      <td>60</td>\n      <td>0.08</td>\n      <td>2048</td>\n    </tr>\n  </tbody>\n</table>\n<p>501 rows × 7 columns</p>\n</div>"
     },
     "execution_count": 16,
     "metadata": {},
     "output_type": "execute_result"
    }
   ],
   "source": [
    "df_run_curves_ffp[df_run_curves_ffp.Fitness == df_run_curves_ffp['Fitness'].max()]"
   ],
   "metadata": {
    "collapsed": false
   }
  },
  {
   "cell_type": "code",
   "execution_count": 17,
   "outputs": [],
   "source": [
    "# need to check Time and FEvals"
   ],
   "metadata": {
    "collapsed": false
   }
  },
  {
   "cell_type": "code",
   "execution_count": 18,
   "id": "59c463dd",
   "metadata": {},
   "outputs": [],
   "source": [
    "df_curves_bestfitness_ffp = df_run_curves_ffp[(df_run_curves_ffp['Fitness'] == df_run_curves_ffp['Fitness'].max())]"
   ]
  },
  {
   "cell_type": "code",
   "execution_count": 19,
   "id": "5e04b1a5",
   "metadata": {},
   "outputs": [
    {
     "data": {
      "text/plain": "      Iteration      Time  Fitness  FEvals  Population Size  Mutation Rate  \\\n4875        437  5.504219    874.0   450.0               60           0.08   \n4876        438  5.515222    874.0   451.0               60           0.08   \n4877        439  5.524668    874.0   452.0               60           0.08   \n4878        440  5.537235    874.0   453.0               60           0.08   \n4879        441  5.552411    874.0   454.0               60           0.08   \n...         ...       ...      ...     ...              ...            ...   \n5371        933  0.521875    874.0   946.0               60           0.08   \n5372        934  0.530887    874.0   947.0               60           0.08   \n5373        935  0.539669    874.0   948.0               60           0.08   \n5374        936  0.548563    874.0   949.0               60           0.08   \n5375        937  0.557642    874.0   950.0               60           0.08   \n\n      max_iters  \n4875       2048  \n4876       2048  \n4877       2048  \n4878       2048  \n4879       2048  \n...         ...  \n5371       2048  \n5372       2048  \n5373       2048  \n5374       2048  \n5375       2048  \n\n[501 rows x 7 columns]",
      "text/html": "<div>\n<style scoped>\n    .dataframe tbody tr th:only-of-type {\n        vertical-align: middle;\n    }\n\n    .dataframe tbody tr th {\n        vertical-align: top;\n    }\n\n    .dataframe thead th {\n        text-align: right;\n    }\n</style>\n<table border=\"1\" class=\"dataframe\">\n  <thead>\n    <tr style=\"text-align: right;\">\n      <th></th>\n      <th>Iteration</th>\n      <th>Time</th>\n      <th>Fitness</th>\n      <th>FEvals</th>\n      <th>Population Size</th>\n      <th>Mutation Rate</th>\n      <th>max_iters</th>\n    </tr>\n  </thead>\n  <tbody>\n    <tr>\n      <th>4875</th>\n      <td>437</td>\n      <td>5.504219</td>\n      <td>874.0</td>\n      <td>450.0</td>\n      <td>60</td>\n      <td>0.08</td>\n      <td>2048</td>\n    </tr>\n    <tr>\n      <th>4876</th>\n      <td>438</td>\n      <td>5.515222</td>\n      <td>874.0</td>\n      <td>451.0</td>\n      <td>60</td>\n      <td>0.08</td>\n      <td>2048</td>\n    </tr>\n    <tr>\n      <th>4877</th>\n      <td>439</td>\n      <td>5.524668</td>\n      <td>874.0</td>\n      <td>452.0</td>\n      <td>60</td>\n      <td>0.08</td>\n      <td>2048</td>\n    </tr>\n    <tr>\n      <th>4878</th>\n      <td>440</td>\n      <td>5.537235</td>\n      <td>874.0</td>\n      <td>453.0</td>\n      <td>60</td>\n      <td>0.08</td>\n      <td>2048</td>\n    </tr>\n    <tr>\n      <th>4879</th>\n      <td>441</td>\n      <td>5.552411</td>\n      <td>874.0</td>\n      <td>454.0</td>\n      <td>60</td>\n      <td>0.08</td>\n      <td>2048</td>\n    </tr>\n    <tr>\n      <th>...</th>\n      <td>...</td>\n      <td>...</td>\n      <td>...</td>\n      <td>...</td>\n      <td>...</td>\n      <td>...</td>\n      <td>...</td>\n    </tr>\n    <tr>\n      <th>5371</th>\n      <td>933</td>\n      <td>0.521875</td>\n      <td>874.0</td>\n      <td>946.0</td>\n      <td>60</td>\n      <td>0.08</td>\n      <td>2048</td>\n    </tr>\n    <tr>\n      <th>5372</th>\n      <td>934</td>\n      <td>0.530887</td>\n      <td>874.0</td>\n      <td>947.0</td>\n      <td>60</td>\n      <td>0.08</td>\n      <td>2048</td>\n    </tr>\n    <tr>\n      <th>5373</th>\n      <td>935</td>\n      <td>0.539669</td>\n      <td>874.0</td>\n      <td>948.0</td>\n      <td>60</td>\n      <td>0.08</td>\n      <td>2048</td>\n    </tr>\n    <tr>\n      <th>5374</th>\n      <td>936</td>\n      <td>0.548563</td>\n      <td>874.0</td>\n      <td>949.0</td>\n      <td>60</td>\n      <td>0.08</td>\n      <td>2048</td>\n    </tr>\n    <tr>\n      <th>5375</th>\n      <td>937</td>\n      <td>0.557642</td>\n      <td>874.0</td>\n      <td>950.0</td>\n      <td>60</td>\n      <td>0.08</td>\n      <td>2048</td>\n    </tr>\n  </tbody>\n</table>\n<p>501 rows × 7 columns</p>\n</div>"
     },
     "execution_count": 19,
     "metadata": {},
     "output_type": "execute_result"
    }
   ],
   "source": [
    "df_curves_bestfitness_ffp"
   ]
  },
  {
   "cell_type": "code",
   "execution_count": 20,
   "outputs": [
    {
     "data": {
      "text/plain": "   Population Size  Mutation Rate  FEvals  Iteration      Time\n0               60           0.08   450.0      687.0  0.001538",
      "text/html": "<div>\n<style scoped>\n    .dataframe tbody tr th:only-of-type {\n        vertical-align: middle;\n    }\n\n    .dataframe tbody tr th {\n        vertical-align: top;\n    }\n\n    .dataframe thead th {\n        text-align: right;\n    }\n</style>\n<table border=\"1\" class=\"dataframe\">\n  <thead>\n    <tr style=\"text-align: right;\">\n      <th></th>\n      <th>Population Size</th>\n      <th>Mutation Rate</th>\n      <th>FEvals</th>\n      <th>Iteration</th>\n      <th>Time</th>\n    </tr>\n  </thead>\n  <tbody>\n    <tr>\n      <th>0</th>\n      <td>60</td>\n      <td>0.08</td>\n      <td>450.0</td>\n      <td>687.0</td>\n      <td>0.001538</td>\n    </tr>\n  </tbody>\n</table>\n</div>"
     },
     "execution_count": 20,
     "metadata": {},
     "output_type": "execute_result"
    }
   ],
   "source": [
    "df_curves_bestfitness_ffp.groupby(['Population Size', 'Mutation Rate']).agg({'FEvals': 'min', 'Iteration': 'mean', 'Time': 'min'}).reset_index()\n",
    "# Temp = 1 => less Fevals. Pick temp=1"
   ],
   "metadata": {
    "collapsed": false
   }
  },
  {
   "cell_type": "code",
   "execution_count": 21,
   "id": "6e0ad656",
   "metadata": {},
   "outputs": [],
   "source": [
    "# tentatively, pick pop size = 60 and mutation_rate = 0.08, as the only choice"
   ]
  },
  {
   "cell_type": "code",
   "execution_count": 22,
   "id": "62fe58b2",
   "metadata": {},
   "outputs": [
    {
     "data": {
      "text/plain": "   Iteration      Time  Fitness  FEvals  Population Size  Mutation Rate  \\\n0          0  0.008548    274.0     0.0               40           0.07   \n1          1  0.032897    385.0     2.0               40           0.07   \n2          2  0.046580    403.0     4.0               40           0.07   \n3          3  0.068311    403.0     5.0               40           0.07   \n4          4  0.081857    428.0     7.0               40           0.07   \n\n   max_iters  \n0       2048  \n1       2048  \n2       2048  \n3       2048  \n4       2048  ",
      "text/html": "<div>\n<style scoped>\n    .dataframe tbody tr th:only-of-type {\n        vertical-align: middle;\n    }\n\n    .dataframe tbody tr th {\n        vertical-align: top;\n    }\n\n    .dataframe thead th {\n        text-align: right;\n    }\n</style>\n<table border=\"1\" class=\"dataframe\">\n  <thead>\n    <tr style=\"text-align: right;\">\n      <th></th>\n      <th>Iteration</th>\n      <th>Time</th>\n      <th>Fitness</th>\n      <th>FEvals</th>\n      <th>Population Size</th>\n      <th>Mutation Rate</th>\n      <th>max_iters</th>\n    </tr>\n  </thead>\n  <tbody>\n    <tr>\n      <th>0</th>\n      <td>0</td>\n      <td>0.008548</td>\n      <td>274.0</td>\n      <td>0.0</td>\n      <td>40</td>\n      <td>0.07</td>\n      <td>2048</td>\n    </tr>\n    <tr>\n      <th>1</th>\n      <td>1</td>\n      <td>0.032897</td>\n      <td>385.0</td>\n      <td>2.0</td>\n      <td>40</td>\n      <td>0.07</td>\n      <td>2048</td>\n    </tr>\n    <tr>\n      <th>2</th>\n      <td>2</td>\n      <td>0.046580</td>\n      <td>403.0</td>\n      <td>4.0</td>\n      <td>40</td>\n      <td>0.07</td>\n      <td>2048</td>\n    </tr>\n    <tr>\n      <th>3</th>\n      <td>3</td>\n      <td>0.068311</td>\n      <td>403.0</td>\n      <td>5.0</td>\n      <td>40</td>\n      <td>0.07</td>\n      <td>2048</td>\n    </tr>\n    <tr>\n      <th>4</th>\n      <td>4</td>\n      <td>0.081857</td>\n      <td>428.0</td>\n      <td>7.0</td>\n      <td>40</td>\n      <td>0.07</td>\n      <td>2048</td>\n    </tr>\n  </tbody>\n</table>\n</div>"
     },
     "execution_count": 22,
     "metadata": {},
     "output_type": "execute_result"
    }
   ],
   "source": [
    "df_run_curves_ffp.head()"
   ]
  },
  {
   "cell_type": "code",
   "execution_count": 25,
   "id": "4ce94f88",
   "metadata": {},
   "outputs": [],
   "source": [
    "# clean up an existing result table to store the iterative resutls\n",
    "df_iter_curves_ffp = df_run_curves_ffp.drop(df_run_curves_ffp.index, inplace=False)"
   ]
  },
  {
   "cell_type": "code",
   "execution_count": 26,
   "outputs": [],
   "source": [
    "# GA runner\n",
    "# 2. iterate through 10 seeds\n",
    "for s in range(10):\n",
    "    ga_ffp = mh.GAJSRunner(problem=problem_ffp,\n",
    "              experiment_name='ffp_ga_{s}',\n",
    "              output_directory=None, # note: specify an output directory to have results saved to disk\n",
    "              seed=s,\n",
    "              iteration_list=2 ** np.arange(12),\n",
    "              max_attempts=500,\n",
    "              population_sizes=[60], # 20 bits in total\n",
    "              mutation_rates=[0.08])\n",
    "\n",
    "    # the two data frames will contain the results\n",
    "    df_run_stats_ffp_sub, df_run_curves_ffp_sub = ga_ffp.run()\n",
    "    # append to the result df\n",
    "    df_iter_curves_ffp = pd.concat([df_iter_curves_ffp, df_run_curves_ffp_sub])"
   ],
   "metadata": {
    "collapsed": false
   }
  },
  {
   "cell_type": "code",
   "execution_count": 27,
   "outputs": [
    {
     "data": {
      "text/plain": "(10144, 7)"
     },
     "execution_count": 27,
     "metadata": {},
     "output_type": "execute_result"
    }
   ],
   "source": [
    "df_iter_curves_ffp.shape"
   ],
   "metadata": {
    "collapsed": false
   }
  },
  {
   "cell_type": "code",
   "execution_count": 28,
   "outputs": [
    {
     "data": {
      "text/plain": "   Iteration      Time  Fitness  FEvals  Population Size  Mutation Rate  \\\n0          0  0.007157    274.0     0.0               60           0.08   \n1          1  0.046635    419.0     2.0               60           0.08   \n2          2  0.073363    419.0     3.0               60           0.08   \n3          3  0.099094    464.0     5.0               60           0.08   \n4          4  0.109656    595.0     7.0               60           0.08   \n\n   max_iters  \n0       2048  \n1       2048  \n2       2048  \n3       2048  \n4       2048  ",
      "text/html": "<div>\n<style scoped>\n    .dataframe tbody tr th:only-of-type {\n        vertical-align: middle;\n    }\n\n    .dataframe tbody tr th {\n        vertical-align: top;\n    }\n\n    .dataframe thead th {\n        text-align: right;\n    }\n</style>\n<table border=\"1\" class=\"dataframe\">\n  <thead>\n    <tr style=\"text-align: right;\">\n      <th></th>\n      <th>Iteration</th>\n      <th>Time</th>\n      <th>Fitness</th>\n      <th>FEvals</th>\n      <th>Population Size</th>\n      <th>Mutation Rate</th>\n      <th>max_iters</th>\n    </tr>\n  </thead>\n  <tbody>\n    <tr>\n      <th>0</th>\n      <td>0</td>\n      <td>0.007157</td>\n      <td>274.0</td>\n      <td>0.0</td>\n      <td>60</td>\n      <td>0.08</td>\n      <td>2048</td>\n    </tr>\n    <tr>\n      <th>1</th>\n      <td>1</td>\n      <td>0.046635</td>\n      <td>419.0</td>\n      <td>2.0</td>\n      <td>60</td>\n      <td>0.08</td>\n      <td>2048</td>\n    </tr>\n    <tr>\n      <th>2</th>\n      <td>2</td>\n      <td>0.073363</td>\n      <td>419.0</td>\n      <td>3.0</td>\n      <td>60</td>\n      <td>0.08</td>\n      <td>2048</td>\n    </tr>\n    <tr>\n      <th>3</th>\n      <td>3</td>\n      <td>0.099094</td>\n      <td>464.0</td>\n      <td>5.0</td>\n      <td>60</td>\n      <td>0.08</td>\n      <td>2048</td>\n    </tr>\n    <tr>\n      <th>4</th>\n      <td>4</td>\n      <td>0.109656</td>\n      <td>595.0</td>\n      <td>7.0</td>\n      <td>60</td>\n      <td>0.08</td>\n      <td>2048</td>\n    </tr>\n  </tbody>\n</table>\n</div>"
     },
     "execution_count": 28,
     "metadata": {},
     "output_type": "execute_result"
    }
   ],
   "source": [
    "df_iter_curves_ffp.head()"
   ],
   "metadata": {
    "collapsed": false
   }
  },
  {
   "cell_type": "code",
   "execution_count": 29,
   "outputs": [
    {
     "data": {
      "text/plain": "916.0"
     },
     "execution_count": 29,
     "metadata": {},
     "output_type": "execute_result"
    }
   ],
   "source": [
    "df_iter_curves_ffp.Fitness.max()"
   ],
   "metadata": {
    "collapsed": false
   }
  },
  {
   "cell_type": "code",
   "execution_count": 63,
   "outputs": [],
   "source": [
    "df_iter_curves_ffp.to_csv('gab_crossover_js_108.csv')"
   ],
   "metadata": {
    "collapsed": false
   }
  },
  {
   "cell_type": "code",
   "execution_count": 31,
   "outputs": [
    {
     "data": {
      "text/plain": "1623"
     },
     "execution_count": 31,
     "metadata": {},
     "output_type": "execute_result"
    }
   ],
   "source": [
    "df_iter_curves_ffp.Iteration.max()"
   ],
   "metadata": {
    "collapsed": false
   }
  },
  {
   "cell_type": "code",
   "execution_count": 32,
   "outputs": [],
   "source": [
    "df_fitness_iter_ffp = df_iter_curves_ffp.groupby('Iteration')\\\n",
    "                                .agg(avg_fitness=('Fitness', 'mean'), var_fitness = ('Fitness', 'var'))\\\n",
    "                                .reset_index()"
   ],
   "metadata": {
    "collapsed": false
   }
  },
  {
   "cell_type": "code",
   "execution_count": 33,
   "outputs": [
    {
     "data": {
      "text/plain": "(1624, 3)"
     },
     "execution_count": 33,
     "metadata": {},
     "output_type": "execute_result"
    }
   ],
   "source": [
    "df_fitness_iter_ffp.shape"
   ],
   "metadata": {
    "collapsed": false
   }
  },
  {
   "cell_type": "code",
   "execution_count": 34,
   "outputs": [
    {
     "data": {
      "text/plain": "   Iteration  avg_fitness  var_fitness\n0          0        316.3  1212.011111\n1          1        408.3   771.566667\n2          2        433.7   884.455556\n3          3        471.0  1580.222222\n4          4        539.4  5086.488889",
      "text/html": "<div>\n<style scoped>\n    .dataframe tbody tr th:only-of-type {\n        vertical-align: middle;\n    }\n\n    .dataframe tbody tr th {\n        vertical-align: top;\n    }\n\n    .dataframe thead th {\n        text-align: right;\n    }\n</style>\n<table border=\"1\" class=\"dataframe\">\n  <thead>\n    <tr style=\"text-align: right;\">\n      <th></th>\n      <th>Iteration</th>\n      <th>avg_fitness</th>\n      <th>var_fitness</th>\n    </tr>\n  </thead>\n  <tbody>\n    <tr>\n      <th>0</th>\n      <td>0</td>\n      <td>316.3</td>\n      <td>1212.011111</td>\n    </tr>\n    <tr>\n      <th>1</th>\n      <td>1</td>\n      <td>408.3</td>\n      <td>771.566667</td>\n    </tr>\n    <tr>\n      <th>2</th>\n      <td>2</td>\n      <td>433.7</td>\n      <td>884.455556</td>\n    </tr>\n    <tr>\n      <th>3</th>\n      <td>3</td>\n      <td>471.0</td>\n      <td>1580.222222</td>\n    </tr>\n    <tr>\n      <th>4</th>\n      <td>4</td>\n      <td>539.4</td>\n      <td>5086.488889</td>\n    </tr>\n  </tbody>\n</table>\n</div>"
     },
     "execution_count": 34,
     "metadata": {},
     "output_type": "execute_result"
    }
   ],
   "source": [
    "df_fitness_iter_ffp.head()"
   ],
   "metadata": {
    "collapsed": false
   }
  },
  {
   "cell_type": "code",
   "execution_count": 35,
   "outputs": [
    {
     "data": {
      "text/plain": "797      797\n798      798\n799      799\n800      800\n801      801\n        ... \n1293    1293\n1294    1294\n1295    1295\n1296    1296\n1297    1297\nName: Iteration, Length: 501, dtype: int64"
     },
     "execution_count": 35,
     "metadata": {},
     "output_type": "execute_result"
    }
   ],
   "source": [
    "# convergence point\n",
    "df_iter_curves_ffp[df_iter_curves_ffp.Fitness == df_iter_curves_ffp.Fitness.max()].Iteration"
   ],
   "metadata": {
    "collapsed": false
   }
  },
  {
   "cell_type": "code",
   "execution_count": 36,
   "outputs": [
    {
     "data": {
      "text/plain": "nan"
     },
     "execution_count": 36,
     "metadata": {},
     "output_type": "execute_result"
    }
   ],
   "source": [
    "# converge point-never converged\n",
    "df_fitness_iter_ffp[df_fitness_iter_ffp.avg_fitness >= df_iter_curves_ffp.Fitness.max()].Iteration.min()"
   ],
   "metadata": {
    "collapsed": false
   }
  },
  {
   "cell_type": "code",
   "execution_count": 37,
   "outputs": [],
   "source": [
    "df_fitness_iter_ffp['stddev_fitness'] = df_fitness_iter_ffp['var_fitness'].apply(np.sqrt)"
   ],
   "metadata": {
    "collapsed": false
   }
  },
  {
   "cell_type": "code",
   "execution_count": 38,
   "outputs": [
    {
     "data": {
      "text/plain": "   Iteration  avg_fitness  var_fitness  stddev_fitness\n0          0        316.3  1212.011111       34.813950\n1          1        408.3   771.566667       27.777089\n2          2        433.7   884.455556       29.739798\n3          3        471.0  1580.222222       39.752009\n4          4        539.4  5086.488889       71.319625",
      "text/html": "<div>\n<style scoped>\n    .dataframe tbody tr th:only-of-type {\n        vertical-align: middle;\n    }\n\n    .dataframe tbody tr th {\n        vertical-align: top;\n    }\n\n    .dataframe thead th {\n        text-align: right;\n    }\n</style>\n<table border=\"1\" class=\"dataframe\">\n  <thead>\n    <tr style=\"text-align: right;\">\n      <th></th>\n      <th>Iteration</th>\n      <th>avg_fitness</th>\n      <th>var_fitness</th>\n      <th>stddev_fitness</th>\n    </tr>\n  </thead>\n  <tbody>\n    <tr>\n      <th>0</th>\n      <td>0</td>\n      <td>316.3</td>\n      <td>1212.011111</td>\n      <td>34.813950</td>\n    </tr>\n    <tr>\n      <th>1</th>\n      <td>1</td>\n      <td>408.3</td>\n      <td>771.566667</td>\n      <td>27.777089</td>\n    </tr>\n    <tr>\n      <th>2</th>\n      <td>2</td>\n      <td>433.7</td>\n      <td>884.455556</td>\n      <td>29.739798</td>\n    </tr>\n    <tr>\n      <th>3</th>\n      <td>3</td>\n      <td>471.0</td>\n      <td>1580.222222</td>\n      <td>39.752009</td>\n    </tr>\n    <tr>\n      <th>4</th>\n      <td>4</td>\n      <td>539.4</td>\n      <td>5086.488889</td>\n      <td>71.319625</td>\n    </tr>\n  </tbody>\n</table>\n</div>"
     },
     "execution_count": 38,
     "metadata": {},
     "output_type": "execute_result"
    }
   ],
   "source": [
    "df_fitness_iter_ffp.head()"
   ],
   "metadata": {
    "collapsed": false
   }
  },
  {
   "cell_type": "code",
   "execution_count": 39,
   "outputs": [
    {
     "data": {
      "text/plain": "Text(0, 0.5, 'Fitness')"
     },
     "execution_count": 39,
     "metadata": {},
     "output_type": "execute_result"
    },
    {
     "data": {
      "text/plain": "<Figure size 640x480 with 1 Axes>",
      "image/png": "[encoded data removed]"
     },
     "metadata": {},
     "output_type": "display_data"
    }
   ],
   "source": [
    "plt.plot(df_fitness_iter_ffp.Iteration, df_fitness_iter_ffp.avg_fitness, 'k', color='#3F7F4C')\n",
    "plt.fill_between(df_fitness_iter_ffp.Iteration, df_fitness_iter_ffp.avg_fitness - df_fitness_iter_ffp.stddev_fitness\\\n",
    "                 , df_fitness_iter_ffp.avg_fitness + df_fitness_iter_ffp.stddev_fitness\\\n",
    "                 , alpha=0.5, edgecolor='#3F7F4C', facecolor='#7EFF99')\n",
    "plt.title(f'Fitness by Iterations with Problem Size {size} - GAB on Job Scheduling')\n",
    "plt.xlabel('Iterations')\n",
    "plt.ylabel('Fitness')"
   ],
   "metadata": {
    "collapsed": false
   }
  },
  {
   "cell_type": "code",
   "execution_count": 40,
   "outputs": [
    {
     "data": {
      "text/plain": "906.0"
     },
     "execution_count": 40,
     "metadata": {},
     "output_type": "execute_result"
    }
   ],
   "source": [
    "df_fitness_iter_ffp.avg_fitness.max()"
   ],
   "metadata": {
    "collapsed": false
   }
  },
  {
   "cell_type": "code",
   "execution_count": 41,
   "outputs": [
    {
     "data": {
      "text/plain": "115.22157398296167"
     },
     "execution_count": 41,
     "metadata": {},
     "output_type": "execute_result"
    }
   ],
   "source": [
    "df_fitness_iter_ffp[df_fitness_iter_ffp['Iteration']>0].stddev_fitness.max()"
   ],
   "metadata": {
    "collapsed": false
   }
  },
  {
   "cell_type": "code",
   "execution_count": 42,
   "outputs": [
    {
     "data": {
      "text/plain": "(7    7\n Name: Iteration, dtype: int64,)"
     },
     "execution_count": 42,
     "metadata": {},
     "output_type": "execute_result"
    }
   ],
   "source": [
    "df_fitness_iter_ffp[df_fitness_iter_ffp.stddev_fitness == df_fitness_iter_ffp.stddev_fitness.max()].Iteration,"
   ],
   "metadata": {
    "collapsed": false
   }
  },
  {
   "cell_type": "code",
   "execution_count": 43,
   "outputs": [],
   "source": [
    "# Fevals - iteration"
   ],
   "metadata": {
    "collapsed": false
   }
  },
  {
   "cell_type": "code",
   "execution_count": 44,
   "outputs": [],
   "source": [
    "df_FEvals_iter_ffp = df_iter_curves_ffp.groupby('Iteration')\\\n",
    "                                .agg(avg_FEvals=('FEvals', 'mean'), var_FEvals = ('FEvals', 'var'))\\\n",
    "                                .reset_index()"
   ],
   "metadata": {
    "collapsed": false
   }
  },
  {
   "cell_type": "code",
   "execution_count": 45,
   "outputs": [
    {
     "data": {
      "text/plain": "(1624, 3)"
     },
     "execution_count": 45,
     "metadata": {},
     "output_type": "execute_result"
    }
   ],
   "source": [
    "df_FEvals_iter_ffp.shape"
   ],
   "metadata": {
    "collapsed": false
   }
  },
  {
   "cell_type": "code",
   "execution_count": 46,
   "outputs": [
    {
     "data": {
      "text/plain": "   Iteration  avg_FEvals  var_FEvals\n0          0         0.0    0.000000\n1          1         2.0    0.000000\n2          2         3.8    0.177778\n3          3         5.6    0.488889\n4          4         7.3    0.677778",
      "text/html": "<div>\n<style scoped>\n    .dataframe tbody tr th:only-of-type {\n        vertical-align: middle;\n    }\n\n    .dataframe tbody tr th {\n        vertical-align: top;\n    }\n\n    .dataframe thead th {\n        text-align: right;\n    }\n</style>\n<table border=\"1\" class=\"dataframe\">\n  <thead>\n    <tr style=\"text-align: right;\">\n      <th></th>\n      <th>Iteration</th>\n      <th>avg_FEvals</th>\n      <th>var_FEvals</th>\n    </tr>\n  </thead>\n  <tbody>\n    <tr>\n      <th>0</th>\n      <td>0</td>\n      <td>0.0</td>\n      <td>0.000000</td>\n    </tr>\n    <tr>\n      <th>1</th>\n      <td>1</td>\n      <td>2.0</td>\n      <td>0.000000</td>\n    </tr>\n    <tr>\n      <th>2</th>\n      <td>2</td>\n      <td>3.8</td>\n      <td>0.177778</td>\n    </tr>\n    <tr>\n      <th>3</th>\n      <td>3</td>\n      <td>5.6</td>\n      <td>0.488889</td>\n    </tr>\n    <tr>\n      <th>4</th>\n      <td>4</td>\n      <td>7.3</td>\n      <td>0.677778</td>\n    </tr>\n  </tbody>\n</table>\n</div>"
     },
     "execution_count": 46,
     "metadata": {},
     "output_type": "execute_result"
    }
   ],
   "source": [
    "df_FEvals_iter_ffp.head()"
   ],
   "metadata": {
    "collapsed": false
   }
  },
  {
   "cell_type": "code",
   "execution_count": 47,
   "outputs": [],
   "source": [
    "df_FEvals_iter_ffp['stddev_FEvals'] = df_FEvals_iter_ffp['var_FEvals'].apply(np.sqrt)"
   ],
   "metadata": {
    "collapsed": false
   }
  },
  {
   "cell_type": "code",
   "execution_count": 48,
   "outputs": [
    {
     "data": {
      "text/plain": "(0.0, 8.736894948054085)"
     },
     "execution_count": 48,
     "metadata": {},
     "output_type": "execute_result"
    }
   ],
   "source": [
    "df_FEvals_iter_ffp['stddev_FEvals'].min(), df_FEvals_iter_ffp['stddev_FEvals'].max()"
   ],
   "metadata": {
    "collapsed": false
   }
  },
  {
   "cell_type": "code",
   "execution_count": 49,
   "outputs": [
    {
     "data": {
      "text/plain": "   Iteration  avg_FEvals  var_FEvals  stddev_FEvals\n0          0         0.0    0.000000       0.000000\n1          1         2.0    0.000000       0.000000\n2          2         3.8    0.177778       0.421637\n3          3         5.6    0.488889       0.699206\n4          4         7.3    0.677778       0.823273",
      "text/html": "<div>\n<style scoped>\n    .dataframe tbody tr th:only-of-type {\n        vertical-align: middle;\n    }\n\n    .dataframe tbody tr th {\n        vertical-align: top;\n    }\n\n    .dataframe thead th {\n        text-align: right;\n    }\n</style>\n<table border=\"1\" class=\"dataframe\">\n  <thead>\n    <tr style=\"text-align: right;\">\n      <th></th>\n      <th>Iteration</th>\n      <th>avg_FEvals</th>\n      <th>var_FEvals</th>\n      <th>stddev_FEvals</th>\n    </tr>\n  </thead>\n  <tbody>\n    <tr>\n      <th>0</th>\n      <td>0</td>\n      <td>0.0</td>\n      <td>0.000000</td>\n      <td>0.000000</td>\n    </tr>\n    <tr>\n      <th>1</th>\n      <td>1</td>\n      <td>2.0</td>\n      <td>0.000000</td>\n      <td>0.000000</td>\n    </tr>\n    <tr>\n      <th>2</th>\n      <td>2</td>\n      <td>3.8</td>\n      <td>0.177778</td>\n      <td>0.421637</td>\n    </tr>\n    <tr>\n      <th>3</th>\n      <td>3</td>\n      <td>5.6</td>\n      <td>0.488889</td>\n      <td>0.699206</td>\n    </tr>\n    <tr>\n      <th>4</th>\n      <td>4</td>\n      <td>7.3</td>\n      <td>0.677778</td>\n      <td>0.823273</td>\n    </tr>\n  </tbody>\n</table>\n</div>"
     },
     "execution_count": 49,
     "metadata": {},
     "output_type": "execute_result"
    }
   ],
   "source": [
    "df_FEvals_iter_ffp.head()"
   ],
   "metadata": {
    "collapsed": false
   }
  },
  {
   "cell_type": "code",
   "execution_count": 50,
   "outputs": [
    {
     "data": {
      "text/plain": "Text(0, 0.5, 'FEvals')"
     },
     "execution_count": 50,
     "metadata": {},
     "output_type": "execute_result"
    },
    {
     "data": {
      "text/plain": "<Figure size 640x480 with 1 Axes>",
      "image/png": "[encoded data removed]"
     },
     "metadata": {},
     "output_type": "display_data"
    }
   ],
   "source": [
    "plt.plot(df_FEvals_iter_ffp.Iteration, df_FEvals_iter_ffp.avg_FEvals, 'k', color='#3F7F4C')\n",
    "plt.fill_between(df_FEvals_iter_ffp.Iteration, df_FEvals_iter_ffp.avg_FEvals - df_FEvals_iter_ffp.stddev_FEvals\\\n",
    "                 , df_FEvals_iter_ffp.avg_FEvals + df_FEvals_iter_ffp.stddev_FEvals\\\n",
    "                 , alpha=0.5, edgecolor='#3F7F4C', facecolor='#7EFF99')\n",
    "plt.title('FEvals by Iterations - Genetic Algorithm')\n",
    "plt.xlabel('Iterations')\n",
    "plt.ylabel('FEvals')"
   ],
   "metadata": {
    "collapsed": false
   }
  },
  {
   "cell_type": "code",
   "execution_count": 51,
   "outputs": [],
   "source": [
    "# fitness - wall clock time"
   ],
   "metadata": {
    "collapsed": false
   }
  },
  {
   "cell_type": "code",
   "execution_count": 52,
   "outputs": [],
   "source": [
    "df_time_iter_ffp = df_iter_curves_ffp.groupby('Iteration')\\\n",
    "                                .agg(avg_time=('Time', 'mean'), var_time = ('Time', 'var'))\\\n",
    "                                .reset_index()"
   ],
   "metadata": {
    "collapsed": false
   }
  },
  {
   "cell_type": "code",
   "execution_count": 53,
   "outputs": [
    {
     "data": {
      "text/plain": "(1624, 3)"
     },
     "execution_count": 53,
     "metadata": {},
     "output_type": "execute_result"
    }
   ],
   "source": [
    "df_time_iter_ffp.shape"
   ],
   "metadata": {
    "collapsed": false
   }
  },
  {
   "cell_type": "code",
   "execution_count": 54,
   "outputs": [
    {
     "data": {
      "text/plain": "   Iteration  avg_time  var_time\n0          0  0.003205  0.000002\n1          1  0.020078  0.000095\n2          2  0.036205  0.000188\n3          3  0.052155  0.000290\n4          4  0.064752  0.000278",
      "text/html": "<div>\n<style scoped>\n    .dataframe tbody tr th:only-of-type {\n        vertical-align: middle;\n    }\n\n    .dataframe tbody tr th {\n        vertical-align: top;\n    }\n\n    .dataframe thead th {\n        text-align: right;\n    }\n</style>\n<table border=\"1\" class=\"dataframe\">\n  <thead>\n    <tr style=\"text-align: right;\">\n      <th></th>\n      <th>Iteration</th>\n      <th>avg_time</th>\n      <th>var_time</th>\n    </tr>\n  </thead>\n  <tbody>\n    <tr>\n      <th>0</th>\n      <td>0</td>\n      <td>0.003205</td>\n      <td>0.000002</td>\n    </tr>\n    <tr>\n      <th>1</th>\n      <td>1</td>\n      <td>0.020078</td>\n      <td>0.000095</td>\n    </tr>\n    <tr>\n      <th>2</th>\n      <td>2</td>\n      <td>0.036205</td>\n      <td>0.000188</td>\n    </tr>\n    <tr>\n      <th>3</th>\n      <td>3</td>\n      <td>0.052155</td>\n      <td>0.000290</td>\n    </tr>\n    <tr>\n      <th>4</th>\n      <td>4</td>\n      <td>0.064752</td>\n      <td>0.000278</td>\n    </tr>\n  </tbody>\n</table>\n</div>"
     },
     "execution_count": 54,
     "metadata": {},
     "output_type": "execute_result"
    }
   ],
   "source": [
    "df_time_iter_ffp.head()"
   ],
   "metadata": {
    "collapsed": false
   }
  },
  {
   "cell_type": "code",
   "execution_count": 55,
   "outputs": [],
   "source": [
    "df_time_iter_ffp['stddev_time'] = df_time_iter_ffp['var_time'].apply(np.sqrt)"
   ],
   "metadata": {
    "collapsed": false
   }
  },
  {
   "cell_type": "code",
   "execution_count": 56,
   "outputs": [
    {
     "data": {
      "text/plain": "   Iteration  avg_time  var_time  stddev_time\n0          0  0.003205  0.000002     0.001533\n1          1  0.020078  0.000095     0.009725\n2          2  0.036205  0.000188     0.013728\n3          3  0.052155  0.000290     0.017027\n4          4  0.064752  0.000278     0.016683",
      "text/html": "<div>\n<style scoped>\n    .dataframe tbody tr th:only-of-type {\n        vertical-align: middle;\n    }\n\n    .dataframe tbody tr th {\n        vertical-align: top;\n    }\n\n    .dataframe thead th {\n        text-align: right;\n    }\n</style>\n<table border=\"1\" class=\"dataframe\">\n  <thead>\n    <tr style=\"text-align: right;\">\n      <th></th>\n      <th>Iteration</th>\n      <th>avg_time</th>\n      <th>var_time</th>\n      <th>stddev_time</th>\n    </tr>\n  </thead>\n  <tbody>\n    <tr>\n      <th>0</th>\n      <td>0</td>\n      <td>0.003205</td>\n      <td>0.000002</td>\n      <td>0.001533</td>\n    </tr>\n    <tr>\n      <th>1</th>\n      <td>1</td>\n      <td>0.020078</td>\n      <td>0.000095</td>\n      <td>0.009725</td>\n    </tr>\n    <tr>\n      <th>2</th>\n      <td>2</td>\n      <td>0.036205</td>\n      <td>0.000188</td>\n      <td>0.013728</td>\n    </tr>\n    <tr>\n      <th>3</th>\n      <td>3</td>\n      <td>0.052155</td>\n      <td>0.000290</td>\n      <td>0.017027</td>\n    </tr>\n    <tr>\n      <th>4</th>\n      <td>4</td>\n      <td>0.064752</td>\n      <td>0.000278</td>\n      <td>0.016683</td>\n    </tr>\n  </tbody>\n</table>\n</div>"
     },
     "execution_count": 56,
     "metadata": {},
     "output_type": "execute_result"
    }
   ],
   "source": [
    "df_time_iter_ffp.head()"
   ],
   "metadata": {
    "collapsed": false
   }
  },
  {
   "cell_type": "code",
   "execution_count": 57,
   "outputs": [
    {
     "data": {
      "text/plain": "Text(0, 0.5, 'Time')"
     },
     "execution_count": 57,
     "metadata": {},
     "output_type": "execute_result"
    },
    {
     "data": {
      "text/plain": "<Figure size 640x480 with 1 Axes>",
      "image/png": "[encoded data removed]"
     },
     "metadata": {},
     "output_type": "display_data"
    }
   ],
   "source": [
    "plt.plot(df_time_iter_ffp.Iteration, df_time_iter_ffp.avg_time, 'k', color='#3F7F4C')\n",
    "plt.fill_between(df_time_iter_ffp.Iteration, df_time_iter_ffp.avg_time - df_time_iter_ffp.stddev_time\\\n",
    "                 , df_time_iter_ffp.avg_time + df_time_iter_ffp.stddev_time\\\n",
    "                 , alpha=0.5, edgecolor='#3F7F4C', facecolor='#7EFF99')\n",
    "plt.title('Wall Clock Time by Iterations - Genetic Algorithm')\n",
    "plt.xlabel('Iterations')\n",
    "plt.ylabel('Time')"
   ],
   "metadata": {
    "collapsed": false
   }
  },
  {
   "cell_type": "code",
   "execution_count": 58,
   "outputs": [
    {
     "data": {
      "text/plain": "3.0418119905083496"
     },
     "execution_count": 58,
     "metadata": {},
     "output_type": "execute_result"
    }
   ],
   "source": [
    "df_time_iter_ffp.stddev_time.max()"
   ],
   "metadata": {
    "collapsed": false
   }
  },
  {
   "cell_type": "code",
   "execution_count": 59,
   "outputs": [
    {
     "data": {
      "text/plain": "937    937\nName: Iteration, dtype: int64"
     },
     "execution_count": 59,
     "metadata": {},
     "output_type": "execute_result"
    }
   ],
   "source": [
    "df_time_iter_ffp[df_time_iter_ffp.stddev_time == df_time_iter_ffp.stddev_time.max()].Iteration"
   ],
   "metadata": {
    "collapsed": false
   }
  },
  {
   "cell_type": "code",
   "execution_count": 60,
   "outputs": [
    {
     "data": {
      "text/plain": "24.9911418799893"
     },
     "execution_count": 60,
     "metadata": {},
     "output_type": "execute_result"
    }
   ],
   "source": [
    "df_time_iter_ffp.avg_time.max()"
   ],
   "metadata": {
    "collapsed": false
   }
  },
  {
   "cell_type": "code",
   "execution_count": 61,
   "outputs": [],
   "source": [
    "# maybe look at how std dev decrease in bulks"
   ],
   "metadata": {
    "collapsed": false
   }
  },
  {
   "cell_type": "code",
   "execution_count": 62,
   "outputs": [
    {
     "data": {
      "text/plain": "<Figure size 640x480 with 1 Axes>",
      "image/png": "[encoded data removed]"
     },
     "metadata": {},
     "output_type": "display_data"
    }
   ],
   "source": [
    "# scatter plot of convergent points across problem sizes\n",
    "plt.scatter([7, 14], [10, 333])\n",
    "plt.title('Convergence Iteration Across Problem Sizes')\n",
    "plt.xlabel('Problem Sizes')\n",
    "plt.ylabel('Convergence Iteration')\n",
    "plt.show()"
   ],
   "metadata": {
    "collapsed": false
   }
  },
  {
   "cell_type": "code",
   "execution_count": 62,
   "outputs": [],
   "source": [],
   "metadata": {
    "collapsed": false
   }
  }
 ],
 "metadata": {
  "kernelspec": {
   "display_name": "Python 3 (ipykernel)",
   "language": "python",
   "name": "python3"
  },
  "language_info": {
   "codemirror_mode": {
    "name": "ipython",
    "version": 3
   },
   "file_extension": ".py",
   "mimetype": "text/x-python",
   "name": "python",
   "nbconvert_exporter": "python",
   "pygments_lexer": "ipython3",
   "version": "3.11.4"
  }
 },
 "nbformat": 4,
 "nbformat_minor": 5
}
