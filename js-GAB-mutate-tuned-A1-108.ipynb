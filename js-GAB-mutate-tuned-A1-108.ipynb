{
 "cells": [
  {
   "cell_type": "code",
   "execution_count": 1,
   "outputs": [
    {
     "name": "stdout",
     "output_type": "stream",
     "text": [
      "Processing ./mlrose\r\n",
      "  Preparing metadata (setup.py) ... \u001B[?25ldone\r\n",
      "\u001B[?25hRequirement already satisfied: numpy in /Users/qingchuanlyu/anaconda3/envs/cs7641/lib/python3.10/site-packages (from mlrose_hiive==2.2.4) (1.26.4)\r\n",
      "Requirement already satisfied: scipy in /Users/qingchuanlyu/anaconda3/envs/cs7641/lib/python3.10/site-packages (from mlrose_hiive==2.2.4) (1.14.1)\r\n",
      "Requirement already satisfied: scikit-learn in /Users/qingchuanlyu/anaconda3/envs/cs7641/lib/python3.10/site-packages (from mlrose_hiive==2.2.4) (1.4.2)\r\n",
      "Requirement already satisfied: pandas in /Users/qingchuanlyu/anaconda3/envs/cs7641/lib/python3.10/site-packages (from mlrose_hiive==2.2.4) (2.2.3)\r\n",
      "Requirement already satisfied: networkx in /Users/qingchuanlyu/anaconda3/envs/cs7641/lib/python3.10/site-packages (from mlrose_hiive==2.2.4) (3.3)\r\n",
      "Requirement already satisfied: joblib in /Users/qingchuanlyu/anaconda3/envs/cs7641/lib/python3.10/site-packages (from mlrose_hiive==2.2.4) (1.4.2)\r\n",
      "Requirement already satisfied: python-dateutil>=2.8.2 in /Users/qingchuanlyu/anaconda3/envs/cs7641/lib/python3.10/site-packages (from pandas->mlrose_hiive==2.2.4) (2.9.0.post0)\r\n",
      "Requirement already satisfied: pytz>=2020.1 in /Users/qingchuanlyu/anaconda3/envs/cs7641/lib/python3.10/site-packages (from pandas->mlrose_hiive==2.2.4) (2024.1)\r\n",
      "Requirement already satisfied: tzdata>=2022.7 in /Users/qingchuanlyu/anaconda3/envs/cs7641/lib/python3.10/site-packages (from pandas->mlrose_hiive==2.2.4) (2024.2)\r\n",
      "Requirement already satisfied: threadpoolctl>=2.0.0 in /Users/qingchuanlyu/anaconda3/envs/cs7641/lib/python3.10/site-packages (from scikit-learn->mlrose_hiive==2.2.4) (3.5.0)\r\n",
      "Requirement already satisfied: six>=1.5 in /Users/qingchuanlyu/anaconda3/envs/cs7641/lib/python3.10/site-packages (from python-dateutil>=2.8.2->pandas->mlrose_hiive==2.2.4) (1.16.0)\r\n",
      "Building wheels for collected packages: mlrose_hiive\r\n",
      "  Building wheel for mlrose_hiive (setup.py) ... \u001B[?25ldone\r\n",
      "\u001B[?25h  Created wheel for mlrose_hiive: filename=mlrose_hiive-2.2.4-py3-none-any.whl size=132379 sha256=1829ffcf6a56777d57653d0f8115892b28afd8270f549a4064757cb56f9ada45\r\n",
      "  Stored in directory: /private/var/folders/c6/5zg6wy5n121f2pzclkwbzplm0000gn/T/pip-ephem-wheel-cache-z412ql56/wheels/77/c5/de/7a63a2c78a12ad335a5091a9209439e12d86616744464a5ae4\r\n",
      "Successfully built mlrose_hiive\r\n",
      "Installing collected packages: mlrose_hiive\r\n",
      "  Attempting uninstall: mlrose_hiive\r\n",
      "    Found existing installation: mlrose_hiive 2.2.4\r\n",
      "    Uninstalling mlrose_hiive-2.2.4:\r\n",
      "      Successfully uninstalled mlrose_hiive-2.2.4\r\n",
      "Successfully installed mlrose_hiive-2.2.4\r\n",
      "Note: you may need to restart the kernel to use updated packages.\n"
     ]
    }
   ],
   "source": [
    "pip install /Users/qingchuanlyu/Documents/Conferences/ICML-2025/icml2025/code/mlrose"
   ],
   "metadata": {
    "collapsed": false
   }
  },
  {
   "cell_type": "code",
   "execution_count": 2,
   "outputs": [
    {
     "data": {
      "text/plain": "'\\n#A. flip every two\\ndef border_swap(next_gen, child, dic_values):\\n    if len(next_gen) == 0:\\n        next_gen.append(child)\\n    else:\\n        dic_above = dic_values[\\'above_avg\\']\\n        dic_below = dic_values[\\'below_avg\\']\\n        new_start = child[0]\\n        last_start = next_gen[-1][0]\\n        if ((new_start in dic_below) & (last_start not in dic_below)) or                 ((new_start in dic_above) & (last_start not in dic_above)):\\n            next_gen.append(child)\\n        else:\\n            child_flip = []\\n            for i in range(0, len(child), 2):\\n                j = i + 1\\n                if j < len(child):\\n                    #print(child_flip)\\n                    #print(child[j])\\n                    #print(child[i])\\n                    child_flip.extend([child[j], child[i]])\\n            child_flip = np.array(child_flip[:len(child)])\\n            #first = child[len(child)//2:]\\n            #second = child[:len(child)//2]\\n            #child_flip = np.concatenate([first, second])\\n            #child_flip = len(child) - 1 - child\\n            #print(\"border trades start\")\\n            #print(\"next gen is\", next_gen)\\n            #print(\"child is\", child)\\n            #print(\"second half of child is\", child[len(child)//2:])\\n            #print(\"first half of child is\", child[:len(child)//2])\\n            #print(\"child_flip is\", child_flip)\\n            next_gen.append(child_flip)\\n    return next_gen\\n'"
     },
     "execution_count": 2,
     "metadata": {},
     "output_type": "execute_result"
    }
   ],
   "source": [
    "\"\"\"\n",
    "#A. flip every two\n",
    "def border_swap(next_gen, child, dic_values):\n",
    "    if len(next_gen) == 0:\n",
    "        next_gen.append(child)\n",
    "    else:\n",
    "        dic_above = dic_values['above_avg']\n",
    "        dic_below = dic_values['below_avg']\n",
    "        new_start = child[0]\n",
    "        last_start = next_gen[-1][0]\n",
    "        if ((new_start in dic_below) & (last_start not in dic_below)) or \\\n",
    "                ((new_start in dic_above) & (last_start not in dic_above)):\n",
    "            next_gen.append(child)\n",
    "        else:\n",
    "            child_flip = []\n",
    "            for i in range(0, len(child), 2):\n",
    "                j = i + 1\n",
    "                if j < len(child):\n",
    "                    #print(child_flip)\n",
    "                    #print(child[j])\n",
    "                    #print(child[i])\n",
    "                    child_flip.extend([child[j], child[i]])\n",
    "            child_flip = np.array(child_flip[:len(child)])\n",
    "            #first = child[len(child)//2:]\n",
    "            #second = child[:len(child)//2]\n",
    "            #child_flip = np.concatenate([first, second])\n",
    "            #child_flip = len(child) - 1 - child\n",
    "            #print(\"border trades start\")\n",
    "            #print(\"next gen is\", next_gen)\n",
    "            #print(\"child is\", child)\n",
    "            #print(\"second half of child is\", child[len(child)//2:])\n",
    "            #print(\"first half of child is\", child[:len(child)//2])\n",
    "            #print(\"child_flip is\", child_flip)\n",
    "            next_gen.append(child_flip)\n",
    "    return next_gen\n",
    "\"\"\""
   ],
   "metadata": {
    "collapsed": false
   }
  },
  {
   "cell_type": "code",
   "execution_count": 3,
   "id": "b243b22c",
   "metadata": {},
   "outputs": [],
   "source": [
    "import mlrose_hiive as mh"
   ]
  },
  {
   "cell_type": "code",
   "execution_count": 4,
   "outputs": [],
   "source": [
    "#help(mh.runners)"
   ],
   "metadata": {
    "collapsed": false
   }
  },
  {
   "cell_type": "code",
   "execution_count": 5,
   "id": "cb9e02c3",
   "metadata": {},
   "outputs": [],
   "source": [
    "import numpy as np\n",
    "\n",
    "from sklearn.model_selection import train_test_split\n",
    "from sklearn.preprocessing import MinMaxScaler, OneHotEncoder\n",
    "from sklearn.metrics import accuracy_score\n",
    "\n",
    "from IPython.core.display import display, HTML # for some notebook formatting.\n",
    "\n",
    "import logging\n",
    "import networkx as nx\n",
    "import matplotlib.pyplot as plt\n",
    "import string\n",
    "\n",
    "\n",
    "from ast import literal_eval\n",
    "\n",
    "from sklearn.model_selection import train_test_split\n",
    "from sklearn.preprocessing import MinMaxScaler, OneHotEncoder\n",
    "from sklearn.metrics import accuracy_score\n",
    "\n",
    "# switch off the chatter\n",
    "logging.basicConfig(level=logging.WARNING)"
   ]
  },
  {
   "cell_type": "code",
   "execution_count": 6,
   "id": "f314d532",
   "metadata": {},
   "outputs": [],
   "source": [
    "import pandas as pd\n",
    "import utility as u\n",
    "import importlib"
   ]
  },
  {
   "cell_type": "code",
   "execution_count": 7,
   "outputs": [],
   "source": [
    "class Task:\n",
    "    def __init__(self, task_id, duration, deadline, profit):\n",
    "        self.task_id = task_id\n",
    "        self.duration = duration\n",
    "        self.deadline = deadline\n",
    "        self.profit = profit"
   ],
   "metadata": {
    "collapsed": false
   }
  },
  {
   "cell_type": "code",
   "execution_count": 8,
   "outputs": [],
   "source": [
    "size = 108\n",
    "importlib.reload(u)\n",
    "tasks = u.generate_random_tasks(size, 5, 80, 25)"
   ],
   "metadata": {
    "collapsed": false
   }
  },
  {
   "cell_type": "code",
   "execution_count": 9,
   "outputs": [
    {
     "data": {
      "text/plain": "'\\nwith open(\"108_tasks.txt\", \"a\") as f:\\n    for t in tasks:\\n        print(t.task_id, t.duration, t.deadline, t.profit, file=f)\\n'"
     },
     "execution_count": 9,
     "metadata": {},
     "output_type": "execute_result"
    }
   ],
   "source": [
    "\"\"\"\n",
    "with open(\"108_tasks.txt\", \"a\") as f:\n",
    "    for t in tasks:\n",
    "        print(t.task_id, t.duration, t.deadline, t.profit, file=f)\n",
    "\"\"\""
   ],
   "metadata": {
    "collapsed": false
   }
  },
  {
   "cell_type": "code",
   "execution_count": 10,
   "id": "c907b845",
   "metadata": {},
   "outputs": [],
   "source": [
    "# # Job Scheduling\n",
    "problem_ffp = mh.JobSchedulingGenerator().generate(seed=0, size=size, tasks=tasks, break_time=1, work_limit=2)\n",
    "#state = problem_ffp.get_state()"
   ]
  },
  {
   "cell_type": "code",
   "execution_count": 11,
   "outputs": [
    {
     "data": {
      "text/plain": "108"
     },
     "execution_count": 11,
     "metadata": {},
     "output_type": "execute_result"
    }
   ],
   "source": [
    "problem_ffp.length"
   ],
   "metadata": {
    "collapsed": false
   }
  },
  {
   "cell_type": "code",
   "execution_count": 12,
   "outputs": [
    {
     "data": {
      "text/plain": "245.0"
     },
     "execution_count": 12,
     "metadata": {},
     "output_type": "execute_result"
    }
   ],
   "source": [
    "problem_ffp.fitness"
   ],
   "metadata": {
    "collapsed": false
   }
  },
  {
   "cell_type": "code",
   "execution_count": 13,
   "id": "34174e8f",
   "metadata": {},
   "outputs": [],
   "source": [
    "# GA runner class\n",
    "# 1. tune population size and mutation rates\n",
    "ga_ffp = mh.GAJSRunner(problem=problem_ffp,\n",
    "              experiment_name='ffp_ga',\n",
    "              output_directory=None, # note: specify an output directory to have results saved to disk\n",
    "              seed=0,\n",
    "              iteration_list=2 ** np.arange(12),\n",
    "              max_attempts=500,\n",
    "              population_sizes=[40, 50, 60],\n",
    "              mutation_rates=[0.07, 0.08]) # Probability of a mutation at each element of the state vector during reproduction, expressed as a value between 0 and 1.\n",
    "\n",
    "# the two data frames will contain the results\n",
    "df_run_stats_ffp, df_run_curves_ffp = ga_ffp.run()"
   ]
  },
  {
   "cell_type": "code",
   "execution_count": 14,
   "id": "3139bc51",
   "metadata": {},
   "outputs": [
    {
     "data": {
      "text/plain": "(12294, 7)"
     },
     "execution_count": 14,
     "metadata": {},
     "output_type": "execute_result"
    }
   ],
   "source": [
    "df_run_curves_ffp.shape"
   ]
  },
  {
   "cell_type": "code",
   "execution_count": 15,
   "id": "78ec6ce8",
   "metadata": {},
   "outputs": [
    {
     "data": {
      "text/plain": "   Iteration      Time  Fitness  FEvals  Population Size  Mutation Rate  \\\n0          0  0.012664    274.0     0.0               40           0.07   \n1          1  0.042710    377.0     2.0               40           0.07   \n2          2  0.058168    377.0     3.0               40           0.07   \n3          3  0.075535    390.0     5.0               40           0.07   \n4          4  0.084014    390.0     6.0               40           0.07   \n\n   max_iters  \n0       2048  \n1       2048  \n2       2048  \n3       2048  \n4       2048  ",
      "text/html": "<div>\n<style scoped>\n    .dataframe tbody tr th:only-of-type {\n        vertical-align: middle;\n    }\n\n    .dataframe tbody tr th {\n        vertical-align: top;\n    }\n\n    .dataframe thead th {\n        text-align: right;\n    }\n</style>\n<table border=\"1\" class=\"dataframe\">\n  <thead>\n    <tr style=\"text-align: right;\">\n      <th></th>\n      <th>Iteration</th>\n      <th>Time</th>\n      <th>Fitness</th>\n      <th>FEvals</th>\n      <th>Population Size</th>\n      <th>Mutation Rate</th>\n      <th>max_iters</th>\n    </tr>\n  </thead>\n  <tbody>\n    <tr>\n      <th>0</th>\n      <td>0</td>\n      <td>0.012664</td>\n      <td>274.0</td>\n      <td>0.0</td>\n      <td>40</td>\n      <td>0.07</td>\n      <td>2048</td>\n    </tr>\n    <tr>\n      <th>1</th>\n      <td>1</td>\n      <td>0.042710</td>\n      <td>377.0</td>\n      <td>2.0</td>\n      <td>40</td>\n      <td>0.07</td>\n      <td>2048</td>\n    </tr>\n    <tr>\n      <th>2</th>\n      <td>2</td>\n      <td>0.058168</td>\n      <td>377.0</td>\n      <td>3.0</td>\n      <td>40</td>\n      <td>0.07</td>\n      <td>2048</td>\n    </tr>\n    <tr>\n      <th>3</th>\n      <td>3</td>\n      <td>0.075535</td>\n      <td>390.0</td>\n      <td>5.0</td>\n      <td>40</td>\n      <td>0.07</td>\n      <td>2048</td>\n    </tr>\n    <tr>\n      <th>4</th>\n      <td>4</td>\n      <td>0.084014</td>\n      <td>390.0</td>\n      <td>6.0</td>\n      <td>40</td>\n      <td>0.07</td>\n      <td>2048</td>\n    </tr>\n  </tbody>\n</table>\n</div>"
     },
     "execution_count": 15,
     "metadata": {},
     "output_type": "execute_result"
    }
   ],
   "source": [
    "df_run_curves_ffp.head()"
   ]
  },
  {
   "cell_type": "code",
   "execution_count": 16,
   "id": "a6cb09ff",
   "metadata": {},
   "outputs": [
    {
     "data": {
      "text/plain": "917.0"
     },
     "execution_count": 16,
     "metadata": {},
     "output_type": "execute_result"
    }
   ],
   "source": [
    "df_run_curves_ffp['Fitness'].max()"
   ]
  },
  {
   "cell_type": "code",
   "execution_count": 17,
   "outputs": [
    {
     "data": {
      "text/plain": "       Iteration       Time  Fitness  FEvals  Population Size  Mutation Rate  \\\n12253       2008  20.022997    917.0  2113.0               60           0.08   \n12254       2009  20.033487    917.0  2114.0               60           0.08   \n12255       2010  20.047244    917.0  2115.0               60           0.08   \n12256       2011  20.054971    917.0  2116.0               60           0.08   \n12257       2012  20.064300    917.0  2117.0               60           0.08   \n12258       2013  20.071881    917.0  2118.0               60           0.08   \n12259       2014  20.080491    917.0  2119.0               60           0.08   \n12260       2015  20.087378    917.0  2120.0               60           0.08   \n12261       2016  20.100205    917.0  2121.0               60           0.08   \n12262       2017  20.107200    917.0  2122.0               60           0.08   \n12263       2018  20.116626    917.0  2123.0               60           0.08   \n12264       2019  20.123325    917.0  2124.0               60           0.08   \n12265       2020  20.133174    917.0  2125.0               60           0.08   \n12266       2021  20.144801    917.0  2126.0               60           0.08   \n12267       2022  20.152754    917.0  2127.0               60           0.08   \n12268       2023  20.159892    917.0  2128.0               60           0.08   \n12269       2024  20.168784    917.0  2129.0               60           0.08   \n12270       2025  20.175933    917.0  2130.0               60           0.08   \n12271       2026  20.186590    917.0  2131.0               60           0.08   \n12272       2027  20.198292    917.0  2132.0               60           0.08   \n12273       2028  20.205126    917.0  2133.0               60           0.08   \n12274       2029  20.213797    917.0  2134.0               60           0.08   \n12275       2030  20.220683    917.0  2135.0               60           0.08   \n12276       2031  20.229550    917.0  2136.0               60           0.08   \n12277       2032  20.236419    917.0  2137.0               60           0.08   \n12278       2033  20.248152    917.0  2138.0               60           0.08   \n12279       2034  20.255064    917.0  2139.0               60           0.08   \n12280       2035  20.263342    917.0  2140.0               60           0.08   \n12281       2036  20.270320    917.0  2141.0               60           0.08   \n12282       2037  20.278743    917.0  2142.0               60           0.08   \n12283       2038  20.286105    917.0  2143.0               60           0.08   \n12284       2039  20.296563    917.0  2144.0               60           0.08   \n12285       2040  20.304785    917.0  2145.0               60           0.08   \n12286       2041  20.313247    917.0  2146.0               60           0.08   \n12287       2042  20.320249    917.0  2147.0               60           0.08   \n12288       2043  20.331591    917.0  2148.0               60           0.08   \n12289       2044  20.338399    917.0  2149.0               60           0.08   \n12290       2045  20.351532    917.0  2150.0               60           0.08   \n12291       2046  20.358399    917.0  2151.0               60           0.08   \n12292       2047  20.367797    917.0  2152.0               60           0.08   \n12293       2048  20.374513    917.0  2153.0               60           0.08   \n\n       max_iters  \n12253       2048  \n12254       2048  \n12255       2048  \n12256       2048  \n12257       2048  \n12258       2048  \n12259       2048  \n12260       2048  \n12261       2048  \n12262       2048  \n12263       2048  \n12264       2048  \n12265       2048  \n12266       2048  \n12267       2048  \n12268       2048  \n12269       2048  \n12270       2048  \n12271       2048  \n12272       2048  \n12273       2048  \n12274       2048  \n12275       2048  \n12276       2048  \n12277       2048  \n12278       2048  \n12279       2048  \n12280       2048  \n12281       2048  \n12282       2048  \n12283       2048  \n12284       2048  \n12285       2048  \n12286       2048  \n12287       2048  \n12288       2048  \n12289       2048  \n12290       2048  \n12291       2048  \n12292       2048  \n12293       2048  ",
      "text/html": "<div>\n<style scoped>\n    .dataframe tbody tr th:only-of-type {\n        vertical-align: middle;\n    }\n\n    .dataframe tbody tr th {\n        vertical-align: top;\n    }\n\n    .dataframe thead th {\n        text-align: right;\n    }\n</style>\n<table border=\"1\" class=\"dataframe\">\n  <thead>\n    <tr style=\"text-align: right;\">\n      <th></th>\n      <th>Iteration</th>\n      <th>Time</th>\n      <th>Fitness</th>\n      <th>FEvals</th>\n      <th>Population Size</th>\n      <th>Mutation Rate</th>\n      <th>max_iters</th>\n    </tr>\n  </thead>\n  <tbody>\n    <tr>\n      <th>12253</th>\n      <td>2008</td>\n      <td>20.022997</td>\n      <td>917.0</td>\n      <td>2113.0</td>\n      <td>60</td>\n      <td>0.08</td>\n      <td>2048</td>\n    </tr>\n    <tr>\n      <th>12254</th>\n      <td>2009</td>\n      <td>20.033487</td>\n      <td>917.0</td>\n      <td>2114.0</td>\n      <td>60</td>\n      <td>0.08</td>\n      <td>2048</td>\n    </tr>\n    <tr>\n      <th>12255</th>\n      <td>2010</td>\n      <td>20.047244</td>\n      <td>917.0</td>\n      <td>2115.0</td>\n      <td>60</td>\n      <td>0.08</td>\n      <td>2048</td>\n    </tr>\n    <tr>\n      <th>12256</th>\n      <td>2011</td>\n      <td>20.054971</td>\n      <td>917.0</td>\n      <td>2116.0</td>\n      <td>60</td>\n      <td>0.08</td>\n      <td>2048</td>\n    </tr>\n    <tr>\n      <th>12257</th>\n      <td>2012</td>\n      <td>20.064300</td>\n      <td>917.0</td>\n      <td>2117.0</td>\n      <td>60</td>\n      <td>0.08</td>\n      <td>2048</td>\n    </tr>\n    <tr>\n      <th>12258</th>\n      <td>2013</td>\n      <td>20.071881</td>\n      <td>917.0</td>\n      <td>2118.0</td>\n      <td>60</td>\n      <td>0.08</td>\n      <td>2048</td>\n    </tr>\n    <tr>\n      <th>12259</th>\n      <td>2014</td>\n      <td>20.080491</td>\n      <td>917.0</td>\n      <td>2119.0</td>\n      <td>60</td>\n      <td>0.08</td>\n      <td>2048</td>\n    </tr>\n    <tr>\n      <th>12260</th>\n      <td>2015</td>\n      <td>20.087378</td>\n      <td>917.0</td>\n      <td>2120.0</td>\n      <td>60</td>\n      <td>0.08</td>\n      <td>2048</td>\n    </tr>\n    <tr>\n      <th>12261</th>\n      <td>2016</td>\n      <td>20.100205</td>\n      <td>917.0</td>\n      <td>2121.0</td>\n      <td>60</td>\n      <td>0.08</td>\n      <td>2048</td>\n    </tr>\n    <tr>\n      <th>12262</th>\n      <td>2017</td>\n      <td>20.107200</td>\n      <td>917.0</td>\n      <td>2122.0</td>\n      <td>60</td>\n      <td>0.08</td>\n      <td>2048</td>\n    </tr>\n    <tr>\n      <th>12263</th>\n      <td>2018</td>\n      <td>20.116626</td>\n      <td>917.0</td>\n      <td>2123.0</td>\n      <td>60</td>\n      <td>0.08</td>\n      <td>2048</td>\n    </tr>\n    <tr>\n      <th>12264</th>\n      <td>2019</td>\n      <td>20.123325</td>\n      <td>917.0</td>\n      <td>2124.0</td>\n      <td>60</td>\n      <td>0.08</td>\n      <td>2048</td>\n    </tr>\n    <tr>\n      <th>12265</th>\n      <td>2020</td>\n      <td>20.133174</td>\n      <td>917.0</td>\n      <td>2125.0</td>\n      <td>60</td>\n      <td>0.08</td>\n      <td>2048</td>\n    </tr>\n    <tr>\n      <th>12266</th>\n      <td>2021</td>\n      <td>20.144801</td>\n      <td>917.0</td>\n      <td>2126.0</td>\n      <td>60</td>\n      <td>0.08</td>\n      <td>2048</td>\n    </tr>\n    <tr>\n      <th>12267</th>\n      <td>2022</td>\n      <td>20.152754</td>\n      <td>917.0</td>\n      <td>2127.0</td>\n      <td>60</td>\n      <td>0.08</td>\n      <td>2048</td>\n    </tr>\n    <tr>\n      <th>12268</th>\n      <td>2023</td>\n      <td>20.159892</td>\n      <td>917.0</td>\n      <td>2128.0</td>\n      <td>60</td>\n      <td>0.08</td>\n      <td>2048</td>\n    </tr>\n    <tr>\n      <th>12269</th>\n      <td>2024</td>\n      <td>20.168784</td>\n      <td>917.0</td>\n      <td>2129.0</td>\n      <td>60</td>\n      <td>0.08</td>\n      <td>2048</td>\n    </tr>\n    <tr>\n      <th>12270</th>\n      <td>2025</td>\n      <td>20.175933</td>\n      <td>917.0</td>\n      <td>2130.0</td>\n      <td>60</td>\n      <td>0.08</td>\n      <td>2048</td>\n    </tr>\n    <tr>\n      <th>12271</th>\n      <td>2026</td>\n      <td>20.186590</td>\n      <td>917.0</td>\n      <td>2131.0</td>\n      <td>60</td>\n      <td>0.08</td>\n      <td>2048</td>\n    </tr>\n    <tr>\n      <th>12272</th>\n      <td>2027</td>\n      <td>20.198292</td>\n      <td>917.0</td>\n      <td>2132.0</td>\n      <td>60</td>\n      <td>0.08</td>\n      <td>2048</td>\n    </tr>\n    <tr>\n      <th>12273</th>\n      <td>2028</td>\n      <td>20.205126</td>\n      <td>917.0</td>\n      <td>2133.0</td>\n      <td>60</td>\n      <td>0.08</td>\n      <td>2048</td>\n    </tr>\n    <tr>\n      <th>12274</th>\n      <td>2029</td>\n      <td>20.213797</td>\n      <td>917.0</td>\n      <td>2134.0</td>\n      <td>60</td>\n      <td>0.08</td>\n      <td>2048</td>\n    </tr>\n    <tr>\n      <th>12275</th>\n      <td>2030</td>\n      <td>20.220683</td>\n      <td>917.0</td>\n      <td>2135.0</td>\n      <td>60</td>\n      <td>0.08</td>\n      <td>2048</td>\n    </tr>\n    <tr>\n      <th>12276</th>\n      <td>2031</td>\n      <td>20.229550</td>\n      <td>917.0</td>\n      <td>2136.0</td>\n      <td>60</td>\n      <td>0.08</td>\n      <td>2048</td>\n    </tr>\n    <tr>\n      <th>12277</th>\n      <td>2032</td>\n      <td>20.236419</td>\n      <td>917.0</td>\n      <td>2137.0</td>\n      <td>60</td>\n      <td>0.08</td>\n      <td>2048</td>\n    </tr>\n    <tr>\n      <th>12278</th>\n      <td>2033</td>\n      <td>20.248152</td>\n      <td>917.0</td>\n      <td>2138.0</td>\n      <td>60</td>\n      <td>0.08</td>\n      <td>2048</td>\n    </tr>\n    <tr>\n      <th>12279</th>\n      <td>2034</td>\n      <td>20.255064</td>\n      <td>917.0</td>\n      <td>2139.0</td>\n      <td>60</td>\n      <td>0.08</td>\n      <td>2048</td>\n    </tr>\n    <tr>\n      <th>12280</th>\n      <td>2035</td>\n      <td>20.263342</td>\n      <td>917.0</td>\n      <td>2140.0</td>\n      <td>60</td>\n      <td>0.08</td>\n      <td>2048</td>\n    </tr>\n    <tr>\n      <th>12281</th>\n      <td>2036</td>\n      <td>20.270320</td>\n      <td>917.0</td>\n      <td>2141.0</td>\n      <td>60</td>\n      <td>0.08</td>\n      <td>2048</td>\n    </tr>\n    <tr>\n      <th>12282</th>\n      <td>2037</td>\n      <td>20.278743</td>\n      <td>917.0</td>\n      <td>2142.0</td>\n      <td>60</td>\n      <td>0.08</td>\n      <td>2048</td>\n    </tr>\n    <tr>\n      <th>12283</th>\n      <td>2038</td>\n      <td>20.286105</td>\n      <td>917.0</td>\n      <td>2143.0</td>\n      <td>60</td>\n      <td>0.08</td>\n      <td>2048</td>\n    </tr>\n    <tr>\n      <th>12284</th>\n      <td>2039</td>\n      <td>20.296563</td>\n      <td>917.0</td>\n      <td>2144.0</td>\n      <td>60</td>\n      <td>0.08</td>\n      <td>2048</td>\n    </tr>\n    <tr>\n      <th>12285</th>\n      <td>2040</td>\n      <td>20.304785</td>\n      <td>917.0</td>\n      <td>2145.0</td>\n      <td>60</td>\n      <td>0.08</td>\n      <td>2048</td>\n    </tr>\n    <tr>\n      <th>12286</th>\n      <td>2041</td>\n      <td>20.313247</td>\n      <td>917.0</td>\n      <td>2146.0</td>\n      <td>60</td>\n      <td>0.08</td>\n      <td>2048</td>\n    </tr>\n    <tr>\n      <th>12287</th>\n      <td>2042</td>\n      <td>20.320249</td>\n      <td>917.0</td>\n      <td>2147.0</td>\n      <td>60</td>\n      <td>0.08</td>\n      <td>2048</td>\n    </tr>\n    <tr>\n      <th>12288</th>\n      <td>2043</td>\n      <td>20.331591</td>\n      <td>917.0</td>\n      <td>2148.0</td>\n      <td>60</td>\n      <td>0.08</td>\n      <td>2048</td>\n    </tr>\n    <tr>\n      <th>12289</th>\n      <td>2044</td>\n      <td>20.338399</td>\n      <td>917.0</td>\n      <td>2149.0</td>\n      <td>60</td>\n      <td>0.08</td>\n      <td>2048</td>\n    </tr>\n    <tr>\n      <th>12290</th>\n      <td>2045</td>\n      <td>20.351532</td>\n      <td>917.0</td>\n      <td>2150.0</td>\n      <td>60</td>\n      <td>0.08</td>\n      <td>2048</td>\n    </tr>\n    <tr>\n      <th>12291</th>\n      <td>2046</td>\n      <td>20.358399</td>\n      <td>917.0</td>\n      <td>2151.0</td>\n      <td>60</td>\n      <td>0.08</td>\n      <td>2048</td>\n    </tr>\n    <tr>\n      <th>12292</th>\n      <td>2047</td>\n      <td>20.367797</td>\n      <td>917.0</td>\n      <td>2152.0</td>\n      <td>60</td>\n      <td>0.08</td>\n      <td>2048</td>\n    </tr>\n    <tr>\n      <th>12293</th>\n      <td>2048</td>\n      <td>20.374513</td>\n      <td>917.0</td>\n      <td>2153.0</td>\n      <td>60</td>\n      <td>0.08</td>\n      <td>2048</td>\n    </tr>\n  </tbody>\n</table>\n</div>"
     },
     "execution_count": 17,
     "metadata": {},
     "output_type": "execute_result"
    }
   ],
   "source": [
    "df_run_curves_ffp[df_run_curves_ffp.Fitness == df_run_curves_ffp['Fitness'].max()]"
   ],
   "metadata": {
    "collapsed": false
   }
  },
  {
   "cell_type": "code",
   "execution_count": 18,
   "outputs": [],
   "source": [
    "# need to check Time and FEvals"
   ],
   "metadata": {
    "collapsed": false
   }
  },
  {
   "cell_type": "code",
   "execution_count": 19,
   "id": "59c463dd",
   "metadata": {},
   "outputs": [],
   "source": [
    "df_curves_bestfitness_ffp = df_run_curves_ffp[(df_run_curves_ffp['Fitness'] == df_run_curves_ffp['Fitness'].max())]"
   ]
  },
  {
   "cell_type": "code",
   "execution_count": 20,
   "id": "5e04b1a5",
   "metadata": {},
   "outputs": [
    {
     "data": {
      "text/plain": "       Iteration       Time  Fitness  FEvals  Population Size  Mutation Rate  \\\n12253       2008  20.022997    917.0  2113.0               60           0.08   \n12254       2009  20.033487    917.0  2114.0               60           0.08   \n12255       2010  20.047244    917.0  2115.0               60           0.08   \n12256       2011  20.054971    917.0  2116.0               60           0.08   \n12257       2012  20.064300    917.0  2117.0               60           0.08   \n12258       2013  20.071881    917.0  2118.0               60           0.08   \n12259       2014  20.080491    917.0  2119.0               60           0.08   \n12260       2015  20.087378    917.0  2120.0               60           0.08   \n12261       2016  20.100205    917.0  2121.0               60           0.08   \n12262       2017  20.107200    917.0  2122.0               60           0.08   \n12263       2018  20.116626    917.0  2123.0               60           0.08   \n12264       2019  20.123325    917.0  2124.0               60           0.08   \n12265       2020  20.133174    917.0  2125.0               60           0.08   \n12266       2021  20.144801    917.0  2126.0               60           0.08   \n12267       2022  20.152754    917.0  2127.0               60           0.08   \n12268       2023  20.159892    917.0  2128.0               60           0.08   \n12269       2024  20.168784    917.0  2129.0               60           0.08   \n12270       2025  20.175933    917.0  2130.0               60           0.08   \n12271       2026  20.186590    917.0  2131.0               60           0.08   \n12272       2027  20.198292    917.0  2132.0               60           0.08   \n12273       2028  20.205126    917.0  2133.0               60           0.08   \n12274       2029  20.213797    917.0  2134.0               60           0.08   \n12275       2030  20.220683    917.0  2135.0               60           0.08   \n12276       2031  20.229550    917.0  2136.0               60           0.08   \n12277       2032  20.236419    917.0  2137.0               60           0.08   \n12278       2033  20.248152    917.0  2138.0               60           0.08   \n12279       2034  20.255064    917.0  2139.0               60           0.08   \n12280       2035  20.263342    917.0  2140.0               60           0.08   \n12281       2036  20.270320    917.0  2141.0               60           0.08   \n12282       2037  20.278743    917.0  2142.0               60           0.08   \n12283       2038  20.286105    917.0  2143.0               60           0.08   \n12284       2039  20.296563    917.0  2144.0               60           0.08   \n12285       2040  20.304785    917.0  2145.0               60           0.08   \n12286       2041  20.313247    917.0  2146.0               60           0.08   \n12287       2042  20.320249    917.0  2147.0               60           0.08   \n12288       2043  20.331591    917.0  2148.0               60           0.08   \n12289       2044  20.338399    917.0  2149.0               60           0.08   \n12290       2045  20.351532    917.0  2150.0               60           0.08   \n12291       2046  20.358399    917.0  2151.0               60           0.08   \n12292       2047  20.367797    917.0  2152.0               60           0.08   \n12293       2048  20.374513    917.0  2153.0               60           0.08   \n\n       max_iters  \n12253       2048  \n12254       2048  \n12255       2048  \n12256       2048  \n12257       2048  \n12258       2048  \n12259       2048  \n12260       2048  \n12261       2048  \n12262       2048  \n12263       2048  \n12264       2048  \n12265       2048  \n12266       2048  \n12267       2048  \n12268       2048  \n12269       2048  \n12270       2048  \n12271       2048  \n12272       2048  \n12273       2048  \n12274       2048  \n12275       2048  \n12276       2048  \n12277       2048  \n12278       2048  \n12279       2048  \n12280       2048  \n12281       2048  \n12282       2048  \n12283       2048  \n12284       2048  \n12285       2048  \n12286       2048  \n12287       2048  \n12288       2048  \n12289       2048  \n12290       2048  \n12291       2048  \n12292       2048  \n12293       2048  ",
      "text/html": "<div>\n<style scoped>\n    .dataframe tbody tr th:only-of-type {\n        vertical-align: middle;\n    }\n\n    .dataframe tbody tr th {\n        vertical-align: top;\n    }\n\n    .dataframe thead th {\n        text-align: right;\n    }\n</style>\n<table border=\"1\" class=\"dataframe\">\n  <thead>\n    <tr style=\"text-align: right;\">\n      <th></th>\n      <th>Iteration</th>\n      <th>Time</th>\n      <th>Fitness</th>\n      <th>FEvals</th>\n      <th>Population Size</th>\n      <th>Mutation Rate</th>\n      <th>max_iters</th>\n    </tr>\n  </thead>\n  <tbody>\n    <tr>\n      <th>12253</th>\n      <td>2008</td>\n      <td>20.022997</td>\n      <td>917.0</td>\n      <td>2113.0</td>\n      <td>60</td>\n      <td>0.08</td>\n      <td>2048</td>\n    </tr>\n    <tr>\n      <th>12254</th>\n      <td>2009</td>\n      <td>20.033487</td>\n      <td>917.0</td>\n      <td>2114.0</td>\n      <td>60</td>\n      <td>0.08</td>\n      <td>2048</td>\n    </tr>\n    <tr>\n      <th>12255</th>\n      <td>2010</td>\n      <td>20.047244</td>\n      <td>917.0</td>\n      <td>2115.0</td>\n      <td>60</td>\n      <td>0.08</td>\n      <td>2048</td>\n    </tr>\n    <tr>\n      <th>12256</th>\n      <td>2011</td>\n      <td>20.054971</td>\n      <td>917.0</td>\n      <td>2116.0</td>\n      <td>60</td>\n      <td>0.08</td>\n      <td>2048</td>\n    </tr>\n    <tr>\n      <th>12257</th>\n      <td>2012</td>\n      <td>20.064300</td>\n      <td>917.0</td>\n      <td>2117.0</td>\n      <td>60</td>\n      <td>0.08</td>\n      <td>2048</td>\n    </tr>\n    <tr>\n      <th>12258</th>\n      <td>2013</td>\n      <td>20.071881</td>\n      <td>917.0</td>\n      <td>2118.0</td>\n      <td>60</td>\n      <td>0.08</td>\n      <td>2048</td>\n    </tr>\n    <tr>\n      <th>12259</th>\n      <td>2014</td>\n      <td>20.080491</td>\n      <td>917.0</td>\n      <td>2119.0</td>\n      <td>60</td>\n      <td>0.08</td>\n      <td>2048</td>\n    </tr>\n    <tr>\n      <th>12260</th>\n      <td>2015</td>\n      <td>20.087378</td>\n      <td>917.0</td>\n      <td>2120.0</td>\n      <td>60</td>\n      <td>0.08</td>\n      <td>2048</td>\n    </tr>\n    <tr>\n      <th>12261</th>\n      <td>2016</td>\n      <td>20.100205</td>\n      <td>917.0</td>\n      <td>2121.0</td>\n      <td>60</td>\n      <td>0.08</td>\n      <td>2048</td>\n    </tr>\n    <tr>\n      <th>12262</th>\n      <td>2017</td>\n      <td>20.107200</td>\n      <td>917.0</td>\n      <td>2122.0</td>\n      <td>60</td>\n      <td>0.08</td>\n      <td>2048</td>\n    </tr>\n    <tr>\n      <th>12263</th>\n      <td>2018</td>\n      <td>20.116626</td>\n      <td>917.0</td>\n      <td>2123.0</td>\n      <td>60</td>\n      <td>0.08</td>\n      <td>2048</td>\n    </tr>\n    <tr>\n      <th>12264</th>\n      <td>2019</td>\n      <td>20.123325</td>\n      <td>917.0</td>\n      <td>2124.0</td>\n      <td>60</td>\n      <td>0.08</td>\n      <td>2048</td>\n    </tr>\n    <tr>\n      <th>12265</th>\n      <td>2020</td>\n      <td>20.133174</td>\n      <td>917.0</td>\n      <td>2125.0</td>\n      <td>60</td>\n      <td>0.08</td>\n      <td>2048</td>\n    </tr>\n    <tr>\n      <th>12266</th>\n      <td>2021</td>\n      <td>20.144801</td>\n      <td>917.0</td>\n      <td>2126.0</td>\n      <td>60</td>\n      <td>0.08</td>\n      <td>2048</td>\n    </tr>\n    <tr>\n      <th>12267</th>\n      <td>2022</td>\n      <td>20.152754</td>\n      <td>917.0</td>\n      <td>2127.0</td>\n      <td>60</td>\n      <td>0.08</td>\n      <td>2048</td>\n    </tr>\n    <tr>\n      <th>12268</th>\n      <td>2023</td>\n      <td>20.159892</td>\n      <td>917.0</td>\n      <td>2128.0</td>\n      <td>60</td>\n      <td>0.08</td>\n      <td>2048</td>\n    </tr>\n    <tr>\n      <th>12269</th>\n      <td>2024</td>\n      <td>20.168784</td>\n      <td>917.0</td>\n      <td>2129.0</td>\n      <td>60</td>\n      <td>0.08</td>\n      <td>2048</td>\n    </tr>\n    <tr>\n      <th>12270</th>\n      <td>2025</td>\n      <td>20.175933</td>\n      <td>917.0</td>\n      <td>2130.0</td>\n      <td>60</td>\n      <td>0.08</td>\n      <td>2048</td>\n    </tr>\n    <tr>\n      <th>12271</th>\n      <td>2026</td>\n      <td>20.186590</td>\n      <td>917.0</td>\n      <td>2131.0</td>\n      <td>60</td>\n      <td>0.08</td>\n      <td>2048</td>\n    </tr>\n    <tr>\n      <th>12272</th>\n      <td>2027</td>\n      <td>20.198292</td>\n      <td>917.0</td>\n      <td>2132.0</td>\n      <td>60</td>\n      <td>0.08</td>\n      <td>2048</td>\n    </tr>\n    <tr>\n      <th>12273</th>\n      <td>2028</td>\n      <td>20.205126</td>\n      <td>917.0</td>\n      <td>2133.0</td>\n      <td>60</td>\n      <td>0.08</td>\n      <td>2048</td>\n    </tr>\n    <tr>\n      <th>12274</th>\n      <td>2029</td>\n      <td>20.213797</td>\n      <td>917.0</td>\n      <td>2134.0</td>\n      <td>60</td>\n      <td>0.08</td>\n      <td>2048</td>\n    </tr>\n    <tr>\n      <th>12275</th>\n      <td>2030</td>\n      <td>20.220683</td>\n      <td>917.0</td>\n      <td>2135.0</td>\n      <td>60</td>\n      <td>0.08</td>\n      <td>2048</td>\n    </tr>\n    <tr>\n      <th>12276</th>\n      <td>2031</td>\n      <td>20.229550</td>\n      <td>917.0</td>\n      <td>2136.0</td>\n      <td>60</td>\n      <td>0.08</td>\n      <td>2048</td>\n    </tr>\n    <tr>\n      <th>12277</th>\n      <td>2032</td>\n      <td>20.236419</td>\n      <td>917.0</td>\n      <td>2137.0</td>\n      <td>60</td>\n      <td>0.08</td>\n      <td>2048</td>\n    </tr>\n    <tr>\n      <th>12278</th>\n      <td>2033</td>\n      <td>20.248152</td>\n      <td>917.0</td>\n      <td>2138.0</td>\n      <td>60</td>\n      <td>0.08</td>\n      <td>2048</td>\n    </tr>\n    <tr>\n      <th>12279</th>\n      <td>2034</td>\n      <td>20.255064</td>\n      <td>917.0</td>\n      <td>2139.0</td>\n      <td>60</td>\n      <td>0.08</td>\n      <td>2048</td>\n    </tr>\n    <tr>\n      <th>12280</th>\n      <td>2035</td>\n      <td>20.263342</td>\n      <td>917.0</td>\n      <td>2140.0</td>\n      <td>60</td>\n      <td>0.08</td>\n      <td>2048</td>\n    </tr>\n    <tr>\n      <th>12281</th>\n      <td>2036</td>\n      <td>20.270320</td>\n      <td>917.0</td>\n      <td>2141.0</td>\n      <td>60</td>\n      <td>0.08</td>\n      <td>2048</td>\n    </tr>\n    <tr>\n      <th>12282</th>\n      <td>2037</td>\n      <td>20.278743</td>\n      <td>917.0</td>\n      <td>2142.0</td>\n      <td>60</td>\n      <td>0.08</td>\n      <td>2048</td>\n    </tr>\n    <tr>\n      <th>12283</th>\n      <td>2038</td>\n      <td>20.286105</td>\n      <td>917.0</td>\n      <td>2143.0</td>\n      <td>60</td>\n      <td>0.08</td>\n      <td>2048</td>\n    </tr>\n    <tr>\n      <th>12284</th>\n      <td>2039</td>\n      <td>20.296563</td>\n      <td>917.0</td>\n      <td>2144.0</td>\n      <td>60</td>\n      <td>0.08</td>\n      <td>2048</td>\n    </tr>\n    <tr>\n      <th>12285</th>\n      <td>2040</td>\n      <td>20.304785</td>\n      <td>917.0</td>\n      <td>2145.0</td>\n      <td>60</td>\n      <td>0.08</td>\n      <td>2048</td>\n    </tr>\n    <tr>\n      <th>12286</th>\n      <td>2041</td>\n      <td>20.313247</td>\n      <td>917.0</td>\n      <td>2146.0</td>\n      <td>60</td>\n      <td>0.08</td>\n      <td>2048</td>\n    </tr>\n    <tr>\n      <th>12287</th>\n      <td>2042</td>\n      <td>20.320249</td>\n      <td>917.0</td>\n      <td>2147.0</td>\n      <td>60</td>\n      <td>0.08</td>\n      <td>2048</td>\n    </tr>\n    <tr>\n      <th>12288</th>\n      <td>2043</td>\n      <td>20.331591</td>\n      <td>917.0</td>\n      <td>2148.0</td>\n      <td>60</td>\n      <td>0.08</td>\n      <td>2048</td>\n    </tr>\n    <tr>\n      <th>12289</th>\n      <td>2044</td>\n      <td>20.338399</td>\n      <td>917.0</td>\n      <td>2149.0</td>\n      <td>60</td>\n      <td>0.08</td>\n      <td>2048</td>\n    </tr>\n    <tr>\n      <th>12290</th>\n      <td>2045</td>\n      <td>20.351532</td>\n      <td>917.0</td>\n      <td>2150.0</td>\n      <td>60</td>\n      <td>0.08</td>\n      <td>2048</td>\n    </tr>\n    <tr>\n      <th>12291</th>\n      <td>2046</td>\n      <td>20.358399</td>\n      <td>917.0</td>\n      <td>2151.0</td>\n      <td>60</td>\n      <td>0.08</td>\n      <td>2048</td>\n    </tr>\n    <tr>\n      <th>12292</th>\n      <td>2047</td>\n      <td>20.367797</td>\n      <td>917.0</td>\n      <td>2152.0</td>\n      <td>60</td>\n      <td>0.08</td>\n      <td>2048</td>\n    </tr>\n    <tr>\n      <th>12293</th>\n      <td>2048</td>\n      <td>20.374513</td>\n      <td>917.0</td>\n      <td>2153.0</td>\n      <td>60</td>\n      <td>0.08</td>\n      <td>2048</td>\n    </tr>\n  </tbody>\n</table>\n</div>"
     },
     "execution_count": 20,
     "metadata": {},
     "output_type": "execute_result"
    }
   ],
   "source": [
    "df_curves_bestfitness_ffp"
   ]
  },
  {
   "cell_type": "code",
   "execution_count": 21,
   "outputs": [
    {
     "data": {
      "text/plain": "   Population Size  Mutation Rate  FEvals  Iteration       Time\n0               60           0.08  2113.0     2028.0  20.022997",
      "text/html": "<div>\n<style scoped>\n    .dataframe tbody tr th:only-of-type {\n        vertical-align: middle;\n    }\n\n    .dataframe tbody tr th {\n        vertical-align: top;\n    }\n\n    .dataframe thead th {\n        text-align: right;\n    }\n</style>\n<table border=\"1\" class=\"dataframe\">\n  <thead>\n    <tr style=\"text-align: right;\">\n      <th></th>\n      <th>Population Size</th>\n      <th>Mutation Rate</th>\n      <th>FEvals</th>\n      <th>Iteration</th>\n      <th>Time</th>\n    </tr>\n  </thead>\n  <tbody>\n    <tr>\n      <th>0</th>\n      <td>60</td>\n      <td>0.08</td>\n      <td>2113.0</td>\n      <td>2028.0</td>\n      <td>20.022997</td>\n    </tr>\n  </tbody>\n</table>\n</div>"
     },
     "execution_count": 21,
     "metadata": {},
     "output_type": "execute_result"
    }
   ],
   "source": [
    "df_curves_bestfitness_ffp.groupby(['Population Size', 'Mutation Rate']).agg({'FEvals': 'min', 'Iteration': 'mean', 'Time': 'min'}).reset_index()\n",
    "# Temp = 1 => less Fevals. Pick temp=1"
   ],
   "metadata": {
    "collapsed": false
   }
  },
  {
   "cell_type": "code",
   "execution_count": 22,
   "id": "6e0ad656",
   "metadata": {},
   "outputs": [],
   "source": [
    "# tentatively, pick pop size = 40 and mutation_rate = 0.08, as the only choice"
   ]
  },
  {
   "cell_type": "code",
   "execution_count": 23,
   "id": "62fe58b2",
   "metadata": {},
   "outputs": [
    {
     "data": {
      "text/plain": "   Iteration      Time  Fitness  FEvals  Population Size  Mutation Rate  \\\n0          0  0.012664    274.0     0.0               40           0.07   \n1          1  0.042710    377.0     2.0               40           0.07   \n2          2  0.058168    377.0     3.0               40           0.07   \n3          3  0.075535    390.0     5.0               40           0.07   \n4          4  0.084014    390.0     6.0               40           0.07   \n\n   max_iters  \n0       2048  \n1       2048  \n2       2048  \n3       2048  \n4       2048  ",
      "text/html": "<div>\n<style scoped>\n    .dataframe tbody tr th:only-of-type {\n        vertical-align: middle;\n    }\n\n    .dataframe tbody tr th {\n        vertical-align: top;\n    }\n\n    .dataframe thead th {\n        text-align: right;\n    }\n</style>\n<table border=\"1\" class=\"dataframe\">\n  <thead>\n    <tr style=\"text-align: right;\">\n      <th></th>\n      <th>Iteration</th>\n      <th>Time</th>\n      <th>Fitness</th>\n      <th>FEvals</th>\n      <th>Population Size</th>\n      <th>Mutation Rate</th>\n      <th>max_iters</th>\n    </tr>\n  </thead>\n  <tbody>\n    <tr>\n      <th>0</th>\n      <td>0</td>\n      <td>0.012664</td>\n      <td>274.0</td>\n      <td>0.0</td>\n      <td>40</td>\n      <td>0.07</td>\n      <td>2048</td>\n    </tr>\n    <tr>\n      <th>1</th>\n      <td>1</td>\n      <td>0.042710</td>\n      <td>377.0</td>\n      <td>2.0</td>\n      <td>40</td>\n      <td>0.07</td>\n      <td>2048</td>\n    </tr>\n    <tr>\n      <th>2</th>\n      <td>2</td>\n      <td>0.058168</td>\n      <td>377.0</td>\n      <td>3.0</td>\n      <td>40</td>\n      <td>0.07</td>\n      <td>2048</td>\n    </tr>\n    <tr>\n      <th>3</th>\n      <td>3</td>\n      <td>0.075535</td>\n      <td>390.0</td>\n      <td>5.0</td>\n      <td>40</td>\n      <td>0.07</td>\n      <td>2048</td>\n    </tr>\n    <tr>\n      <th>4</th>\n      <td>4</td>\n      <td>0.084014</td>\n      <td>390.0</td>\n      <td>6.0</td>\n      <td>40</td>\n      <td>0.07</td>\n      <td>2048</td>\n    </tr>\n  </tbody>\n</table>\n</div>"
     },
     "execution_count": 23,
     "metadata": {},
     "output_type": "execute_result"
    }
   ],
   "source": [
    "df_run_curves_ffp.head()"
   ]
  },
  {
   "cell_type": "code",
   "execution_count": 24,
   "id": "4ce94f88",
   "metadata": {},
   "outputs": [],
   "source": [
    "# clean up an existing result table to store the iterative resutls\n",
    "df_iter_curves_ffp = df_run_curves_ffp.drop(df_run_curves_ffp.index, inplace=False)"
   ]
  },
  {
   "cell_type": "code",
   "execution_count": 25,
   "outputs": [],
   "source": [
    "# GA runner\n",
    "# 2. iterate through 10 seeds\n",
    "for s in range(10):\n",
    "    ga_ffp = mh.GAJSRunner(problem=problem_ffp,\n",
    "              experiment_name='ffp_ga_{s}',\n",
    "              output_directory=None, # note: specify an output directory to have results saved to disk\n",
    "              seed=s,\n",
    "              iteration_list=2 ** np.arange(12),\n",
    "              max_attempts=500,\n",
    "              population_sizes=[40], # 20 bits in total\n",
    "              mutation_rates=[0.08])\n",
    "\n",
    "    # the two data frames will contain the results\n",
    "    df_run_stats_ffp_sub, df_run_curves_ffp_sub = ga_ffp.run()\n",
    "    # append to the result df\n",
    "    df_iter_curves_ffp = pd.concat([df_iter_curves_ffp, df_run_curves_ffp_sub])"
   ],
   "metadata": {
    "collapsed": false
   }
  },
  {
   "cell_type": "code",
   "execution_count": 26,
   "outputs": [
    {
     "data": {
      "text/plain": "(20490, 7)"
     },
     "execution_count": 26,
     "metadata": {},
     "output_type": "execute_result"
    }
   ],
   "source": [
    "df_iter_curves_ffp.shape"
   ],
   "metadata": {
    "collapsed": false
   }
  },
  {
   "cell_type": "code",
   "execution_count": 27,
   "outputs": [
    {
     "data": {
      "text/plain": "   Iteration      Time  Fitness  FEvals  Population Size  Mutation Rate  \\\n0          0  0.009667    274.0     0.0               60           0.08   \n1          1  0.029193    392.0     2.0               60           0.08   \n2          2  0.043330    392.0     3.0               60           0.08   \n3          3  0.061398    413.0     5.0               60           0.08   \n4          4  0.072052    434.0     7.0               60           0.08   \n\n   max_iters  \n0       2048  \n1       2048  \n2       2048  \n3       2048  \n4       2048  ",
      "text/html": "<div>\n<style scoped>\n    .dataframe tbody tr th:only-of-type {\n        vertical-align: middle;\n    }\n\n    .dataframe tbody tr th {\n        vertical-align: top;\n    }\n\n    .dataframe thead th {\n        text-align: right;\n    }\n</style>\n<table border=\"1\" class=\"dataframe\">\n  <thead>\n    <tr style=\"text-align: right;\">\n      <th></th>\n      <th>Iteration</th>\n      <th>Time</th>\n      <th>Fitness</th>\n      <th>FEvals</th>\n      <th>Population Size</th>\n      <th>Mutation Rate</th>\n      <th>max_iters</th>\n    </tr>\n  </thead>\n  <tbody>\n    <tr>\n      <th>0</th>\n      <td>0</td>\n      <td>0.009667</td>\n      <td>274.0</td>\n      <td>0.0</td>\n      <td>60</td>\n      <td>0.08</td>\n      <td>2048</td>\n    </tr>\n    <tr>\n      <th>1</th>\n      <td>1</td>\n      <td>0.029193</td>\n      <td>392.0</td>\n      <td>2.0</td>\n      <td>60</td>\n      <td>0.08</td>\n      <td>2048</td>\n    </tr>\n    <tr>\n      <th>2</th>\n      <td>2</td>\n      <td>0.043330</td>\n      <td>392.0</td>\n      <td>3.0</td>\n      <td>60</td>\n      <td>0.08</td>\n      <td>2048</td>\n    </tr>\n    <tr>\n      <th>3</th>\n      <td>3</td>\n      <td>0.061398</td>\n      <td>413.0</td>\n      <td>5.0</td>\n      <td>60</td>\n      <td>0.08</td>\n      <td>2048</td>\n    </tr>\n    <tr>\n      <th>4</th>\n      <td>4</td>\n      <td>0.072052</td>\n      <td>434.0</td>\n      <td>7.0</td>\n      <td>60</td>\n      <td>0.08</td>\n      <td>2048</td>\n    </tr>\n  </tbody>\n</table>\n</div>"
     },
     "execution_count": 27,
     "metadata": {},
     "output_type": "execute_result"
    }
   ],
   "source": [
    "df_iter_curves_ffp.head()"
   ],
   "metadata": {
    "collapsed": false
   }
  },
  {
   "cell_type": "code",
   "execution_count": 28,
   "outputs": [
    {
     "data": {
      "text/plain": "926.0"
     },
     "execution_count": 28,
     "metadata": {},
     "output_type": "execute_result"
    }
   ],
   "source": [
    "df_iter_curves_ffp.Fitness.max()"
   ],
   "metadata": {
    "collapsed": false
   }
  },
  {
   "cell_type": "code",
   "execution_count": 29,
   "outputs": [],
   "source": [
    "#df_iter_curves_ffp.to_csv('gab_mutate_A_js_108.csv')\n",
    "import pandas as pd\n",
    "df_iter_curves_ffp = pd.read_csv('../../csv-files/gab_mutate_A_js_108.csv')"
   ],
   "metadata": {
    "collapsed": false
   }
  },
  {
   "cell_type": "code",
   "execution_count": 30,
   "outputs": [
    {
     "data": {
      "text/plain": "2048"
     },
     "execution_count": 30,
     "metadata": {},
     "output_type": "execute_result"
    }
   ],
   "source": [
    "df_iter_curves_ffp.Iteration.max()"
   ],
   "metadata": {
    "collapsed": false
   }
  },
  {
   "cell_type": "code",
   "execution_count": 31,
   "outputs": [],
   "source": [
    "df_fitness_iter_ffp = df_iter_curves_ffp.groupby('Iteration')\\\n",
    "                                .agg(avg_fitness=('Fitness', 'mean'), var_fitness = ('Fitness', 'var'))\\\n",
    "                                .reset_index()"
   ],
   "metadata": {
    "collapsed": false
   }
  },
  {
   "cell_type": "code",
   "execution_count": 32,
   "outputs": [
    {
     "data": {
      "text/plain": "(2049, 3)"
     },
     "execution_count": 32,
     "metadata": {},
     "output_type": "execute_result"
    }
   ],
   "source": [
    "df_fitness_iter_ffp.shape"
   ],
   "metadata": {
    "collapsed": false
   }
  },
  {
   "cell_type": "code",
   "execution_count": 33,
   "outputs": [
    {
     "data": {
      "text/plain": "   Iteration  avg_fitness  var_fitness\n0          0        316.3  1212.011111\n1          1        392.3    65.566667\n2          2        395.5   114.055556\n3          3        404.6   160.711111\n4          4        413.2   201.066667",
      "text/html": "<div>\n<style scoped>\n    .dataframe tbody tr th:only-of-type {\n        vertical-align: middle;\n    }\n\n    .dataframe tbody tr th {\n        vertical-align: top;\n    }\n\n    .dataframe thead th {\n        text-align: right;\n    }\n</style>\n<table border=\"1\" class=\"dataframe\">\n  <thead>\n    <tr style=\"text-align: right;\">\n      <th></th>\n      <th>Iteration</th>\n      <th>avg_fitness</th>\n      <th>var_fitness</th>\n    </tr>\n  </thead>\n  <tbody>\n    <tr>\n      <th>0</th>\n      <td>0</td>\n      <td>316.3</td>\n      <td>1212.011111</td>\n    </tr>\n    <tr>\n      <th>1</th>\n      <td>1</td>\n      <td>392.3</td>\n      <td>65.566667</td>\n    </tr>\n    <tr>\n      <th>2</th>\n      <td>2</td>\n      <td>395.5</td>\n      <td>114.055556</td>\n    </tr>\n    <tr>\n      <th>3</th>\n      <td>3</td>\n      <td>404.6</td>\n      <td>160.711111</td>\n    </tr>\n    <tr>\n      <th>4</th>\n      <td>4</td>\n      <td>413.2</td>\n      <td>201.066667</td>\n    </tr>\n  </tbody>\n</table>\n</div>"
     },
     "execution_count": 33,
     "metadata": {},
     "output_type": "execute_result"
    }
   ],
   "source": [
    "df_fitness_iter_ffp.head()"
   ],
   "metadata": {
    "collapsed": false
   }
  },
  {
   "cell_type": "code",
   "execution_count": 34,
   "outputs": [
    {
     "data": {
      "text/plain": "1864    1864\n1865    1865\n1866    1866\n1867    1867\n1868    1868\n        ... \n2044    2044\n2045    2045\n2046    2046\n2047    2047\n2048    2048\nName: Iteration, Length: 185, dtype: int64"
     },
     "execution_count": 34,
     "metadata": {},
     "output_type": "execute_result"
    }
   ],
   "source": [
    "# convergence point\n",
    "df_iter_curves_ffp[df_iter_curves_ffp.Fitness == df_iter_curves_ffp.Fitness.max()].Iteration"
   ],
   "metadata": {
    "collapsed": false
   }
  },
  {
   "cell_type": "code",
   "execution_count": 35,
   "outputs": [
    {
     "data": {
      "text/plain": "nan"
     },
     "execution_count": 35,
     "metadata": {},
     "output_type": "execute_result"
    }
   ],
   "source": [
    "# converge point-never converged\n",
    "df_fitness_iter_ffp[df_fitness_iter_ffp.avg_fitness >= df_iter_curves_ffp.Fitness.max()].Iteration.min()"
   ],
   "metadata": {
    "collapsed": false
   }
  },
  {
   "cell_type": "code",
   "execution_count": 36,
   "outputs": [],
   "source": [
    "df_fitness_iter_ffp['stddev_fitness'] = df_fitness_iter_ffp['var_fitness'].apply(np.sqrt)"
   ],
   "metadata": {
    "collapsed": false
   }
  },
  {
   "cell_type": "code",
   "execution_count": 37,
   "outputs": [
    {
     "data": {
      "text/plain": "   Iteration  avg_fitness  var_fitness  stddev_fitness\n0          0        316.3  1212.011111       34.813950\n1          1        392.3    65.566667        8.097325\n2          2        395.5   114.055556       10.679680\n3          3        404.6   160.711111       12.677189\n4          4        413.2   201.066667       14.179798",
      "text/html": "<div>\n<style scoped>\n    .dataframe tbody tr th:only-of-type {\n        vertical-align: middle;\n    }\n\n    .dataframe tbody tr th {\n        vertical-align: top;\n    }\n\n    .dataframe thead th {\n        text-align: right;\n    }\n</style>\n<table border=\"1\" class=\"dataframe\">\n  <thead>\n    <tr style=\"text-align: right;\">\n      <th></th>\n      <th>Iteration</th>\n      <th>avg_fitness</th>\n      <th>var_fitness</th>\n      <th>stddev_fitness</th>\n    </tr>\n  </thead>\n  <tbody>\n    <tr>\n      <th>0</th>\n      <td>0</td>\n      <td>316.3</td>\n      <td>1212.011111</td>\n      <td>34.813950</td>\n    </tr>\n    <tr>\n      <th>1</th>\n      <td>1</td>\n      <td>392.3</td>\n      <td>65.566667</td>\n      <td>8.097325</td>\n    </tr>\n    <tr>\n      <th>2</th>\n      <td>2</td>\n      <td>395.5</td>\n      <td>114.055556</td>\n      <td>10.679680</td>\n    </tr>\n    <tr>\n      <th>3</th>\n      <td>3</td>\n      <td>404.6</td>\n      <td>160.711111</td>\n      <td>12.677189</td>\n    </tr>\n    <tr>\n      <th>4</th>\n      <td>4</td>\n      <td>413.2</td>\n      <td>201.066667</td>\n      <td>14.179798</td>\n    </tr>\n  </tbody>\n</table>\n</div>"
     },
     "execution_count": 37,
     "metadata": {},
     "output_type": "execute_result"
    }
   ],
   "source": [
    "df_fitness_iter_ffp.head()"
   ],
   "metadata": {
    "collapsed": false
   }
  },
  {
   "cell_type": "code",
   "execution_count": 38,
   "outputs": [
    {
     "data": {
      "text/plain": "Text(0, 0.5, 'Fitness')"
     },
     "execution_count": 38,
     "metadata": {},
     "output_type": "execute_result"
    },
    {
     "data": {
      "text/plain": "<Figure size 640x480 with 1 Axes>",
      "image/png": "[encoded data removed]"
     },
     "metadata": {},
     "output_type": "display_data"
    }
   ],
   "source": [
    "plt.plot(df_fitness_iter_ffp.Iteration, df_fitness_iter_ffp.avg_fitness, 'k', color='#3F7F4C')\n",
    "plt.fill_between(df_fitness_iter_ffp.Iteration, df_fitness_iter_ffp.avg_fitness - df_fitness_iter_ffp.stddev_fitness\\\n",
    "                 , df_fitness_iter_ffp.avg_fitness + df_fitness_iter_ffp.stddev_fitness\\\n",
    "                 , alpha=0.5, edgecolor='#3F7F4C', facecolor='#7EFF99')\n",
    "plt.title(f'Fitness by Iterations with Problem Size {size} - GAB on Job Scheduling')\n",
    "plt.xlabel('Iterations')\n",
    "plt.ylabel('Fitness')"
   ],
   "metadata": {
    "collapsed": false
   }
  },
  {
   "cell_type": "code",
   "execution_count": 39,
   "outputs": [
    {
     "name": "stdout",
     "output_type": "stream",
     "text": [
      "85\n"
     ]
    }
   ],
   "source": [
    "# elbow analysis\n",
    "from kneed import DataGenerator, KneeLocator\n",
    "kneedle = KneeLocator(df_fitness_iter_ffp.Iteration, df_fitness_iter_ffp.avg_fitness, S=1.0, curve=\"concave\", direction=\"increasing\")\n",
    "\n",
    "print(kneedle.knee)"
   ],
   "metadata": {
    "collapsed": false
   }
  },
  {
   "cell_type": "code",
   "execution_count": 40,
   "outputs": [
    {
     "data": {
      "text/plain": "    Iteration  avg_fitness  var_fitness  stddev_fitness\n85         85        647.8  1683.288889       41.027904",
      "text/html": "<div>\n<style scoped>\n    .dataframe tbody tr th:only-of-type {\n        vertical-align: middle;\n    }\n\n    .dataframe tbody tr th {\n        vertical-align: top;\n    }\n\n    .dataframe thead th {\n        text-align: right;\n    }\n</style>\n<table border=\"1\" class=\"dataframe\">\n  <thead>\n    <tr style=\"text-align: right;\">\n      <th></th>\n      <th>Iteration</th>\n      <th>avg_fitness</th>\n      <th>var_fitness</th>\n      <th>stddev_fitness</th>\n    </tr>\n  </thead>\n  <tbody>\n    <tr>\n      <th>85</th>\n      <td>85</td>\n      <td>647.8</td>\n      <td>1683.288889</td>\n      <td>41.027904</td>\n    </tr>\n  </tbody>\n</table>\n</div>"
     },
     "execution_count": 40,
     "metadata": {},
     "output_type": "execute_result"
    }
   ],
   "source": [
    "df_fitness_iter_ffp[df_fitness_iter_ffp['Iteration'] == kneedle.knee]"
   ],
   "metadata": {
    "collapsed": false
   }
  },
  {
   "cell_type": "code",
   "execution_count": 41,
   "outputs": [
    {
     "data": {
      "text/plain": "906.7"
     },
     "execution_count": 41,
     "metadata": {},
     "output_type": "execute_result"
    }
   ],
   "source": [
    "df_fitness_iter_ffp.avg_fitness.max()"
   ],
   "metadata": {
    "collapsed": false
   }
  },
  {
   "cell_type": "code",
   "execution_count": 42,
   "outputs": [
    {
     "data": {
      "text/plain": "63.87313815507879"
     },
     "execution_count": 42,
     "metadata": {},
     "output_type": "execute_result"
    }
   ],
   "source": [
    "df_fitness_iter_ffp[df_fitness_iter_ffp['Iteration']>0].stddev_fitness.max()"
   ],
   "metadata": {
    "collapsed": false
   }
  },
  {
   "cell_type": "code",
   "execution_count": 43,
   "outputs": [
    {
     "data": {
      "text/plain": "(232    232\n Name: Iteration, dtype: int64,)"
     },
     "execution_count": 43,
     "metadata": {},
     "output_type": "execute_result"
    }
   ],
   "source": [
    "df_fitness_iter_ffp[df_fitness_iter_ffp.stddev_fitness == df_fitness_iter_ffp.stddev_fitness.max()].Iteration,"
   ],
   "metadata": {
    "collapsed": false
   }
  },
  {
   "cell_type": "code",
   "execution_count": 44,
   "outputs": [],
   "source": [
    "# Fevals - iteration"
   ],
   "metadata": {
    "collapsed": false
   }
  },
  {
   "cell_type": "code",
   "execution_count": 45,
   "outputs": [],
   "source": [
    "df_FEvals_iter_ffp = df_iter_curves_ffp.groupby('Iteration')\\\n",
    "                                .agg(avg_FEvals=('FEvals', 'mean'), var_FEvals = ('FEvals', 'var'))\\\n",
    "                                .reset_index()"
   ],
   "metadata": {
    "collapsed": false
   }
  },
  {
   "cell_type": "code",
   "execution_count": 46,
   "outputs": [
    {
     "data": {
      "text/plain": "2142.6"
     },
     "execution_count": 46,
     "metadata": {},
     "output_type": "execute_result"
    }
   ],
   "source": [
    "df_FEvals_iter_ffp.avg_FEvals.max()"
   ],
   "metadata": {
    "collapsed": false
   }
  },
  {
   "cell_type": "code",
   "execution_count": 47,
   "outputs": [
    {
     "data": {
      "text/plain": "(2049, 3)"
     },
     "execution_count": 47,
     "metadata": {},
     "output_type": "execute_result"
    }
   ],
   "source": [
    "df_FEvals_iter_ffp.shape"
   ],
   "metadata": {
    "collapsed": false
   }
  },
  {
   "cell_type": "code",
   "execution_count": 48,
   "outputs": [
    {
     "data": {
      "text/plain": "   Iteration  avg_FEvals  var_FEvals\n0          0         0.0    0.000000\n1          1         1.9    0.100000\n2          2         3.3    0.455556\n3          3         4.8    0.400000\n4          4         6.5    0.277778",
      "text/html": "<div>\n<style scoped>\n    .dataframe tbody tr th:only-of-type {\n        vertical-align: middle;\n    }\n\n    .dataframe tbody tr th {\n        vertical-align: top;\n    }\n\n    .dataframe thead th {\n        text-align: right;\n    }\n</style>\n<table border=\"1\" class=\"dataframe\">\n  <thead>\n    <tr style=\"text-align: right;\">\n      <th></th>\n      <th>Iteration</th>\n      <th>avg_FEvals</th>\n      <th>var_FEvals</th>\n    </tr>\n  </thead>\n  <tbody>\n    <tr>\n      <th>0</th>\n      <td>0</td>\n      <td>0.0</td>\n      <td>0.000000</td>\n    </tr>\n    <tr>\n      <th>1</th>\n      <td>1</td>\n      <td>1.9</td>\n      <td>0.100000</td>\n    </tr>\n    <tr>\n      <th>2</th>\n      <td>2</td>\n      <td>3.3</td>\n      <td>0.455556</td>\n    </tr>\n    <tr>\n      <th>3</th>\n      <td>3</td>\n      <td>4.8</td>\n      <td>0.400000</td>\n    </tr>\n    <tr>\n      <th>4</th>\n      <td>4</td>\n      <td>6.5</td>\n      <td>0.277778</td>\n    </tr>\n  </tbody>\n</table>\n</div>"
     },
     "execution_count": 48,
     "metadata": {},
     "output_type": "execute_result"
    }
   ],
   "source": [
    "df_FEvals_iter_ffp.head()"
   ],
   "metadata": {
    "collapsed": false
   }
  },
  {
   "cell_type": "code",
   "execution_count": 49,
   "outputs": [],
   "source": [
    "df_FEvals_iter_ffp['stddev_FEvals'] = df_FEvals_iter_ffp['var_FEvals'].apply(np.sqrt)"
   ],
   "metadata": {
    "collapsed": false
   }
  },
  {
   "cell_type": "code",
   "execution_count": 50,
   "outputs": [
    {
     "data": {
      "text/plain": "(0.0, 9.87983355685262)"
     },
     "execution_count": 50,
     "metadata": {},
     "output_type": "execute_result"
    }
   ],
   "source": [
    "df_FEvals_iter_ffp['stddev_FEvals'].min(), df_FEvals_iter_ffp['stddev_FEvals'].max()"
   ],
   "metadata": {
    "collapsed": false
   }
  },
  {
   "cell_type": "code",
   "execution_count": 51,
   "outputs": [
    {
     "data": {
      "text/plain": "   Iteration  avg_FEvals  var_FEvals  stddev_FEvals\n0          0         0.0    0.000000       0.000000\n1          1         1.9    0.100000       0.316228\n2          2         3.3    0.455556       0.674949\n3          3         4.8    0.400000       0.632456\n4          4         6.5    0.277778       0.527046",
      "text/html": "<div>\n<style scoped>\n    .dataframe tbody tr th:only-of-type {\n        vertical-align: middle;\n    }\n\n    .dataframe tbody tr th {\n        vertical-align: top;\n    }\n\n    .dataframe thead th {\n        text-align: right;\n    }\n</style>\n<table border=\"1\" class=\"dataframe\">\n  <thead>\n    <tr style=\"text-align: right;\">\n      <th></th>\n      <th>Iteration</th>\n      <th>avg_FEvals</th>\n      <th>var_FEvals</th>\n      <th>stddev_FEvals</th>\n    </tr>\n  </thead>\n  <tbody>\n    <tr>\n      <th>0</th>\n      <td>0</td>\n      <td>0.0</td>\n      <td>0.000000</td>\n      <td>0.000000</td>\n    </tr>\n    <tr>\n      <th>1</th>\n      <td>1</td>\n      <td>1.9</td>\n      <td>0.100000</td>\n      <td>0.316228</td>\n    </tr>\n    <tr>\n      <th>2</th>\n      <td>2</td>\n      <td>3.3</td>\n      <td>0.455556</td>\n      <td>0.674949</td>\n    </tr>\n    <tr>\n      <th>3</th>\n      <td>3</td>\n      <td>4.8</td>\n      <td>0.400000</td>\n      <td>0.632456</td>\n    </tr>\n    <tr>\n      <th>4</th>\n      <td>4</td>\n      <td>6.5</td>\n      <td>0.277778</td>\n      <td>0.527046</td>\n    </tr>\n  </tbody>\n</table>\n</div>"
     },
     "execution_count": 51,
     "metadata": {},
     "output_type": "execute_result"
    }
   ],
   "source": [
    "df_FEvals_iter_ffp.head()"
   ],
   "metadata": {
    "collapsed": false
   }
  },
  {
   "cell_type": "code",
   "execution_count": 52,
   "outputs": [
    {
     "data": {
      "text/plain": "Text(0, 0.5, 'FEvals')"
     },
     "execution_count": 52,
     "metadata": {},
     "output_type": "execute_result"
    },
    {
     "data": {
      "text/plain": "<Figure size 640x480 with 1 Axes>",
      "image/png": "[encoded data removed]"
     },
     "metadata": {},
     "output_type": "display_data"
    }
   ],
   "source": [
    "plt.plot(df_FEvals_iter_ffp.Iteration, df_FEvals_iter_ffp.avg_FEvals, 'k', color='#3F7F4C')\n",
    "plt.fill_between(df_FEvals_iter_ffp.Iteration, df_FEvals_iter_ffp.avg_FEvals - df_FEvals_iter_ffp.stddev_FEvals\\\n",
    "                 , df_FEvals_iter_ffp.avg_FEvals + df_FEvals_iter_ffp.stddev_FEvals\\\n",
    "                 , alpha=0.5, edgecolor='#3F7F4C', facecolor='#7EFF99')\n",
    "plt.title('FEvals by Iterations - Genetic Algorithm')\n",
    "plt.xlabel('Iterations')\n",
    "plt.ylabel('FEvals')"
   ],
   "metadata": {
    "collapsed": false
   }
  },
  {
   "cell_type": "code",
   "execution_count": 53,
   "outputs": [],
   "source": [
    "# fitness - wall clock time"
   ],
   "metadata": {
    "collapsed": false
   }
  },
  {
   "cell_type": "code",
   "execution_count": 54,
   "outputs": [],
   "source": [
    "df_time_iter_ffp = df_iter_curves_ffp.groupby('Iteration')\\\n",
    "                                .agg(avg_time=('Time', 'mean'), var_time = ('Time', 'var'))\\\n",
    "                                .reset_index()"
   ],
   "metadata": {
    "collapsed": false
   }
  },
  {
   "cell_type": "code",
   "execution_count": 55,
   "outputs": [
    {
     "data": {
      "text/plain": "(2049, 3)"
     },
     "execution_count": 55,
     "metadata": {},
     "output_type": "execute_result"
    }
   ],
   "source": [
    "df_time_iter_ffp.shape"
   ],
   "metadata": {
    "collapsed": false
   }
  },
  {
   "cell_type": "code",
   "execution_count": 56,
   "outputs": [
    {
     "data": {
      "text/plain": "   Iteration  avg_time  var_time\n0          0  0.003477  0.000005\n1          1  0.015938  0.000026\n2          2  0.026971  0.000036\n3          3  0.039014  0.000065\n4          4  0.048060  0.000075",
      "text/html": "<div>\n<style scoped>\n    .dataframe tbody tr th:only-of-type {\n        vertical-align: middle;\n    }\n\n    .dataframe tbody tr th {\n        vertical-align: top;\n    }\n\n    .dataframe thead th {\n        text-align: right;\n    }\n</style>\n<table border=\"1\" class=\"dataframe\">\n  <thead>\n    <tr style=\"text-align: right;\">\n      <th></th>\n      <th>Iteration</th>\n      <th>avg_time</th>\n      <th>var_time</th>\n    </tr>\n  </thead>\n  <tbody>\n    <tr>\n      <th>0</th>\n      <td>0</td>\n      <td>0.003477</td>\n      <td>0.000005</td>\n    </tr>\n    <tr>\n      <th>1</th>\n      <td>1</td>\n      <td>0.015938</td>\n      <td>0.000026</td>\n    </tr>\n    <tr>\n      <th>2</th>\n      <td>2</td>\n      <td>0.026971</td>\n      <td>0.000036</td>\n    </tr>\n    <tr>\n      <th>3</th>\n      <td>3</td>\n      <td>0.039014</td>\n      <td>0.000065</td>\n    </tr>\n    <tr>\n      <th>4</th>\n      <td>4</td>\n      <td>0.048060</td>\n      <td>0.000075</td>\n    </tr>\n  </tbody>\n</table>\n</div>"
     },
     "execution_count": 56,
     "metadata": {},
     "output_type": "execute_result"
    }
   ],
   "source": [
    "df_time_iter_ffp.head()"
   ],
   "metadata": {
    "collapsed": false
   }
  },
  {
   "cell_type": "code",
   "execution_count": 57,
   "outputs": [],
   "source": [
    "df_time_iter_ffp['stddev_time'] = df_time_iter_ffp['var_time'].apply(np.sqrt)"
   ],
   "metadata": {
    "collapsed": false
   }
  },
  {
   "cell_type": "code",
   "execution_count": 58,
   "outputs": [
    {
     "data": {
      "text/plain": "   Iteration  avg_time  var_time  stddev_time\n0          0  0.003477  0.000005     0.002280\n1          1  0.015938  0.000026     0.005075\n2          2  0.026971  0.000036     0.006023\n3          3  0.039014  0.000065     0.008046\n4          4  0.048060  0.000075     0.008666",
      "text/html": "<div>\n<style scoped>\n    .dataframe tbody tr th:only-of-type {\n        vertical-align: middle;\n    }\n\n    .dataframe tbody tr th {\n        vertical-align: top;\n    }\n\n    .dataframe thead th {\n        text-align: right;\n    }\n</style>\n<table border=\"1\" class=\"dataframe\">\n  <thead>\n    <tr style=\"text-align: right;\">\n      <th></th>\n      <th>Iteration</th>\n      <th>avg_time</th>\n      <th>var_time</th>\n      <th>stddev_time</th>\n    </tr>\n  </thead>\n  <tbody>\n    <tr>\n      <th>0</th>\n      <td>0</td>\n      <td>0.003477</td>\n      <td>0.000005</td>\n      <td>0.002280</td>\n    </tr>\n    <tr>\n      <th>1</th>\n      <td>1</td>\n      <td>0.015938</td>\n      <td>0.000026</td>\n      <td>0.005075</td>\n    </tr>\n    <tr>\n      <th>2</th>\n      <td>2</td>\n      <td>0.026971</td>\n      <td>0.000036</td>\n      <td>0.006023</td>\n    </tr>\n    <tr>\n      <th>3</th>\n      <td>3</td>\n      <td>0.039014</td>\n      <td>0.000065</td>\n      <td>0.008046</td>\n    </tr>\n    <tr>\n      <th>4</th>\n      <td>4</td>\n      <td>0.048060</td>\n      <td>0.000075</td>\n      <td>0.008666</td>\n    </tr>\n  </tbody>\n</table>\n</div>"
     },
     "execution_count": 58,
     "metadata": {},
     "output_type": "execute_result"
    }
   ],
   "source": [
    "df_time_iter_ffp.head()"
   ],
   "metadata": {
    "collapsed": false
   }
  },
  {
   "cell_type": "code",
   "execution_count": 59,
   "outputs": [
    {
     "data": {
      "text/plain": "Text(0, 0.5, 'Time')"
     },
     "execution_count": 59,
     "metadata": {},
     "output_type": "execute_result"
    },
    {
     "data": {
      "text/plain": "<Figure size 640x480 with 1 Axes>",
      "image/png": "[encoded data removed]"
     },
     "metadata": {},
     "output_type": "display_data"
    }
   ],
   "source": [
    "plt.plot(df_time_iter_ffp.Iteration, df_time_iter_ffp.avg_time, 'k', color='#3F7F4C')\n",
    "plt.fill_between(df_time_iter_ffp.Iteration, df_time_iter_ffp.avg_time - df_time_iter_ffp.stddev_time\\\n",
    "                 , df_time_iter_ffp.avg_time + df_time_iter_ffp.stddev_time\\\n",
    "                 , alpha=0.5, edgecolor='#3F7F4C', facecolor='#7EFF99')\n",
    "plt.title('Wall Clock Time by Iterations - Genetic Algorithm')\n",
    "plt.xlabel('Iterations')\n",
    "plt.ylabel('Time')"
   ],
   "metadata": {
    "collapsed": false
   }
  },
  {
   "cell_type": "code",
   "execution_count": 60,
   "outputs": [
    {
     "data": {
      "text/plain": "3.2178812833241244"
     },
     "execution_count": 60,
     "metadata": {},
     "output_type": "execute_result"
    }
   ],
   "source": [
    "df_time_iter_ffp.stddev_time.max()"
   ],
   "metadata": {
    "collapsed": false
   }
  },
  {
   "cell_type": "code",
   "execution_count": 61,
   "outputs": [
    {
     "data": {
      "text/plain": "2048    2048\nName: Iteration, dtype: int64"
     },
     "execution_count": 61,
     "metadata": {},
     "output_type": "execute_result"
    }
   ],
   "source": [
    "df_time_iter_ffp[df_time_iter_ffp.stddev_time == df_time_iter_ffp.stddev_time.max()].Iteration"
   ],
   "metadata": {
    "collapsed": false
   }
  },
  {
   "cell_type": "code",
   "execution_count": 62,
   "outputs": [
    {
     "data": {
      "text/plain": "24.7449050652016"
     },
     "execution_count": 62,
     "metadata": {},
     "output_type": "execute_result"
    }
   ],
   "source": [
    "df_time_iter_ffp.avg_time.max()"
   ],
   "metadata": {
    "collapsed": false
   }
  },
  {
   "cell_type": "code",
   "execution_count": 62,
   "outputs": [],
   "source": [],
   "metadata": {
    "collapsed": false
   }
  }
 ],
 "metadata": {
  "kernelspec": {
   "display_name": "Python 3 (ipykernel)",
   "language": "python",
   "name": "python3"
  },
  "language_info": {
   "codemirror_mode": {
    "name": "ipython",
    "version": 3
   },
   "file_extension": ".py",
   "mimetype": "text/x-python",
   "name": "python",
   "nbconvert_exporter": "python",
   "pygments_lexer": "ipython3",
   "version": "3.11.4"
  }
 },
 "nbformat": 4,
 "nbformat_minor": 5
}
