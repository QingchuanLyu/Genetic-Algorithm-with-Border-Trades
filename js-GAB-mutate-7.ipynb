{
 "cells": [
  {
   "cell_type": "code",
   "execution_count": 1,
   "outputs": [
    {
     "name": "stdout",
     "output_type": "stream",
     "text": [
      "Processing ./mlrose\r\n",
      "  Preparing metadata (setup.py) ... \u001B[?25ldone\r\n",
      "\u001B[?25hRequirement already satisfied: numpy in /Users/qingchuanlyu/anaconda3/envs/cs7641/lib/python3.10/site-packages (from mlrose_hiive==2.2.4) (1.26.4)\r\n",
      "Requirement already satisfied: scipy in /Users/qingchuanlyu/anaconda3/envs/cs7641/lib/python3.10/site-packages (from mlrose_hiive==2.2.4) (1.14.1)\r\n",
      "Requirement already satisfied: scikit-learn in /Users/qingchuanlyu/anaconda3/envs/cs7641/lib/python3.10/site-packages (from mlrose_hiive==2.2.4) (1.4.2)\r\n",
      "Requirement already satisfied: pandas in /Users/qingchuanlyu/anaconda3/envs/cs7641/lib/python3.10/site-packages (from mlrose_hiive==2.2.4) (2.2.3)\r\n",
      "Requirement already satisfied: networkx in /Users/qingchuanlyu/anaconda3/envs/cs7641/lib/python3.10/site-packages (from mlrose_hiive==2.2.4) (3.3)\r\n",
      "Requirement already satisfied: joblib in /Users/qingchuanlyu/anaconda3/envs/cs7641/lib/python3.10/site-packages (from mlrose_hiive==2.2.4) (1.4.2)\r\n",
      "Requirement already satisfied: python-dateutil>=2.8.2 in /Users/qingchuanlyu/anaconda3/envs/cs7641/lib/python3.10/site-packages (from pandas->mlrose_hiive==2.2.4) (2.9.0.post0)\r\n",
      "Requirement already satisfied: pytz>=2020.1 in /Users/qingchuanlyu/anaconda3/envs/cs7641/lib/python3.10/site-packages (from pandas->mlrose_hiive==2.2.4) (2024.1)\r\n",
      "Requirement already satisfied: tzdata>=2022.7 in /Users/qingchuanlyu/anaconda3/envs/cs7641/lib/python3.10/site-packages (from pandas->mlrose_hiive==2.2.4) (2024.2)\r\n",
      "Requirement already satisfied: threadpoolctl>=2.0.0 in /Users/qingchuanlyu/anaconda3/envs/cs7641/lib/python3.10/site-packages (from scikit-learn->mlrose_hiive==2.2.4) (3.5.0)\r\n",
      "Requirement already satisfied: six>=1.5 in /Users/qingchuanlyu/anaconda3/envs/cs7641/lib/python3.10/site-packages (from python-dateutil>=2.8.2->pandas->mlrose_hiive==2.2.4) (1.16.0)\r\n",
      "Building wheels for collected packages: mlrose_hiive\r\n",
      "  Building wheel for mlrose_hiive (setup.py) ... \u001B[?25ldone\r\n",
      "\u001B[?25h  Created wheel for mlrose_hiive: filename=mlrose_hiive-2.2.4-py3-none-any.whl size=132359 sha256=93cec738f22f72a5ee54c3f6f66c24050a76d6798e49fa2afd94f4b75267f2ca\r\n",
      "  Stored in directory: /private/var/folders/c6/5zg6wy5n121f2pzclkwbzplm0000gn/T/pip-ephem-wheel-cache-x4255bo8/wheels/77/c5/de/7a63a2c78a12ad335a5091a9209439e12d86616744464a5ae4\r\n",
      "Successfully built mlrose_hiive\r\n",
      "Installing collected packages: mlrose_hiive\r\n",
      "  Attempting uninstall: mlrose_hiive\r\n",
      "    Found existing installation: mlrose_hiive 2.2.4\r\n",
      "    Uninstalling mlrose_hiive-2.2.4:\r\n",
      "      Successfully uninstalled mlrose_hiive-2.2.4\r\n",
      "Successfully installed mlrose_hiive-2.2.4\r\n",
      "Note: you may need to restart the kernel to use updated packages.\n"
     ]
    }
   ],
   "source": [
    "pip install /Users/qingchuanlyu/Documents/Conferences/ICML-2025/icml2025/code/mlrose"
   ],
   "metadata": {
    "collapsed": false
   }
  },
  {
   "cell_type": "code",
   "execution_count": 2,
   "outputs": [
    {
     "data": {
      "text/plain": "'\\n# B.\\ndef border_swap(problem, next_gen, child, schedule):\\n    if schedule is None:\\n        print(\"order is none.\")\\n        return next_gen\\n    if len(next_gen) == 0:\\n        next_gen.append(child)\\n    else:\\n        for i in schedule:\\n            if schedule[i] == -1 and i < len(schedule) - 1:\\n                schedule[i-1], schedule[i+1] = schedule[i+1], schedule[i-1]\\n        temp_schedule = [i for i in schedule if i != -1]\\n        #if problem.eval_fitness(temp_schedule) > problem.eval_fitness(child):\\n        next_gen.append(temp_schedule)\\n    return next_gen\\n'"
     },
     "execution_count": 2,
     "metadata": {},
     "output_type": "execute_result"
    }
   ],
   "source": [
    "\"\"\"\n",
    "# B.\n",
    "def border_swap(problem, next_gen, child, schedule):\n",
    "    if schedule is None:\n",
    "        print(\"order is none.\")\n",
    "        return next_gen\n",
    "    if len(next_gen) == 0:\n",
    "        next_gen.append(child)\n",
    "    else:\n",
    "        for i in schedule:\n",
    "            if schedule[i] == -1 and i < len(schedule) - 1:\n",
    "                schedule[i-1], schedule[i+1] = schedule[i+1], schedule[i-1]\n",
    "        temp_schedule = [i for i in schedule if i != -1]\n",
    "        #if problem.eval_fitness(temp_schedule) > problem.eval_fitness(child):\n",
    "        next_gen.append(temp_schedule)\n",
    "    return next_gen\n",
    "\"\"\""
   ],
   "metadata": {
    "collapsed": false
   }
  },
  {
   "cell_type": "code",
   "execution_count": 3,
   "id": "b243b22c",
   "metadata": {},
   "outputs": [],
   "source": [
    "import mlrose_hiive as mh"
   ]
  },
  {
   "cell_type": "code",
   "execution_count": 4,
   "outputs": [],
   "source": [
    "#help(mh.runners)"
   ],
   "metadata": {
    "collapsed": false
   }
  },
  {
   "cell_type": "code",
   "execution_count": 5,
   "id": "cb9e02c3",
   "metadata": {},
   "outputs": [],
   "source": [
    "import numpy as np\n",
    "\n",
    "from sklearn.model_selection import train_test_split\n",
    "from sklearn.preprocessing import MinMaxScaler, OneHotEncoder\n",
    "from sklearn.metrics import accuracy_score\n",
    "\n",
    "from IPython.core.display import display, HTML # for some notebook formatting.\n",
    "\n",
    "import logging\n",
    "import networkx as nx\n",
    "import matplotlib.pyplot as plt\n",
    "import string\n",
    "\n",
    "\n",
    "from ast import literal_eval\n",
    "\n",
    "from sklearn.model_selection import train_test_split\n",
    "from sklearn.preprocessing import MinMaxScaler, OneHotEncoder\n",
    "from sklearn.metrics import accuracy_score\n",
    "\n",
    "# switch off the chatter\n",
    "logging.basicConfig(level=logging.WARNING)"
   ]
  },
  {
   "cell_type": "code",
   "execution_count": 6,
   "id": "f314d532",
   "metadata": {},
   "outputs": [],
   "source": [
    "import pandas as pd\n",
    "import utility as u\n",
    "import importlib"
   ]
  },
  {
   "cell_type": "code",
   "execution_count": 7,
   "outputs": [],
   "source": [
    "class Task:\n",
    "    def __init__(self, task_id, duration, deadline, profit):\n",
    "        self.task_id = task_id\n",
    "        self.duration = duration\n",
    "        self.deadline = deadline\n",
    "        self.profit = profit"
   ],
   "metadata": {
    "collapsed": false
   }
  },
  {
   "cell_type": "code",
   "execution_count": 8,
   "outputs": [],
   "source": [
    "size = 7\n",
    "importlib.reload(u)\n",
    "tasks = u.generate_random_tasks(size, 5, 80, 25)"
   ],
   "metadata": {
    "collapsed": false
   }
  },
  {
   "cell_type": "code",
   "execution_count": 9,
   "outputs": [],
   "source": [
    "with open(f\"{size}_tasks.txt\", \"a\") as f:\n",
    "    for t in tasks:\n",
    "        print(t.task_id, t.duration, t.deadline, t.profit, file=f)\n"
   ],
   "metadata": {
    "collapsed": false
   }
  },
  {
   "cell_type": "code",
   "execution_count": 10,
   "id": "c907b845",
   "metadata": {},
   "outputs": [],
   "source": [
    "# # Job Scheduling\n",
    "problem_ffp = mh.JobSchedulingGenerator().generate(seed=0, size=size, tasks=tasks, break_time=1, work_limit=2)\n",
    "#state = problem_ffp.get_state()"
   ]
  },
  {
   "cell_type": "code",
   "execution_count": 11,
   "outputs": [
    {
     "data": {
      "text/plain": "7"
     },
     "execution_count": 11,
     "metadata": {},
     "output_type": "execute_result"
    }
   ],
   "source": [
    "problem_ffp.length"
   ],
   "metadata": {
    "collapsed": false
   }
  },
  {
   "cell_type": "code",
   "execution_count": 12,
   "outputs": [
    {
     "data": {
      "text/plain": "64.0"
     },
     "execution_count": 12,
     "metadata": {},
     "output_type": "execute_result"
    }
   ],
   "source": [
    "problem_ffp.fitness"
   ],
   "metadata": {
    "collapsed": false
   }
  },
  {
   "cell_type": "code",
   "execution_count": 13,
   "id": "34174e8f",
   "metadata": {},
   "outputs": [],
   "source": [
    "# GA runner class\n",
    "# 1. tune population size and mutation rates\n",
    "ga_ffp = mh.GAJSRunner(problem=problem_ffp,\n",
    "              experiment_name='ffp_ga',\n",
    "              output_directory=None, # note: specify an output directory to have results saved to disk\n",
    "              seed=0,\n",
    "              iteration_list=2 ** np.arange(12),\n",
    "              max_attempts=500,\n",
    "              population_sizes=[40, 50, 60],\n",
    "              mutation_rates=[0.07, 0.08]) # Probability of a mutation at each element of the state vector during reproduction, expressed as a value between 0 and 1.\n",
    "\n",
    "# the two data frames will contain the results\n",
    "df_run_stats_ffp, df_run_curves_ffp = ga_ffp.run()"
   ]
  },
  {
   "cell_type": "code",
   "execution_count": 14,
   "id": "3139bc51",
   "metadata": {},
   "outputs": [
    {
     "data": {
      "text/plain": "(3139, 7)"
     },
     "execution_count": 14,
     "metadata": {},
     "output_type": "execute_result"
    }
   ],
   "source": [
    "df_run_curves_ffp.shape"
   ]
  },
  {
   "cell_type": "code",
   "execution_count": 15,
   "id": "78ec6ce8",
   "metadata": {},
   "outputs": [
    {
     "data": {
      "text/plain": "   Iteration      Time  Fitness  FEvals  Population Size  Mutation Rate  \\\n0          0  0.001504     80.0     0.0               40           0.07   \n1          1  0.015191    105.0     2.0               40           0.07   \n2          2  0.023021    110.0     4.0               40           0.07   \n3          3  0.034162    114.0     6.0               40           0.07   \n4          4  0.037985    114.0     7.0               40           0.07   \n\n   max_iters  \n0       2048  \n1       2048  \n2       2048  \n3       2048  \n4       2048  ",
      "text/html": "<div>\n<style scoped>\n    .dataframe tbody tr th:only-of-type {\n        vertical-align: middle;\n    }\n\n    .dataframe tbody tr th {\n        vertical-align: top;\n    }\n\n    .dataframe thead th {\n        text-align: right;\n    }\n</style>\n<table border=\"1\" class=\"dataframe\">\n  <thead>\n    <tr style=\"text-align: right;\">\n      <th></th>\n      <th>Iteration</th>\n      <th>Time</th>\n      <th>Fitness</th>\n      <th>FEvals</th>\n      <th>Population Size</th>\n      <th>Mutation Rate</th>\n      <th>max_iters</th>\n    </tr>\n  </thead>\n  <tbody>\n    <tr>\n      <th>0</th>\n      <td>0</td>\n      <td>0.001504</td>\n      <td>80.0</td>\n      <td>0.0</td>\n      <td>40</td>\n      <td>0.07</td>\n      <td>2048</td>\n    </tr>\n    <tr>\n      <th>1</th>\n      <td>1</td>\n      <td>0.015191</td>\n      <td>105.0</td>\n      <td>2.0</td>\n      <td>40</td>\n      <td>0.07</td>\n      <td>2048</td>\n    </tr>\n    <tr>\n      <th>2</th>\n      <td>2</td>\n      <td>0.023021</td>\n      <td>110.0</td>\n      <td>4.0</td>\n      <td>40</td>\n      <td>0.07</td>\n      <td>2048</td>\n    </tr>\n    <tr>\n      <th>3</th>\n      <td>3</td>\n      <td>0.034162</td>\n      <td>114.0</td>\n      <td>6.0</td>\n      <td>40</td>\n      <td>0.07</td>\n      <td>2048</td>\n    </tr>\n    <tr>\n      <th>4</th>\n      <td>4</td>\n      <td>0.037985</td>\n      <td>114.0</td>\n      <td>7.0</td>\n      <td>40</td>\n      <td>0.07</td>\n      <td>2048</td>\n    </tr>\n  </tbody>\n</table>\n</div>"
     },
     "execution_count": 15,
     "metadata": {},
     "output_type": "execute_result"
    }
   ],
   "source": [
    "df_run_curves_ffp.head()"
   ]
  },
  {
   "cell_type": "code",
   "execution_count": 16,
   "id": "a6cb09ff",
   "metadata": {},
   "outputs": [
    {
     "data": {
      "text/plain": "161.0"
     },
     "execution_count": 16,
     "metadata": {},
     "output_type": "execute_result"
    }
   ],
   "source": [
    "df_run_curves_ffp['Fitness'].max()"
   ]
  },
  {
   "cell_type": "code",
   "execution_count": 17,
   "outputs": [
    {
     "data": {
      "text/plain": "      Iteration      Time  Fitness  FEvals  Population Size  Mutation Rate  \\\n16           16  0.134241    161.0    24.0               40           0.07   \n17           17  0.147767    161.0    25.0               40           0.07   \n18           18  0.158496    161.0    26.0               40           0.07   \n19           19  0.182946    161.0    27.0               40           0.07   \n20           20  0.190837    161.0    28.0               40           0.07   \n...         ...       ...      ...     ...              ...            ...   \n3134        520  0.028485    161.0   532.0               60           0.08   \n3135        521  0.031624    161.0   533.0               60           0.08   \n3136        522  0.044390    161.0   534.0               60           0.08   \n3137        523  0.049069    161.0   535.0               60           0.08   \n3138        524  0.054091    161.0   536.0               60           0.08   \n\n      max_iters  \n16         2048  \n17         2048  \n18         2048  \n19         2048  \n20         2048  \n...         ...  \n3134       2048  \n3135       2048  \n3136       2048  \n3137       2048  \n3138       2048  \n\n[3006 rows x 7 columns]",
      "text/html": "<div>\n<style scoped>\n    .dataframe tbody tr th:only-of-type {\n        vertical-align: middle;\n    }\n\n    .dataframe tbody tr th {\n        vertical-align: top;\n    }\n\n    .dataframe thead th {\n        text-align: right;\n    }\n</style>\n<table border=\"1\" class=\"dataframe\">\n  <thead>\n    <tr style=\"text-align: right;\">\n      <th></th>\n      <th>Iteration</th>\n      <th>Time</th>\n      <th>Fitness</th>\n      <th>FEvals</th>\n      <th>Population Size</th>\n      <th>Mutation Rate</th>\n      <th>max_iters</th>\n    </tr>\n  </thead>\n  <tbody>\n    <tr>\n      <th>16</th>\n      <td>16</td>\n      <td>0.134241</td>\n      <td>161.0</td>\n      <td>24.0</td>\n      <td>40</td>\n      <td>0.07</td>\n      <td>2048</td>\n    </tr>\n    <tr>\n      <th>17</th>\n      <td>17</td>\n      <td>0.147767</td>\n      <td>161.0</td>\n      <td>25.0</td>\n      <td>40</td>\n      <td>0.07</td>\n      <td>2048</td>\n    </tr>\n    <tr>\n      <th>18</th>\n      <td>18</td>\n      <td>0.158496</td>\n      <td>161.0</td>\n      <td>26.0</td>\n      <td>40</td>\n      <td>0.07</td>\n      <td>2048</td>\n    </tr>\n    <tr>\n      <th>19</th>\n      <td>19</td>\n      <td>0.182946</td>\n      <td>161.0</td>\n      <td>27.0</td>\n      <td>40</td>\n      <td>0.07</td>\n      <td>2048</td>\n    </tr>\n    <tr>\n      <th>20</th>\n      <td>20</td>\n      <td>0.190837</td>\n      <td>161.0</td>\n      <td>28.0</td>\n      <td>40</td>\n      <td>0.07</td>\n      <td>2048</td>\n    </tr>\n    <tr>\n      <th>...</th>\n      <td>...</td>\n      <td>...</td>\n      <td>...</td>\n      <td>...</td>\n      <td>...</td>\n      <td>...</td>\n      <td>...</td>\n    </tr>\n    <tr>\n      <th>3134</th>\n      <td>520</td>\n      <td>0.028485</td>\n      <td>161.0</td>\n      <td>532.0</td>\n      <td>60</td>\n      <td>0.08</td>\n      <td>2048</td>\n    </tr>\n    <tr>\n      <th>3135</th>\n      <td>521</td>\n      <td>0.031624</td>\n      <td>161.0</td>\n      <td>533.0</td>\n      <td>60</td>\n      <td>0.08</td>\n      <td>2048</td>\n    </tr>\n    <tr>\n      <th>3136</th>\n      <td>522</td>\n      <td>0.044390</td>\n      <td>161.0</td>\n      <td>534.0</td>\n      <td>60</td>\n      <td>0.08</td>\n      <td>2048</td>\n    </tr>\n    <tr>\n      <th>3137</th>\n      <td>523</td>\n      <td>0.049069</td>\n      <td>161.0</td>\n      <td>535.0</td>\n      <td>60</td>\n      <td>0.08</td>\n      <td>2048</td>\n    </tr>\n    <tr>\n      <th>3138</th>\n      <td>524</td>\n      <td>0.054091</td>\n      <td>161.0</td>\n      <td>536.0</td>\n      <td>60</td>\n      <td>0.08</td>\n      <td>2048</td>\n    </tr>\n  </tbody>\n</table>\n<p>3006 rows × 7 columns</p>\n</div>"
     },
     "execution_count": 17,
     "metadata": {},
     "output_type": "execute_result"
    }
   ],
   "source": [
    "df_run_curves_ffp[df_run_curves_ffp.Fitness == df_run_curves_ffp['Fitness'].max()]"
   ],
   "metadata": {
    "collapsed": false
   }
  },
  {
   "cell_type": "code",
   "execution_count": 18,
   "outputs": [],
   "source": [
    "# need to check Time and FEvals"
   ],
   "metadata": {
    "collapsed": false
   }
  },
  {
   "cell_type": "code",
   "execution_count": 22,
   "id": "59c463dd",
   "metadata": {},
   "outputs": [],
   "source": [
    "df_curves_bestfitness_ffp = df_run_curves_ffp[(df_run_curves_ffp['Fitness'] == df_run_curves_ffp['Fitness'].max())]"
   ]
  },
  {
   "cell_type": "code",
   "execution_count": 23,
   "id": "5e04b1a5",
   "metadata": {},
   "outputs": [
    {
     "data": {
      "text/plain": "      Iteration      Time  Fitness  FEvals  Population Size  Mutation Rate  \\\n16           16  0.134241    161.0    24.0               40           0.07   \n17           17  0.147767    161.0    25.0               40           0.07   \n18           18  0.158496    161.0    26.0               40           0.07   \n19           19  0.182946    161.0    27.0               40           0.07   \n20           20  0.190837    161.0    28.0               40           0.07   \n...         ...       ...      ...     ...              ...            ...   \n3134        520  0.028485    161.0   532.0               60           0.08   \n3135        521  0.031624    161.0   533.0               60           0.08   \n3136        522  0.044390    161.0   534.0               60           0.08   \n3137        523  0.049069    161.0   535.0               60           0.08   \n3138        524  0.054091    161.0   536.0               60           0.08   \n\n      max_iters  \n16         2048  \n17         2048  \n18         2048  \n19         2048  \n20         2048  \n...         ...  \n3134       2048  \n3135       2048  \n3136       2048  \n3137       2048  \n3138       2048  \n\n[3006 rows x 7 columns]",
      "text/html": "<div>\n<style scoped>\n    .dataframe tbody tr th:only-of-type {\n        vertical-align: middle;\n    }\n\n    .dataframe tbody tr th {\n        vertical-align: top;\n    }\n\n    .dataframe thead th {\n        text-align: right;\n    }\n</style>\n<table border=\"1\" class=\"dataframe\">\n  <thead>\n    <tr style=\"text-align: right;\">\n      <th></th>\n      <th>Iteration</th>\n      <th>Time</th>\n      <th>Fitness</th>\n      <th>FEvals</th>\n      <th>Population Size</th>\n      <th>Mutation Rate</th>\n      <th>max_iters</th>\n    </tr>\n  </thead>\n  <tbody>\n    <tr>\n      <th>16</th>\n      <td>16</td>\n      <td>0.134241</td>\n      <td>161.0</td>\n      <td>24.0</td>\n      <td>40</td>\n      <td>0.07</td>\n      <td>2048</td>\n    </tr>\n    <tr>\n      <th>17</th>\n      <td>17</td>\n      <td>0.147767</td>\n      <td>161.0</td>\n      <td>25.0</td>\n      <td>40</td>\n      <td>0.07</td>\n      <td>2048</td>\n    </tr>\n    <tr>\n      <th>18</th>\n      <td>18</td>\n      <td>0.158496</td>\n      <td>161.0</td>\n      <td>26.0</td>\n      <td>40</td>\n      <td>0.07</td>\n      <td>2048</td>\n    </tr>\n    <tr>\n      <th>19</th>\n      <td>19</td>\n      <td>0.182946</td>\n      <td>161.0</td>\n      <td>27.0</td>\n      <td>40</td>\n      <td>0.07</td>\n      <td>2048</td>\n    </tr>\n    <tr>\n      <th>20</th>\n      <td>20</td>\n      <td>0.190837</td>\n      <td>161.0</td>\n      <td>28.0</td>\n      <td>40</td>\n      <td>0.07</td>\n      <td>2048</td>\n    </tr>\n    <tr>\n      <th>...</th>\n      <td>...</td>\n      <td>...</td>\n      <td>...</td>\n      <td>...</td>\n      <td>...</td>\n      <td>...</td>\n      <td>...</td>\n    </tr>\n    <tr>\n      <th>3134</th>\n      <td>520</td>\n      <td>0.028485</td>\n      <td>161.0</td>\n      <td>532.0</td>\n      <td>60</td>\n      <td>0.08</td>\n      <td>2048</td>\n    </tr>\n    <tr>\n      <th>3135</th>\n      <td>521</td>\n      <td>0.031624</td>\n      <td>161.0</td>\n      <td>533.0</td>\n      <td>60</td>\n      <td>0.08</td>\n      <td>2048</td>\n    </tr>\n    <tr>\n      <th>3136</th>\n      <td>522</td>\n      <td>0.044390</td>\n      <td>161.0</td>\n      <td>534.0</td>\n      <td>60</td>\n      <td>0.08</td>\n      <td>2048</td>\n    </tr>\n    <tr>\n      <th>3137</th>\n      <td>523</td>\n      <td>0.049069</td>\n      <td>161.0</td>\n      <td>535.0</td>\n      <td>60</td>\n      <td>0.08</td>\n      <td>2048</td>\n    </tr>\n    <tr>\n      <th>3138</th>\n      <td>524</td>\n      <td>0.054091</td>\n      <td>161.0</td>\n      <td>536.0</td>\n      <td>60</td>\n      <td>0.08</td>\n      <td>2048</td>\n    </tr>\n  </tbody>\n</table>\n<p>3006 rows × 7 columns</p>\n</div>"
     },
     "execution_count": 23,
     "metadata": {},
     "output_type": "execute_result"
    }
   ],
   "source": [
    "df_curves_bestfitness_ffp"
   ]
  },
  {
   "cell_type": "code",
   "execution_count": 24,
   "outputs": [
    {
     "data": {
      "text/plain": "   Population Size  Mutation Rate  FEvals  Iteration      Time\n0               40           0.07    24.0      266.0  0.134241\n1               40           0.08    25.0      267.0  0.000913\n2               50           0.07    39.0      281.0  0.000913\n3               50           0.08    26.0      265.0  0.124712\n4               60           0.07    39.0      280.0  0.000913\n5               60           0.08    36.0      274.0  0.000913",
      "text/html": "<div>\n<style scoped>\n    .dataframe tbody tr th:only-of-type {\n        vertical-align: middle;\n    }\n\n    .dataframe tbody tr th {\n        vertical-align: top;\n    }\n\n    .dataframe thead th {\n        text-align: right;\n    }\n</style>\n<table border=\"1\" class=\"dataframe\">\n  <thead>\n    <tr style=\"text-align: right;\">\n      <th></th>\n      <th>Population Size</th>\n      <th>Mutation Rate</th>\n      <th>FEvals</th>\n      <th>Iteration</th>\n      <th>Time</th>\n    </tr>\n  </thead>\n  <tbody>\n    <tr>\n      <th>0</th>\n      <td>40</td>\n      <td>0.07</td>\n      <td>24.0</td>\n      <td>266.0</td>\n      <td>0.134241</td>\n    </tr>\n    <tr>\n      <th>1</th>\n      <td>40</td>\n      <td>0.08</td>\n      <td>25.0</td>\n      <td>267.0</td>\n      <td>0.000913</td>\n    </tr>\n    <tr>\n      <th>2</th>\n      <td>50</td>\n      <td>0.07</td>\n      <td>39.0</td>\n      <td>281.0</td>\n      <td>0.000913</td>\n    </tr>\n    <tr>\n      <th>3</th>\n      <td>50</td>\n      <td>0.08</td>\n      <td>26.0</td>\n      <td>265.0</td>\n      <td>0.124712</td>\n    </tr>\n    <tr>\n      <th>4</th>\n      <td>60</td>\n      <td>0.07</td>\n      <td>39.0</td>\n      <td>280.0</td>\n      <td>0.000913</td>\n    </tr>\n    <tr>\n      <th>5</th>\n      <td>60</td>\n      <td>0.08</td>\n      <td>36.0</td>\n      <td>274.0</td>\n      <td>0.000913</td>\n    </tr>\n  </tbody>\n</table>\n</div>"
     },
     "execution_count": 24,
     "metadata": {},
     "output_type": "execute_result"
    }
   ],
   "source": [
    "df_curves_bestfitness_ffp.groupby(['Population Size', 'Mutation Rate']).agg({'FEvals': 'min', 'Iteration': 'mean', 'Time': 'min'}).reset_index()\n",
    "# Temp = 1 => less Fevals. Pick temp=1"
   ],
   "metadata": {
    "collapsed": false
   }
  },
  {
   "cell_type": "code",
   "execution_count": 20,
   "id": "6e0ad656",
   "metadata": {},
   "outputs": [],
   "source": [
    "# tentatively, pick pop size = 50 and mutation_rate = 0.08"
   ]
  },
  {
   "cell_type": "code",
   "execution_count": 25,
   "id": "62fe58b2",
   "metadata": {},
   "outputs": [
    {
     "data": {
      "text/plain": "   Iteration      Time  Fitness  FEvals  Population Size  Mutation Rate  \\\n0          0  0.001504     80.0     0.0               40           0.07   \n1          1  0.015191    105.0     2.0               40           0.07   \n2          2  0.023021    110.0     4.0               40           0.07   \n3          3  0.034162    114.0     6.0               40           0.07   \n4          4  0.037985    114.0     7.0               40           0.07   \n\n   max_iters  \n0       2048  \n1       2048  \n2       2048  \n3       2048  \n4       2048  ",
      "text/html": "<div>\n<style scoped>\n    .dataframe tbody tr th:only-of-type {\n        vertical-align: middle;\n    }\n\n    .dataframe tbody tr th {\n        vertical-align: top;\n    }\n\n    .dataframe thead th {\n        text-align: right;\n    }\n</style>\n<table border=\"1\" class=\"dataframe\">\n  <thead>\n    <tr style=\"text-align: right;\">\n      <th></th>\n      <th>Iteration</th>\n      <th>Time</th>\n      <th>Fitness</th>\n      <th>FEvals</th>\n      <th>Population Size</th>\n      <th>Mutation Rate</th>\n      <th>max_iters</th>\n    </tr>\n  </thead>\n  <tbody>\n    <tr>\n      <th>0</th>\n      <td>0</td>\n      <td>0.001504</td>\n      <td>80.0</td>\n      <td>0.0</td>\n      <td>40</td>\n      <td>0.07</td>\n      <td>2048</td>\n    </tr>\n    <tr>\n      <th>1</th>\n      <td>1</td>\n      <td>0.015191</td>\n      <td>105.0</td>\n      <td>2.0</td>\n      <td>40</td>\n      <td>0.07</td>\n      <td>2048</td>\n    </tr>\n    <tr>\n      <th>2</th>\n      <td>2</td>\n      <td>0.023021</td>\n      <td>110.0</td>\n      <td>4.0</td>\n      <td>40</td>\n      <td>0.07</td>\n      <td>2048</td>\n    </tr>\n    <tr>\n      <th>3</th>\n      <td>3</td>\n      <td>0.034162</td>\n      <td>114.0</td>\n      <td>6.0</td>\n      <td>40</td>\n      <td>0.07</td>\n      <td>2048</td>\n    </tr>\n    <tr>\n      <th>4</th>\n      <td>4</td>\n      <td>0.037985</td>\n      <td>114.0</td>\n      <td>7.0</td>\n      <td>40</td>\n      <td>0.07</td>\n      <td>2048</td>\n    </tr>\n  </tbody>\n</table>\n</div>"
     },
     "execution_count": 25,
     "metadata": {},
     "output_type": "execute_result"
    }
   ],
   "source": [
    "df_run_curves_ffp.head()"
   ]
  },
  {
   "cell_type": "code",
   "execution_count": 27,
   "id": "4ce94f88",
   "metadata": {},
   "outputs": [],
   "source": [
    "# clean up an existing result table to store the iterative resutls\n",
    "df_iter_curves_ffp = df_run_curves_ffp.drop(df_run_curves_ffp.index, inplace=False)"
   ]
  },
  {
   "cell_type": "code",
   "execution_count": 28,
   "outputs": [],
   "source": [
    "# GA runner\n",
    "# 2. iterate through 10 seeds\n",
    "for s in range(10):\n",
    "    ga_ffp = mh.GAJSRunner(problem=problem_ffp,\n",
    "              experiment_name='ffp_ga_{s}',\n",
    "              output_directory=None, # note: specify an output directory to have results saved to disk\n",
    "              seed=s,\n",
    "              iteration_list=2 ** np.arange(12),\n",
    "              max_attempts=500,\n",
    "              population_sizes=[50], # 20 bits in total\n",
    "              mutation_rates=[0.08])\n",
    "\n",
    "    # the two data frames will contain the results\n",
    "    df_run_stats_ffp_sub, df_run_curves_ffp_sub = ga_ffp.run()\n",
    "    # append to the result df\n",
    "    df_iter_curves_ffp = pd.concat([df_iter_curves_ffp, df_run_curves_ffp_sub])"
   ],
   "metadata": {
    "collapsed": false
   }
  },
  {
   "cell_type": "code",
   "execution_count": 29,
   "outputs": [
    {
     "data": {
      "text/plain": "(5187, 7)"
     },
     "execution_count": 29,
     "metadata": {},
     "output_type": "execute_result"
    }
   ],
   "source": [
    "df_iter_curves_ffp.shape"
   ],
   "metadata": {
    "collapsed": false
   }
  },
  {
   "cell_type": "code",
   "execution_count": 30,
   "outputs": [
    {
     "data": {
      "text/plain": "   Iteration      Time  Fitness  FEvals  Population Size  Mutation Rate  \\\n0          0  0.003559     80.0     0.0               50           0.08   \n1          1  0.028637    108.0     2.0               50           0.08   \n2          2  0.043016    117.0     4.0               50           0.08   \n3          3  0.053817    123.0     6.0               50           0.08   \n4          4  0.062218    123.0     7.0               50           0.08   \n\n   max_iters  \n0       2048  \n1       2048  \n2       2048  \n3       2048  \n4       2048  ",
      "text/html": "<div>\n<style scoped>\n    .dataframe tbody tr th:only-of-type {\n        vertical-align: middle;\n    }\n\n    .dataframe tbody tr th {\n        vertical-align: top;\n    }\n\n    .dataframe thead th {\n        text-align: right;\n    }\n</style>\n<table border=\"1\" class=\"dataframe\">\n  <thead>\n    <tr style=\"text-align: right;\">\n      <th></th>\n      <th>Iteration</th>\n      <th>Time</th>\n      <th>Fitness</th>\n      <th>FEvals</th>\n      <th>Population Size</th>\n      <th>Mutation Rate</th>\n      <th>max_iters</th>\n    </tr>\n  </thead>\n  <tbody>\n    <tr>\n      <th>0</th>\n      <td>0</td>\n      <td>0.003559</td>\n      <td>80.0</td>\n      <td>0.0</td>\n      <td>50</td>\n      <td>0.08</td>\n      <td>2048</td>\n    </tr>\n    <tr>\n      <th>1</th>\n      <td>1</td>\n      <td>0.028637</td>\n      <td>108.0</td>\n      <td>2.0</td>\n      <td>50</td>\n      <td>0.08</td>\n      <td>2048</td>\n    </tr>\n    <tr>\n      <th>2</th>\n      <td>2</td>\n      <td>0.043016</td>\n      <td>117.0</td>\n      <td>4.0</td>\n      <td>50</td>\n      <td>0.08</td>\n      <td>2048</td>\n    </tr>\n    <tr>\n      <th>3</th>\n      <td>3</td>\n      <td>0.053817</td>\n      <td>123.0</td>\n      <td>6.0</td>\n      <td>50</td>\n      <td>0.08</td>\n      <td>2048</td>\n    </tr>\n    <tr>\n      <th>4</th>\n      <td>4</td>\n      <td>0.062218</td>\n      <td>123.0</td>\n      <td>7.0</td>\n      <td>50</td>\n      <td>0.08</td>\n      <td>2048</td>\n    </tr>\n  </tbody>\n</table>\n</div>"
     },
     "execution_count": 30,
     "metadata": {},
     "output_type": "execute_result"
    }
   ],
   "source": [
    "df_iter_curves_ffp.head()"
   ],
   "metadata": {
    "collapsed": false
   }
  },
  {
   "cell_type": "code",
   "execution_count": 31,
   "outputs": [
    {
     "data": {
      "text/plain": "161.0"
     },
     "execution_count": 31,
     "metadata": {},
     "output_type": "execute_result"
    }
   ],
   "source": [
    "df_iter_curves_ffp.Fitness.max()"
   ],
   "metadata": {
    "collapsed": false
   }
  },
  {
   "cell_type": "code",
   "execution_count": 32,
   "outputs": [],
   "source": [
    "df_iter_curves_ffp.to_csv(f'gab_mutate_js_{size}.csv')"
   ],
   "metadata": {
    "collapsed": false
   }
  },
  {
   "cell_type": "code",
   "execution_count": 1,
   "outputs": [],
   "source": [
    "import pandas as pd\n",
    "import numpy as np\n",
    "size = 7\n",
    "df_iter_curves_ffp = pd.read_csv(f'../../csv-files/gab_mutate_js_{size}.csv')"
   ],
   "metadata": {
    "collapsed": false
   }
  },
  {
   "cell_type": "code",
   "execution_count": 33,
   "outputs": [
    {
     "data": {
      "text/plain": "526"
     },
     "execution_count": 33,
     "metadata": {},
     "output_type": "execute_result"
    }
   ],
   "source": [
    "df_iter_curves_ffp.Iteration.max()"
   ],
   "metadata": {
    "collapsed": false
   }
  },
  {
   "cell_type": "code",
   "execution_count": 2,
   "outputs": [],
   "source": [
    "df_fitness_iter_ffp = df_iter_curves_ffp.groupby('Iteration')\\\n",
    "                                .agg(avg_fitness=('Fitness', 'mean'), var_fitness = ('Fitness', 'var'))\\\n",
    "                                .reset_index()"
   ],
   "metadata": {
    "collapsed": false
   }
  },
  {
   "cell_type": "code",
   "execution_count": 35,
   "outputs": [
    {
     "data": {
      "text/plain": "(527, 3)"
     },
     "execution_count": 35,
     "metadata": {},
     "output_type": "execute_result"
    }
   ],
   "source": [
    "df_fitness_iter_ffp.shape"
   ],
   "metadata": {
    "collapsed": false
   }
  },
  {
   "cell_type": "code",
   "execution_count": 36,
   "outputs": [
    {
     "data": {
      "text/plain": "   Iteration  avg_fitness  var_fitness\n0          0         79.0   336.444444\n1          1        107.0    34.444444\n2          2        113.6    15.600000\n3          3        117.6    21.377778\n4          4        121.7    39.788889",
      "text/html": "<div>\n<style scoped>\n    .dataframe tbody tr th:only-of-type {\n        vertical-align: middle;\n    }\n\n    .dataframe tbody tr th {\n        vertical-align: top;\n    }\n\n    .dataframe thead th {\n        text-align: right;\n    }\n</style>\n<table border=\"1\" class=\"dataframe\">\n  <thead>\n    <tr style=\"text-align: right;\">\n      <th></th>\n      <th>Iteration</th>\n      <th>avg_fitness</th>\n      <th>var_fitness</th>\n    </tr>\n  </thead>\n  <tbody>\n    <tr>\n      <th>0</th>\n      <td>0</td>\n      <td>79.0</td>\n      <td>336.444444</td>\n    </tr>\n    <tr>\n      <th>1</th>\n      <td>1</td>\n      <td>107.0</td>\n      <td>34.444444</td>\n    </tr>\n    <tr>\n      <th>2</th>\n      <td>2</td>\n      <td>113.6</td>\n      <td>15.600000</td>\n    </tr>\n    <tr>\n      <th>3</th>\n      <td>3</td>\n      <td>117.6</td>\n      <td>21.377778</td>\n    </tr>\n    <tr>\n      <th>4</th>\n      <td>4</td>\n      <td>121.7</td>\n      <td>39.788889</td>\n    </tr>\n  </tbody>\n</table>\n</div>"
     },
     "execution_count": 36,
     "metadata": {},
     "output_type": "execute_result"
    }
   ],
   "source": [
    "df_fitness_iter_ffp.head()"
   ],
   "metadata": {
    "collapsed": false
   }
  },
  {
   "cell_type": "code",
   "execution_count": 37,
   "outputs": [
    {
     "data": {
      "text/plain": "15      15\n16      16\n17      17\n18      18\n19      19\n      ... \n512    512\n513    513\n514    514\n515    515\n516    516\nName: Iteration, Length: 5010, dtype: int64"
     },
     "execution_count": 37,
     "metadata": {},
     "output_type": "execute_result"
    }
   ],
   "source": [
    "# convergence point\n",
    "df_iter_curves_ffp[df_iter_curves_ffp.Fitness == df_iter_curves_ffp.Fitness.max()].Iteration"
   ],
   "metadata": {
    "collapsed": false
   }
  },
  {
   "cell_type": "code",
   "execution_count": 5,
   "outputs": [
    {
     "data": {
      "text/plain": "26"
     },
     "execution_count": 5,
     "metadata": {},
     "output_type": "execute_result"
    }
   ],
   "source": [
    "# converge point\n",
    "df_fitness_iter_ffp[df_fitness_iter_ffp.avg_fitness >= df_iter_curves_ffp.Fitness.max()].Iteration.min()"
   ],
   "metadata": {
    "collapsed": false
   }
  },
  {
   "cell_type": "code",
   "execution_count": 6,
   "outputs": [],
   "source": [
    "converge_iter = df_fitness_iter_ffp[df_fitness_iter_ffp.avg_fitness >= df_iter_curves_ffp.Fitness.max()].Iteration.min()"
   ],
   "metadata": {
    "collapsed": false
   }
  },
  {
   "cell_type": "code",
   "execution_count": 39,
   "outputs": [],
   "source": [
    "df_fitness_iter_ffp['stddev_fitness'] = df_fitness_iter_ffp['var_fitness'].apply(np.sqrt)"
   ],
   "metadata": {
    "collapsed": false
   }
  },
  {
   "cell_type": "code",
   "execution_count": 40,
   "outputs": [
    {
     "data": {
      "text/plain": "   Iteration  avg_fitness  var_fitness  stddev_fitness\n0          0         79.0   336.444444       18.342422\n1          1        107.0    34.444444        5.868939\n2          2        113.6    15.600000        3.949684\n3          3        117.6    21.377778        4.623611\n4          4        121.7    39.788889        6.307843",
      "text/html": "<div>\n<style scoped>\n    .dataframe tbody tr th:only-of-type {\n        vertical-align: middle;\n    }\n\n    .dataframe tbody tr th {\n        vertical-align: top;\n    }\n\n    .dataframe thead th {\n        text-align: right;\n    }\n</style>\n<table border=\"1\" class=\"dataframe\">\n  <thead>\n    <tr style=\"text-align: right;\">\n      <th></th>\n      <th>Iteration</th>\n      <th>avg_fitness</th>\n      <th>var_fitness</th>\n      <th>stddev_fitness</th>\n    </tr>\n  </thead>\n  <tbody>\n    <tr>\n      <th>0</th>\n      <td>0</td>\n      <td>79.0</td>\n      <td>336.444444</td>\n      <td>18.342422</td>\n    </tr>\n    <tr>\n      <th>1</th>\n      <td>1</td>\n      <td>107.0</td>\n      <td>34.444444</td>\n      <td>5.868939</td>\n    </tr>\n    <tr>\n      <th>2</th>\n      <td>2</td>\n      <td>113.6</td>\n      <td>15.600000</td>\n      <td>3.949684</td>\n    </tr>\n    <tr>\n      <th>3</th>\n      <td>3</td>\n      <td>117.6</td>\n      <td>21.377778</td>\n      <td>4.623611</td>\n    </tr>\n    <tr>\n      <th>4</th>\n      <td>4</td>\n      <td>121.7</td>\n      <td>39.788889</td>\n      <td>6.307843</td>\n    </tr>\n  </tbody>\n</table>\n</div>"
     },
     "execution_count": 40,
     "metadata": {},
     "output_type": "execute_result"
    }
   ],
   "source": [
    "df_fitness_iter_ffp.head()"
   ],
   "metadata": {
    "collapsed": false
   }
  },
  {
   "cell_type": "code",
   "execution_count": 41,
   "outputs": [
    {
     "data": {
      "text/plain": "Text(0, 0.5, 'Fitness')"
     },
     "execution_count": 41,
     "metadata": {},
     "output_type": "execute_result"
    },
    {
     "data": {
      "text/plain": "<Figure size 640x480 with 1 Axes>",
      "image/png": "[encoded data removed]"
     },
     "metadata": {},
     "output_type": "display_data"
    }
   ],
   "source": [
    "plt.plot(df_fitness_iter_ffp.Iteration, df_fitness_iter_ffp.avg_fitness, 'k', color='#3F7F4C')\n",
    "plt.fill_between(df_fitness_iter_ffp.Iteration, df_fitness_iter_ffp.avg_fitness - df_fitness_iter_ffp.stddev_fitness\\\n",
    "                 , df_fitness_iter_ffp.avg_fitness + df_fitness_iter_ffp.stddev_fitness\\\n",
    "                 , alpha=0.5, edgecolor='#3F7F4C', facecolor='#7EFF99')\n",
    "plt.title(f'Fitness by Iterations with Problem Size {size} - GAB on Job Scheduling')\n",
    "plt.xlabel('Iterations')\n",
    "plt.ylabel('Fitness')"
   ],
   "metadata": {
    "collapsed": false
   }
  },
  {
   "cell_type": "code",
   "execution_count": 42,
   "outputs": [
    {
     "data": {
      "text/plain": "161.0"
     },
     "execution_count": 42,
     "metadata": {},
     "output_type": "execute_result"
    }
   ],
   "source": [
    "df_fitness_iter_ffp.avg_fitness.max()"
   ],
   "metadata": {
    "collapsed": false
   }
  },
  {
   "cell_type": "code",
   "execution_count": 43,
   "outputs": [
    {
     "data": {
      "text/plain": "9.548123724935001"
     },
     "execution_count": 43,
     "metadata": {},
     "output_type": "execute_result"
    }
   ],
   "source": [
    "df_fitness_iter_ffp[df_fitness_iter_ffp['Iteration']>0].stddev_fitness.max()"
   ],
   "metadata": {
    "collapsed": false
   }
  },
  {
   "cell_type": "code",
   "execution_count": 44,
   "outputs": [
    {
     "data": {
      "text/plain": "(0    0\n Name: Iteration, dtype: int64,)"
     },
     "execution_count": 44,
     "metadata": {},
     "output_type": "execute_result"
    }
   ],
   "source": [
    "df_fitness_iter_ffp[df_fitness_iter_ffp.stddev_fitness == df_fitness_iter_ffp.stddev_fitness.max()].Iteration,"
   ],
   "metadata": {
    "collapsed": false
   }
  },
  {
   "cell_type": "code",
   "execution_count": 45,
   "outputs": [],
   "source": [
    "# Fevals - iteration"
   ],
   "metadata": {
    "collapsed": false
   }
  },
  {
   "cell_type": "code",
   "execution_count": 3,
   "outputs": [],
   "source": [
    "df_FEvals_iter_ffp = df_iter_curves_ffp.groupby('Iteration')\\\n",
    "                                .agg(avg_FEvals=('FEvals', 'mean'), var_FEvals = ('FEvals', 'var'))\\\n",
    "                                .reset_index()"
   ],
   "metadata": {
    "collapsed": false
   }
  },
  {
   "cell_type": "code",
   "execution_count": 47,
   "outputs": [
    {
     "data": {
      "text/plain": "(527, 3)"
     },
     "execution_count": 47,
     "metadata": {},
     "output_type": "execute_result"
    }
   ],
   "source": [
    "df_FEvals_iter_ffp.shape"
   ],
   "metadata": {
    "collapsed": false
   }
  },
  {
   "cell_type": "code",
   "execution_count": 48,
   "outputs": [
    {
     "data": {
      "text/plain": "   Iteration  avg_FEvals  var_FEvals\n0          0         0.0    0.000000\n1          1         1.9    0.100000\n2          2         3.7    0.455556\n3          3         5.3    0.900000\n4          4         6.8    0.844444",
      "text/html": "<div>\n<style scoped>\n    .dataframe tbody tr th:only-of-type {\n        vertical-align: middle;\n    }\n\n    .dataframe tbody tr th {\n        vertical-align: top;\n    }\n\n    .dataframe thead th {\n        text-align: right;\n    }\n</style>\n<table border=\"1\" class=\"dataframe\">\n  <thead>\n    <tr style=\"text-align: right;\">\n      <th></th>\n      <th>Iteration</th>\n      <th>avg_FEvals</th>\n      <th>var_FEvals</th>\n    </tr>\n  </thead>\n  <tbody>\n    <tr>\n      <th>0</th>\n      <td>0</td>\n      <td>0.0</td>\n      <td>0.000000</td>\n    </tr>\n    <tr>\n      <th>1</th>\n      <td>1</td>\n      <td>1.9</td>\n      <td>0.100000</td>\n    </tr>\n    <tr>\n      <th>2</th>\n      <td>2</td>\n      <td>3.7</td>\n      <td>0.455556</td>\n    </tr>\n    <tr>\n      <th>3</th>\n      <td>3</td>\n      <td>5.3</td>\n      <td>0.900000</td>\n    </tr>\n    <tr>\n      <th>4</th>\n      <td>4</td>\n      <td>6.8</td>\n      <td>0.844444</td>\n    </tr>\n  </tbody>\n</table>\n</div>"
     },
     "execution_count": 48,
     "metadata": {},
     "output_type": "execute_result"
    }
   ],
   "source": [
    "df_FEvals_iter_ffp.head()"
   ],
   "metadata": {
    "collapsed": false
   }
  },
  {
   "cell_type": "code",
   "execution_count": 4,
   "outputs": [],
   "source": [
    "df_FEvals_iter_ffp['stddev_FEvals'] = df_FEvals_iter_ffp['var_FEvals'].apply(np.sqrt)"
   ],
   "metadata": {
    "collapsed": false
   }
  },
  {
   "cell_type": "code",
   "execution_count": 7,
   "outputs": [
    {
     "data": {
      "text/plain": "    Iteration  avg_FEvals  var_FEvals  stddev_FEvals\n26         26        34.6    2.488889       1.577621",
      "text/html": "<div>\n<style scoped>\n    .dataframe tbody tr th:only-of-type {\n        vertical-align: middle;\n    }\n\n    .dataframe tbody tr th {\n        vertical-align: top;\n    }\n\n    .dataframe thead th {\n        text-align: right;\n    }\n</style>\n<table border=\"1\" class=\"dataframe\">\n  <thead>\n    <tr style=\"text-align: right;\">\n      <th></th>\n      <th>Iteration</th>\n      <th>avg_FEvals</th>\n      <th>var_FEvals</th>\n      <th>stddev_FEvals</th>\n    </tr>\n  </thead>\n  <tbody>\n    <tr>\n      <th>26</th>\n      <td>26</td>\n      <td>34.6</td>\n      <td>2.488889</td>\n      <td>1.577621</td>\n    </tr>\n  </tbody>\n</table>\n</div>"
     },
     "execution_count": 7,
     "metadata": {},
     "output_type": "execute_result"
    }
   ],
   "source": [
    "df_FEvals_iter_ffp[df_FEvals_iter_ffp['Iteration'] == converge_iter]"
   ],
   "metadata": {
    "collapsed": false
   }
  },
  {
   "cell_type": "code",
   "execution_count": 50,
   "outputs": [
    {
     "data": {
      "text/plain": "(0.0, 2.0789954839350235)"
     },
     "execution_count": 50,
     "metadata": {},
     "output_type": "execute_result"
    }
   ],
   "source": [
    "df_FEvals_iter_ffp['stddev_FEvals'].min(), df_FEvals_iter_ffp['stddev_FEvals'].max()"
   ],
   "metadata": {
    "collapsed": false
   }
  },
  {
   "cell_type": "code",
   "execution_count": 51,
   "outputs": [
    {
     "data": {
      "text/plain": "   Iteration  avg_FEvals  var_FEvals  stddev_FEvals\n0          0         0.0    0.000000       0.000000\n1          1         1.9    0.100000       0.316228\n2          2         3.7    0.455556       0.674949\n3          3         5.3    0.900000       0.948683\n4          4         6.8    0.844444       0.918937",
      "text/html": "<div>\n<style scoped>\n    .dataframe tbody tr th:only-of-type {\n        vertical-align: middle;\n    }\n\n    .dataframe tbody tr th {\n        vertical-align: top;\n    }\n\n    .dataframe thead th {\n        text-align: right;\n    }\n</style>\n<table border=\"1\" class=\"dataframe\">\n  <thead>\n    <tr style=\"text-align: right;\">\n      <th></th>\n      <th>Iteration</th>\n      <th>avg_FEvals</th>\n      <th>var_FEvals</th>\n      <th>stddev_FEvals</th>\n    </tr>\n  </thead>\n  <tbody>\n    <tr>\n      <th>0</th>\n      <td>0</td>\n      <td>0.0</td>\n      <td>0.000000</td>\n      <td>0.000000</td>\n    </tr>\n    <tr>\n      <th>1</th>\n      <td>1</td>\n      <td>1.9</td>\n      <td>0.100000</td>\n      <td>0.316228</td>\n    </tr>\n    <tr>\n      <th>2</th>\n      <td>2</td>\n      <td>3.7</td>\n      <td>0.455556</td>\n      <td>0.674949</td>\n    </tr>\n    <tr>\n      <th>3</th>\n      <td>3</td>\n      <td>5.3</td>\n      <td>0.900000</td>\n      <td>0.948683</td>\n    </tr>\n    <tr>\n      <th>4</th>\n      <td>4</td>\n      <td>6.8</td>\n      <td>0.844444</td>\n      <td>0.918937</td>\n    </tr>\n  </tbody>\n</table>\n</div>"
     },
     "execution_count": 51,
     "metadata": {},
     "output_type": "execute_result"
    }
   ],
   "source": [
    "df_FEvals_iter_ffp.head()"
   ],
   "metadata": {
    "collapsed": false
   }
  },
  {
   "cell_type": "code",
   "execution_count": 52,
   "outputs": [
    {
     "data": {
      "text/plain": "Text(0, 0.5, 'FEvals')"
     },
     "execution_count": 52,
     "metadata": {},
     "output_type": "execute_result"
    },
    {
     "data": {
      "text/plain": "<Figure size 640x480 with 1 Axes>",
      "image/png": "[encoded data removed]"
     },
     "metadata": {},
     "output_type": "display_data"
    }
   ],
   "source": [
    "plt.plot(df_FEvals_iter_ffp.Iteration, df_FEvals_iter_ffp.avg_FEvals, 'k', color='#3F7F4C')\n",
    "plt.fill_between(df_FEvals_iter_ffp.Iteration, df_FEvals_iter_ffp.avg_FEvals - df_FEvals_iter_ffp.stddev_FEvals\\\n",
    "                 , df_FEvals_iter_ffp.avg_FEvals + df_FEvals_iter_ffp.stddev_FEvals\\\n",
    "                 , alpha=0.5, edgecolor='#3F7F4C', facecolor='#7EFF99')\n",
    "plt.title('FEvals by Iterations - Genetic Algorithm')\n",
    "plt.xlabel('Iterations')\n",
    "plt.ylabel('FEvals')"
   ],
   "metadata": {
    "collapsed": false
   }
  },
  {
   "cell_type": "code",
   "execution_count": 53,
   "outputs": [],
   "source": [
    "# fitness - wall clock time"
   ],
   "metadata": {
    "collapsed": false
   }
  },
  {
   "cell_type": "code",
   "execution_count": 8,
   "outputs": [],
   "source": [
    "df_time_iter_ffp = df_iter_curves_ffp.groupby('Iteration')\\\n",
    "                                .agg(avg_time=('Time', 'mean'), var_time = ('Time', 'var'))\\\n",
    "                                .reset_index()"
   ],
   "metadata": {
    "collapsed": false
   }
  },
  {
   "cell_type": "code",
   "execution_count": 55,
   "outputs": [
    {
     "data": {
      "text/plain": "(527, 3)"
     },
     "execution_count": 55,
     "metadata": {},
     "output_type": "execute_result"
    }
   ],
   "source": [
    "df_time_iter_ffp.shape"
   ],
   "metadata": {
    "collapsed": false
   }
  },
  {
   "cell_type": "code",
   "execution_count": 56,
   "outputs": [
    {
     "data": {
      "text/plain": "   Iteration  avg_time      var_time\n0          0  0.001251  7.970741e-07\n1          1  0.015014  3.247974e-05\n2          2  0.026845  7.699840e-05\n3          3  0.037802  1.175458e-04\n4          4  0.045186  1.691082e-04",
      "text/html": "<div>\n<style scoped>\n    .dataframe tbody tr th:only-of-type {\n        vertical-align: middle;\n    }\n\n    .dataframe tbody tr th {\n        vertical-align: top;\n    }\n\n    .dataframe thead th {\n        text-align: right;\n    }\n</style>\n<table border=\"1\" class=\"dataframe\">\n  <thead>\n    <tr style=\"text-align: right;\">\n      <th></th>\n      <th>Iteration</th>\n      <th>avg_time</th>\n      <th>var_time</th>\n    </tr>\n  </thead>\n  <tbody>\n    <tr>\n      <th>0</th>\n      <td>0</td>\n      <td>0.001251</td>\n      <td>7.970741e-07</td>\n    </tr>\n    <tr>\n      <th>1</th>\n      <td>1</td>\n      <td>0.015014</td>\n      <td>3.247974e-05</td>\n    </tr>\n    <tr>\n      <th>2</th>\n      <td>2</td>\n      <td>0.026845</td>\n      <td>7.699840e-05</td>\n    </tr>\n    <tr>\n      <th>3</th>\n      <td>3</td>\n      <td>0.037802</td>\n      <td>1.175458e-04</td>\n    </tr>\n    <tr>\n      <th>4</th>\n      <td>4</td>\n      <td>0.045186</td>\n      <td>1.691082e-04</td>\n    </tr>\n  </tbody>\n</table>\n</div>"
     },
     "execution_count": 56,
     "metadata": {},
     "output_type": "execute_result"
    }
   ],
   "source": [
    "df_time_iter_ffp.head()"
   ],
   "metadata": {
    "collapsed": false
   }
  },
  {
   "cell_type": "code",
   "execution_count": 57,
   "outputs": [],
   "source": [
    "df_time_iter_ffp['stddev_time'] = df_time_iter_ffp['var_time'].apply(np.sqrt)"
   ],
   "metadata": {
    "collapsed": false
   }
  },
  {
   "cell_type": "code",
   "execution_count": 58,
   "outputs": [
    {
     "data": {
      "text/plain": "   Iteration  avg_time      var_time  stddev_time\n0          0  0.001251  7.970741e-07     0.000893\n1          1  0.015014  3.247974e-05     0.005699\n2          2  0.026845  7.699840e-05     0.008775\n3          3  0.037802  1.175458e-04     0.010842\n4          4  0.045186  1.691082e-04     0.013004",
      "text/html": "<div>\n<style scoped>\n    .dataframe tbody tr th:only-of-type {\n        vertical-align: middle;\n    }\n\n    .dataframe tbody tr th {\n        vertical-align: top;\n    }\n\n    .dataframe thead th {\n        text-align: right;\n    }\n</style>\n<table border=\"1\" class=\"dataframe\">\n  <thead>\n    <tr style=\"text-align: right;\">\n      <th></th>\n      <th>Iteration</th>\n      <th>avg_time</th>\n      <th>var_time</th>\n      <th>stddev_time</th>\n    </tr>\n  </thead>\n  <tbody>\n    <tr>\n      <th>0</th>\n      <td>0</td>\n      <td>0.001251</td>\n      <td>7.970741e-07</td>\n      <td>0.000893</td>\n    </tr>\n    <tr>\n      <th>1</th>\n      <td>1</td>\n      <td>0.015014</td>\n      <td>3.247974e-05</td>\n      <td>0.005699</td>\n    </tr>\n    <tr>\n      <th>2</th>\n      <td>2</td>\n      <td>0.026845</td>\n      <td>7.699840e-05</td>\n      <td>0.008775</td>\n    </tr>\n    <tr>\n      <th>3</th>\n      <td>3</td>\n      <td>0.037802</td>\n      <td>1.175458e-04</td>\n      <td>0.010842</td>\n    </tr>\n    <tr>\n      <th>4</th>\n      <td>4</td>\n      <td>0.045186</td>\n      <td>1.691082e-04</td>\n      <td>0.013004</td>\n    </tr>\n  </tbody>\n</table>\n</div>"
     },
     "execution_count": 58,
     "metadata": {},
     "output_type": "execute_result"
    }
   ],
   "source": [
    "df_time_iter_ffp.head()"
   ],
   "metadata": {
    "collapsed": false
   }
  },
  {
   "cell_type": "code",
   "execution_count": 59,
   "outputs": [
    {
     "data": {
      "text/plain": "Text(0, 0.5, 'Time')"
     },
     "execution_count": 59,
     "metadata": {},
     "output_type": "execute_result"
    },
    {
     "data": {
      "text/plain": "<Figure size 640x480 with 1 Axes>",
      "image/png": "[encoded data removed]"
     },
     "metadata": {},
     "output_type": "display_data"
    }
   ],
   "source": [
    "plt.plot(df_time_iter_ffp.Iteration, df_time_iter_ffp.avg_time, 'k', color='#3F7F4C')\n",
    "plt.fill_between(df_time_iter_ffp.Iteration, df_time_iter_ffp.avg_time - df_time_iter_ffp.stddev_time\\\n",
    "                 , df_time_iter_ffp.avg_time + df_time_iter_ffp.stddev_time\\\n",
    "                 , alpha=0.5, edgecolor='#3F7F4C', facecolor='#7EFF99')\n",
    "plt.title('Wall Clock Time by Iterations - Genetic Algorithm')\n",
    "plt.xlabel('Iterations')\n",
    "plt.ylabel('Time')"
   ],
   "metadata": {
    "collapsed": false
   }
  },
  {
   "cell_type": "code",
   "execution_count": 60,
   "outputs": [
    {
     "data": {
      "text/plain": "0.9141104262942067"
     },
     "execution_count": 60,
     "metadata": {},
     "output_type": "execute_result"
    }
   ],
   "source": [
    "df_time_iter_ffp.stddev_time.max()"
   ],
   "metadata": {
    "collapsed": false
   }
  },
  {
   "cell_type": "code",
   "execution_count": 61,
   "outputs": [
    {
     "data": {
      "text/plain": "515    515\nName: Iteration, dtype: int64"
     },
     "execution_count": 61,
     "metadata": {},
     "output_type": "execute_result"
    }
   ],
   "source": [
    "df_time_iter_ffp[df_time_iter_ffp.stddev_time == df_time_iter_ffp.stddev_time.max()].Iteration"
   ],
   "metadata": {
    "collapsed": false
   }
  },
  {
   "cell_type": "code",
   "execution_count": 62,
   "outputs": [
    {
     "data": {
      "text/plain": "3.866617892505019"
     },
     "execution_count": 62,
     "metadata": {},
     "output_type": "execute_result"
    }
   ],
   "source": [
    "df_time_iter_ffp.avg_time.max()"
   ],
   "metadata": {
    "collapsed": false
   }
  },
  {
   "cell_type": "code",
   "execution_count": 9,
   "outputs": [
    {
     "data": {
      "text/plain": "    Iteration  avg_time  var_time\n26         26  0.211194  0.004256",
      "text/html": "<div>\n<style scoped>\n    .dataframe tbody tr th:only-of-type {\n        vertical-align: middle;\n    }\n\n    .dataframe tbody tr th {\n        vertical-align: top;\n    }\n\n    .dataframe thead th {\n        text-align: right;\n    }\n</style>\n<table border=\"1\" class=\"dataframe\">\n  <thead>\n    <tr style=\"text-align: right;\">\n      <th></th>\n      <th>Iteration</th>\n      <th>avg_time</th>\n      <th>var_time</th>\n    </tr>\n  </thead>\n  <tbody>\n    <tr>\n      <th>26</th>\n      <td>26</td>\n      <td>0.211194</td>\n      <td>0.004256</td>\n    </tr>\n  </tbody>\n</table>\n</div>"
     },
     "execution_count": 9,
     "metadata": {},
     "output_type": "execute_result"
    }
   ],
   "source": [
    "df_time_iter_ffp[df_time_iter_ffp['Iteration'] == converge_iter]"
   ],
   "metadata": {
    "collapsed": false
   }
  },
  {
   "cell_type": "code",
   "execution_count": null,
   "outputs": [],
   "source": [],
   "metadata": {
    "collapsed": false
   }
  }
 ],
 "metadata": {
  "kernelspec": {
   "display_name": "Python 3 (ipykernel)",
   "language": "python",
   "name": "python3"
  },
  "language_info": {
   "codemirror_mode": {
    "name": "ipython",
    "version": 3
   },
   "file_extension": ".py",
   "mimetype": "text/x-python",
   "name": "python",
   "nbconvert_exporter": "python",
   "pygments_lexer": "ipython3",
   "version": "3.11.4"
  }
 },
 "nbformat": 4,
 "nbformat_minor": 5
}
