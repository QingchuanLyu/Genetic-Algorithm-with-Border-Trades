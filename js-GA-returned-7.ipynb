{
 "cells": [
  {
   "cell_type": "code",
   "execution_count": 1,
   "outputs": [],
   "source": [
    "#pip install /Users/qingchuanlyu/Documents/Conferences/ICML-2025/icml2025/code/mlrose"
   ],
   "metadata": {
    "collapsed": false
   }
  },
  {
   "cell_type": "code",
   "execution_count": 2,
   "id": "b243b22c",
   "metadata": {},
   "outputs": [],
   "source": [
    "import mlrose_hiive as mh"
   ]
  },
  {
   "cell_type": "code",
   "execution_count": 3,
   "id": "cb9e02c3",
   "metadata": {},
   "outputs": [],
   "source": [
    "import numpy as np\n",
    "\n",
    "from sklearn.model_selection import train_test_split\n",
    "from sklearn.preprocessing import MinMaxScaler, OneHotEncoder\n",
    "from sklearn.metrics import accuracy_score\n",
    "\n",
    "from IPython.core.display import display, HTML # for some notebook formatting.\n",
    "\n",
    "import logging\n",
    "import networkx as nx\n",
    "import matplotlib.pyplot as plt\n",
    "import string\n",
    "\n",
    "\n",
    "from ast import literal_eval\n",
    "\n",
    "from sklearn.model_selection import train_test_split\n",
    "from sklearn.preprocessing import MinMaxScaler, OneHotEncoder\n",
    "from sklearn.metrics import accuracy_score\n",
    "\n",
    "# switch off the chatter\n",
    "logging.basicConfig(level=logging.WARNING)"
   ]
  },
  {
   "cell_type": "code",
   "execution_count": 4,
   "id": "f314d532",
   "metadata": {},
   "outputs": [],
   "source": [
    "import pandas as pd\n",
    "import importlib\n",
    "import utility as u"
   ]
  },
  {
   "cell_type": "code",
   "execution_count": 5,
   "outputs": [],
   "source": [
    "class Task:\n",
    "    def __init__(self, task_id, duration, deadline, profit):\n",
    "        self.task_id = task_id\n",
    "        self.duration = duration\n",
    "        self.deadline = deadline\n",
    "        self.profit = profit"
   ],
   "metadata": {
    "collapsed": false
   }
  },
  {
   "cell_type": "code",
   "execution_count": 6,
   "outputs": [],
   "source": [
    "size = 7\n",
    "importlib.reload(u)\n",
    "tasks = u.generate_random_tasks(size, 5, 80, 25)"
   ],
   "metadata": {
    "collapsed": false
   }
  },
  {
   "cell_type": "code",
   "execution_count": 7,
   "outputs": [
    {
     "data": {
      "text/plain": "'\\nwith open(f\"{size}_tasks.txt\", \"a\") as f:\\n    for t in tasks:\\n        print(t.task_id, t.duration, t.deadline, t.profit, file=f)\\n'"
     },
     "execution_count": 7,
     "metadata": {},
     "output_type": "execute_result"
    }
   ],
   "source": [
    "\"\"\"\n",
    "with open(f\"{size}_tasks.txt\", \"a\") as f:\n",
    "    for t in tasks:\n",
    "        print(t.task_id, t.duration, t.deadline, t.profit, file=f)\n",
    "\"\"\""
   ],
   "metadata": {
    "collapsed": false
   }
  },
  {
   "cell_type": "code",
   "execution_count": 8,
   "outputs": [],
   "source": [
    "# # Job Scheduling\n",
    "problem_ffp = mh.JobSchedulingGenerator().generate(seed=0, size=size, tasks=tasks, break_time=1, work_limit=2)\n",
    "#state = problem_ffp.get_state()"
   ],
   "metadata": {
    "collapsed": false
   }
  },
  {
   "cell_type": "code",
   "execution_count": 9,
   "outputs": [
    {
     "data": {
      "text/plain": "7"
     },
     "execution_count": 9,
     "metadata": {},
     "output_type": "execute_result"
    }
   ],
   "source": [
    "problem_ffp.length"
   ],
   "metadata": {
    "collapsed": false
   }
  },
  {
   "cell_type": "code",
   "execution_count": 10,
   "outputs": [
    {
     "data": {
      "text/plain": "64.0"
     },
     "execution_count": 10,
     "metadata": {},
     "output_type": "execute_result"
    }
   ],
   "source": [
    "problem_ffp.fitness"
   ],
   "metadata": {
    "collapsed": false
   }
  },
  {
   "cell_type": "code",
   "execution_count": 11,
   "id": "34174e8f",
   "metadata": {},
   "outputs": [],
   "source": [
    "# GAJ runner class\n",
    "# 1. tune population size and mutation rates\n",
    "ga_ffp = mh.GARunner(problem=problem_ffp,\n",
    "              experiment_name='ffp_ga',\n",
    "              output_directory=None, # note: specify an output directory to have results saved to disk\n",
    "              seed=0,\n",
    "              iteration_list=2 ** np.arange(12),\n",
    "              max_attempts=500,\n",
    "              population_sizes=[40, 50, 60],\n",
    "              mutation_rates=[0.07, 0.08]) # Probability of a mutation at each element of the state vector during reproduction, expressed as a value between 0 and 1.\n",
    "\n",
    "# the two data frames will contain the results\n",
    "df_run_stats_ffp, df_run_curves_ffp = ga_ffp.run()"
   ]
  },
  {
   "cell_type": "code",
   "execution_count": 12,
   "id": "3139bc51",
   "metadata": {},
   "outputs": [
    {
     "data": {
      "text/plain": "(3241, 7)"
     },
     "execution_count": 12,
     "metadata": {},
     "output_type": "execute_result"
    }
   ],
   "source": [
    "df_run_curves_ffp.shape"
   ]
  },
  {
   "cell_type": "code",
   "execution_count": 13,
   "id": "78ec6ce8",
   "metadata": {},
   "outputs": [
    {
     "data": {
      "text/plain": "   Iteration      Time  Fitness  FEvals  Population Size  Mutation Rate  \\\n0          0  0.002849     80.0     0.0               40           0.07   \n1          1  0.013380    105.0     2.0               40           0.07   \n2          2  0.018685    114.0     4.0               40           0.07   \n3          3  0.027115    117.0     6.0               40           0.07   \n4          4  0.029764    137.0     8.0               40           0.07   \n\n   max_iters  \n0       2048  \n1       2048  \n2       2048  \n3       2048  \n4       2048  ",
      "text/html": "<div>\n<style scoped>\n    .dataframe tbody tr th:only-of-type {\n        vertical-align: middle;\n    }\n\n    .dataframe tbody tr th {\n        vertical-align: top;\n    }\n\n    .dataframe thead th {\n        text-align: right;\n    }\n</style>\n<table border=\"1\" class=\"dataframe\">\n  <thead>\n    <tr style=\"text-align: right;\">\n      <th></th>\n      <th>Iteration</th>\n      <th>Time</th>\n      <th>Fitness</th>\n      <th>FEvals</th>\n      <th>Population Size</th>\n      <th>Mutation Rate</th>\n      <th>max_iters</th>\n    </tr>\n  </thead>\n  <tbody>\n    <tr>\n      <th>0</th>\n      <td>0</td>\n      <td>0.002849</td>\n      <td>80.0</td>\n      <td>0.0</td>\n      <td>40</td>\n      <td>0.07</td>\n      <td>2048</td>\n    </tr>\n    <tr>\n      <th>1</th>\n      <td>1</td>\n      <td>0.013380</td>\n      <td>105.0</td>\n      <td>2.0</td>\n      <td>40</td>\n      <td>0.07</td>\n      <td>2048</td>\n    </tr>\n    <tr>\n      <th>2</th>\n      <td>2</td>\n      <td>0.018685</td>\n      <td>114.0</td>\n      <td>4.0</td>\n      <td>40</td>\n      <td>0.07</td>\n      <td>2048</td>\n    </tr>\n    <tr>\n      <th>3</th>\n      <td>3</td>\n      <td>0.027115</td>\n      <td>117.0</td>\n      <td>6.0</td>\n      <td>40</td>\n      <td>0.07</td>\n      <td>2048</td>\n    </tr>\n    <tr>\n      <th>4</th>\n      <td>4</td>\n      <td>0.029764</td>\n      <td>137.0</td>\n      <td>8.0</td>\n      <td>40</td>\n      <td>0.07</td>\n      <td>2048</td>\n    </tr>\n  </tbody>\n</table>\n</div>"
     },
     "execution_count": 13,
     "metadata": {},
     "output_type": "execute_result"
    }
   ],
   "source": [
    "df_run_curves_ffp.head()"
   ]
  },
  {
   "cell_type": "code",
   "execution_count": 14,
   "id": "a6cb09ff",
   "metadata": {},
   "outputs": [
    {
     "data": {
      "text/plain": "161.0"
     },
     "execution_count": 14,
     "metadata": {},
     "output_type": "execute_result"
    }
   ],
   "source": [
    "df_run_curves_ffp['Fitness'].max()"
   ]
  },
  {
   "cell_type": "code",
   "execution_count": 15,
   "outputs": [
    {
     "data": {
      "text/plain": "      Iteration      Time  Fitness  FEvals  Population Size  Mutation Rate  \\\n34           34  0.159750    161.0    43.0               40           0.07   \n35           35  0.162319    161.0    44.0               40           0.07   \n36           36  0.164680    161.0    45.0               40           0.07   \n37           37  0.170371    161.0    46.0               40           0.07   \n38           38  0.177154    161.0    47.0               40           0.07   \n...         ...       ...      ...     ...              ...            ...   \n3236        516  2.479937    161.0   526.0               60           0.08   \n3237        517  2.488478    161.0   527.0               60           0.08   \n3238        518  2.495282    161.0   528.0               60           0.08   \n3239        519  2.498121    161.0   529.0               60           0.08   \n3240        520  2.500784    161.0   530.0               60           0.08   \n\n      max_iters  \n34         2048  \n35         2048  \n36         2048  \n37         2048  \n38         2048  \n...         ...  \n3236       2048  \n3237       2048  \n3238       2048  \n3239       2048  \n3240       2048  \n\n[3006 rows x 7 columns]",
      "text/html": "<div>\n<style scoped>\n    .dataframe tbody tr th:only-of-type {\n        vertical-align: middle;\n    }\n\n    .dataframe tbody tr th {\n        vertical-align: top;\n    }\n\n    .dataframe thead th {\n        text-align: right;\n    }\n</style>\n<table border=\"1\" class=\"dataframe\">\n  <thead>\n    <tr style=\"text-align: right;\">\n      <th></th>\n      <th>Iteration</th>\n      <th>Time</th>\n      <th>Fitness</th>\n      <th>FEvals</th>\n      <th>Population Size</th>\n      <th>Mutation Rate</th>\n      <th>max_iters</th>\n    </tr>\n  </thead>\n  <tbody>\n    <tr>\n      <th>34</th>\n      <td>34</td>\n      <td>0.159750</td>\n      <td>161.0</td>\n      <td>43.0</td>\n      <td>40</td>\n      <td>0.07</td>\n      <td>2048</td>\n    </tr>\n    <tr>\n      <th>35</th>\n      <td>35</td>\n      <td>0.162319</td>\n      <td>161.0</td>\n      <td>44.0</td>\n      <td>40</td>\n      <td>0.07</td>\n      <td>2048</td>\n    </tr>\n    <tr>\n      <th>36</th>\n      <td>36</td>\n      <td>0.164680</td>\n      <td>161.0</td>\n      <td>45.0</td>\n      <td>40</td>\n      <td>0.07</td>\n      <td>2048</td>\n    </tr>\n    <tr>\n      <th>37</th>\n      <td>37</td>\n      <td>0.170371</td>\n      <td>161.0</td>\n      <td>46.0</td>\n      <td>40</td>\n      <td>0.07</td>\n      <td>2048</td>\n    </tr>\n    <tr>\n      <th>38</th>\n      <td>38</td>\n      <td>0.177154</td>\n      <td>161.0</td>\n      <td>47.0</td>\n      <td>40</td>\n      <td>0.07</td>\n      <td>2048</td>\n    </tr>\n    <tr>\n      <th>...</th>\n      <td>...</td>\n      <td>...</td>\n      <td>...</td>\n      <td>...</td>\n      <td>...</td>\n      <td>...</td>\n      <td>...</td>\n    </tr>\n    <tr>\n      <th>3236</th>\n      <td>516</td>\n      <td>2.479937</td>\n      <td>161.0</td>\n      <td>526.0</td>\n      <td>60</td>\n      <td>0.08</td>\n      <td>2048</td>\n    </tr>\n    <tr>\n      <th>3237</th>\n      <td>517</td>\n      <td>2.488478</td>\n      <td>161.0</td>\n      <td>527.0</td>\n      <td>60</td>\n      <td>0.08</td>\n      <td>2048</td>\n    </tr>\n    <tr>\n      <th>3238</th>\n      <td>518</td>\n      <td>2.495282</td>\n      <td>161.0</td>\n      <td>528.0</td>\n      <td>60</td>\n      <td>0.08</td>\n      <td>2048</td>\n    </tr>\n    <tr>\n      <th>3239</th>\n      <td>519</td>\n      <td>2.498121</td>\n      <td>161.0</td>\n      <td>529.0</td>\n      <td>60</td>\n      <td>0.08</td>\n      <td>2048</td>\n    </tr>\n    <tr>\n      <th>3240</th>\n      <td>520</td>\n      <td>2.500784</td>\n      <td>161.0</td>\n      <td>530.0</td>\n      <td>60</td>\n      <td>0.08</td>\n      <td>2048</td>\n    </tr>\n  </tbody>\n</table>\n<p>3006 rows × 7 columns</p>\n</div>"
     },
     "execution_count": 15,
     "metadata": {},
     "output_type": "execute_result"
    }
   ],
   "source": [
    "df_run_curves_ffp[df_run_curves_ffp.Fitness == df_run_curves_ffp['Fitness'].max()]"
   ],
   "metadata": {
    "collapsed": false
   }
  },
  {
   "cell_type": "code",
   "execution_count": 16,
   "outputs": [],
   "source": [
    "# need to check Time and FEvals"
   ],
   "metadata": {
    "collapsed": false
   }
  },
  {
   "cell_type": "code",
   "execution_count": 17,
   "id": "59c463dd",
   "metadata": {},
   "outputs": [],
   "source": [
    "df_curves_bestfitness_ffp = df_run_curves_ffp[(df_run_curves_ffp['Fitness'] == df_run_curves_ffp['Fitness'].max())]"
   ]
  },
  {
   "cell_type": "code",
   "execution_count": 18,
   "id": "5e04b1a5",
   "metadata": {},
   "outputs": [
    {
     "data": {
      "text/plain": "      Iteration      Time  Fitness  FEvals  Population Size  Mutation Rate  \\\n34           34  0.159750    161.0    43.0               40           0.07   \n35           35  0.162319    161.0    44.0               40           0.07   \n36           36  0.164680    161.0    45.0               40           0.07   \n37           37  0.170371    161.0    46.0               40           0.07   \n38           38  0.177154    161.0    47.0               40           0.07   \n...         ...       ...      ...     ...              ...            ...   \n3236        516  2.479937    161.0   526.0               60           0.08   \n3237        517  2.488478    161.0   527.0               60           0.08   \n3238        518  2.495282    161.0   528.0               60           0.08   \n3239        519  2.498121    161.0   529.0               60           0.08   \n3240        520  2.500784    161.0   530.0               60           0.08   \n\n      max_iters  \n34         2048  \n35         2048  \n36         2048  \n37         2048  \n38         2048  \n...         ...  \n3236       2048  \n3237       2048  \n3238       2048  \n3239       2048  \n3240       2048  \n\n[3006 rows x 7 columns]",
      "text/html": "<div>\n<style scoped>\n    .dataframe tbody tr th:only-of-type {\n        vertical-align: middle;\n    }\n\n    .dataframe tbody tr th {\n        vertical-align: top;\n    }\n\n    .dataframe thead th {\n        text-align: right;\n    }\n</style>\n<table border=\"1\" class=\"dataframe\">\n  <thead>\n    <tr style=\"text-align: right;\">\n      <th></th>\n      <th>Iteration</th>\n      <th>Time</th>\n      <th>Fitness</th>\n      <th>FEvals</th>\n      <th>Population Size</th>\n      <th>Mutation Rate</th>\n      <th>max_iters</th>\n    </tr>\n  </thead>\n  <tbody>\n    <tr>\n      <th>34</th>\n      <td>34</td>\n      <td>0.159750</td>\n      <td>161.0</td>\n      <td>43.0</td>\n      <td>40</td>\n      <td>0.07</td>\n      <td>2048</td>\n    </tr>\n    <tr>\n      <th>35</th>\n      <td>35</td>\n      <td>0.162319</td>\n      <td>161.0</td>\n      <td>44.0</td>\n      <td>40</td>\n      <td>0.07</td>\n      <td>2048</td>\n    </tr>\n    <tr>\n      <th>36</th>\n      <td>36</td>\n      <td>0.164680</td>\n      <td>161.0</td>\n      <td>45.0</td>\n      <td>40</td>\n      <td>0.07</td>\n      <td>2048</td>\n    </tr>\n    <tr>\n      <th>37</th>\n      <td>37</td>\n      <td>0.170371</td>\n      <td>161.0</td>\n      <td>46.0</td>\n      <td>40</td>\n      <td>0.07</td>\n      <td>2048</td>\n    </tr>\n    <tr>\n      <th>38</th>\n      <td>38</td>\n      <td>0.177154</td>\n      <td>161.0</td>\n      <td>47.0</td>\n      <td>40</td>\n      <td>0.07</td>\n      <td>2048</td>\n    </tr>\n    <tr>\n      <th>...</th>\n      <td>...</td>\n      <td>...</td>\n      <td>...</td>\n      <td>...</td>\n      <td>...</td>\n      <td>...</td>\n      <td>...</td>\n    </tr>\n    <tr>\n      <th>3236</th>\n      <td>516</td>\n      <td>2.479937</td>\n      <td>161.0</td>\n      <td>526.0</td>\n      <td>60</td>\n      <td>0.08</td>\n      <td>2048</td>\n    </tr>\n    <tr>\n      <th>3237</th>\n      <td>517</td>\n      <td>2.488478</td>\n      <td>161.0</td>\n      <td>527.0</td>\n      <td>60</td>\n      <td>0.08</td>\n      <td>2048</td>\n    </tr>\n    <tr>\n      <th>3238</th>\n      <td>518</td>\n      <td>2.495282</td>\n      <td>161.0</td>\n      <td>528.0</td>\n      <td>60</td>\n      <td>0.08</td>\n      <td>2048</td>\n    </tr>\n    <tr>\n      <th>3239</th>\n      <td>519</td>\n      <td>2.498121</td>\n      <td>161.0</td>\n      <td>529.0</td>\n      <td>60</td>\n      <td>0.08</td>\n      <td>2048</td>\n    </tr>\n    <tr>\n      <th>3240</th>\n      <td>520</td>\n      <td>2.500784</td>\n      <td>161.0</td>\n      <td>530.0</td>\n      <td>60</td>\n      <td>0.08</td>\n      <td>2048</td>\n    </tr>\n  </tbody>\n</table>\n<p>3006 rows × 7 columns</p>\n</div>"
     },
     "execution_count": 18,
     "metadata": {},
     "output_type": "execute_result"
    }
   ],
   "source": [
    "df_curves_bestfitness_ffp"
   ]
  },
  {
   "cell_type": "code",
   "execution_count": 19,
   "outputs": [
    {
     "data": {
      "text/plain": "   Population Size  Mutation Rate  FEvals  Iteration      Time\n0               40           0.07    43.0      284.0  0.159750\n1               40           0.08    82.0      322.0  0.000928\n2               50           0.07    64.0      305.0  0.000928\n3               50           0.08    35.0      276.0  0.120319\n4               60           0.07    37.0      278.0  0.128315\n5               60           0.08    30.0      270.0  0.095698",
      "text/html": "<div>\n<style scoped>\n    .dataframe tbody tr th:only-of-type {\n        vertical-align: middle;\n    }\n\n    .dataframe tbody tr th {\n        vertical-align: top;\n    }\n\n    .dataframe thead th {\n        text-align: right;\n    }\n</style>\n<table border=\"1\" class=\"dataframe\">\n  <thead>\n    <tr style=\"text-align: right;\">\n      <th></th>\n      <th>Population Size</th>\n      <th>Mutation Rate</th>\n      <th>FEvals</th>\n      <th>Iteration</th>\n      <th>Time</th>\n    </tr>\n  </thead>\n  <tbody>\n    <tr>\n      <th>0</th>\n      <td>40</td>\n      <td>0.07</td>\n      <td>43.0</td>\n      <td>284.0</td>\n      <td>0.159750</td>\n    </tr>\n    <tr>\n      <th>1</th>\n      <td>40</td>\n      <td>0.08</td>\n      <td>82.0</td>\n      <td>322.0</td>\n      <td>0.000928</td>\n    </tr>\n    <tr>\n      <th>2</th>\n      <td>50</td>\n      <td>0.07</td>\n      <td>64.0</td>\n      <td>305.0</td>\n      <td>0.000928</td>\n    </tr>\n    <tr>\n      <th>3</th>\n      <td>50</td>\n      <td>0.08</td>\n      <td>35.0</td>\n      <td>276.0</td>\n      <td>0.120319</td>\n    </tr>\n    <tr>\n      <th>4</th>\n      <td>60</td>\n      <td>0.07</td>\n      <td>37.0</td>\n      <td>278.0</td>\n      <td>0.128315</td>\n    </tr>\n    <tr>\n      <th>5</th>\n      <td>60</td>\n      <td>0.08</td>\n      <td>30.0</td>\n      <td>270.0</td>\n      <td>0.095698</td>\n    </tr>\n  </tbody>\n</table>\n</div>"
     },
     "execution_count": 19,
     "metadata": {},
     "output_type": "execute_result"
    }
   ],
   "source": [
    "df_curves_bestfitness_ffp.groupby(['Population Size', 'Mutation Rate']).agg({'FEvals': 'min', 'Iteration': 'mean', 'Time': 'min'}).reset_index()\n",
    "# Temp = 1 => less Fevals. Pick temp=1"
   ],
   "metadata": {
    "collapsed": false
   }
  },
  {
   "cell_type": "code",
   "execution_count": 20,
   "id": "6e0ad656",
   "metadata": {},
   "outputs": [],
   "source": [
    "# tentatively, pick pop size = 60 and mutation_rate = 0.08"
   ]
  },
  {
   "cell_type": "code",
   "execution_count": 21,
   "id": "62fe58b2",
   "metadata": {},
   "outputs": [
    {
     "data": {
      "text/plain": "   Iteration      Time  Fitness  FEvals  Population Size  Mutation Rate  \\\n0          0  0.002849     80.0     0.0               40           0.07   \n1          1  0.013380    105.0     2.0               40           0.07   \n2          2  0.018685    114.0     4.0               40           0.07   \n3          3  0.027115    117.0     6.0               40           0.07   \n4          4  0.029764    137.0     8.0               40           0.07   \n\n   max_iters  \n0       2048  \n1       2048  \n2       2048  \n3       2048  \n4       2048  ",
      "text/html": "<div>\n<style scoped>\n    .dataframe tbody tr th:only-of-type {\n        vertical-align: middle;\n    }\n\n    .dataframe tbody tr th {\n        vertical-align: top;\n    }\n\n    .dataframe thead th {\n        text-align: right;\n    }\n</style>\n<table border=\"1\" class=\"dataframe\">\n  <thead>\n    <tr style=\"text-align: right;\">\n      <th></th>\n      <th>Iteration</th>\n      <th>Time</th>\n      <th>Fitness</th>\n      <th>FEvals</th>\n      <th>Population Size</th>\n      <th>Mutation Rate</th>\n      <th>max_iters</th>\n    </tr>\n  </thead>\n  <tbody>\n    <tr>\n      <th>0</th>\n      <td>0</td>\n      <td>0.002849</td>\n      <td>80.0</td>\n      <td>0.0</td>\n      <td>40</td>\n      <td>0.07</td>\n      <td>2048</td>\n    </tr>\n    <tr>\n      <th>1</th>\n      <td>1</td>\n      <td>0.013380</td>\n      <td>105.0</td>\n      <td>2.0</td>\n      <td>40</td>\n      <td>0.07</td>\n      <td>2048</td>\n    </tr>\n    <tr>\n      <th>2</th>\n      <td>2</td>\n      <td>0.018685</td>\n      <td>114.0</td>\n      <td>4.0</td>\n      <td>40</td>\n      <td>0.07</td>\n      <td>2048</td>\n    </tr>\n    <tr>\n      <th>3</th>\n      <td>3</td>\n      <td>0.027115</td>\n      <td>117.0</td>\n      <td>6.0</td>\n      <td>40</td>\n      <td>0.07</td>\n      <td>2048</td>\n    </tr>\n    <tr>\n      <th>4</th>\n      <td>4</td>\n      <td>0.029764</td>\n      <td>137.0</td>\n      <td>8.0</td>\n      <td>40</td>\n      <td>0.07</td>\n      <td>2048</td>\n    </tr>\n  </tbody>\n</table>\n</div>"
     },
     "execution_count": 21,
     "metadata": {},
     "output_type": "execute_result"
    }
   ],
   "source": [
    "df_run_curves_ffp.head()"
   ]
  },
  {
   "cell_type": "code",
   "execution_count": 22,
   "id": "4ce94f88",
   "metadata": {},
   "outputs": [],
   "source": [
    "# clean up an existing result table to store the iterative resutls\n",
    "df_iter_curves_ffp = df_run_curves_ffp.drop(df_run_curves_ffp.index, inplace=False)"
   ]
  },
  {
   "cell_type": "code",
   "execution_count": 23,
   "outputs": [],
   "source": [
    "# GA runner\n",
    "# 2. iterate through 10 seeds\n",
    "for s in range(10):\n",
    "    ga_ffp = mh.GARunner(problem=problem_ffp,\n",
    "              experiment_name='ffp_ga_{s}',\n",
    "              output_directory=None, # note: specify an output directory to have results saved to disk\n",
    "              seed=s,\n",
    "              iteration_list=2 ** np.arange(12),\n",
    "              max_attempts=500,\n",
    "              population_sizes=[60], # 20 bits in total\n",
    "              mutation_rates=[0.08])\n",
    "\n",
    "    # the two data frames will contain the results\n",
    "    df_run_stats_ffp_sub, df_run_curves_ffp_sub = ga_ffp.run()\n",
    "    # append to the result df\n",
    "    df_iter_curves_ffp = pd.concat([df_iter_curves_ffp, df_run_curves_ffp_sub])"
   ],
   "metadata": {
    "collapsed": false
   }
  },
  {
   "cell_type": "code",
   "execution_count": 24,
   "outputs": [
    {
     "data": {
      "text/plain": "(5308, 7)"
     },
     "execution_count": 24,
     "metadata": {},
     "output_type": "execute_result"
    }
   ],
   "source": [
    "df_iter_curves_ffp.shape"
   ],
   "metadata": {
    "collapsed": false
   }
  },
  {
   "cell_type": "code",
   "execution_count": 25,
   "outputs": [
    {
     "data": {
      "text/plain": "   Iteration      Time  Fitness  FEvals  Population Size  Mutation Rate  \\\n0          0  0.003318     80.0     0.0               60           0.08   \n1          1  0.025488    105.0     2.0               60           0.08   \n2          2  0.035233    111.0     4.0               60           0.08   \n3          3  0.043393    111.0     5.0               60           0.08   \n4          4  0.047304    128.0     7.0               60           0.08   \n\n   max_iters  \n0       2048  \n1       2048  \n2       2048  \n3       2048  \n4       2048  ",
      "text/html": "<div>\n<style scoped>\n    .dataframe tbody tr th:only-of-type {\n        vertical-align: middle;\n    }\n\n    .dataframe tbody tr th {\n        vertical-align: top;\n    }\n\n    .dataframe thead th {\n        text-align: right;\n    }\n</style>\n<table border=\"1\" class=\"dataframe\">\n  <thead>\n    <tr style=\"text-align: right;\">\n      <th></th>\n      <th>Iteration</th>\n      <th>Time</th>\n      <th>Fitness</th>\n      <th>FEvals</th>\n      <th>Population Size</th>\n      <th>Mutation Rate</th>\n      <th>max_iters</th>\n    </tr>\n  </thead>\n  <tbody>\n    <tr>\n      <th>0</th>\n      <td>0</td>\n      <td>0.003318</td>\n      <td>80.0</td>\n      <td>0.0</td>\n      <td>60</td>\n      <td>0.08</td>\n      <td>2048</td>\n    </tr>\n    <tr>\n      <th>1</th>\n      <td>1</td>\n      <td>0.025488</td>\n      <td>105.0</td>\n      <td>2.0</td>\n      <td>60</td>\n      <td>0.08</td>\n      <td>2048</td>\n    </tr>\n    <tr>\n      <th>2</th>\n      <td>2</td>\n      <td>0.035233</td>\n      <td>111.0</td>\n      <td>4.0</td>\n      <td>60</td>\n      <td>0.08</td>\n      <td>2048</td>\n    </tr>\n    <tr>\n      <th>3</th>\n      <td>3</td>\n      <td>0.043393</td>\n      <td>111.0</td>\n      <td>5.0</td>\n      <td>60</td>\n      <td>0.08</td>\n      <td>2048</td>\n    </tr>\n    <tr>\n      <th>4</th>\n      <td>4</td>\n      <td>0.047304</td>\n      <td>128.0</td>\n      <td>7.0</td>\n      <td>60</td>\n      <td>0.08</td>\n      <td>2048</td>\n    </tr>\n  </tbody>\n</table>\n</div>"
     },
     "execution_count": 25,
     "metadata": {},
     "output_type": "execute_result"
    }
   ],
   "source": [
    "df_iter_curves_ffp.head()"
   ],
   "metadata": {
    "collapsed": false
   }
  },
  {
   "cell_type": "code",
   "execution_count": 26,
   "outputs": [
    {
     "data": {
      "text/plain": "161.0"
     },
     "execution_count": 26,
     "metadata": {},
     "output_type": "execute_result"
    }
   ],
   "source": [
    "df_iter_curves_ffp.Fitness.max()"
   ],
   "metadata": {
    "collapsed": false
   }
  },
  {
   "cell_type": "code",
   "execution_count": 27,
   "outputs": [
    {
     "data": {
      "text/plain": "\"\\nimport pandas as pd\\nimport numpy as np\\nsize = 7\\ndf_iter_curves_ffp = pd.read_csv(f'../../csv-files/ga_js_{size}.csv')\\n\""
     },
     "execution_count": 27,
     "metadata": {},
     "output_type": "execute_result"
    }
   ],
   "source": [
    "df_iter_curves_ffp.to_csv(f'../../csv-files/ga_js_{size}.csv')\n",
    "\"\"\"\n",
    "import pandas as pd\n",
    "import numpy as np\n",
    "size = 7\n",
    "df_iter_curves_ffp = pd.read_csv(f'../../csv-files/ga_js_{size}.csv')\n",
    "\"\"\""
   ],
   "metadata": {
    "collapsed": false
   }
  },
  {
   "cell_type": "code",
   "execution_count": 28,
   "outputs": [
    {
     "data": {
      "text/plain": "572"
     },
     "execution_count": 28,
     "metadata": {},
     "output_type": "execute_result"
    }
   ],
   "source": [
    "df_iter_curves_ffp.Iteration.max()"
   ],
   "metadata": {
    "collapsed": false
   }
  },
  {
   "cell_type": "code",
   "execution_count": 29,
   "outputs": [],
   "source": [
    "df_fitness_iter_ffp = df_iter_curves_ffp.groupby('Iteration')\\\n",
    "                                .agg(avg_fitness=('Fitness', 'mean'), var_fitness = ('Fitness', 'var'))\\\n",
    "                                .reset_index()"
   ],
   "metadata": {
    "collapsed": false
   }
  },
  {
   "cell_type": "code",
   "execution_count": 30,
   "outputs": [
    {
     "data": {
      "text/plain": "(573, 3)"
     },
     "execution_count": 30,
     "metadata": {},
     "output_type": "execute_result"
    }
   ],
   "source": [
    "df_fitness_iter_ffp.shape"
   ],
   "metadata": {
    "collapsed": false
   }
  },
  {
   "cell_type": "code",
   "execution_count": 31,
   "outputs": [
    {
     "data": {
      "text/plain": "   Iteration  avg_fitness  var_fitness\n0          0         79.0   336.444444\n1          1        113.0    64.000000\n2          2        119.4    46.266667\n3          3        122.8    43.066667\n4          4        129.3    40.455556",
      "text/html": "<div>\n<style scoped>\n    .dataframe tbody tr th:only-of-type {\n        vertical-align: middle;\n    }\n\n    .dataframe tbody tr th {\n        vertical-align: top;\n    }\n\n    .dataframe thead th {\n        text-align: right;\n    }\n</style>\n<table border=\"1\" class=\"dataframe\">\n  <thead>\n    <tr style=\"text-align: right;\">\n      <th></th>\n      <th>Iteration</th>\n      <th>avg_fitness</th>\n      <th>var_fitness</th>\n    </tr>\n  </thead>\n  <tbody>\n    <tr>\n      <th>0</th>\n      <td>0</td>\n      <td>79.0</td>\n      <td>336.444444</td>\n    </tr>\n    <tr>\n      <th>1</th>\n      <td>1</td>\n      <td>113.0</td>\n      <td>64.000000</td>\n    </tr>\n    <tr>\n      <th>2</th>\n      <td>2</td>\n      <td>119.4</td>\n      <td>46.266667</td>\n    </tr>\n    <tr>\n      <th>3</th>\n      <td>3</td>\n      <td>122.8</td>\n      <td>43.066667</td>\n    </tr>\n    <tr>\n      <th>4</th>\n      <td>4</td>\n      <td>129.3</td>\n      <td>40.455556</td>\n    </tr>\n  </tbody>\n</table>\n</div>"
     },
     "execution_count": 31,
     "metadata": {},
     "output_type": "execute_result"
    }
   ],
   "source": [
    "df_fitness_iter_ffp.head()"
   ],
   "metadata": {
    "collapsed": false
   }
  },
  {
   "cell_type": "code",
   "execution_count": 32,
   "outputs": [
    {
     "data": {
      "text/plain": "20      20\n21      21\n22      22\n23      23\n24      24\n      ... \n533    533\n534    534\n535    535\n536    536\n537    537\nName: Iteration, Length: 5010, dtype: int64"
     },
     "execution_count": 32,
     "metadata": {},
     "output_type": "execute_result"
    }
   ],
   "source": [
    "# convergence point\n",
    "df_iter_curves_ffp[df_iter_curves_ffp.Fitness == df_iter_curves_ffp.Fitness.max()].Iteration"
   ],
   "metadata": {
    "collapsed": false
   }
  },
  {
   "cell_type": "code",
   "execution_count": 33,
   "outputs": [
    {
     "data": {
      "text/plain": "72"
     },
     "execution_count": 33,
     "metadata": {},
     "output_type": "execute_result"
    }
   ],
   "source": [
    "# converge point\n",
    "df_fitness_iter_ffp[df_fitness_iter_ffp.avg_fitness >= df_iter_curves_ffp.Fitness.max()].Iteration.min()"
   ],
   "metadata": {
    "collapsed": false
   }
  },
  {
   "cell_type": "code",
   "execution_count": 34,
   "outputs": [],
   "source": [
    "converge_iter = df_fitness_iter_ffp[df_fitness_iter_ffp.avg_fitness >= df_iter_curves_ffp.Fitness.max()].Iteration.min()"
   ],
   "metadata": {
    "collapsed": false
   }
  },
  {
   "cell_type": "code",
   "execution_count": 35,
   "outputs": [],
   "source": [
    "df_fitness_iter_ffp['stddev_fitness'] = df_fitness_iter_ffp['var_fitness'].apply(np.sqrt)"
   ],
   "metadata": {
    "collapsed": false
   }
  },
  {
   "cell_type": "code",
   "execution_count": 36,
   "outputs": [
    {
     "data": {
      "text/plain": "   Iteration  avg_fitness  var_fitness  stddev_fitness\n0          0         79.0   336.444444       18.342422\n1          1        113.0    64.000000        8.000000\n2          2        119.4    46.266667        6.801961\n3          3        122.8    43.066667        6.562520\n4          4        129.3    40.455556        6.360468",
      "text/html": "<div>\n<style scoped>\n    .dataframe tbody tr th:only-of-type {\n        vertical-align: middle;\n    }\n\n    .dataframe tbody tr th {\n        vertical-align: top;\n    }\n\n    .dataframe thead th {\n        text-align: right;\n    }\n</style>\n<table border=\"1\" class=\"dataframe\">\n  <thead>\n    <tr style=\"text-align: right;\">\n      <th></th>\n      <th>Iteration</th>\n      <th>avg_fitness</th>\n      <th>var_fitness</th>\n      <th>stddev_fitness</th>\n    </tr>\n  </thead>\n  <tbody>\n    <tr>\n      <th>0</th>\n      <td>0</td>\n      <td>79.0</td>\n      <td>336.444444</td>\n      <td>18.342422</td>\n    </tr>\n    <tr>\n      <th>1</th>\n      <td>1</td>\n      <td>113.0</td>\n      <td>64.000000</td>\n      <td>8.000000</td>\n    </tr>\n    <tr>\n      <th>2</th>\n      <td>2</td>\n      <td>119.4</td>\n      <td>46.266667</td>\n      <td>6.801961</td>\n    </tr>\n    <tr>\n      <th>3</th>\n      <td>3</td>\n      <td>122.8</td>\n      <td>43.066667</td>\n      <td>6.562520</td>\n    </tr>\n    <tr>\n      <th>4</th>\n      <td>4</td>\n      <td>129.3</td>\n      <td>40.455556</td>\n      <td>6.360468</td>\n    </tr>\n  </tbody>\n</table>\n</div>"
     },
     "execution_count": 36,
     "metadata": {},
     "output_type": "execute_result"
    }
   ],
   "source": [
    "df_fitness_iter_ffp.head()"
   ],
   "metadata": {
    "collapsed": false
   }
  },
  {
   "cell_type": "code",
   "execution_count": 37,
   "outputs": [
    {
     "data": {
      "text/plain": "Text(0, 0.5, 'Fitness')"
     },
     "execution_count": 37,
     "metadata": {},
     "output_type": "execute_result"
    },
    {
     "data": {
      "text/plain": "<Figure size 640x480 with 1 Axes>",
      "image/png": "[encoded data removed]"
     },
     "metadata": {},
     "output_type": "display_data"
    }
   ],
   "source": [
    "plt.plot(df_fitness_iter_ffp.Iteration, df_fitness_iter_ffp.avg_fitness, 'k', color='#3F7F4C')\n",
    "plt.fill_between(df_fitness_iter_ffp.Iteration, df_fitness_iter_ffp.avg_fitness - df_fitness_iter_ffp.stddev_fitness\\\n",
    "                 , df_fitness_iter_ffp.avg_fitness + df_fitness_iter_ffp.stddev_fitness\\\n",
    "                 , alpha=0.5, edgecolor='#3F7F4C', facecolor='#7EFF99')\n",
    "plt.title('Fitness by Iterations with Problem Size 3 - Genetic Algorithm on Job Scheduling')\n",
    "plt.xlabel('Iterations')\n",
    "plt.ylabel('Fitness')"
   ],
   "metadata": {
    "collapsed": false
   }
  },
  {
   "cell_type": "code",
   "execution_count": 38,
   "outputs": [
    {
     "data": {
      "text/plain": "400    161.0\nName: avg_fitness, dtype: float64"
     },
     "execution_count": 38,
     "metadata": {},
     "output_type": "execute_result"
    }
   ],
   "source": [
    "df_fitness_iter_ffp[df_fitness_iter_ffp.Iteration == 400].avg_fitness"
   ],
   "metadata": {
    "collapsed": false
   }
  },
  {
   "cell_type": "code",
   "execution_count": 39,
   "outputs": [
    {
     "data": {
      "text/plain": "(nan, nan)"
     },
     "execution_count": 39,
     "metadata": {},
     "output_type": "execute_result"
    }
   ],
   "source": [
    "df_fitness_iter_ffp[df_fitness_iter_ffp.avg_fitness == 178].stddev_fitness.min(),df_fitness_iter_ffp[df_fitness_iter_ffp.avg_fitness == 178].stddev_fitness.max()"
   ],
   "metadata": {
    "collapsed": false
   }
  },
  {
   "cell_type": "code",
   "execution_count": 40,
   "outputs": [
    {
     "data": {
      "text/plain": "(nan, nan)"
     },
     "execution_count": 40,
     "metadata": {},
     "output_type": "execute_result"
    }
   ],
   "source": [
    "df_fitness_iter_ffp[df_fitness_iter_ffp.avg_fitness == 178].Iteration.min(),df_fitness_iter_ffp[df_fitness_iter_ffp.avg_fitness == 178].Iteration.max()"
   ],
   "metadata": {
    "collapsed": false
   }
  },
  {
   "cell_type": "code",
   "execution_count": 41,
   "outputs": [
    {
     "data": {
      "text/plain": "18.342421989596804"
     },
     "execution_count": 41,
     "metadata": {},
     "output_type": "execute_result"
    }
   ],
   "source": [
    "df_fitness_iter_ffp.stddev_fitness.max()"
   ],
   "metadata": {
    "collapsed": false
   }
  },
  {
   "cell_type": "code",
   "execution_count": 42,
   "outputs": [
    {
     "data": {
      "text/plain": "8.000000000000004"
     },
     "execution_count": 42,
     "metadata": {},
     "output_type": "execute_result"
    }
   ],
   "source": [
    "df_fitness_iter_ffp[df_fitness_iter_ffp['Iteration']>0].stddev_fitness.max()"
   ],
   "metadata": {
    "collapsed": false
   }
  },
  {
   "cell_type": "code",
   "execution_count": 43,
   "outputs": [
    {
     "data": {
      "text/plain": "(0    0\n Name: Iteration, dtype: int64,)"
     },
     "execution_count": 43,
     "metadata": {},
     "output_type": "execute_result"
    }
   ],
   "source": [
    "df_fitness_iter_ffp[df_fitness_iter_ffp.stddev_fitness == df_fitness_iter_ffp.stddev_fitness.max()].Iteration,"
   ],
   "metadata": {
    "collapsed": false
   }
  },
  {
   "cell_type": "code",
   "execution_count": 44,
   "outputs": [
    {
     "data": {
      "text/plain": "1    1\nName: Iteration, dtype: int64"
     },
     "execution_count": 44,
     "metadata": {},
     "output_type": "execute_result"
    }
   ],
   "source": [
    "df_fitness_iter_ffp[df_fitness_iter_ffp.stddev_fitness == df_fitness_iter_ffp[df_fitness_iter_ffp['Iteration']>0].stddev_fitness.max()].Iteration"
   ],
   "metadata": {
    "collapsed": false
   }
  },
  {
   "cell_type": "code",
   "execution_count": 45,
   "outputs": [],
   "source": [
    "# Fevals - iteration"
   ],
   "metadata": {
    "collapsed": false
   }
  },
  {
   "cell_type": "code",
   "execution_count": 46,
   "outputs": [],
   "source": [
    "df_FEvals_iter_ffp = df_iter_curves_ffp.groupby('Iteration')\\\n",
    "                                .agg(avg_FEvals=('FEvals', 'mean'), var_FEvals = ('FEvals', 'var'))\\\n",
    "                                .reset_index()"
   ],
   "metadata": {
    "collapsed": false
   }
  },
  {
   "cell_type": "code",
   "execution_count": 47,
   "outputs": [
    {
     "data": {
      "text/plain": "(573, 3)"
     },
     "execution_count": 47,
     "metadata": {},
     "output_type": "execute_result"
    }
   ],
   "source": [
    "df_FEvals_iter_ffp.shape"
   ],
   "metadata": {
    "collapsed": false
   }
  },
  {
   "cell_type": "code",
   "execution_count": 48,
   "outputs": [
    {
     "data": {
      "text/plain": "   Iteration  avg_FEvals  var_FEvals\n0          0         0.0    0.000000\n1          1         1.9    0.100000\n2          2         3.6    0.488889\n3          3         5.1    0.988889\n4          4         7.0    0.888889",
      "text/html": "<div>\n<style scoped>\n    .dataframe tbody tr th:only-of-type {\n        vertical-align: middle;\n    }\n\n    .dataframe tbody tr th {\n        vertical-align: top;\n    }\n\n    .dataframe thead th {\n        text-align: right;\n    }\n</style>\n<table border=\"1\" class=\"dataframe\">\n  <thead>\n    <tr style=\"text-align: right;\">\n      <th></th>\n      <th>Iteration</th>\n      <th>avg_FEvals</th>\n      <th>var_FEvals</th>\n    </tr>\n  </thead>\n  <tbody>\n    <tr>\n      <th>0</th>\n      <td>0</td>\n      <td>0.0</td>\n      <td>0.000000</td>\n    </tr>\n    <tr>\n      <th>1</th>\n      <td>1</td>\n      <td>1.9</td>\n      <td>0.100000</td>\n    </tr>\n    <tr>\n      <th>2</th>\n      <td>2</td>\n      <td>3.6</td>\n      <td>0.488889</td>\n    </tr>\n    <tr>\n      <th>3</th>\n      <td>3</td>\n      <td>5.1</td>\n      <td>0.988889</td>\n    </tr>\n    <tr>\n      <th>4</th>\n      <td>4</td>\n      <td>7.0</td>\n      <td>0.888889</td>\n    </tr>\n  </tbody>\n</table>\n</div>"
     },
     "execution_count": 48,
     "metadata": {},
     "output_type": "execute_result"
    }
   ],
   "source": [
    "df_FEvals_iter_ffp.head()"
   ],
   "metadata": {
    "collapsed": false
   }
  },
  {
   "cell_type": "code",
   "execution_count": 49,
   "outputs": [],
   "source": [
    "df_FEvals_iter_ffp['stddev_FEvals'] = df_FEvals_iter_ffp['var_FEvals'].apply(np.sqrt)"
   ],
   "metadata": {
    "collapsed": false
   }
  },
  {
   "cell_type": "code",
   "execution_count": 50,
   "outputs": [
    {
     "data": {
      "text/plain": "    Iteration  avg_FEvals  var_FEvals  stddev_FEvals\n72         72        81.4         3.6       1.897367",
      "text/html": "<div>\n<style scoped>\n    .dataframe tbody tr th:only-of-type {\n        vertical-align: middle;\n    }\n\n    .dataframe tbody tr th {\n        vertical-align: top;\n    }\n\n    .dataframe thead th {\n        text-align: right;\n    }\n</style>\n<table border=\"1\" class=\"dataframe\">\n  <thead>\n    <tr style=\"text-align: right;\">\n      <th></th>\n      <th>Iteration</th>\n      <th>avg_FEvals</th>\n      <th>var_FEvals</th>\n      <th>stddev_FEvals</th>\n    </tr>\n  </thead>\n  <tbody>\n    <tr>\n      <th>72</th>\n      <td>72</td>\n      <td>81.4</td>\n      <td>3.6</td>\n      <td>1.897367</td>\n    </tr>\n  </tbody>\n</table>\n</div>"
     },
     "execution_count": 50,
     "metadata": {},
     "output_type": "execute_result"
    }
   ],
   "source": [
    "df_FEvals_iter_ffp[df_FEvals_iter_ffp['Iteration'] == converge_iter]"
   ],
   "metadata": {
    "collapsed": false
   }
  },
  {
   "cell_type": "code",
   "execution_count": 51,
   "outputs": [
    {
     "data": {
      "text/plain": "(0.0, 2.057506581601462)"
     },
     "execution_count": 51,
     "metadata": {},
     "output_type": "execute_result"
    }
   ],
   "source": [
    "df_FEvals_iter_ffp['stddev_FEvals'].min(), df_FEvals_iter_ffp['stddev_FEvals'].max()"
   ],
   "metadata": {
    "collapsed": false
   }
  },
  {
   "cell_type": "code",
   "execution_count": 52,
   "outputs": [
    {
     "data": {
      "text/plain": "   Iteration  avg_FEvals  var_FEvals  stddev_FEvals\n0          0         0.0    0.000000       0.000000\n1          1         1.9    0.100000       0.316228\n2          2         3.6    0.488889       0.699206\n3          3         5.1    0.988889       0.994429\n4          4         7.0    0.888889       0.942809",
      "text/html": "<div>\n<style scoped>\n    .dataframe tbody tr th:only-of-type {\n        vertical-align: middle;\n    }\n\n    .dataframe tbody tr th {\n        vertical-align: top;\n    }\n\n    .dataframe thead th {\n        text-align: right;\n    }\n</style>\n<table border=\"1\" class=\"dataframe\">\n  <thead>\n    <tr style=\"text-align: right;\">\n      <th></th>\n      <th>Iteration</th>\n      <th>avg_FEvals</th>\n      <th>var_FEvals</th>\n      <th>stddev_FEvals</th>\n    </tr>\n  </thead>\n  <tbody>\n    <tr>\n      <th>0</th>\n      <td>0</td>\n      <td>0.0</td>\n      <td>0.000000</td>\n      <td>0.000000</td>\n    </tr>\n    <tr>\n      <th>1</th>\n      <td>1</td>\n      <td>1.9</td>\n      <td>0.100000</td>\n      <td>0.316228</td>\n    </tr>\n    <tr>\n      <th>2</th>\n      <td>2</td>\n      <td>3.6</td>\n      <td>0.488889</td>\n      <td>0.699206</td>\n    </tr>\n    <tr>\n      <th>3</th>\n      <td>3</td>\n      <td>5.1</td>\n      <td>0.988889</td>\n      <td>0.994429</td>\n    </tr>\n    <tr>\n      <th>4</th>\n      <td>4</td>\n      <td>7.0</td>\n      <td>0.888889</td>\n      <td>0.942809</td>\n    </tr>\n  </tbody>\n</table>\n</div>"
     },
     "execution_count": 52,
     "metadata": {},
     "output_type": "execute_result"
    }
   ],
   "source": [
    "df_FEvals_iter_ffp.head()"
   ],
   "metadata": {
    "collapsed": false
   }
  },
  {
   "cell_type": "code",
   "execution_count": 53,
   "outputs": [
    {
     "data": {
      "text/plain": "Text(0, 0.5, 'FEvals')"
     },
     "execution_count": 53,
     "metadata": {},
     "output_type": "execute_result"
    },
    {
     "data": {
      "text/plain": "<Figure size 640x480 with 1 Axes>",
      "image/png": "[encoded data removed]"
     },
     "metadata": {},
     "output_type": "display_data"
    }
   ],
   "source": [
    "plt.plot(df_FEvals_iter_ffp.Iteration, df_FEvals_iter_ffp.avg_FEvals, 'k', color='#3F7F4C')\n",
    "plt.fill_between(df_FEvals_iter_ffp.Iteration, df_FEvals_iter_ffp.avg_FEvals - df_FEvals_iter_ffp.stddev_FEvals\\\n",
    "                 , df_FEvals_iter_ffp.avg_FEvals + df_FEvals_iter_ffp.stddev_FEvals\\\n",
    "                 , alpha=0.5, edgecolor='#3F7F4C', facecolor='#7EFF99')\n",
    "plt.title('FEvals by Iterations - Genetic Algorithm')\n",
    "plt.xlabel('Iterations')\n",
    "plt.ylabel('FEvals')"
   ],
   "metadata": {
    "collapsed": false
   }
  },
  {
   "cell_type": "code",
   "execution_count": 54,
   "outputs": [],
   "source": [
    "# fitness - wall clock time"
   ],
   "metadata": {
    "collapsed": false
   }
  },
  {
   "cell_type": "code",
   "execution_count": 55,
   "outputs": [],
   "source": [
    "df_time_iter_ffp = df_iter_curves_ffp.groupby('Iteration')\\\n",
    "                                .agg(avg_time=('Time', 'mean'), var_time = ('Time', 'var'))\\\n",
    "                                .reset_index()"
   ],
   "metadata": {
    "collapsed": false
   }
  },
  {
   "cell_type": "code",
   "execution_count": 56,
   "outputs": [
    {
     "data": {
      "text/plain": "(573, 3)"
     },
     "execution_count": 56,
     "metadata": {},
     "output_type": "execute_result"
    }
   ],
   "source": [
    "df_time_iter_ffp.shape"
   ],
   "metadata": {
    "collapsed": false
   }
  },
  {
   "cell_type": "code",
   "execution_count": 57,
   "outputs": [
    {
     "data": {
      "text/plain": "   Iteration  avg_time      var_time\n0          0  0.001024  6.905111e-07\n1          1  0.009166  3.913568e-05\n2          2  0.015717  6.663959e-05\n3          3  0.024941  1.378101e-04\n4          4  0.030576  2.127929e-04",
      "text/html": "<div>\n<style scoped>\n    .dataframe tbody tr th:only-of-type {\n        vertical-align: middle;\n    }\n\n    .dataframe tbody tr th {\n        vertical-align: top;\n    }\n\n    .dataframe thead th {\n        text-align: right;\n    }\n</style>\n<table border=\"1\" class=\"dataframe\">\n  <thead>\n    <tr style=\"text-align: right;\">\n      <th></th>\n      <th>Iteration</th>\n      <th>avg_time</th>\n      <th>var_time</th>\n    </tr>\n  </thead>\n  <tbody>\n    <tr>\n      <th>0</th>\n      <td>0</td>\n      <td>0.001024</td>\n      <td>6.905111e-07</td>\n    </tr>\n    <tr>\n      <th>1</th>\n      <td>1</td>\n      <td>0.009166</td>\n      <td>3.913568e-05</td>\n    </tr>\n    <tr>\n      <th>2</th>\n      <td>2</td>\n      <td>0.015717</td>\n      <td>6.663959e-05</td>\n    </tr>\n    <tr>\n      <th>3</th>\n      <td>3</td>\n      <td>0.024941</td>\n      <td>1.378101e-04</td>\n    </tr>\n    <tr>\n      <th>4</th>\n      <td>4</td>\n      <td>0.030576</td>\n      <td>2.127929e-04</td>\n    </tr>\n  </tbody>\n</table>\n</div>"
     },
     "execution_count": 57,
     "metadata": {},
     "output_type": "execute_result"
    }
   ],
   "source": [
    "df_time_iter_ffp.head()"
   ],
   "metadata": {
    "collapsed": false
   }
  },
  {
   "cell_type": "code",
   "execution_count": 58,
   "outputs": [],
   "source": [
    "df_time_iter_ffp['stddev_time'] = df_time_iter_ffp['var_time'].apply(np.sqrt)"
   ],
   "metadata": {
    "collapsed": false
   }
  },
  {
   "cell_type": "code",
   "execution_count": 59,
   "outputs": [
    {
     "data": {
      "text/plain": "   Iteration  avg_time      var_time  stddev_time\n0          0  0.001024  6.905111e-07     0.000831\n1          1  0.009166  3.913568e-05     0.006256\n2          2  0.015717  6.663959e-05     0.008163\n3          3  0.024941  1.378101e-04     0.011739\n4          4  0.030576  2.127929e-04     0.014587",
      "text/html": "<div>\n<style scoped>\n    .dataframe tbody tr th:only-of-type {\n        vertical-align: middle;\n    }\n\n    .dataframe tbody tr th {\n        vertical-align: top;\n    }\n\n    .dataframe thead th {\n        text-align: right;\n    }\n</style>\n<table border=\"1\" class=\"dataframe\">\n  <thead>\n    <tr style=\"text-align: right;\">\n      <th></th>\n      <th>Iteration</th>\n      <th>avg_time</th>\n      <th>var_time</th>\n      <th>stddev_time</th>\n    </tr>\n  </thead>\n  <tbody>\n    <tr>\n      <th>0</th>\n      <td>0</td>\n      <td>0.001024</td>\n      <td>6.905111e-07</td>\n      <td>0.000831</td>\n    </tr>\n    <tr>\n      <th>1</th>\n      <td>1</td>\n      <td>0.009166</td>\n      <td>3.913568e-05</td>\n      <td>0.006256</td>\n    </tr>\n    <tr>\n      <th>2</th>\n      <td>2</td>\n      <td>0.015717</td>\n      <td>6.663959e-05</td>\n      <td>0.008163</td>\n    </tr>\n    <tr>\n      <th>3</th>\n      <td>3</td>\n      <td>0.024941</td>\n      <td>1.378101e-04</td>\n      <td>0.011739</td>\n    </tr>\n    <tr>\n      <th>4</th>\n      <td>4</td>\n      <td>0.030576</td>\n      <td>2.127929e-04</td>\n      <td>0.014587</td>\n    </tr>\n  </tbody>\n</table>\n</div>"
     },
     "execution_count": 59,
     "metadata": {},
     "output_type": "execute_result"
    }
   ],
   "source": [
    "df_time_iter_ffp.head()"
   ],
   "metadata": {
    "collapsed": false
   }
  },
  {
   "cell_type": "code",
   "execution_count": 60,
   "outputs": [
    {
     "data": {
      "text/plain": "Text(0, 0.5, 'Time')"
     },
     "execution_count": 60,
     "metadata": {},
     "output_type": "execute_result"
    },
    {
     "data": {
      "text/plain": "<Figure size 640x480 with 1 Axes>",
      "image/png": "[encoded data removed]"
     },
     "metadata": {},
     "output_type": "display_data"
    }
   ],
   "source": [
    "plt.plot(df_time_iter_ffp.Iteration, df_time_iter_ffp.avg_time, 'k', color='#3F7F4C')\n",
    "plt.fill_between(df_time_iter_ffp.Iteration, df_time_iter_ffp.avg_time - df_time_iter_ffp.stddev_time\\\n",
    "                 , df_time_iter_ffp.avg_time + df_time_iter_ffp.stddev_time\\\n",
    "                 , alpha=0.5, edgecolor='#3F7F4C', facecolor='#7EFF99')\n",
    "plt.title('Wall Clock Time by Iterations - Genetic Algorithm')\n",
    "plt.xlabel('Iterations')\n",
    "plt.ylabel('Time')"
   ],
   "metadata": {
    "collapsed": false
   }
  },
  {
   "cell_type": "code",
   "execution_count": 61,
   "outputs": [
    {
     "data": {
      "text/plain": "1.114918048244199"
     },
     "execution_count": 61,
     "metadata": {},
     "output_type": "execute_result"
    }
   ],
   "source": [
    "df_time_iter_ffp.stddev_time.max()"
   ],
   "metadata": {
    "collapsed": false
   }
  },
  {
   "cell_type": "code",
   "execution_count": 62,
   "outputs": [
    {
     "data": {
      "text/plain": "     Iteration  avg_time  var_time  stddev_time\n501        501   2.62529  0.762033     0.872945",
      "text/html": "<div>\n<style scoped>\n    .dataframe tbody tr th:only-of-type {\n        vertical-align: middle;\n    }\n\n    .dataframe tbody tr th {\n        vertical-align: top;\n    }\n\n    .dataframe thead th {\n        text-align: right;\n    }\n</style>\n<table border=\"1\" class=\"dataframe\">\n  <thead>\n    <tr style=\"text-align: right;\">\n      <th></th>\n      <th>Iteration</th>\n      <th>avg_time</th>\n      <th>var_time</th>\n      <th>stddev_time</th>\n    </tr>\n  </thead>\n  <tbody>\n    <tr>\n      <th>501</th>\n      <td>501</td>\n      <td>2.62529</td>\n      <td>0.762033</td>\n      <td>0.872945</td>\n    </tr>\n  </tbody>\n</table>\n</div>"
     },
     "execution_count": 62,
     "metadata": {},
     "output_type": "execute_result"
    }
   ],
   "source": [
    "df_time_iter_ffp[df_time_iter_ffp['Iteration'] == 501]"
   ],
   "metadata": {
    "collapsed": false
   }
  },
  {
   "cell_type": "code",
   "execution_count": 63,
   "outputs": [
    {
     "data": {
      "text/plain": "520    520\nName: Iteration, dtype: int64"
     },
     "execution_count": 63,
     "metadata": {},
     "output_type": "execute_result"
    }
   ],
   "source": [
    "df_time_iter_ffp[df_time_iter_ffp.stddev_time == df_time_iter_ffp.stddev_time.max()].Iteration"
   ],
   "metadata": {
    "collapsed": false
   }
  },
  {
   "cell_type": "code",
   "execution_count": 64,
   "outputs": [
    {
     "data": {
      "text/plain": "    Iteration  avg_time  var_time  stddev_time\n72         72  0.461909  0.136372     0.369286",
      "text/html": "<div>\n<style scoped>\n    .dataframe tbody tr th:only-of-type {\n        vertical-align: middle;\n    }\n\n    .dataframe tbody tr th {\n        vertical-align: top;\n    }\n\n    .dataframe thead th {\n        text-align: right;\n    }\n</style>\n<table border=\"1\" class=\"dataframe\">\n  <thead>\n    <tr style=\"text-align: right;\">\n      <th></th>\n      <th>Iteration</th>\n      <th>avg_time</th>\n      <th>var_time</th>\n      <th>stddev_time</th>\n    </tr>\n  </thead>\n  <tbody>\n    <tr>\n      <th>72</th>\n      <td>72</td>\n      <td>0.461909</td>\n      <td>0.136372</td>\n      <td>0.369286</td>\n    </tr>\n  </tbody>\n</table>\n</div>"
     },
     "execution_count": 64,
     "metadata": {},
     "output_type": "execute_result"
    }
   ],
   "source": [
    "df_time_iter_ffp[df_time_iter_ffp['Iteration'] == converge_iter]"
   ],
   "metadata": {
    "collapsed": false
   }
  },
  {
   "cell_type": "code",
   "execution_count": 64,
   "outputs": [],
   "source": [],
   "metadata": {
    "collapsed": false
   }
  }
 ],
 "metadata": {
  "kernelspec": {
   "display_name": "Python 3 (ipykernel)",
   "language": "python",
   "name": "python3"
  },
  "language_info": {
   "codemirror_mode": {
    "name": "ipython",
    "version": 3
   },
   "file_extension": ".py",
   "mimetype": "text/x-python",
   "name": "python",
   "nbconvert_exporter": "python",
   "pygments_lexer": "ipython3",
   "version": "3.11.4"
  }
 },
 "nbformat": 4,
 "nbformat_minor": 5
}
