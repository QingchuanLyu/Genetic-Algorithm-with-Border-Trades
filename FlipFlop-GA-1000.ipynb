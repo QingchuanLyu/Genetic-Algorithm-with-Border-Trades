{
 "cells": [
  {
   "cell_type": "code",
   "execution_count": 2,
   "id": "b243b22c",
   "metadata": {},
   "outputs": [],
   "source": [
    "import mlrose_hiive as mh"
   ]
  },
  {
   "cell_type": "code",
   "execution_count": 12,
   "id": "cb9e02c3",
   "metadata": {},
   "outputs": [
    {
     "name": "stderr",
     "output_type": "stream",
     "text": [
      "/var/folders/c6/5zg6wy5n121f2pzclkwbzplm0000gn/T/ipykernel_22120/1000570959.py:7: DeprecationWarning: Importing display from IPython.core.display is deprecated since IPython 7.14, please import from IPython display\n",
      "  from IPython.core.display import display, HTML # for some notebook formatting.\n"
     ]
    }
   ],
   "source": [
    "import numpy as np\n",
    "\n",
    "from sklearn.model_selection import train_test_split\n",
    "from sklearn.preprocessing import MinMaxScaler, OneHotEncoder\n",
    "from sklearn.metrics import accuracy_score\n",
    "\n",
    "from IPython.core.display import display, HTML # for some notebook formatting.\n",
    "\n",
    "import logging\n",
    "import networkx as nx\n",
    "import matplotlib.pyplot as plt\n",
    "import string\n",
    "\n",
    "\n",
    "from ast import literal_eval\n",
    "\n",
    "from sklearn.model_selection import train_test_split\n",
    "from sklearn.preprocessing import MinMaxScaler, OneHotEncoder\n",
    "from sklearn.metrics import accuracy_score\n",
    "\n",
    "# switch off the chatter\n",
    "logging.basicConfig(level=logging.WARNING)"
   ]
  },
  {
   "cell_type": "code",
   "execution_count": 1,
   "id": "f314d532",
   "metadata": {},
   "outputs": [],
   "source": [
    "import pandas as pd"
   ]
  },
  {
   "cell_type": "code",
   "execution_count": 5,
   "id": "c907b845",
   "metadata": {},
   "outputs": [],
   "source": [
    "# # Flip Flop\n",
    "problem_ffp = mh.FlipFlopGenerator().generate(seed=0, size=1000)\n",
    "#state = problem_ffp.get_state()"
   ]
  },
  {
   "cell_type": "code",
   "execution_count": 6,
   "id": "34174e8f",
   "metadata": {},
   "outputs": [],
   "source": [
    "# GA runner class\n",
    "# 1. tune population size and mutation rates\n",
    "ga_ffp = mh.GARunner(problem=problem_ffp,\n",
    "              experiment_name='ffp_ga',\n",
    "              output_directory=None, # note: specify an output directory to have results saved to disk\n",
    "              seed=0,\n",
    "              iteration_list=2 ** np.arange(12),\n",
    "              max_attempts=500,\n",
    "              population_sizes=[20, 50, 100, 150],\n",
    "              mutation_rates=[0.1, 0.08]) # Probability of a mutation at each element of the state vector during reproduction, expressed as a value between 0 and 1.\n",
    "\n",
    "# the two data frames will contain the results\n",
    "df_run_stats_ffp, df_run_curves_ffp = ga_ffp.run()"
   ]
  },
  {
   "cell_type": "code",
   "execution_count": 7,
   "id": "3139bc51",
   "metadata": {},
   "outputs": [
    {
     "data": {
      "text/plain": "(15936, 7)"
     },
     "execution_count": 7,
     "metadata": {},
     "output_type": "execute_result"
    }
   ],
   "source": [
    "df_run_curves_ffp.shape"
   ]
  },
  {
   "cell_type": "code",
   "execution_count": 10,
   "id": "78ec6ce8",
   "metadata": {},
   "outputs": [
    {
     "data": {
      "text/plain": "   Iteration      Time  Fitness  FEvals  Population Size  Mutation Rate  \\\n0          0  0.003819    516.0     0.0               20            0.1   \n1          1  0.020528    540.0     2.0               20            0.1   \n2          2  0.049029    545.0     4.0               20            0.1   \n3          3  0.069548    547.0     6.0               20            0.1   \n4          4  0.076954    547.0     7.0               20            0.1   \n\n   max_iters  \n0       2048  \n1       2048  \n2       2048  \n3       2048  \n4       2048  ",
      "text/html": "<div>\n<style scoped>\n    .dataframe tbody tr th:only-of-type {\n        vertical-align: middle;\n    }\n\n    .dataframe tbody tr th {\n        vertical-align: top;\n    }\n\n    .dataframe thead th {\n        text-align: right;\n    }\n</style>\n<table border=\"1\" class=\"dataframe\">\n  <thead>\n    <tr style=\"text-align: right;\">\n      <th></th>\n      <th>Iteration</th>\n      <th>Time</th>\n      <th>Fitness</th>\n      <th>FEvals</th>\n      <th>Population Size</th>\n      <th>Mutation Rate</th>\n      <th>max_iters</th>\n    </tr>\n  </thead>\n  <tbody>\n    <tr>\n      <th>0</th>\n      <td>0</td>\n      <td>0.003819</td>\n      <td>516.0</td>\n      <td>0.0</td>\n      <td>20</td>\n      <td>0.1</td>\n      <td>2048</td>\n    </tr>\n    <tr>\n      <th>1</th>\n      <td>1</td>\n      <td>0.020528</td>\n      <td>540.0</td>\n      <td>2.0</td>\n      <td>20</td>\n      <td>0.1</td>\n      <td>2048</td>\n    </tr>\n    <tr>\n      <th>2</th>\n      <td>2</td>\n      <td>0.049029</td>\n      <td>545.0</td>\n      <td>4.0</td>\n      <td>20</td>\n      <td>0.1</td>\n      <td>2048</td>\n    </tr>\n    <tr>\n      <th>3</th>\n      <td>3</td>\n      <td>0.069548</td>\n      <td>547.0</td>\n      <td>6.0</td>\n      <td>20</td>\n      <td>0.1</td>\n      <td>2048</td>\n    </tr>\n    <tr>\n      <th>4</th>\n      <td>4</td>\n      <td>0.076954</td>\n      <td>547.0</td>\n      <td>7.0</td>\n      <td>20</td>\n      <td>0.1</td>\n      <td>2048</td>\n    </tr>\n  </tbody>\n</table>\n</div>"
     },
     "execution_count": 10,
     "metadata": {},
     "output_type": "execute_result"
    }
   ],
   "source": [
    "df_run_curves_ffp.head()"
   ]
  },
  {
   "cell_type": "code",
   "execution_count": 11,
   "id": "a6cb09ff",
   "metadata": {},
   "outputs": [
    {
     "data": {
      "text/plain": "835.0"
     },
     "execution_count": 11,
     "metadata": {},
     "output_type": "execute_result"
    }
   ],
   "source": [
    "df_run_curves_ffp['Fitness'].max()"
   ]
  },
  {
   "cell_type": "code",
   "execution_count": 12,
   "id": "c171f5aa",
   "metadata": {},
   "outputs": [],
   "source": [
    "# need to check Time and FEvals"
   ]
  },
  {
   "cell_type": "code",
   "execution_count": 13,
   "id": "1d941eb6",
   "metadata": {},
   "outputs": [
    {
     "data": {
      "text/plain": "Iteration            int64\nTime               float64\nFitness            float64\nFEvals             float64\nPopulation Size      int64\nMutation Rate      float64\nmax_iters            int64\ndtype: object"
     },
     "execution_count": 13,
     "metadata": {},
     "output_type": "execute_result"
    }
   ],
   "source": [
    "df_run_curves_ffp.dtypes"
   ]
  },
  {
   "cell_type": "code",
   "execution_count": 14,
   "id": "59c463dd",
   "metadata": {},
   "outputs": [],
   "source": [
    "df_curves_bestfitness_ffp = df_run_curves_ffp[(df_run_curves_ffp['Fitness'] == df_run_curves_ffp['Fitness'].max())]"
   ]
  },
  {
   "cell_type": "code",
   "execution_count": 15,
   "id": "5e04b1a5",
   "metadata": {},
   "outputs": [
    {
     "data": {
      "text/plain": "       Iteration       Time  Fitness  FEvals  Population Size  Mutation Rate  \\\n15900       2013  16.479797    835.0  2140.0              150           0.08   \n15901       2014  16.491616    835.0  2141.0              150           0.08   \n15902       2015  16.504464    835.0  2142.0              150           0.08   \n15903       2016  16.513538    835.0  2143.0              150           0.08   \n15904       2017  16.524818    835.0  2144.0              150           0.08   \n15905       2018  16.534682    835.0  2145.0              150           0.08   \n15906       2019  16.542077    835.0  2146.0              150           0.08   \n15907       2020  16.553087    835.0  2147.0              150           0.08   \n15908       2021  16.562417    835.0  2148.0              150           0.08   \n15909       2022  16.569160    835.0  2149.0              150           0.08   \n15910       2023  16.579756    835.0  2150.0              150           0.08   \n15911       2024  16.590659    835.0  2151.0              150           0.08   \n15912       2025  16.605824    835.0  2152.0              150           0.08   \n15913       2026  16.617832    835.0  2153.0              150           0.08   \n15914       2027  16.627399    835.0  2154.0              150           0.08   \n15915       2028  16.635865    835.0  2155.0              150           0.08   \n15916       2029  16.644984    835.0  2156.0              150           0.08   \n15917       2030  16.653604    835.0  2157.0              150           0.08   \n15918       2031  16.663126    835.0  2158.0              150           0.08   \n15919       2032  16.673487    835.0  2159.0              150           0.08   \n15920       2033  16.683947    835.0  2160.0              150           0.08   \n15921       2034  16.693115    835.0  2161.0              150           0.08   \n15922       2035  16.703519    835.0  2162.0              150           0.08   \n15923       2036  16.712079    835.0  2163.0              150           0.08   \n15924       2037  16.720166    835.0  2164.0              150           0.08   \n15925       2038  16.728129    835.0  2165.0              150           0.08   \n15926       2039  16.734452    835.0  2166.0              150           0.08   \n15927       2040  16.740991    835.0  2167.0              150           0.08   \n15928       2041  16.752968    835.0  2168.0              150           0.08   \n15929       2042  16.763380    835.0  2169.0              150           0.08   \n15930       2043  16.773957    835.0  2170.0              150           0.08   \n15931       2044  16.783255    835.0  2171.0              150           0.08   \n15932       2045  16.789394    835.0  2172.0              150           0.08   \n15933       2046  16.796893    835.0  2173.0              150           0.08   \n15934       2047  16.806825    835.0  2174.0              150           0.08   \n15935       2048  16.813151    835.0  2175.0              150           0.08   \n\n       max_iters  \n15900       2048  \n15901       2048  \n15902       2048  \n15903       2048  \n15904       2048  \n15905       2048  \n15906       2048  \n15907       2048  \n15908       2048  \n15909       2048  \n15910       2048  \n15911       2048  \n15912       2048  \n15913       2048  \n15914       2048  \n15915       2048  \n15916       2048  \n15917       2048  \n15918       2048  \n15919       2048  \n15920       2048  \n15921       2048  \n15922       2048  \n15923       2048  \n15924       2048  \n15925       2048  \n15926       2048  \n15927       2048  \n15928       2048  \n15929       2048  \n15930       2048  \n15931       2048  \n15932       2048  \n15933       2048  \n15934       2048  \n15935       2048  ",
      "text/html": "<div>\n<style scoped>\n    .dataframe tbody tr th:only-of-type {\n        vertical-align: middle;\n    }\n\n    .dataframe tbody tr th {\n        vertical-align: top;\n    }\n\n    .dataframe thead th {\n        text-align: right;\n    }\n</style>\n<table border=\"1\" class=\"dataframe\">\n  <thead>\n    <tr style=\"text-align: right;\">\n      <th></th>\n      <th>Iteration</th>\n      <th>Time</th>\n      <th>Fitness</th>\n      <th>FEvals</th>\n      <th>Population Size</th>\n      <th>Mutation Rate</th>\n      <th>max_iters</th>\n    </tr>\n  </thead>\n  <tbody>\n    <tr>\n      <th>15900</th>\n      <td>2013</td>\n      <td>16.479797</td>\n      <td>835.0</td>\n      <td>2140.0</td>\n      <td>150</td>\n      <td>0.08</td>\n      <td>2048</td>\n    </tr>\n    <tr>\n      <th>15901</th>\n      <td>2014</td>\n      <td>16.491616</td>\n      <td>835.0</td>\n      <td>2141.0</td>\n      <td>150</td>\n      <td>0.08</td>\n      <td>2048</td>\n    </tr>\n    <tr>\n      <th>15902</th>\n      <td>2015</td>\n      <td>16.504464</td>\n      <td>835.0</td>\n      <td>2142.0</td>\n      <td>150</td>\n      <td>0.08</td>\n      <td>2048</td>\n    </tr>\n    <tr>\n      <th>15903</th>\n      <td>2016</td>\n      <td>16.513538</td>\n      <td>835.0</td>\n      <td>2143.0</td>\n      <td>150</td>\n      <td>0.08</td>\n      <td>2048</td>\n    </tr>\n    <tr>\n      <th>15904</th>\n      <td>2017</td>\n      <td>16.524818</td>\n      <td>835.0</td>\n      <td>2144.0</td>\n      <td>150</td>\n      <td>0.08</td>\n      <td>2048</td>\n    </tr>\n    <tr>\n      <th>15905</th>\n      <td>2018</td>\n      <td>16.534682</td>\n      <td>835.0</td>\n      <td>2145.0</td>\n      <td>150</td>\n      <td>0.08</td>\n      <td>2048</td>\n    </tr>\n    <tr>\n      <th>15906</th>\n      <td>2019</td>\n      <td>16.542077</td>\n      <td>835.0</td>\n      <td>2146.0</td>\n      <td>150</td>\n      <td>0.08</td>\n      <td>2048</td>\n    </tr>\n    <tr>\n      <th>15907</th>\n      <td>2020</td>\n      <td>16.553087</td>\n      <td>835.0</td>\n      <td>2147.0</td>\n      <td>150</td>\n      <td>0.08</td>\n      <td>2048</td>\n    </tr>\n    <tr>\n      <th>15908</th>\n      <td>2021</td>\n      <td>16.562417</td>\n      <td>835.0</td>\n      <td>2148.0</td>\n      <td>150</td>\n      <td>0.08</td>\n      <td>2048</td>\n    </tr>\n    <tr>\n      <th>15909</th>\n      <td>2022</td>\n      <td>16.569160</td>\n      <td>835.0</td>\n      <td>2149.0</td>\n      <td>150</td>\n      <td>0.08</td>\n      <td>2048</td>\n    </tr>\n    <tr>\n      <th>15910</th>\n      <td>2023</td>\n      <td>16.579756</td>\n      <td>835.0</td>\n      <td>2150.0</td>\n      <td>150</td>\n      <td>0.08</td>\n      <td>2048</td>\n    </tr>\n    <tr>\n      <th>15911</th>\n      <td>2024</td>\n      <td>16.590659</td>\n      <td>835.0</td>\n      <td>2151.0</td>\n      <td>150</td>\n      <td>0.08</td>\n      <td>2048</td>\n    </tr>\n    <tr>\n      <th>15912</th>\n      <td>2025</td>\n      <td>16.605824</td>\n      <td>835.0</td>\n      <td>2152.0</td>\n      <td>150</td>\n      <td>0.08</td>\n      <td>2048</td>\n    </tr>\n    <tr>\n      <th>15913</th>\n      <td>2026</td>\n      <td>16.617832</td>\n      <td>835.0</td>\n      <td>2153.0</td>\n      <td>150</td>\n      <td>0.08</td>\n      <td>2048</td>\n    </tr>\n    <tr>\n      <th>15914</th>\n      <td>2027</td>\n      <td>16.627399</td>\n      <td>835.0</td>\n      <td>2154.0</td>\n      <td>150</td>\n      <td>0.08</td>\n      <td>2048</td>\n    </tr>\n    <tr>\n      <th>15915</th>\n      <td>2028</td>\n      <td>16.635865</td>\n      <td>835.0</td>\n      <td>2155.0</td>\n      <td>150</td>\n      <td>0.08</td>\n      <td>2048</td>\n    </tr>\n    <tr>\n      <th>15916</th>\n      <td>2029</td>\n      <td>16.644984</td>\n      <td>835.0</td>\n      <td>2156.0</td>\n      <td>150</td>\n      <td>0.08</td>\n      <td>2048</td>\n    </tr>\n    <tr>\n      <th>15917</th>\n      <td>2030</td>\n      <td>16.653604</td>\n      <td>835.0</td>\n      <td>2157.0</td>\n      <td>150</td>\n      <td>0.08</td>\n      <td>2048</td>\n    </tr>\n    <tr>\n      <th>15918</th>\n      <td>2031</td>\n      <td>16.663126</td>\n      <td>835.0</td>\n      <td>2158.0</td>\n      <td>150</td>\n      <td>0.08</td>\n      <td>2048</td>\n    </tr>\n    <tr>\n      <th>15919</th>\n      <td>2032</td>\n      <td>16.673487</td>\n      <td>835.0</td>\n      <td>2159.0</td>\n      <td>150</td>\n      <td>0.08</td>\n      <td>2048</td>\n    </tr>\n    <tr>\n      <th>15920</th>\n      <td>2033</td>\n      <td>16.683947</td>\n      <td>835.0</td>\n      <td>2160.0</td>\n      <td>150</td>\n      <td>0.08</td>\n      <td>2048</td>\n    </tr>\n    <tr>\n      <th>15921</th>\n      <td>2034</td>\n      <td>16.693115</td>\n      <td>835.0</td>\n      <td>2161.0</td>\n      <td>150</td>\n      <td>0.08</td>\n      <td>2048</td>\n    </tr>\n    <tr>\n      <th>15922</th>\n      <td>2035</td>\n      <td>16.703519</td>\n      <td>835.0</td>\n      <td>2162.0</td>\n      <td>150</td>\n      <td>0.08</td>\n      <td>2048</td>\n    </tr>\n    <tr>\n      <th>15923</th>\n      <td>2036</td>\n      <td>16.712079</td>\n      <td>835.0</td>\n      <td>2163.0</td>\n      <td>150</td>\n      <td>0.08</td>\n      <td>2048</td>\n    </tr>\n    <tr>\n      <th>15924</th>\n      <td>2037</td>\n      <td>16.720166</td>\n      <td>835.0</td>\n      <td>2164.0</td>\n      <td>150</td>\n      <td>0.08</td>\n      <td>2048</td>\n    </tr>\n    <tr>\n      <th>15925</th>\n      <td>2038</td>\n      <td>16.728129</td>\n      <td>835.0</td>\n      <td>2165.0</td>\n      <td>150</td>\n      <td>0.08</td>\n      <td>2048</td>\n    </tr>\n    <tr>\n      <th>15926</th>\n      <td>2039</td>\n      <td>16.734452</td>\n      <td>835.0</td>\n      <td>2166.0</td>\n      <td>150</td>\n      <td>0.08</td>\n      <td>2048</td>\n    </tr>\n    <tr>\n      <th>15927</th>\n      <td>2040</td>\n      <td>16.740991</td>\n      <td>835.0</td>\n      <td>2167.0</td>\n      <td>150</td>\n      <td>0.08</td>\n      <td>2048</td>\n    </tr>\n    <tr>\n      <th>15928</th>\n      <td>2041</td>\n      <td>16.752968</td>\n      <td>835.0</td>\n      <td>2168.0</td>\n      <td>150</td>\n      <td>0.08</td>\n      <td>2048</td>\n    </tr>\n    <tr>\n      <th>15929</th>\n      <td>2042</td>\n      <td>16.763380</td>\n      <td>835.0</td>\n      <td>2169.0</td>\n      <td>150</td>\n      <td>0.08</td>\n      <td>2048</td>\n    </tr>\n    <tr>\n      <th>15930</th>\n      <td>2043</td>\n      <td>16.773957</td>\n      <td>835.0</td>\n      <td>2170.0</td>\n      <td>150</td>\n      <td>0.08</td>\n      <td>2048</td>\n    </tr>\n    <tr>\n      <th>15931</th>\n      <td>2044</td>\n      <td>16.783255</td>\n      <td>835.0</td>\n      <td>2171.0</td>\n      <td>150</td>\n      <td>0.08</td>\n      <td>2048</td>\n    </tr>\n    <tr>\n      <th>15932</th>\n      <td>2045</td>\n      <td>16.789394</td>\n      <td>835.0</td>\n      <td>2172.0</td>\n      <td>150</td>\n      <td>0.08</td>\n      <td>2048</td>\n    </tr>\n    <tr>\n      <th>15933</th>\n      <td>2046</td>\n      <td>16.796893</td>\n      <td>835.0</td>\n      <td>2173.0</td>\n      <td>150</td>\n      <td>0.08</td>\n      <td>2048</td>\n    </tr>\n    <tr>\n      <th>15934</th>\n      <td>2047</td>\n      <td>16.806825</td>\n      <td>835.0</td>\n      <td>2174.0</td>\n      <td>150</td>\n      <td>0.08</td>\n      <td>2048</td>\n    </tr>\n    <tr>\n      <th>15935</th>\n      <td>2048</td>\n      <td>16.813151</td>\n      <td>835.0</td>\n      <td>2175.0</td>\n      <td>150</td>\n      <td>0.08</td>\n      <td>2048</td>\n    </tr>\n  </tbody>\n</table>\n</div>"
     },
     "execution_count": 15,
     "metadata": {},
     "output_type": "execute_result"
    }
   ],
   "source": [
    "df_curves_bestfitness_ffp"
   ]
  },
  {
   "cell_type": "code",
   "execution_count": 16,
   "outputs": [
    {
     "data": {
      "text/plain": "   Population Size  Mutation Rate  FEvals  Iteration       Time\n0              150           0.08  2140.0     2030.5  16.479797",
      "text/html": "<div>\n<style scoped>\n    .dataframe tbody tr th:only-of-type {\n        vertical-align: middle;\n    }\n\n    .dataframe tbody tr th {\n        vertical-align: top;\n    }\n\n    .dataframe thead th {\n        text-align: right;\n    }\n</style>\n<table border=\"1\" class=\"dataframe\">\n  <thead>\n    <tr style=\"text-align: right;\">\n      <th></th>\n      <th>Population Size</th>\n      <th>Mutation Rate</th>\n      <th>FEvals</th>\n      <th>Iteration</th>\n      <th>Time</th>\n    </tr>\n  </thead>\n  <tbody>\n    <tr>\n      <th>0</th>\n      <td>150</td>\n      <td>0.08</td>\n      <td>2140.0</td>\n      <td>2030.5</td>\n      <td>16.479797</td>\n    </tr>\n  </tbody>\n</table>\n</div>"
     },
     "execution_count": 16,
     "metadata": {},
     "output_type": "execute_result"
    }
   ],
   "source": [
    "df_curves_bestfitness_ffp.groupby(['Population Size', 'Mutation Rate']).agg({'FEvals': 'min', 'Iteration': 'mean', 'Time': 'min'}).reset_index()\n",
    "# Temp = 1 => less Fevals. Pick temp=1"
   ],
   "metadata": {
    "collapsed": false
   }
  },
  {
   "cell_type": "code",
   "execution_count": 72,
   "id": "6e0ad656",
   "metadata": {},
   "outputs": [],
   "source": [
    "# only pop=150 and mute=0.08 produced the highest fitness value 835"
   ]
  },
  {
   "cell_type": "code",
   "execution_count": 17,
   "id": "62fe58b2",
   "metadata": {},
   "outputs": [
    {
     "data": {
      "text/plain": "   Iteration      Time  Fitness  FEvals  Population Size  Mutation Rate  \\\n0          0  0.003819    516.0     0.0               20            0.1   \n1          1  0.020528    540.0     2.0               20            0.1   \n2          2  0.049029    545.0     4.0               20            0.1   \n3          3  0.069548    547.0     6.0               20            0.1   \n4          4  0.076954    547.0     7.0               20            0.1   \n\n   max_iters  \n0       2048  \n1       2048  \n2       2048  \n3       2048  \n4       2048  ",
      "text/html": "<div>\n<style scoped>\n    .dataframe tbody tr th:only-of-type {\n        vertical-align: middle;\n    }\n\n    .dataframe tbody tr th {\n        vertical-align: top;\n    }\n\n    .dataframe thead th {\n        text-align: right;\n    }\n</style>\n<table border=\"1\" class=\"dataframe\">\n  <thead>\n    <tr style=\"text-align: right;\">\n      <th></th>\n      <th>Iteration</th>\n      <th>Time</th>\n      <th>Fitness</th>\n      <th>FEvals</th>\n      <th>Population Size</th>\n      <th>Mutation Rate</th>\n      <th>max_iters</th>\n    </tr>\n  </thead>\n  <tbody>\n    <tr>\n      <th>0</th>\n      <td>0</td>\n      <td>0.003819</td>\n      <td>516.0</td>\n      <td>0.0</td>\n      <td>20</td>\n      <td>0.1</td>\n      <td>2048</td>\n    </tr>\n    <tr>\n      <th>1</th>\n      <td>1</td>\n      <td>0.020528</td>\n      <td>540.0</td>\n      <td>2.0</td>\n      <td>20</td>\n      <td>0.1</td>\n      <td>2048</td>\n    </tr>\n    <tr>\n      <th>2</th>\n      <td>2</td>\n      <td>0.049029</td>\n      <td>545.0</td>\n      <td>4.0</td>\n      <td>20</td>\n      <td>0.1</td>\n      <td>2048</td>\n    </tr>\n    <tr>\n      <th>3</th>\n      <td>3</td>\n      <td>0.069548</td>\n      <td>547.0</td>\n      <td>6.0</td>\n      <td>20</td>\n      <td>0.1</td>\n      <td>2048</td>\n    </tr>\n    <tr>\n      <th>4</th>\n      <td>4</td>\n      <td>0.076954</td>\n      <td>547.0</td>\n      <td>7.0</td>\n      <td>20</td>\n      <td>0.1</td>\n      <td>2048</td>\n    </tr>\n  </tbody>\n</table>\n</div>"
     },
     "execution_count": 17,
     "metadata": {},
     "output_type": "execute_result"
    }
   ],
   "source": [
    "df_run_curves_ffp.head()"
   ]
  },
  {
   "cell_type": "code",
   "execution_count": 18,
   "id": "4ce94f88",
   "metadata": {},
   "outputs": [],
   "source": [
    "# clean up an existing result table to store the iterative resutls\n",
    "df_iter_curves_ffp = df_run_curves_ffp.drop(df_run_curves_ffp.index, inplace=False)"
   ]
  },
  {
   "cell_type": "code",
   "execution_count": 19,
   "id": "87a7ad5d",
   "metadata": {},
   "outputs": [],
   "source": [
    "# GA runner\n",
    "# 2. iterate through 10 seeds\n",
    "for s in range(10):\n",
    "    ga_ffp = mh.GARunner(problem=problem_ffp,\n",
    "              experiment_name='ffp_ga_{s}',\n",
    "              output_directory=None, # note: specify an output directory to have results saved to disk\n",
    "              seed=s,\n",
    "              iteration_list=2 ** np.arange(12),\n",
    "              max_attempts=500,\n",
    "              population_sizes=[150], # 20 bits in total\n",
    "              mutation_rates=[0.08])\n",
    "\n",
    "    # the two data frames will contain the results\n",
    "    df_run_stats_ffp_sub, df_run_curves_ffp_sub = ga_ffp.run()\n",
    "    # append to the result df\n",
    "    df_iter_curves_ffp = pd.concat([df_iter_curves_ffp, df_run_curves_ffp_sub])"
   ]
  },
  {
   "cell_type": "code",
   "execution_count": 20,
   "id": "0e44a30b",
   "metadata": {},
   "outputs": [
    {
     "data": {
      "text/plain": "(20089, 7)"
     },
     "execution_count": 20,
     "metadata": {},
     "output_type": "execute_result"
    }
   ],
   "source": [
    "df_iter_curves_ffp.shape"
   ]
  },
  {
   "cell_type": "code",
   "execution_count": 51,
   "outputs": [],
   "source": [
    "#df_iter_curves_ffp.to_csv('df_iter_curves_ffp_ga_1000.csv', index = False)"
   ],
   "metadata": {
    "collapsed": false
   }
  },
  {
   "cell_type": "code",
   "execution_count": 3,
   "outputs": [],
   "source": [
    "#df_iter_curves_ffp = pd.read_csv('../../csv-files/df_iter_curves_ffp_ga_1000.csv')"
   ],
   "metadata": {
    "collapsed": false
   }
  },
  {
   "cell_type": "code",
   "execution_count": 21,
   "id": "49b3829a",
   "metadata": {},
   "outputs": [
    {
     "data": {
      "text/plain": "   Iteration      Time  Fitness  FEvals  Population Size  Mutation Rate  \\\n0          0  0.016851    516.0     0.0              150           0.08   \n1          1  0.106617    546.0     2.0              150           0.08   \n2          2  0.216431    563.0     4.0              150           0.08   \n3          3  0.333404    566.0     6.0              150           0.08   \n4          4  0.476334    566.0     7.0              150           0.08   \n\n   max_iters  \n0       2048  \n1       2048  \n2       2048  \n3       2048  \n4       2048  ",
      "text/html": "<div>\n<style scoped>\n    .dataframe tbody tr th:only-of-type {\n        vertical-align: middle;\n    }\n\n    .dataframe tbody tr th {\n        vertical-align: top;\n    }\n\n    .dataframe thead th {\n        text-align: right;\n    }\n</style>\n<table border=\"1\" class=\"dataframe\">\n  <thead>\n    <tr style=\"text-align: right;\">\n      <th></th>\n      <th>Iteration</th>\n      <th>Time</th>\n      <th>Fitness</th>\n      <th>FEvals</th>\n      <th>Population Size</th>\n      <th>Mutation Rate</th>\n      <th>max_iters</th>\n    </tr>\n  </thead>\n  <tbody>\n    <tr>\n      <th>0</th>\n      <td>0</td>\n      <td>0.016851</td>\n      <td>516.0</td>\n      <td>0.0</td>\n      <td>150</td>\n      <td>0.08</td>\n      <td>2048</td>\n    </tr>\n    <tr>\n      <th>1</th>\n      <td>1</td>\n      <td>0.106617</td>\n      <td>546.0</td>\n      <td>2.0</td>\n      <td>150</td>\n      <td>0.08</td>\n      <td>2048</td>\n    </tr>\n    <tr>\n      <th>2</th>\n      <td>2</td>\n      <td>0.216431</td>\n      <td>563.0</td>\n      <td>4.0</td>\n      <td>150</td>\n      <td>0.08</td>\n      <td>2048</td>\n    </tr>\n    <tr>\n      <th>3</th>\n      <td>3</td>\n      <td>0.333404</td>\n      <td>566.0</td>\n      <td>6.0</td>\n      <td>150</td>\n      <td>0.08</td>\n      <td>2048</td>\n    </tr>\n    <tr>\n      <th>4</th>\n      <td>4</td>\n      <td>0.476334</td>\n      <td>566.0</td>\n      <td>7.0</td>\n      <td>150</td>\n      <td>0.08</td>\n      <td>2048</td>\n    </tr>\n  </tbody>\n</table>\n</div>"
     },
     "execution_count": 21,
     "metadata": {},
     "output_type": "execute_result"
    }
   ],
   "source": [
    "df_iter_curves_ffp.head()"
   ]
  },
  {
   "cell_type": "code",
   "execution_count": 22,
   "id": "fbd988a5",
   "metadata": {},
   "outputs": [
    {
     "data": {
      "text/plain": "2048"
     },
     "execution_count": 22,
     "metadata": {},
     "output_type": "execute_result"
    }
   ],
   "source": [
    "df_iter_curves_ffp.Iteration.max()"
   ]
  },
  {
   "cell_type": "code",
   "execution_count": 23,
   "id": "6e6f36b2",
   "metadata": {},
   "outputs": [],
   "source": [
    "df_fitness_iter_ffp = df_iter_curves_ffp.groupby('Iteration')\\\n",
    "                                .agg(avg_fitness=('Fitness', 'mean'), var_fitness = ('Fitness', 'var'))\\\n",
    "                                .reset_index()"
   ]
  },
  {
   "cell_type": "code",
   "execution_count": 24,
   "id": "25e4329e",
   "metadata": {},
   "outputs": [
    {
     "data": {
      "text/plain": "(2049, 3)"
     },
     "execution_count": 24,
     "metadata": {},
     "output_type": "execute_result"
    }
   ],
   "source": [
    "df_fitness_iter_ffp.shape"
   ]
  },
  {
   "cell_type": "code",
   "execution_count": 25,
   "id": "5ec38208",
   "metadata": {},
   "outputs": [
    {
     "data": {
      "text/plain": "   Iteration  avg_fitness  var_fitness\n0          0        496.0   233.777778\n1          1        544.7    88.011111\n2          2        548.7    94.233333\n3          3        552.6   102.933333\n4          4        554.2    73.288889",
      "text/html": "<div>\n<style scoped>\n    .dataframe tbody tr th:only-of-type {\n        vertical-align: middle;\n    }\n\n    .dataframe tbody tr th {\n        vertical-align: top;\n    }\n\n    .dataframe thead th {\n        text-align: right;\n    }\n</style>\n<table border=\"1\" class=\"dataframe\">\n  <thead>\n    <tr style=\"text-align: right;\">\n      <th></th>\n      <th>Iteration</th>\n      <th>avg_fitness</th>\n      <th>var_fitness</th>\n    </tr>\n  </thead>\n  <tbody>\n    <tr>\n      <th>0</th>\n      <td>0</td>\n      <td>496.0</td>\n      <td>233.777778</td>\n    </tr>\n    <tr>\n      <th>1</th>\n      <td>1</td>\n      <td>544.7</td>\n      <td>88.011111</td>\n    </tr>\n    <tr>\n      <th>2</th>\n      <td>2</td>\n      <td>548.7</td>\n      <td>94.233333</td>\n    </tr>\n    <tr>\n      <th>3</th>\n      <td>3</td>\n      <td>552.6</td>\n      <td>102.933333</td>\n    </tr>\n    <tr>\n      <th>4</th>\n      <td>4</td>\n      <td>554.2</td>\n      <td>73.288889</td>\n    </tr>\n  </tbody>\n</table>\n</div>"
     },
     "execution_count": 25,
     "metadata": {},
     "output_type": "execute_result"
    }
   ],
   "source": [
    "df_fitness_iter_ffp.head()"
   ]
  },
  {
   "cell_type": "code",
   "execution_count": 26,
   "outputs": [
    {
     "data": {
      "text/plain": "843.0"
     },
     "execution_count": 26,
     "metadata": {},
     "output_type": "execute_result"
    }
   ],
   "source": [
    "df_iter_curves_ffp.Fitness.max()"
   ],
   "metadata": {
    "collapsed": false
   }
  },
  {
   "cell_type": "code",
   "execution_count": 27,
   "outputs": [
    {
     "data": {
      "text/plain": "1854    1854\n1855    1855\n1856    1856\n1857    1857\n1858    1858\n        ... \n2044    2044\n2045    2045\n2046    2046\n2047    2047\n2048    2048\nName: Iteration, Length: 195, dtype: int64"
     },
     "execution_count": 27,
     "metadata": {},
     "output_type": "execute_result"
    }
   ],
   "source": [
    "# convergence point\n",
    "df_iter_curves_ffp[df_iter_curves_ffp.Fitness == df_iter_curves_ffp.Fitness.max()].Iteration"
   ],
   "metadata": {
    "collapsed": false
   }
  },
  {
   "cell_type": "code",
   "execution_count": 28,
   "outputs": [
    {
     "data": {
      "text/plain": "nan"
     },
     "execution_count": 28,
     "metadata": {},
     "output_type": "execute_result"
    }
   ],
   "source": [
    "# converge point-never converged\n",
    "df_fitness_iter_ffp[df_fitness_iter_ffp.avg_fitness >= df_iter_curves_ffp.Fitness.max()].Iteration.min()"
   ],
   "metadata": {
    "collapsed": false
   }
  },
  {
   "cell_type": "code",
   "execution_count": 29,
   "outputs": [
    {
     "data": {
      "text/plain": "835.4285714285714"
     },
     "execution_count": 29,
     "metadata": {},
     "output_type": "execute_result"
    }
   ],
   "source": [
    "df_fitness_iter_ffp.avg_fitness.max()"
   ],
   "metadata": {
    "collapsed": false
   }
  },
  {
   "cell_type": "code",
   "execution_count": 53,
   "outputs": [
    {
     "data": {
      "text/plain": "500    785.1\nName: avg_fitness, dtype: float64"
     },
     "execution_count": 53,
     "metadata": {},
     "output_type": "execute_result"
    }
   ],
   "source": [
    "df_fitness_iter_ffp[df_fitness_iter_ffp['Iteration'] == 500].avg_fitness"
   ],
   "metadata": {
    "collapsed": false
   }
  },
  {
   "cell_type": "code",
   "execution_count": 54,
   "outputs": [
    {
     "data": {
      "text/plain": "50"
     },
     "execution_count": 54,
     "metadata": {},
     "output_type": "execute_result"
    }
   ],
   "source": [
    "835 - 785"
   ],
   "metadata": {
    "collapsed": false
   }
  },
  {
   "cell_type": "code",
   "execution_count": 55,
   "outputs": [
    {
     "data": {
      "text/plain": "0    496.0\nName: avg_fitness, dtype: float64"
     },
     "execution_count": 55,
     "metadata": {},
     "output_type": "execute_result"
    }
   ],
   "source": [
    "df_fitness_iter_ffp[df_fitness_iter_ffp['Iteration'] == 0].avg_fitness"
   ],
   "metadata": {
    "collapsed": false
   }
  },
  {
   "cell_type": "code",
   "execution_count": 56,
   "outputs": [
    {
     "data": {
      "text/plain": "289"
     },
     "execution_count": 56,
     "metadata": {},
     "output_type": "execute_result"
    }
   ],
   "source": [
    "785 - 496"
   ],
   "metadata": {
    "collapsed": false
   }
  },
  {
   "cell_type": "code",
   "execution_count": 30,
   "id": "06d060ce",
   "metadata": {},
   "outputs": [],
   "source": [
    "df_fitness_iter_ffp['stddev_fitness'] = df_fitness_iter_ffp['var_fitness'].apply(np.sqrt)"
   ]
  },
  {
   "cell_type": "code",
   "execution_count": 52,
   "id": "3c083df9",
   "metadata": {},
   "outputs": [
    {
     "data": {
      "text/plain": "   Iteration  avg_fitness  var_fitness  stddev_fitness\n0          0        496.0   233.777778       15.289793\n1          1        544.7    88.011111        9.381424\n2          2        548.7    94.233333        9.707386\n3          3        552.6   102.933333       10.145607\n4          4        554.2    73.288889        8.560893",
      "text/html": "<div>\n<style scoped>\n    .dataframe tbody tr th:only-of-type {\n        vertical-align: middle;\n    }\n\n    .dataframe tbody tr th {\n        vertical-align: top;\n    }\n\n    .dataframe thead th {\n        text-align: right;\n    }\n</style>\n<table border=\"1\" class=\"dataframe\">\n  <thead>\n    <tr style=\"text-align: right;\">\n      <th></th>\n      <th>Iteration</th>\n      <th>avg_fitness</th>\n      <th>var_fitness</th>\n      <th>stddev_fitness</th>\n    </tr>\n  </thead>\n  <tbody>\n    <tr>\n      <th>0</th>\n      <td>0</td>\n      <td>496.0</td>\n      <td>233.777778</td>\n      <td>15.289793</td>\n    </tr>\n    <tr>\n      <th>1</th>\n      <td>1</td>\n      <td>544.7</td>\n      <td>88.011111</td>\n      <td>9.381424</td>\n    </tr>\n    <tr>\n      <th>2</th>\n      <td>2</td>\n      <td>548.7</td>\n      <td>94.233333</td>\n      <td>9.707386</td>\n    </tr>\n    <tr>\n      <th>3</th>\n      <td>3</td>\n      <td>552.6</td>\n      <td>102.933333</td>\n      <td>10.145607</td>\n    </tr>\n    <tr>\n      <th>4</th>\n      <td>4</td>\n      <td>554.2</td>\n      <td>73.288889</td>\n      <td>8.560893</td>\n    </tr>\n  </tbody>\n</table>\n</div>"
     },
     "execution_count": 52,
     "metadata": {},
     "output_type": "execute_result"
    }
   ],
   "source": [
    "df_fitness_iter_ffp.head()"
   ]
  },
  {
   "cell_type": "code",
   "execution_count": 32,
   "id": "356e8aca",
   "metadata": {},
   "outputs": [
    {
     "data": {
      "text/plain": "Text(0, 0.5, 'Fitness')"
     },
     "execution_count": 32,
     "metadata": {},
     "output_type": "execute_result"
    },
    {
     "data": {
      "text/plain": "<Figure size 640x480 with 1 Axes>",
      "image/png": "[encoded data removed]"
     },
     "metadata": {},
     "output_type": "display_data"
    }
   ],
   "source": [
    "plt.plot(df_fitness_iter_ffp.Iteration, df_fitness_iter_ffp.avg_fitness, 'k', color='#1B2ACC')\n",
    "plt.fill_between(df_fitness_iter_ffp.Iteration, df_fitness_iter_ffp.avg_fitness - df_fitness_iter_ffp.stddev_fitness\\\n",
    "                 , df_fitness_iter_ffp.avg_fitness + df_fitness_iter_ffp.stddev_fitness\\\n",
    "                 , alpha=0.5, edgecolor='#1B2ACC', facecolor='#089FFF')\n",
    "plt.title('Fitness by Iterations with Problem Size 1000 - Genetic Algorithm on Flip Flop')\n",
    "plt.xlabel('Iterations')\n",
    "plt.ylabel('Fitness')"
   ]
  },
  {
   "cell_type": "code",
   "execution_count": 57,
   "outputs": [
    {
     "data": {
      "text/plain": "15.289793254906288"
     },
     "execution_count": 57,
     "metadata": {},
     "output_type": "execute_result"
    }
   ],
   "source": [
    "df_fitness_iter_ffp.stddev_fitness.max()"
   ],
   "metadata": {
    "collapsed": false
   }
  },
  {
   "cell_type": "code",
   "execution_count": 66,
   "outputs": [
    {
     "data": {
      "text/plain": "4.6666666666666625"
     },
     "execution_count": 66,
     "metadata": {},
     "output_type": "execute_result"
    }
   ],
   "source": [
    "df_fitness_iter_ffp.stddev_fitness.min()"
   ],
   "metadata": {
    "collapsed": false
   }
  },
  {
   "cell_type": "code",
   "execution_count": 58,
   "outputs": [
    {
     "data": {
      "text/plain": "   Iteration  avg_fitness  var_fitness  stddev_fitness\n0          0        496.0   233.777778       15.289793",
      "text/html": "<div>\n<style scoped>\n    .dataframe tbody tr th:only-of-type {\n        vertical-align: middle;\n    }\n\n    .dataframe tbody tr th {\n        vertical-align: top;\n    }\n\n    .dataframe thead th {\n        text-align: right;\n    }\n</style>\n<table border=\"1\" class=\"dataframe\">\n  <thead>\n    <tr style=\"text-align: right;\">\n      <th></th>\n      <th>Iteration</th>\n      <th>avg_fitness</th>\n      <th>var_fitness</th>\n      <th>stddev_fitness</th>\n    </tr>\n  </thead>\n  <tbody>\n    <tr>\n      <th>0</th>\n      <td>0</td>\n      <td>496.0</td>\n      <td>233.777778</td>\n      <td>15.289793</td>\n    </tr>\n  </tbody>\n</table>\n</div>"
     },
     "execution_count": 58,
     "metadata": {},
     "output_type": "execute_result"
    }
   ],
   "source": [
    "df_fitness_iter_ffp[df_fitness_iter_ffp.stddev_fitness == df_fitness_iter_ffp.stddev_fitness.max()]"
   ],
   "metadata": {
    "collapsed": false
   }
  },
  {
   "cell_type": "code",
   "execution_count": 65,
   "outputs": [
    {
     "data": {
      "text/plain": "      Iteration  avg_fitness  var_fitness  stddev_fitness\n50           50   644.000000    63.555556        7.972174\n100         100   673.100000    78.544444        8.862530\n500         500   785.100000    71.211111        8.438668\n800         800   811.500000    39.833333        6.311365\n1000       1000   821.600000    45.155556        6.719788\n2000       2000   834.857143    27.809524        5.273474",
      "text/html": "<div>\n<style scoped>\n    .dataframe tbody tr th:only-of-type {\n        vertical-align: middle;\n    }\n\n    .dataframe tbody tr th {\n        vertical-align: top;\n    }\n\n    .dataframe thead th {\n        text-align: right;\n    }\n</style>\n<table border=\"1\" class=\"dataframe\">\n  <thead>\n    <tr style=\"text-align: right;\">\n      <th></th>\n      <th>Iteration</th>\n      <th>avg_fitness</th>\n      <th>var_fitness</th>\n      <th>stddev_fitness</th>\n    </tr>\n  </thead>\n  <tbody>\n    <tr>\n      <th>50</th>\n      <td>50</td>\n      <td>644.000000</td>\n      <td>63.555556</td>\n      <td>7.972174</td>\n    </tr>\n    <tr>\n      <th>100</th>\n      <td>100</td>\n      <td>673.100000</td>\n      <td>78.544444</td>\n      <td>8.862530</td>\n    </tr>\n    <tr>\n      <th>500</th>\n      <td>500</td>\n      <td>785.100000</td>\n      <td>71.211111</td>\n      <td>8.438668</td>\n    </tr>\n    <tr>\n      <th>800</th>\n      <td>800</td>\n      <td>811.500000</td>\n      <td>39.833333</td>\n      <td>6.311365</td>\n    </tr>\n    <tr>\n      <th>1000</th>\n      <td>1000</td>\n      <td>821.600000</td>\n      <td>45.155556</td>\n      <td>6.719788</td>\n    </tr>\n    <tr>\n      <th>2000</th>\n      <td>2000</td>\n      <td>834.857143</td>\n      <td>27.809524</td>\n      <td>5.273474</td>\n    </tr>\n  </tbody>\n</table>\n</div>"
     },
     "execution_count": 65,
     "metadata": {},
     "output_type": "execute_result"
    }
   ],
   "source": [
    "df_fitness_iter_ffp[(df_fitness_iter_ffp.Iteration == 50) | (df_fitness_iter_ffp.Iteration == 100) | (df_fitness_iter_ffp.Iteration ==500) \\\n",
    "    | (df_fitness_iter_ffp.Iteration == 800) | (df_fitness_iter_ffp.Iteration == 1000)\\\n",
    "    | (df_fitness_iter_ffp.Iteration == 2000)]"
   ],
   "metadata": {
    "collapsed": false
   }
  },
  {
   "cell_type": "code",
   "execution_count": 33,
   "outputs": [],
   "source": [
    "# Fevals - iteration"
   ],
   "metadata": {
    "collapsed": false
   }
  },
  {
   "cell_type": "code",
   "execution_count": 4,
   "outputs": [],
   "source": [
    "df_FEvals_iter_ffp = df_iter_curves_ffp.groupby('Iteration')\\\n",
    "                                .agg(avg_FEvals=('FEvals', 'mean'), var_FEvals = ('FEvals', 'var'))\\\n",
    "                                .reset_index()"
   ],
   "metadata": {
    "collapsed": false
   }
  },
  {
   "cell_type": "code",
   "execution_count": 5,
   "outputs": [
    {
     "data": {
      "text/plain": "(2049, 3)"
     },
     "execution_count": 5,
     "metadata": {},
     "output_type": "execute_result"
    }
   ],
   "source": [
    "df_FEvals_iter_ffp.shape"
   ],
   "metadata": {
    "collapsed": false
   }
  },
  {
   "cell_type": "code",
   "execution_count": 36,
   "outputs": [
    {
     "data": {
      "text/plain": "   Iteration  avg_FEvals  var_FEvals\n0          0         0.0    0.000000\n1          1         2.0    0.000000\n2          2         3.6    0.266667\n3          3         5.2    0.400000\n4          4         6.5    0.722222",
      "text/html": "<div>\n<style scoped>\n    .dataframe tbody tr th:only-of-type {\n        vertical-align: middle;\n    }\n\n    .dataframe tbody tr th {\n        vertical-align: top;\n    }\n\n    .dataframe thead th {\n        text-align: right;\n    }\n</style>\n<table border=\"1\" class=\"dataframe\">\n  <thead>\n    <tr style=\"text-align: right;\">\n      <th></th>\n      <th>Iteration</th>\n      <th>avg_FEvals</th>\n      <th>var_FEvals</th>\n    </tr>\n  </thead>\n  <tbody>\n    <tr>\n      <th>0</th>\n      <td>0</td>\n      <td>0.0</td>\n      <td>0.000000</td>\n    </tr>\n    <tr>\n      <th>1</th>\n      <td>1</td>\n      <td>2.0</td>\n      <td>0.000000</td>\n    </tr>\n    <tr>\n      <th>2</th>\n      <td>2</td>\n      <td>3.6</td>\n      <td>0.266667</td>\n    </tr>\n    <tr>\n      <th>3</th>\n      <td>3</td>\n      <td>5.2</td>\n      <td>0.400000</td>\n    </tr>\n    <tr>\n      <th>4</th>\n      <td>4</td>\n      <td>6.5</td>\n      <td>0.722222</td>\n    </tr>\n  </tbody>\n</table>\n</div>"
     },
     "execution_count": 36,
     "metadata": {},
     "output_type": "execute_result"
    }
   ],
   "source": [
    "df_FEvals_iter_ffp.head()"
   ],
   "metadata": {
    "collapsed": false
   }
  },
  {
   "cell_type": "code",
   "execution_count": 37,
   "outputs": [],
   "source": [
    "df_FEvals_iter_ffp['stddev_FEvals'] = df_FEvals_iter_ffp['var_FEvals'].apply(np.sqrt)"
   ],
   "metadata": {
    "collapsed": false
   }
  },
  {
   "cell_type": "code",
   "execution_count": 38,
   "outputs": [
    {
     "data": {
      "text/plain": "(0.0, 8.83427667918797)"
     },
     "execution_count": 38,
     "metadata": {},
     "output_type": "execute_result"
    }
   ],
   "source": [
    "df_FEvals_iter_ffp['stddev_FEvals'].min(), df_FEvals_iter_ffp['stddev_FEvals'].max()"
   ],
   "metadata": {
    "collapsed": false
   }
  },
  {
   "cell_type": "code",
   "execution_count": 39,
   "outputs": [
    {
     "data": {
      "text/plain": "   Iteration  avg_FEvals  var_FEvals  stddev_FEvals\n0          0         0.0    0.000000       0.000000\n1          1         2.0    0.000000       0.000000\n2          2         3.6    0.266667       0.516398\n3          3         5.2    0.400000       0.632456\n4          4         6.5    0.722222       0.849837",
      "text/html": "<div>\n<style scoped>\n    .dataframe tbody tr th:only-of-type {\n        vertical-align: middle;\n    }\n\n    .dataframe tbody tr th {\n        vertical-align: top;\n    }\n\n    .dataframe thead th {\n        text-align: right;\n    }\n</style>\n<table border=\"1\" class=\"dataframe\">\n  <thead>\n    <tr style=\"text-align: right;\">\n      <th></th>\n      <th>Iteration</th>\n      <th>avg_FEvals</th>\n      <th>var_FEvals</th>\n      <th>stddev_FEvals</th>\n    </tr>\n  </thead>\n  <tbody>\n    <tr>\n      <th>0</th>\n      <td>0</td>\n      <td>0.0</td>\n      <td>0.000000</td>\n      <td>0.000000</td>\n    </tr>\n    <tr>\n      <th>1</th>\n      <td>1</td>\n      <td>2.0</td>\n      <td>0.000000</td>\n      <td>0.000000</td>\n    </tr>\n    <tr>\n      <th>2</th>\n      <td>2</td>\n      <td>3.6</td>\n      <td>0.266667</td>\n      <td>0.516398</td>\n    </tr>\n    <tr>\n      <th>3</th>\n      <td>3</td>\n      <td>5.2</td>\n      <td>0.400000</td>\n      <td>0.632456</td>\n    </tr>\n    <tr>\n      <th>4</th>\n      <td>4</td>\n      <td>6.5</td>\n      <td>0.722222</td>\n      <td>0.849837</td>\n    </tr>\n  </tbody>\n</table>\n</div>"
     },
     "execution_count": 39,
     "metadata": {},
     "output_type": "execute_result"
    }
   ],
   "source": [
    "df_FEvals_iter_ffp.head()"
   ],
   "metadata": {
    "collapsed": false
   }
  },
  {
   "cell_type": "code",
   "execution_count": 67,
   "outputs": [
    {
     "data": {
      "text/plain": "2174.285714285714"
     },
     "execution_count": 67,
     "metadata": {},
     "output_type": "execute_result"
    }
   ],
   "source": [
    "df_FEvals_iter_ffp.avg_FEvals.max()"
   ],
   "metadata": {
    "collapsed": false
   }
  },
  {
   "cell_type": "code",
   "execution_count": 6,
   "outputs": [
    {
     "data": {
      "text/plain": "988    1106.1\nName: avg_FEvals, dtype: float64"
     },
     "execution_count": 6,
     "metadata": {},
     "output_type": "execute_result"
    }
   ],
   "source": [
    "df_FEvals_iter_ffp[df_FEvals_iter_ffp['Iteration']==988].avg_FEvals"
   ],
   "metadata": {
    "collapsed": false
   }
  },
  {
   "cell_type": "code",
   "execution_count": 7,
   "outputs": [],
   "source": [
    "gab_1000_fevals = pd.read_csv('../../csv-files/df_FEvals_iter_1000_gabf981.csv')"
   ],
   "metadata": {
    "collapsed": false
   }
  },
  {
   "cell_type": "code",
   "execution_count": 70,
   "outputs": [
    {
     "data": {
      "text/plain": "(982, 5)"
     },
     "execution_count": 70,
     "metadata": {},
     "output_type": "execute_result"
    }
   ],
   "source": [
    "gab_1000_fevals.shape"
   ],
   "metadata": {
    "collapsed": false
   }
  },
  {
   "cell_type": "code",
   "execution_count": 8,
   "outputs": [
    {
     "data": {
      "text/plain": "   Unnamed: 0  Iteration  avg_FEvals  var_FEvals  stddev_FEvals\n0           0          0         0.0    0.000000       0.000000\n1           1          1         2.0    0.000000       0.000000\n2           2          2         3.5    0.277778       0.527046\n3           3          3         5.1    0.766667       0.875595\n4           4          4         6.4    1.155556       1.074968",
      "text/html": "<div>\n<style scoped>\n    .dataframe tbody tr th:only-of-type {\n        vertical-align: middle;\n    }\n\n    .dataframe tbody tr th {\n        vertical-align: top;\n    }\n\n    .dataframe thead th {\n        text-align: right;\n    }\n</style>\n<table border=\"1\" class=\"dataframe\">\n  <thead>\n    <tr style=\"text-align: right;\">\n      <th></th>\n      <th>Unnamed: 0</th>\n      <th>Iteration</th>\n      <th>avg_FEvals</th>\n      <th>var_FEvals</th>\n      <th>stddev_FEvals</th>\n    </tr>\n  </thead>\n  <tbody>\n    <tr>\n      <th>0</th>\n      <td>0</td>\n      <td>0</td>\n      <td>0.0</td>\n      <td>0.000000</td>\n      <td>0.000000</td>\n    </tr>\n    <tr>\n      <th>1</th>\n      <td>1</td>\n      <td>1</td>\n      <td>2.0</td>\n      <td>0.000000</td>\n      <td>0.000000</td>\n    </tr>\n    <tr>\n      <th>2</th>\n      <td>2</td>\n      <td>2</td>\n      <td>3.5</td>\n      <td>0.277778</td>\n      <td>0.527046</td>\n    </tr>\n    <tr>\n      <th>3</th>\n      <td>3</td>\n      <td>3</td>\n      <td>5.1</td>\n      <td>0.766667</td>\n      <td>0.875595</td>\n    </tr>\n    <tr>\n      <th>4</th>\n      <td>4</td>\n      <td>4</td>\n      <td>6.4</td>\n      <td>1.155556</td>\n      <td>1.074968</td>\n    </tr>\n  </tbody>\n</table>\n</div>"
     },
     "execution_count": 8,
     "metadata": {},
     "output_type": "execute_result"
    }
   ],
   "source": [
    "gab_1000_fevals.head()"
   ],
   "metadata": {
    "collapsed": false
   }
  },
  {
   "cell_type": "code",
   "execution_count": 9,
   "outputs": [],
   "source": [
    "compare_ga_gab_fevals = df_FEvals_iter_ffp[df_FEvals_iter_ffp['Iteration']<989]['avg_FEvals']\\\n",
    "                        - gab_1000_fevals['avg_FEvals']"
   ],
   "metadata": {
    "collapsed": false
   }
  },
  {
   "cell_type": "code",
   "execution_count": 10,
   "outputs": [
    {
     "data": {
      "text/plain": "0     0.0\n1     0.0\n2     0.1\n3     0.1\n4     0.1\n5     0.1\n6     0.2\n7     0.1\n8     0.2\n9     0.7\n10    0.8\n11    1.1\n12    1.0\n13    0.8\n14    1.1\n15    0.8\n16    0.8\n17    0.6\n18    0.7\n19    0.6\n20    0.4\n21    0.1\n22    0.4\n23    0.5\n24    0.1\n25    0.0\n27    0.0\n28    0.1\n29    0.1\n30    0.3\n31    0.4\n32    0.5\n33    0.5\n34    0.5\n35    0.3\n36    0.3\n37    0.2\n38    0.3\n39    0.1\n40    0.1\n42    0.2\n43    0.3\n44    0.0\nName: avg_FEvals, dtype: float64"
     },
     "execution_count": 10,
     "metadata": {},
     "output_type": "execute_result"
    }
   ],
   "source": [
    "compare_ga_gab_fevals[compare_ga_gab_fevals >= 0]"
   ],
   "metadata": {
    "collapsed": false
   }
  },
  {
   "cell_type": "code",
   "execution_count": 25,
   "outputs": [
    {
     "data": {
      "text/plain": "1.1000000000000014"
     },
     "execution_count": 25,
     "metadata": {},
     "output_type": "execute_result"
    }
   ],
   "source": [
    "compare_ga_gab_fevals.max()"
   ],
   "metadata": {
    "collapsed": false
   }
  },
  {
   "cell_type": "code",
   "execution_count": 13,
   "outputs": [
    {
     "data": {
      "text/plain": "-103.27601914712632"
     },
     "execution_count": 13,
     "metadata": {},
     "output_type": "execute_result"
    }
   ],
   "source": [
    "np.mean(compare_ga_gab_fevals)"
   ],
   "metadata": {
    "collapsed": false
   }
  },
  {
   "cell_type": "code",
   "execution_count": 14,
   "outputs": [
    {
     "data": {
      "text/plain": "0.9564777327935222"
     },
     "execution_count": 14,
     "metadata": {},
     "output_type": "execute_result"
    }
   ],
   "source": [
    "(988 - 43) / 988"
   ],
   "metadata": {
    "collapsed": false
   }
  },
  {
   "cell_type": "code",
   "execution_count": 40,
   "outputs": [
    {
     "data": {
      "text/plain": "Text(0, 0.5, 'FEvals')"
     },
     "execution_count": 40,
     "metadata": {},
     "output_type": "execute_result"
    },
    {
     "data": {
      "text/plain": "<Figure size 640x480 with 1 Axes>",
      "image/png": "[encoded data removed]"
     },
     "metadata": {},
     "output_type": "display_data"
    }
   ],
   "source": [
    "plt.plot(df_FEvals_iter_ffp.Iteration, df_FEvals_iter_ffp.avg_FEvals, 'k', color='#1B2ACC')\n",
    "plt.fill_between(df_FEvals_iter_ffp.Iteration, df_FEvals_iter_ffp.avg_FEvals - df_FEvals_iter_ffp.stddev_FEvals\\\n",
    "                 , df_FEvals_iter_ffp.avg_FEvals + df_FEvals_iter_ffp.stddev_FEvals\\\n",
    "                 , alpha=0.5, edgecolor='#1B2ACC', facecolor='#089FFF')\n",
    "plt.title('FEvals by Iterations - Genetic Algorithm')\n",
    "plt.xlabel('Iterations')\n",
    "plt.ylabel('FEvals')"
   ],
   "metadata": {
    "collapsed": false
   }
  },
  {
   "cell_type": "code",
   "execution_count": 41,
   "outputs": [],
   "source": [
    "# fitness - wall clock time"
   ],
   "metadata": {
    "collapsed": false
   }
  },
  {
   "cell_type": "code",
   "execution_count": 16,
   "outputs": [],
   "source": [
    "df_time_iter_ffp = df_iter_curves_ffp.groupby('Iteration')\\\n",
    "                                .agg(avg_time=('Time', 'mean'), var_time = ('Time', 'var'))\\\n",
    "                                .reset_index()"
   ],
   "metadata": {
    "collapsed": false
   }
  },
  {
   "cell_type": "code",
   "execution_count": 43,
   "outputs": [
    {
     "data": {
      "text/plain": "(2049, 3)"
     },
     "execution_count": 43,
     "metadata": {},
     "output_type": "execute_result"
    }
   ],
   "source": [
    "df_time_iter_ffp.shape"
   ],
   "metadata": {
    "collapsed": false
   }
  },
  {
   "cell_type": "code",
   "execution_count": 44,
   "outputs": [
    {
     "data": {
      "text/plain": "   Iteration  avg_time  var_time\n0          0  0.008424  0.000016\n1          1  0.071869  0.003590\n2          2  0.131809  0.009766\n3          3  0.189478  0.013902\n4          4  0.239681  0.021806",
      "text/html": "<div>\n<style scoped>\n    .dataframe tbody tr th:only-of-type {\n        vertical-align: middle;\n    }\n\n    .dataframe tbody tr th {\n        vertical-align: top;\n    }\n\n    .dataframe thead th {\n        text-align: right;\n    }\n</style>\n<table border=\"1\" class=\"dataframe\">\n  <thead>\n    <tr style=\"text-align: right;\">\n      <th></th>\n      <th>Iteration</th>\n      <th>avg_time</th>\n      <th>var_time</th>\n    </tr>\n  </thead>\n  <tbody>\n    <tr>\n      <th>0</th>\n      <td>0</td>\n      <td>0.008424</td>\n      <td>0.000016</td>\n    </tr>\n    <tr>\n      <th>1</th>\n      <td>1</td>\n      <td>0.071869</td>\n      <td>0.003590</td>\n    </tr>\n    <tr>\n      <th>2</th>\n      <td>2</td>\n      <td>0.131809</td>\n      <td>0.009766</td>\n    </tr>\n    <tr>\n      <th>3</th>\n      <td>3</td>\n      <td>0.189478</td>\n      <td>0.013902</td>\n    </tr>\n    <tr>\n      <th>4</th>\n      <td>4</td>\n      <td>0.239681</td>\n      <td>0.021806</td>\n    </tr>\n  </tbody>\n</table>\n</div>"
     },
     "execution_count": 44,
     "metadata": {},
     "output_type": "execute_result"
    }
   ],
   "source": [
    "df_time_iter_ffp.head()"
   ],
   "metadata": {
    "collapsed": false
   }
  },
  {
   "cell_type": "code",
   "execution_count": 45,
   "outputs": [],
   "source": [
    "df_time_iter_ffp['stddev_time'] = df_time_iter_ffp['var_time'].apply(np.sqrt)"
   ],
   "metadata": {
    "collapsed": false
   }
  },
  {
   "cell_type": "code",
   "execution_count": 46,
   "outputs": [
    {
     "data": {
      "text/plain": "   Iteration  avg_time  var_time  stddev_time\n0          0  0.008424  0.000016     0.004057\n1          1  0.071869  0.003590     0.059918\n2          2  0.131809  0.009766     0.098823\n3          3  0.189478  0.013902     0.117907\n4          4  0.239681  0.021806     0.147669",
      "text/html": "<div>\n<style scoped>\n    .dataframe tbody tr th:only-of-type {\n        vertical-align: middle;\n    }\n\n    .dataframe tbody tr th {\n        vertical-align: top;\n    }\n\n    .dataframe thead th {\n        text-align: right;\n    }\n</style>\n<table border=\"1\" class=\"dataframe\">\n  <thead>\n    <tr style=\"text-align: right;\">\n      <th></th>\n      <th>Iteration</th>\n      <th>avg_time</th>\n      <th>var_time</th>\n      <th>stddev_time</th>\n    </tr>\n  </thead>\n  <tbody>\n    <tr>\n      <th>0</th>\n      <td>0</td>\n      <td>0.008424</td>\n      <td>0.000016</td>\n      <td>0.004057</td>\n    </tr>\n    <tr>\n      <th>1</th>\n      <td>1</td>\n      <td>0.071869</td>\n      <td>0.003590</td>\n      <td>0.059918</td>\n    </tr>\n    <tr>\n      <th>2</th>\n      <td>2</td>\n      <td>0.131809</td>\n      <td>0.009766</td>\n      <td>0.098823</td>\n    </tr>\n    <tr>\n      <th>3</th>\n      <td>3</td>\n      <td>0.189478</td>\n      <td>0.013902</td>\n      <td>0.117907</td>\n    </tr>\n    <tr>\n      <th>4</th>\n      <td>4</td>\n      <td>0.239681</td>\n      <td>0.021806</td>\n      <td>0.147669</td>\n    </tr>\n  </tbody>\n</table>\n</div>"
     },
     "execution_count": 46,
     "metadata": {},
     "output_type": "execute_result"
    }
   ],
   "source": [
    "df_time_iter_ffp.head()"
   ],
   "metadata": {
    "collapsed": false
   }
  },
  {
   "cell_type": "code",
   "execution_count": 48,
   "outputs": [
    {
     "data": {
      "text/plain": "Text(0, 0.5, 'Time')"
     },
     "execution_count": 48,
     "metadata": {},
     "output_type": "execute_result"
    },
    {
     "data": {
      "text/plain": "<Figure size 640x480 with 1 Axes>",
      "image/png": "[encoded data removed]"
     },
     "metadata": {},
     "output_type": "display_data"
    }
   ],
   "source": [
    "plt.plot(df_time_iter_ffp.Iteration, df_time_iter_ffp.avg_time, 'k', color='#1B2ACC')\n",
    "plt.fill_between(df_time_iter_ffp.Iteration, df_time_iter_ffp.avg_time - df_time_iter_ffp.stddev_time\\\n",
    "                 , df_time_iter_ffp.avg_time + df_time_iter_ffp.stddev_time\\\n",
    "                 , alpha=0.5, edgecolor='#1B2ACC', facecolor='#089FFF')\n",
    "plt.title('Wall Clock Time by Iterations - Genetic Algorithm')\n",
    "plt.xlabel('Iterations')\n",
    "plt.ylabel('Time')"
   ],
   "metadata": {
    "collapsed": false
   }
  },
  {
   "cell_type": "code",
   "execution_count": 49,
   "outputs": [
    {
     "data": {
      "text/plain": "2048    2048\nName: Iteration, dtype: int64"
     },
     "execution_count": 49,
     "metadata": {},
     "output_type": "execute_result"
    }
   ],
   "source": [
    "df_time_iter_ffp[df_time_iter_ffp.stddev_time==df_time_iter_ffp.stddev_time.max()].Iteration"
   ],
   "metadata": {
    "collapsed": false
   }
  },
  {
   "cell_type": "code",
   "execution_count": 81,
   "outputs": [
    {
     "data": {
      "text/plain": "24.6060753870709"
     },
     "execution_count": 81,
     "metadata": {},
     "output_type": "execute_result"
    }
   ],
   "source": [
    "df_time_iter_ffp.stddev_time.max()"
   ],
   "metadata": {
    "collapsed": false
   }
  },
  {
   "cell_type": "code",
   "execution_count": 82,
   "outputs": [
    {
     "data": {
      "text/plain": "77.52883099228244"
     },
     "execution_count": 82,
     "metadata": {},
     "output_type": "execute_result"
    }
   ],
   "source": [
    "df_time_iter_ffp.avg_time.max()"
   ],
   "metadata": {
    "collapsed": false
   }
  },
  {
   "cell_type": "code",
   "execution_count": 17,
   "outputs": [
    {
     "data": {
      "text/plain": "38.89017108379922"
     },
     "execution_count": 17,
     "metadata": {},
     "output_type": "execute_result"
    }
   ],
   "source": [
    "df_time_iter_ffp[df_time_iter_ffp['Iteration']<=988].avg_time.max()"
   ],
   "metadata": {
    "collapsed": false
   }
  },
  {
   "cell_type": "code",
   "execution_count": 26,
   "outputs": [],
   "source": [
    "df_time_iter_1000_gab988 = pd.read_csv('../../csv-files/df_time_iter_1000_gabf981.csv')"
   ],
   "metadata": {
    "collapsed": false
   }
  },
  {
   "cell_type": "code",
   "execution_count": 27,
   "outputs": [],
   "source": [
    "comp_time = df_time_iter_1000_gab988['avg_time'] - df_time_iter_ffp[df_time_iter_ffp['Iteration'] <= 988].avg_time"
   ],
   "metadata": {
    "collapsed": false
   }
  },
  {
   "cell_type": "code",
   "execution_count": 30,
   "outputs": [
    {
     "data": {
      "text/plain": "-0.0018006400030572307"
     },
     "execution_count": 30,
     "metadata": {},
     "output_type": "execute_result"
    }
   ],
   "source": [
    "comp_time.max()"
   ],
   "metadata": {
    "collapsed": false
   }
  },
  {
   "cell_type": "code",
   "execution_count": 28,
   "outputs": [
    {
     "data": {
      "text/plain": "(-9.780362987777337, -0.0018006400030572307, 989)"
     },
     "execution_count": 28,
     "metadata": {},
     "output_type": "execute_result"
    }
   ],
   "source": [
    "comp_time[comp_time < 0].min(), comp_time[comp_time < 0].max(), len(comp_time[comp_time < 0])"
   ],
   "metadata": {
    "collapsed": false
   }
  },
  {
   "cell_type": "code",
   "execution_count": 29,
   "outputs": [
    {
     "data": {
      "text/plain": "-4.713023943861349"
     },
     "execution_count": 29,
     "metadata": {},
     "output_type": "execute_result"
    }
   ],
   "source": [
    "np.mean(comp_time)"
   ],
   "metadata": {
    "collapsed": false
   }
  },
  {
   "cell_type": "code",
   "execution_count": 24,
   "outputs": [
    {
     "data": {
      "text/plain": "1.0"
     },
     "execution_count": 24,
     "metadata": {},
     "output_type": "execute_result"
    }
   ],
   "source": [
    "989/989"
   ],
   "metadata": {
    "collapsed": false
   }
  },
  {
   "cell_type": "code",
   "execution_count": null,
   "outputs": [],
   "source": [],
   "metadata": {
    "collapsed": false
   }
  }
 ],
 "metadata": {
  "kernelspec": {
   "display_name": "Python 3 (ipykernel)",
   "language": "python",
   "name": "python3"
  },
  "language_info": {
   "codemirror_mode": {
    "name": "ipython",
    "version": 3
   },
   "file_extension": ".py",
   "mimetype": "text/x-python",
   "name": "python",
   "nbconvert_exporter": "python",
   "pygments_lexer": "ipython3",
   "version": "3.11.4"
  }
 },
 "nbformat": 4,
 "nbformat_minor": 5
}
