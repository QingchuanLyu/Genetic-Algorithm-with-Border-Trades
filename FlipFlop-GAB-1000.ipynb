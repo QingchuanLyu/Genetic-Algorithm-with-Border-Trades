{
 "cells": [
  {
   "cell_type": "code",
   "execution_count": 1,
   "outputs": [],
   "source": [
    "#pip install /Users/qingchuanlyu/Documents/Conferences/ICML-2025/icml2025/code/mlrose"
   ],
   "metadata": {
    "collapsed": false
   }
  },
  {
   "cell_type": "code",
   "execution_count": 2,
   "id": "b243b22c",
   "metadata": {},
   "outputs": [],
   "source": [
    "import mlrose_hiive as mh"
   ]
  },
  {
   "cell_type": "code",
   "execution_count": 3,
   "id": "cb9e02c3",
   "metadata": {},
   "outputs": [],
   "source": [
    "import numpy as np\n",
    "\n",
    "from sklearn.model_selection import train_test_split\n",
    "from sklearn.preprocessing import MinMaxScaler, OneHotEncoder\n",
    "from sklearn.metrics import accuracy_score\n",
    "\n",
    "from IPython.core.display import display, HTML # for some notebook formatting.\n",
    "\n",
    "import logging\n",
    "import networkx as nx\n",
    "import matplotlib.pyplot as plt\n",
    "import string\n",
    "\n",
    "\n",
    "from ast import literal_eval\n",
    "\n",
    "from sklearn.model_selection import train_test_split\n",
    "from sklearn.preprocessing import MinMaxScaler, OneHotEncoder\n",
    "from sklearn.metrics import accuracy_score\n",
    "\n",
    "# switch off the chatter\n",
    "logging.basicConfig(level=logging.WARNING)"
   ]
  },
  {
   "cell_type": "code",
   "execution_count": 4,
   "id": "f314d532",
   "metadata": {},
   "outputs": [],
   "source": [
    "import pandas as pd"
   ]
  },
  {
   "cell_type": "code",
   "execution_count": 5,
   "id": "c907b845",
   "metadata": {},
   "outputs": [],
   "source": [
    "# # Flip Flop\n",
    "problem_ffp = mh.FlipFlopGenerator().generate(seed=0, size=1000)\n",
    "#state = problem_ffp.get_state()"
   ]
  },
  {
   "cell_type": "code",
   "execution_count": 6,
   "id": "34174e8f",
   "metadata": {},
   "outputs": [],
   "source": [
    "# GAB runner class\n",
    "# 1. tune population size and mutation rates\n",
    "ga_ffp = mh.GABRunner(problem=problem_ffp,\n",
    "              experiment_name='ffp_ga',\n",
    "              output_directory=None, # note: specify an output directory to have results saved to disk\n",
    "              seed=0,\n",
    "              iteration_list=2 ** np.arange(12),\n",
    "              max_attempts=500,\n",
    "              population_sizes=[20, 50, 100, 150],\n",
    "              mutation_rates=[0.1, 0.08]) # Probability of a mutation at each element of the state vector during reproduction, expressed as a value between 0 and 1.\n",
    "\n",
    "# the two data frames will contain the results\n",
    "df_run_stats_ffp, df_run_curves_ffp = ga_ffp.run()"
   ]
  },
  {
   "cell_type": "code",
   "execution_count": 7,
   "id": "3139bc51",
   "metadata": {},
   "outputs": [
    {
     "data": {
      "text/plain": "(11710, 7)"
     },
     "execution_count": 7,
     "metadata": {},
     "output_type": "execute_result"
    }
   ],
   "source": [
    "df_run_curves_ffp.shape"
   ]
  },
  {
   "cell_type": "code",
   "execution_count": 8,
   "id": "78ec6ce8",
   "metadata": {},
   "outputs": [
    {
     "data": {
      "text/plain": "   Iteration      Time  Fitness  FEvals  Population Size  Mutation Rate  \\\n0          0  0.004599    516.0     0.0               20            0.1   \n1          1  0.035262    540.0     2.0               20            0.1   \n2          2  0.065225    545.0     4.0               20            0.1   \n3          3  0.092632    548.0     6.0               20            0.1   \n4          4  0.104379    548.0     7.0               20            0.1   \n\n   max_iters  \n0       2048  \n1       2048  \n2       2048  \n3       2048  \n4       2048  ",
      "text/html": "<div>\n<style scoped>\n    .dataframe tbody tr th:only-of-type {\n        vertical-align: middle;\n    }\n\n    .dataframe tbody tr th {\n        vertical-align: top;\n    }\n\n    .dataframe thead th {\n        text-align: right;\n    }\n</style>\n<table border=\"1\" class=\"dataframe\">\n  <thead>\n    <tr style=\"text-align: right;\">\n      <th></th>\n      <th>Iteration</th>\n      <th>Time</th>\n      <th>Fitness</th>\n      <th>FEvals</th>\n      <th>Population Size</th>\n      <th>Mutation Rate</th>\n      <th>max_iters</th>\n    </tr>\n  </thead>\n  <tbody>\n    <tr>\n      <th>0</th>\n      <td>0</td>\n      <td>0.004599</td>\n      <td>516.0</td>\n      <td>0.0</td>\n      <td>20</td>\n      <td>0.1</td>\n      <td>2048</td>\n    </tr>\n    <tr>\n      <th>1</th>\n      <td>1</td>\n      <td>0.035262</td>\n      <td>540.0</td>\n      <td>2.0</td>\n      <td>20</td>\n      <td>0.1</td>\n      <td>2048</td>\n    </tr>\n    <tr>\n      <th>2</th>\n      <td>2</td>\n      <td>0.065225</td>\n      <td>545.0</td>\n      <td>4.0</td>\n      <td>20</td>\n      <td>0.1</td>\n      <td>2048</td>\n    </tr>\n    <tr>\n      <th>3</th>\n      <td>3</td>\n      <td>0.092632</td>\n      <td>548.0</td>\n      <td>6.0</td>\n      <td>20</td>\n      <td>0.1</td>\n      <td>2048</td>\n    </tr>\n    <tr>\n      <th>4</th>\n      <td>4</td>\n      <td>0.104379</td>\n      <td>548.0</td>\n      <td>7.0</td>\n      <td>20</td>\n      <td>0.1</td>\n      <td>2048</td>\n    </tr>\n  </tbody>\n</table>\n</div>"
     },
     "execution_count": 8,
     "metadata": {},
     "output_type": "execute_result"
    }
   ],
   "source": [
    "df_run_curves_ffp.head()"
   ]
  },
  {
   "cell_type": "code",
   "execution_count": 9,
   "id": "a6cb09ff",
   "metadata": {},
   "outputs": [
    {
     "data": {
      "text/plain": "999.0"
     },
     "execution_count": 9,
     "metadata": {},
     "output_type": "execute_result"
    }
   ],
   "source": [
    "df_run_curves_ffp['Fitness'].max()"
   ]
  },
  {
   "cell_type": "code",
   "execution_count": 47,
   "id": "c171f5aa",
   "metadata": {},
   "outputs": [],
   "source": [
    "# need to check Time and FEvals"
   ]
  },
  {
   "cell_type": "code",
   "execution_count": 10,
   "id": "1d941eb6",
   "metadata": {},
   "outputs": [
    {
     "data": {
      "text/plain": "Iteration            int64\nTime               float64\nFitness            float64\nFEvals             float64\nPopulation Size      int64\nMutation Rate      float64\nmax_iters            int64\ndtype: object"
     },
     "execution_count": 10,
     "metadata": {},
     "output_type": "execute_result"
    }
   ],
   "source": [
    "df_run_curves_ffp.dtypes"
   ]
  },
  {
   "cell_type": "code",
   "execution_count": 11,
   "id": "59c463dd",
   "metadata": {},
   "outputs": [],
   "source": [
    "df_curves_bestfitness_ffp = df_run_curves_ffp[(df_run_curves_ffp['Fitness'] == df_run_curves_ffp['Fitness'].max())]"
   ]
  },
  {
   "cell_type": "code",
   "execution_count": 12,
   "id": "5e04b1a5",
   "metadata": {},
   "outputs": [
    {
     "data": {
      "text/plain": "       Iteration       Time  Fitness  FEvals  Population Size  Mutation Rate  \\\n5842        1744  15.716184    999.0  2077.0               50           0.10   \n7519        1676  15.293798    999.0  2017.0               50           0.08   \n8564        1044   7.952711    999.0  1355.0              100           0.10   \n9737        1172   9.010886    999.0  1468.0              100           0.08   \n10794       1056   8.079248    999.0  1336.0              150           0.10   \n11709        914   6.857662    999.0  1195.0              150           0.08   \n\n       max_iters  \n5842        2048  \n7519        2048  \n8564        2048  \n9737        2048  \n10794       2048  \n11709       2048  ",
      "text/html": "<div>\n<style scoped>\n    .dataframe tbody tr th:only-of-type {\n        vertical-align: middle;\n    }\n\n    .dataframe tbody tr th {\n        vertical-align: top;\n    }\n\n    .dataframe thead th {\n        text-align: right;\n    }\n</style>\n<table border=\"1\" class=\"dataframe\">\n  <thead>\n    <tr style=\"text-align: right;\">\n      <th></th>\n      <th>Iteration</th>\n      <th>Time</th>\n      <th>Fitness</th>\n      <th>FEvals</th>\n      <th>Population Size</th>\n      <th>Mutation Rate</th>\n      <th>max_iters</th>\n    </tr>\n  </thead>\n  <tbody>\n    <tr>\n      <th>5842</th>\n      <td>1744</td>\n      <td>15.716184</td>\n      <td>999.0</td>\n      <td>2077.0</td>\n      <td>50</td>\n      <td>0.10</td>\n      <td>2048</td>\n    </tr>\n    <tr>\n      <th>7519</th>\n      <td>1676</td>\n      <td>15.293798</td>\n      <td>999.0</td>\n      <td>2017.0</td>\n      <td>50</td>\n      <td>0.08</td>\n      <td>2048</td>\n    </tr>\n    <tr>\n      <th>8564</th>\n      <td>1044</td>\n      <td>7.952711</td>\n      <td>999.0</td>\n      <td>1355.0</td>\n      <td>100</td>\n      <td>0.10</td>\n      <td>2048</td>\n    </tr>\n    <tr>\n      <th>9737</th>\n      <td>1172</td>\n      <td>9.010886</td>\n      <td>999.0</td>\n      <td>1468.0</td>\n      <td>100</td>\n      <td>0.08</td>\n      <td>2048</td>\n    </tr>\n    <tr>\n      <th>10794</th>\n      <td>1056</td>\n      <td>8.079248</td>\n      <td>999.0</td>\n      <td>1336.0</td>\n      <td>150</td>\n      <td>0.10</td>\n      <td>2048</td>\n    </tr>\n    <tr>\n      <th>11709</th>\n      <td>914</td>\n      <td>6.857662</td>\n      <td>999.0</td>\n      <td>1195.0</td>\n      <td>150</td>\n      <td>0.08</td>\n      <td>2048</td>\n    </tr>\n  </tbody>\n</table>\n</div>"
     },
     "execution_count": 12,
     "metadata": {},
     "output_type": "execute_result"
    }
   ],
   "source": [
    "df_curves_bestfitness_ffp"
   ]
  },
  {
   "cell_type": "code",
   "execution_count": 13,
   "outputs": [
    {
     "data": {
      "text/plain": "   Population Size  Mutation Rate  FEvals  Iteration       Time\n0               50           0.08  2017.0     1676.0  15.293798\n1               50           0.10  2077.0     1744.0  15.716184\n2              100           0.08  1468.0     1172.0   9.010886\n3              100           0.10  1355.0     1044.0   7.952711\n4              150           0.08  1195.0      914.0   6.857662\n5              150           0.10  1336.0     1056.0   8.079248",
      "text/html": "<div>\n<style scoped>\n    .dataframe tbody tr th:only-of-type {\n        vertical-align: middle;\n    }\n\n    .dataframe tbody tr th {\n        vertical-align: top;\n    }\n\n    .dataframe thead th {\n        text-align: right;\n    }\n</style>\n<table border=\"1\" class=\"dataframe\">\n  <thead>\n    <tr style=\"text-align: right;\">\n      <th></th>\n      <th>Population Size</th>\n      <th>Mutation Rate</th>\n      <th>FEvals</th>\n      <th>Iteration</th>\n      <th>Time</th>\n    </tr>\n  </thead>\n  <tbody>\n    <tr>\n      <th>0</th>\n      <td>50</td>\n      <td>0.08</td>\n      <td>2017.0</td>\n      <td>1676.0</td>\n      <td>15.293798</td>\n    </tr>\n    <tr>\n      <th>1</th>\n      <td>50</td>\n      <td>0.10</td>\n      <td>2077.0</td>\n      <td>1744.0</td>\n      <td>15.716184</td>\n    </tr>\n    <tr>\n      <th>2</th>\n      <td>100</td>\n      <td>0.08</td>\n      <td>1468.0</td>\n      <td>1172.0</td>\n      <td>9.010886</td>\n    </tr>\n    <tr>\n      <th>3</th>\n      <td>100</td>\n      <td>0.10</td>\n      <td>1355.0</td>\n      <td>1044.0</td>\n      <td>7.952711</td>\n    </tr>\n    <tr>\n      <th>4</th>\n      <td>150</td>\n      <td>0.08</td>\n      <td>1195.0</td>\n      <td>914.0</td>\n      <td>6.857662</td>\n    </tr>\n    <tr>\n      <th>5</th>\n      <td>150</td>\n      <td>0.10</td>\n      <td>1336.0</td>\n      <td>1056.0</td>\n      <td>8.079248</td>\n    </tr>\n  </tbody>\n</table>\n</div>"
     },
     "execution_count": 13,
     "metadata": {},
     "output_type": "execute_result"
    }
   ],
   "source": [
    "df_curves_bestfitness_ffp.groupby(['Population Size', 'Mutation Rate']).agg({'FEvals': 'min', 'Iteration': 'mean', 'Time': 'min'}).reset_index()\n",
    "# Temp = 1 => less Fevals. Pick temp=1"
   ],
   "metadata": {
    "collapsed": false
   }
  },
  {
   "cell_type": "code",
   "execution_count": 52,
   "id": "6e0ad656",
   "metadata": {},
   "outputs": [],
   "source": [
    "# pick pop size = 150 and mutation_rate = 0.08, with smallest FEvals, iterations and time"
   ]
  },
  {
   "cell_type": "code",
   "execution_count": 14,
   "id": "62fe58b2",
   "metadata": {},
   "outputs": [
    {
     "data": {
      "text/plain": "   Iteration      Time  Fitness  FEvals  Population Size  Mutation Rate  \\\n0          0  0.004599    516.0     0.0               20            0.1   \n1          1  0.035262    540.0     2.0               20            0.1   \n2          2  0.065225    545.0     4.0               20            0.1   \n3          3  0.092632    548.0     6.0               20            0.1   \n4          4  0.104379    548.0     7.0               20            0.1   \n\n   max_iters  \n0       2048  \n1       2048  \n2       2048  \n3       2048  \n4       2048  ",
      "text/html": "<div>\n<style scoped>\n    .dataframe tbody tr th:only-of-type {\n        vertical-align: middle;\n    }\n\n    .dataframe tbody tr th {\n        vertical-align: top;\n    }\n\n    .dataframe thead th {\n        text-align: right;\n    }\n</style>\n<table border=\"1\" class=\"dataframe\">\n  <thead>\n    <tr style=\"text-align: right;\">\n      <th></th>\n      <th>Iteration</th>\n      <th>Time</th>\n      <th>Fitness</th>\n      <th>FEvals</th>\n      <th>Population Size</th>\n      <th>Mutation Rate</th>\n      <th>max_iters</th>\n    </tr>\n  </thead>\n  <tbody>\n    <tr>\n      <th>0</th>\n      <td>0</td>\n      <td>0.004599</td>\n      <td>516.0</td>\n      <td>0.0</td>\n      <td>20</td>\n      <td>0.1</td>\n      <td>2048</td>\n    </tr>\n    <tr>\n      <th>1</th>\n      <td>1</td>\n      <td>0.035262</td>\n      <td>540.0</td>\n      <td>2.0</td>\n      <td>20</td>\n      <td>0.1</td>\n      <td>2048</td>\n    </tr>\n    <tr>\n      <th>2</th>\n      <td>2</td>\n      <td>0.065225</td>\n      <td>545.0</td>\n      <td>4.0</td>\n      <td>20</td>\n      <td>0.1</td>\n      <td>2048</td>\n    </tr>\n    <tr>\n      <th>3</th>\n      <td>3</td>\n      <td>0.092632</td>\n      <td>548.0</td>\n      <td>6.0</td>\n      <td>20</td>\n      <td>0.1</td>\n      <td>2048</td>\n    </tr>\n    <tr>\n      <th>4</th>\n      <td>4</td>\n      <td>0.104379</td>\n      <td>548.0</td>\n      <td>7.0</td>\n      <td>20</td>\n      <td>0.1</td>\n      <td>2048</td>\n    </tr>\n  </tbody>\n</table>\n</div>"
     },
     "execution_count": 14,
     "metadata": {},
     "output_type": "execute_result"
    }
   ],
   "source": [
    "df_run_curves_ffp.head()"
   ]
  },
  {
   "cell_type": "code",
   "execution_count": 15,
   "id": "4ce94f88",
   "metadata": {},
   "outputs": [],
   "source": [
    "# clean up an existing result table to store the iterative resutls\n",
    "df_iter_curves_ffp = df_run_curves_ffp.drop(df_run_curves_ffp.index, inplace=False)"
   ]
  },
  {
   "cell_type": "code",
   "execution_count": 16,
   "id": "87a7ad5d",
   "metadata": {},
   "outputs": [],
   "source": [
    "# GAB runner\n",
    "# 2. iterate through 10 seeds\n",
    "for s in range(10):\n",
    "    ga_ffp = mh.GABRunner(problem=problem_ffp,\n",
    "              experiment_name='ffp_ga_{s}',\n",
    "              output_directory=None, # note: specify an output directory to have results saved to disk\n",
    "              seed=s,\n",
    "              iteration_list=2 ** np.arange(12),\n",
    "              max_attempts=500,\n",
    "              population_sizes=[150], # 20 bits in total\n",
    "              mutation_rates=[0.08])\n",
    "\n",
    "    # the two data frames will contain the results\n",
    "    df_run_stats_ffp_sub, df_run_curves_ffp_sub = ga_ffp.run()\n",
    "    # append to the result df\n",
    "    #df_iter_curves_ffp = df_iter_curves_ffp.append(df_run_curves_ffp_sub)\n",
    "    df_iter_curves_ffp = pd.concat([df_iter_curves_ffp, df_run_curves_ffp_sub])"
   ]
  },
  {
   "cell_type": "code",
   "execution_count": 49,
   "outputs": [],
   "source": [
    "#df_iter_curves_ffp.to_csv('df_iter_curves_ffp_gab_1000.csv', index=False)"
   ],
   "metadata": {
    "collapsed": false
   }
  },
  {
   "cell_type": "code",
   "execution_count": 17,
   "id": "0e44a30b",
   "metadata": {},
   "outputs": [
    {
     "data": {
      "text/plain": "(9044, 7)"
     },
     "execution_count": 17,
     "metadata": {},
     "output_type": "execute_result"
    }
   ],
   "source": [
    "df_iter_curves_ffp.shape"
   ]
  },
  {
   "cell_type": "code",
   "execution_count": 18,
   "id": "49b3829a",
   "metadata": {},
   "outputs": [
    {
     "data": {
      "text/plain": "   Iteration      Time  Fitness  FEvals  Population Size  Mutation Rate  \\\n0          0  0.014961    516.0     0.0              150           0.08   \n1          1  0.098749    546.0     2.0              150           0.08   \n2          2  0.179312    564.0     4.0              150           0.08   \n3          3  0.221501    566.0     6.0              150           0.08   \n4          4  0.248935    566.0     7.0              150           0.08   \n\n   max_iters  \n0       2048  \n1       2048  \n2       2048  \n3       2048  \n4       2048  ",
      "text/html": "<div>\n<style scoped>\n    .dataframe tbody tr th:only-of-type {\n        vertical-align: middle;\n    }\n\n    .dataframe tbody tr th {\n        vertical-align: top;\n    }\n\n    .dataframe thead th {\n        text-align: right;\n    }\n</style>\n<table border=\"1\" class=\"dataframe\">\n  <thead>\n    <tr style=\"text-align: right;\">\n      <th></th>\n      <th>Iteration</th>\n      <th>Time</th>\n      <th>Fitness</th>\n      <th>FEvals</th>\n      <th>Population Size</th>\n      <th>Mutation Rate</th>\n      <th>max_iters</th>\n    </tr>\n  </thead>\n  <tbody>\n    <tr>\n      <th>0</th>\n      <td>0</td>\n      <td>0.014961</td>\n      <td>516.0</td>\n      <td>0.0</td>\n      <td>150</td>\n      <td>0.08</td>\n      <td>2048</td>\n    </tr>\n    <tr>\n      <th>1</th>\n      <td>1</td>\n      <td>0.098749</td>\n      <td>546.0</td>\n      <td>2.0</td>\n      <td>150</td>\n      <td>0.08</td>\n      <td>2048</td>\n    </tr>\n    <tr>\n      <th>2</th>\n      <td>2</td>\n      <td>0.179312</td>\n      <td>564.0</td>\n      <td>4.0</td>\n      <td>150</td>\n      <td>0.08</td>\n      <td>2048</td>\n    </tr>\n    <tr>\n      <th>3</th>\n      <td>3</td>\n      <td>0.221501</td>\n      <td>566.0</td>\n      <td>6.0</td>\n      <td>150</td>\n      <td>0.08</td>\n      <td>2048</td>\n    </tr>\n    <tr>\n      <th>4</th>\n      <td>4</td>\n      <td>0.248935</td>\n      <td>566.0</td>\n      <td>7.0</td>\n      <td>150</td>\n      <td>0.08</td>\n      <td>2048</td>\n    </tr>\n  </tbody>\n</table>\n</div>"
     },
     "execution_count": 18,
     "metadata": {},
     "output_type": "execute_result"
    }
   ],
   "source": [
    "df_iter_curves_ffp.head()"
   ]
  },
  {
   "cell_type": "code",
   "execution_count": 19,
   "id": "fbd988a5",
   "metadata": {},
   "outputs": [
    {
     "data": {
      "text/plain": "981"
     },
     "execution_count": 19,
     "metadata": {},
     "output_type": "execute_result"
    }
   ],
   "source": [
    "df_iter_curves_ffp.Iteration.max()"
   ]
  },
  {
   "cell_type": "code",
   "execution_count": 20,
   "id": "6e6f36b2",
   "metadata": {},
   "outputs": [],
   "source": [
    "df_fitness_iter_ffp = df_iter_curves_ffp.groupby('Iteration')\\\n",
    "                                .agg(avg_fitness=('Fitness', 'mean'), var_fitness = ('Fitness', 'var'))\\\n",
    "                                .reset_index()"
   ]
  },
  {
   "cell_type": "code",
   "execution_count": 21,
   "id": "25e4329e",
   "metadata": {},
   "outputs": [
    {
     "data": {
      "text/plain": "(982, 3)"
     },
     "execution_count": 21,
     "metadata": {},
     "output_type": "execute_result"
    }
   ],
   "source": [
    "df_fitness_iter_ffp.shape"
   ]
  },
  {
   "cell_type": "code",
   "execution_count": 22,
   "id": "5ec38208",
   "metadata": {},
   "outputs": [
    {
     "data": {
      "text/plain": "   Iteration  avg_fitness  var_fitness\n0          0        496.0   233.777778\n1          1        544.7    88.011111\n2          2        548.7   101.788889\n3          3        552.4    91.822222\n4          4        554.9    58.766667",
      "text/html": "<div>\n<style scoped>\n    .dataframe tbody tr th:only-of-type {\n        vertical-align: middle;\n    }\n\n    .dataframe tbody tr th {\n        vertical-align: top;\n    }\n\n    .dataframe thead th {\n        text-align: right;\n    }\n</style>\n<table border=\"1\" class=\"dataframe\">\n  <thead>\n    <tr style=\"text-align: right;\">\n      <th></th>\n      <th>Iteration</th>\n      <th>avg_fitness</th>\n      <th>var_fitness</th>\n    </tr>\n  </thead>\n  <tbody>\n    <tr>\n      <th>0</th>\n      <td>0</td>\n      <td>496.0</td>\n      <td>233.777778</td>\n    </tr>\n    <tr>\n      <th>1</th>\n      <td>1</td>\n      <td>544.7</td>\n      <td>88.011111</td>\n    </tr>\n    <tr>\n      <th>2</th>\n      <td>2</td>\n      <td>548.7</td>\n      <td>101.788889</td>\n    </tr>\n    <tr>\n      <th>3</th>\n      <td>3</td>\n      <td>552.4</td>\n      <td>91.822222</td>\n    </tr>\n    <tr>\n      <th>4</th>\n      <td>4</td>\n      <td>554.9</td>\n      <td>58.766667</td>\n    </tr>\n  </tbody>\n</table>\n</div>"
     },
     "execution_count": 22,
     "metadata": {},
     "output_type": "execute_result"
    }
   ],
   "source": [
    "df_fitness_iter_ffp.head()"
   ]
  },
  {
   "cell_type": "code",
   "execution_count": 23,
   "outputs": [
    {
     "data": {
      "text/plain": "999.0"
     },
     "execution_count": 23,
     "metadata": {},
     "output_type": "execute_result"
    }
   ],
   "source": [
    "df_iter_curves_ffp.Fitness.max()"
   ],
   "metadata": {
    "collapsed": false
   }
  },
  {
   "cell_type": "code",
   "execution_count": 24,
   "outputs": [
    {
     "data": {
      "text/plain": "914    914\n912    912\n885    885\n878    878\n907    907\n890    890\n895    895\n879    879\n893    893\n981    981\nName: Iteration, dtype: int64"
     },
     "execution_count": 24,
     "metadata": {},
     "output_type": "execute_result"
    }
   ],
   "source": [
    "# convergence point\n",
    "df_iter_curves_ffp[df_iter_curves_ffp.Fitness == df_iter_curves_ffp.Fitness.max()].Iteration"
   ],
   "metadata": {
    "collapsed": false
   }
  },
  {
   "cell_type": "code",
   "execution_count": 25,
   "outputs": [
    {
     "data": {
      "text/plain": "981"
     },
     "execution_count": 25,
     "metadata": {},
     "output_type": "execute_result"
    }
   ],
   "source": [
    "# converge point\n",
    "df_fitness_iter_ffp[df_fitness_iter_ffp.avg_fitness >= df_iter_curves_ffp.Fitness.max()].Iteration.min()"
   ],
   "metadata": {
    "collapsed": false
   }
  },
  {
   "cell_type": "code",
   "execution_count": 26,
   "outputs": [
    {
     "data": {
      "text/plain": "999.0"
     },
     "execution_count": 26,
     "metadata": {},
     "output_type": "execute_result"
    }
   ],
   "source": [
    "df_fitness_iter_ffp.avg_fitness.max()"
   ],
   "metadata": {
    "collapsed": false
   }
  },
  {
   "cell_type": "code",
   "execution_count": 27,
   "id": "06d060ce",
   "metadata": {},
   "outputs": [],
   "source": [
    "df_fitness_iter_ffp['stddev_fitness'] = df_fitness_iter_ffp['var_fitness'].apply(np.sqrt)"
   ]
  },
  {
   "cell_type": "code",
   "execution_count": 31,
   "outputs": [
    {
     "data": {
      "text/plain": "15.289793254906288"
     },
     "execution_count": 31,
     "metadata": {},
     "output_type": "execute_result"
    }
   ],
   "source": [
    "df_fitness_iter_ffp['stddev_fitness'].max()"
   ],
   "metadata": {
    "collapsed": false
   }
  },
  {
   "cell_type": "code",
   "execution_count": 28,
   "id": "3c083df9",
   "metadata": {},
   "outputs": [
    {
     "data": {
      "text/plain": "   Iteration  avg_fitness  var_fitness  stddev_fitness\n0          0        496.0   233.777778       15.289793\n1          1        544.7    88.011111        9.381424\n2          2        548.7   101.788889       10.089048\n3          3        552.4    91.822222        9.582391\n4          4        554.9    58.766667        7.665942",
      "text/html": "<div>\n<style scoped>\n    .dataframe tbody tr th:only-of-type {\n        vertical-align: middle;\n    }\n\n    .dataframe tbody tr th {\n        vertical-align: top;\n    }\n\n    .dataframe thead th {\n        text-align: right;\n    }\n</style>\n<table border=\"1\" class=\"dataframe\">\n  <thead>\n    <tr style=\"text-align: right;\">\n      <th></th>\n      <th>Iteration</th>\n      <th>avg_fitness</th>\n      <th>var_fitness</th>\n      <th>stddev_fitness</th>\n    </tr>\n  </thead>\n  <tbody>\n    <tr>\n      <th>0</th>\n      <td>0</td>\n      <td>496.0</td>\n      <td>233.777778</td>\n      <td>15.289793</td>\n    </tr>\n    <tr>\n      <th>1</th>\n      <td>1</td>\n      <td>544.7</td>\n      <td>88.011111</td>\n      <td>9.381424</td>\n    </tr>\n    <tr>\n      <th>2</th>\n      <td>2</td>\n      <td>548.7</td>\n      <td>101.788889</td>\n      <td>10.089048</td>\n    </tr>\n    <tr>\n      <th>3</th>\n      <td>3</td>\n      <td>552.4</td>\n      <td>91.822222</td>\n      <td>9.582391</td>\n    </tr>\n    <tr>\n      <th>4</th>\n      <td>4</td>\n      <td>554.9</td>\n      <td>58.766667</td>\n      <td>7.665942</td>\n    </tr>\n  </tbody>\n</table>\n</div>"
     },
     "execution_count": 28,
     "metadata": {},
     "output_type": "execute_result"
    }
   ],
   "source": [
    "df_fitness_iter_ffp.head()"
   ]
  },
  {
   "cell_type": "code",
   "execution_count": 29,
   "id": "356e8aca",
   "metadata": {},
   "outputs": [
    {
     "data": {
      "text/plain": "Text(0, 0.5, 'Fitness')"
     },
     "execution_count": 29,
     "metadata": {},
     "output_type": "execute_result"
    },
    {
     "data": {
      "text/plain": "<Figure size 640x480 with 1 Axes>",
      "image/png": "[encoded data removed]"
     },
     "metadata": {},
     "output_type": "display_data"
    }
   ],
   "source": [
    "plt.plot(df_fitness_iter_ffp.Iteration, df_fitness_iter_ffp.avg_fitness, 'k', color='#1B2ACC')\n",
    "plt.fill_between(df_fitness_iter_ffp.Iteration, df_fitness_iter_ffp.avg_fitness - df_fitness_iter_ffp.stddev_fitness\\\n",
    "                 , df_fitness_iter_ffp.avg_fitness + df_fitness_iter_ffp.stddev_fitness\\\n",
    "                 , alpha=0.5, edgecolor='#1B2ACC', facecolor='#089FFF')\n",
    "plt.title('Average Fitness by Iterations with Problem Size 1000 \\n Genetic Algorithm with Border Swaps')\n",
    "plt.xlabel('Iterations')\n",
    "plt.ylabel('Fitness')"
   ]
  },
  {
   "cell_type": "code",
   "execution_count": 71,
   "outputs": [],
   "source": [
    "# Fevals - iteration"
   ],
   "metadata": {
    "collapsed": false
   }
  },
  {
   "cell_type": "code",
   "execution_count": 32,
   "outputs": [],
   "source": [
    "df_FEvals_iter_ffp = df_iter_curves_ffp.groupby('Iteration')\\\n",
    "                                .agg(avg_FEvals=('FEvals', 'mean'), var_FEvals = ('FEvals', 'var'))\\\n",
    "                                .reset_index()"
   ],
   "metadata": {
    "collapsed": false
   }
  },
  {
   "cell_type": "code",
   "execution_count": 33,
   "outputs": [
    {
     "data": {
      "text/plain": "(982, 3)"
     },
     "execution_count": 33,
     "metadata": {},
     "output_type": "execute_result"
    }
   ],
   "source": [
    "df_FEvals_iter_ffp.shape"
   ],
   "metadata": {
    "collapsed": false
   }
  },
  {
   "cell_type": "code",
   "execution_count": 34,
   "outputs": [
    {
     "data": {
      "text/plain": "   Iteration  avg_FEvals  var_FEvals\n0          0         0.0    0.000000\n1          1         2.0    0.000000\n2          2         3.6    0.266667\n3          3         5.1    0.544444\n4          4         6.6    1.155556",
      "text/html": "<div>\n<style scoped>\n    .dataframe tbody tr th:only-of-type {\n        vertical-align: middle;\n    }\n\n    .dataframe tbody tr th {\n        vertical-align: top;\n    }\n\n    .dataframe thead th {\n        text-align: right;\n    }\n</style>\n<table border=\"1\" class=\"dataframe\">\n  <thead>\n    <tr style=\"text-align: right;\">\n      <th></th>\n      <th>Iteration</th>\n      <th>avg_FEvals</th>\n      <th>var_FEvals</th>\n    </tr>\n  </thead>\n  <tbody>\n    <tr>\n      <th>0</th>\n      <td>0</td>\n      <td>0.0</td>\n      <td>0.000000</td>\n    </tr>\n    <tr>\n      <th>1</th>\n      <td>1</td>\n      <td>2.0</td>\n      <td>0.000000</td>\n    </tr>\n    <tr>\n      <th>2</th>\n      <td>2</td>\n      <td>3.6</td>\n      <td>0.266667</td>\n    </tr>\n    <tr>\n      <th>3</th>\n      <td>3</td>\n      <td>5.1</td>\n      <td>0.544444</td>\n    </tr>\n    <tr>\n      <th>4</th>\n      <td>4</td>\n      <td>6.6</td>\n      <td>1.155556</td>\n    </tr>\n  </tbody>\n</table>\n</div>"
     },
     "execution_count": 34,
     "metadata": {},
     "output_type": "execute_result"
    }
   ],
   "source": [
    "df_FEvals_iter_ffp.head()"
   ],
   "metadata": {
    "collapsed": false
   }
  },
  {
   "cell_type": "code",
   "execution_count": 35,
   "outputs": [],
   "source": [
    "df_FEvals_iter_ffp['stddev_FEvals'] = df_FEvals_iter_ffp['var_FEvals'].apply(np.sqrt)"
   ],
   "metadata": {
    "collapsed": false
   }
  },
  {
   "cell_type": "code",
   "execution_count": 36,
   "outputs": [
    {
     "data": {
      "text/plain": "(0.0, 7.412987316351001)"
     },
     "execution_count": 36,
     "metadata": {},
     "output_type": "execute_result"
    }
   ],
   "source": [
    "df_FEvals_iter_ffp['stddev_FEvals'].min(), df_FEvals_iter_ffp['stddev_FEvals'].max()"
   ],
   "metadata": {
    "collapsed": false
   }
  },
  {
   "cell_type": "code",
   "execution_count": 37,
   "outputs": [
    {
     "data": {
      "text/plain": "   Iteration  avg_FEvals  var_FEvals  stddev_FEvals\n0          0         0.0    0.000000       0.000000\n1          1         2.0    0.000000       0.000000\n2          2         3.6    0.266667       0.516398\n3          3         5.1    0.544444       0.737865\n4          4         6.6    1.155556       1.074968",
      "text/html": "<div>\n<style scoped>\n    .dataframe tbody tr th:only-of-type {\n        vertical-align: middle;\n    }\n\n    .dataframe tbody tr th {\n        vertical-align: top;\n    }\n\n    .dataframe thead th {\n        text-align: right;\n    }\n</style>\n<table border=\"1\" class=\"dataframe\">\n  <thead>\n    <tr style=\"text-align: right;\">\n      <th></th>\n      <th>Iteration</th>\n      <th>avg_FEvals</th>\n      <th>var_FEvals</th>\n      <th>stddev_FEvals</th>\n    </tr>\n  </thead>\n  <tbody>\n    <tr>\n      <th>0</th>\n      <td>0</td>\n      <td>0.0</td>\n      <td>0.000000</td>\n      <td>0.000000</td>\n    </tr>\n    <tr>\n      <th>1</th>\n      <td>1</td>\n      <td>2.0</td>\n      <td>0.000000</td>\n      <td>0.000000</td>\n    </tr>\n    <tr>\n      <th>2</th>\n      <td>2</td>\n      <td>3.6</td>\n      <td>0.266667</td>\n      <td>0.516398</td>\n    </tr>\n    <tr>\n      <th>3</th>\n      <td>3</td>\n      <td>5.1</td>\n      <td>0.544444</td>\n      <td>0.737865</td>\n    </tr>\n    <tr>\n      <th>4</th>\n      <td>4</td>\n      <td>6.6</td>\n      <td>1.155556</td>\n      <td>1.074968</td>\n    </tr>\n  </tbody>\n</table>\n</div>"
     },
     "execution_count": 37,
     "metadata": {},
     "output_type": "execute_result"
    }
   ],
   "source": [
    "df_FEvals_iter_ffp.head()"
   ],
   "metadata": {
    "collapsed": false
   }
  },
  {
   "cell_type": "code",
   "execution_count": 51,
   "outputs": [
    {
     "data": {
      "text/plain": "981    1255.0\nName: avg_FEvals, dtype: float64"
     },
     "execution_count": 51,
     "metadata": {},
     "output_type": "execute_result"
    }
   ],
   "source": [
    "df_FEvals_iter_ffp[df_FEvals_iter_ffp['Iteration']==981].avg_FEvals"
   ],
   "metadata": {
    "collapsed": false
   }
  },
  {
   "cell_type": "code",
   "execution_count": 52,
   "outputs": [],
   "source": [
    "df_FEvals_iter_ffp.to_csv('df_FEvals_iter_1000_gab981.csv')"
   ],
   "metadata": {
    "collapsed": false
   }
  },
  {
   "cell_type": "code",
   "execution_count": 38,
   "outputs": [
    {
     "data": {
      "text/plain": "Text(0, 0.5, 'FEvals')"
     },
     "execution_count": 38,
     "metadata": {},
     "output_type": "execute_result"
    },
    {
     "data": {
      "text/plain": "<Figure size 640x480 with 1 Axes>",
      "image/png": "[encoded data removed]"
     },
     "metadata": {},
     "output_type": "display_data"
    }
   ],
   "source": [
    "plt.plot(df_FEvals_iter_ffp.Iteration, df_FEvals_iter_ffp.avg_FEvals, 'k', color='#1B2ACC')\n",
    "plt.fill_between(df_FEvals_iter_ffp.Iteration, df_FEvals_iter_ffp.avg_FEvals - df_FEvals_iter_ffp.stddev_FEvals\\\n",
    "                 , df_FEvals_iter_ffp.avg_FEvals + df_FEvals_iter_ffp.stddev_FEvals\\\n",
    "                 , alpha=0.5, edgecolor='#1B2ACC', facecolor='#089FFF')\n",
    "plt.title('FEvals by Iterations \\n Genetic Algorithm with Border Swaps')\n",
    "plt.xlabel('Iterations')\n",
    "plt.ylabel('FEvals')"
   ],
   "metadata": {
    "collapsed": false
   }
  },
  {
   "cell_type": "code",
   "execution_count": 39,
   "outputs": [],
   "source": [
    "# fitness - wall clock time"
   ],
   "metadata": {
    "collapsed": false
   }
  },
  {
   "cell_type": "code",
   "execution_count": 40,
   "outputs": [],
   "source": [
    "df_time_iter_ffp = df_iter_curves_ffp.groupby('Iteration')\\\n",
    "                                .agg(avg_time=('Time', 'mean'), var_time = ('Time', 'var'))\\\n",
    "                                .reset_index()"
   ],
   "metadata": {
    "collapsed": false
   }
  },
  {
   "cell_type": "code",
   "execution_count": 41,
   "outputs": [
    {
     "data": {
      "text/plain": "(982, 3)"
     },
     "execution_count": 41,
     "metadata": {},
     "output_type": "execute_result"
    }
   ],
   "source": [
    "df_time_iter_ffp.shape"
   ],
   "metadata": {
    "collapsed": false
   }
  },
  {
   "cell_type": "code",
   "execution_count": 42,
   "outputs": [
    {
     "data": {
      "text/plain": "   Iteration  avg_time  var_time\n0          0  0.008758  0.000017\n1          1  0.064842  0.001513\n2          2  0.142796  0.013024\n3          3  0.198087  0.017476\n4          4  0.238002  0.019665",
      "text/html": "<div>\n<style scoped>\n    .dataframe tbody tr th:only-of-type {\n        vertical-align: middle;\n    }\n\n    .dataframe tbody tr th {\n        vertical-align: top;\n    }\n\n    .dataframe thead th {\n        text-align: right;\n    }\n</style>\n<table border=\"1\" class=\"dataframe\">\n  <thead>\n    <tr style=\"text-align: right;\">\n      <th></th>\n      <th>Iteration</th>\n      <th>avg_time</th>\n      <th>var_time</th>\n    </tr>\n  </thead>\n  <tbody>\n    <tr>\n      <th>0</th>\n      <td>0</td>\n      <td>0.008758</td>\n      <td>0.000017</td>\n    </tr>\n    <tr>\n      <th>1</th>\n      <td>1</td>\n      <td>0.064842</td>\n      <td>0.001513</td>\n    </tr>\n    <tr>\n      <th>2</th>\n      <td>2</td>\n      <td>0.142796</td>\n      <td>0.013024</td>\n    </tr>\n    <tr>\n      <th>3</th>\n      <td>3</td>\n      <td>0.198087</td>\n      <td>0.017476</td>\n    </tr>\n    <tr>\n      <th>4</th>\n      <td>4</td>\n      <td>0.238002</td>\n      <td>0.019665</td>\n    </tr>\n  </tbody>\n</table>\n</div>"
     },
     "execution_count": 42,
     "metadata": {},
     "output_type": "execute_result"
    }
   ],
   "source": [
    "df_time_iter_ffp.head()"
   ],
   "metadata": {
    "collapsed": false
   }
  },
  {
   "cell_type": "code",
   "execution_count": 43,
   "outputs": [],
   "source": [
    "df_time_iter_ffp['stddev_time'] = df_time_iter_ffp['var_time'].apply(np.sqrt)"
   ],
   "metadata": {
    "collapsed": false
   }
  },
  {
   "cell_type": "code",
   "execution_count": 44,
   "outputs": [
    {
     "data": {
      "text/plain": "   Iteration  avg_time  var_time  stddev_time\n0          0  0.008758  0.000017     0.004088\n1          1  0.064842  0.001513     0.038892\n2          2  0.142796  0.013024     0.114125\n3          3  0.198087  0.017476     0.132195\n4          4  0.238002  0.019665     0.140230",
      "text/html": "<div>\n<style scoped>\n    .dataframe tbody tr th:only-of-type {\n        vertical-align: middle;\n    }\n\n    .dataframe tbody tr th {\n        vertical-align: top;\n    }\n\n    .dataframe thead th {\n        text-align: right;\n    }\n</style>\n<table border=\"1\" class=\"dataframe\">\n  <thead>\n    <tr style=\"text-align: right;\">\n      <th></th>\n      <th>Iteration</th>\n      <th>avg_time</th>\n      <th>var_time</th>\n      <th>stddev_time</th>\n    </tr>\n  </thead>\n  <tbody>\n    <tr>\n      <th>0</th>\n      <td>0</td>\n      <td>0.008758</td>\n      <td>0.000017</td>\n      <td>0.004088</td>\n    </tr>\n    <tr>\n      <th>1</th>\n      <td>1</td>\n      <td>0.064842</td>\n      <td>0.001513</td>\n      <td>0.038892</td>\n    </tr>\n    <tr>\n      <th>2</th>\n      <td>2</td>\n      <td>0.142796</td>\n      <td>0.013024</td>\n      <td>0.114125</td>\n    </tr>\n    <tr>\n      <th>3</th>\n      <td>3</td>\n      <td>0.198087</td>\n      <td>0.017476</td>\n      <td>0.132195</td>\n    </tr>\n    <tr>\n      <th>4</th>\n      <td>4</td>\n      <td>0.238002</td>\n      <td>0.019665</td>\n      <td>0.140230</td>\n    </tr>\n  </tbody>\n</table>\n</div>"
     },
     "execution_count": 44,
     "metadata": {},
     "output_type": "execute_result"
    }
   ],
   "source": [
    "df_time_iter_ffp.head()"
   ],
   "metadata": {
    "collapsed": false
   }
  },
  {
   "cell_type": "code",
   "execution_count": 46,
   "outputs": [
    {
     "data": {
      "text/plain": "15.222129565141996"
     },
     "execution_count": 46,
     "metadata": {},
     "output_type": "execute_result"
    }
   ],
   "source": [
    "df_time_iter_ffp.stddev_time.max()"
   ],
   "metadata": {
    "collapsed": false
   }
  },
  {
   "cell_type": "code",
   "execution_count": 47,
   "outputs": [
    {
     "data": {
      "text/plain": "Text(0, 0.5, 'Time')"
     },
     "execution_count": 47,
     "metadata": {},
     "output_type": "execute_result"
    },
    {
     "data": {
      "text/plain": "<Figure size 640x480 with 1 Axes>",
      "image/png": "[encoded data removed]"
     },
     "metadata": {},
     "output_type": "display_data"
    }
   ],
   "source": [
    "plt.plot(df_time_iter_ffp.Iteration, df_time_iter_ffp.avg_time, 'k', color='#1B2ACC')\n",
    "plt.fill_between(df_time_iter_ffp.Iteration, df_time_iter_ffp.avg_time - df_time_iter_ffp.stddev_time\\\n",
    "                 , df_time_iter_ffp.avg_time + df_time_iter_ffp.stddev_time\\\n",
    "                 , alpha=0.5, edgecolor='#1B2ACC', facecolor='#089FFF')\n",
    "plt.title('Wall Clock Time by Iterations \\n Genetic Algorithm with Border Swaps')\n",
    "plt.xlabel('Iterations')\n",
    "plt.ylabel('Time')"
   ],
   "metadata": {
    "collapsed": false
   }
  },
  {
   "cell_type": "code",
   "execution_count": 48,
   "outputs": [
    {
     "data": {
      "text/plain": "911    911\nName: Iteration, dtype: int64"
     },
     "execution_count": 48,
     "metadata": {},
     "output_type": "execute_result"
    }
   ],
   "source": [
    "df_time_iter_ffp[df_time_iter_ffp.stddev_time==df_time_iter_ffp.stddev_time.max()].Iteration"
   ],
   "metadata": {
    "collapsed": false
   }
  },
  {
   "cell_type": "code",
   "execution_count": 54,
   "outputs": [
    {
     "data": {
      "text/plain": "66.17838143699919"
     },
     "execution_count": 54,
     "metadata": {},
     "output_type": "execute_result"
    }
   ],
   "source": [
    "df_time_iter_ffp.avg_time.max()"
   ],
   "metadata": {
    "collapsed": false
   }
  },
  {
   "cell_type": "code",
   "execution_count": 55,
   "outputs": [
    {
     "data": {
      "text/plain": "15.222129565141996"
     },
     "execution_count": 55,
     "metadata": {},
     "output_type": "execute_result"
    }
   ],
   "source": [
    "df_time_iter_ffp.stddev_time.max()"
   ],
   "metadata": {
    "collapsed": false
   }
  },
  {
   "cell_type": "code",
   "execution_count": 56,
   "outputs": [],
   "source": [
    "df_time_iter_ffp.to_csv('df_time_iter_1000_gab981.csv')"
   ],
   "metadata": {
    "collapsed": false
   }
  },
  {
   "cell_type": "code",
   "execution_count": null,
   "outputs": [],
   "source": [],
   "metadata": {
    "collapsed": false
   }
  }
 ],
 "metadata": {
  "kernelspec": {
   "display_name": "Python 3 (ipykernel)",
   "language": "python",
   "name": "python3"
  },
  "language_info": {
   "codemirror_mode": {
    "name": "ipython",
    "version": 3
   },
   "file_extension": ".py",
   "mimetype": "text/x-python",
   "name": "python",
   "nbconvert_exporter": "python",
   "pygments_lexer": "ipython3",
   "version": "3.11.4"
  }
 },
 "nbformat": 4,
 "nbformat_minor": 5
}
