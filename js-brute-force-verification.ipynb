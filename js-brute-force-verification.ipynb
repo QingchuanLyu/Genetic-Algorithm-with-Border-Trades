{
 "cells": [
  {
   "cell_type": "code",
   "execution_count": null,
   "outputs": [],
   "source": [],
   "metadata": {
    "collapsed": false
   }
  },
  {
   "cell_type": "code",
   "execution_count": 1,
   "outputs": [
    {
     "name": "stdout",
     "output_type": "stream",
     "text": [
      "Processing ./mlrose\r\n",
      "  Preparing metadata (setup.py) ... \u001B[?25ldone\r\n",
      "\u001B[?25hRequirement already satisfied: numpy in /Users/qingchuanlyu/anaconda3/envs/cs7641/lib/python3.10/site-packages (from mlrose_hiive==2.2.4) (1.26.4)\r\n",
      "Requirement already satisfied: scipy in /Users/qingchuanlyu/anaconda3/envs/cs7641/lib/python3.10/site-packages (from mlrose_hiive==2.2.4) (1.14.1)\r\n",
      "Requirement already satisfied: scikit-learn in /Users/qingchuanlyu/anaconda3/envs/cs7641/lib/python3.10/site-packages (from mlrose_hiive==2.2.4) (1.4.2)\r\n",
      "Requirement already satisfied: pandas in /Users/qingchuanlyu/anaconda3/envs/cs7641/lib/python3.10/site-packages (from mlrose_hiive==2.2.4) (2.2.3)\r\n",
      "Requirement already satisfied: networkx in /Users/qingchuanlyu/anaconda3/envs/cs7641/lib/python3.10/site-packages (from mlrose_hiive==2.2.4) (3.3)\r\n",
      "Requirement already satisfied: joblib in /Users/qingchuanlyu/anaconda3/envs/cs7641/lib/python3.10/site-packages (from mlrose_hiive==2.2.4) (1.4.2)\r\n",
      "Requirement already satisfied: python-dateutil>=2.8.2 in /Users/qingchuanlyu/anaconda3/envs/cs7641/lib/python3.10/site-packages (from pandas->mlrose_hiive==2.2.4) (2.9.0.post0)\r\n",
      "Requirement already satisfied: pytz>=2020.1 in /Users/qingchuanlyu/anaconda3/envs/cs7641/lib/python3.10/site-packages (from pandas->mlrose_hiive==2.2.4) (2024.1)\r\n",
      "Requirement already satisfied: tzdata>=2022.7 in /Users/qingchuanlyu/anaconda3/envs/cs7641/lib/python3.10/site-packages (from pandas->mlrose_hiive==2.2.4) (2024.2)\r\n",
      "Requirement already satisfied: threadpoolctl>=2.0.0 in /Users/qingchuanlyu/anaconda3/envs/cs7641/lib/python3.10/site-packages (from scikit-learn->mlrose_hiive==2.2.4) (3.5.0)\r\n",
      "Requirement already satisfied: six>=1.5 in /Users/qingchuanlyu/anaconda3/envs/cs7641/lib/python3.10/site-packages (from python-dateutil>=2.8.2->pandas->mlrose_hiive==2.2.4) (1.16.0)\r\n",
      "Building wheels for collected packages: mlrose_hiive\r\n",
      "  Building wheel for mlrose_hiive (setup.py) ... \u001B[?25ldone\r\n",
      "\u001B[?25h  Created wheel for mlrose_hiive: filename=mlrose_hiive-2.2.4-py3-none-any.whl size=132417 sha256=543c79d8d002533b2faddba3d0fd2ea8fec5da0aed9b581a972af0ab2003c5a2\r\n",
      "  Stored in directory: /private/var/folders/c6/5zg6wy5n121f2pzclkwbzplm0000gn/T/pip-ephem-wheel-cache-6xst1w3b/wheels/77/c5/de/7a63a2c78a12ad335a5091a9209439e12d86616744464a5ae4\r\n",
      "Successfully built mlrose_hiive\r\n",
      "Installing collected packages: mlrose_hiive\r\n",
      "  Attempting uninstall: mlrose_hiive\r\n",
      "    Found existing installation: mlrose_hiive 2.2.4\r\n",
      "    Uninstalling mlrose_hiive-2.2.4:\r\n",
      "      Successfully uninstalled mlrose_hiive-2.2.4\r\n",
      "Successfully installed mlrose_hiive-2.2.4\r\n",
      "Note: you may need to restart the kernel to use updated packages.\n"
     ]
    }
   ],
   "source": [
    "pip install /Users/qingchuanlyu/Documents/Conferences/ICML-2025/icml2025/code/mlrose"
   ],
   "metadata": {
    "collapsed": false
   }
  },
  {
   "cell_type": "code",
   "execution_count": 2,
   "outputs": [],
   "source": [
    "import itertools\n",
    "import random\n",
    "import time\n",
    "import numpy as np\n",
    "import mlrose_hiive as mh\n",
    "import utility as u"
   ],
   "metadata": {
    "collapsed": false
   }
  },
  {
   "cell_type": "code",
   "execution_count": 3,
   "outputs": [],
   "source": [
    "class Task:\n",
    "    def __init__(self, task_id, duration, deadline, profit):\n",
    "        self.task_id = task_id\n",
    "        self.duration = duration\n",
    "        self.deadline = deadline\n",
    "        self.profit = profit"
   ],
   "metadata": {
    "collapsed": false
   }
  },
  {
   "cell_type": "code",
   "execution_count": 4,
   "outputs": [],
   "source": [
    "work_limit = 2\n",
    "break_time = 1"
   ],
   "metadata": {
    "collapsed": false
   }
  },
  {
   "cell_type": "code",
   "execution_count": null,
   "outputs": [],
   "source": [
    "\"\"\" example\n",
    "    Task('A', 2, 5, 50),\n",
    "    Task('B', 3, 8, 70),\n",
    "    Task('C', 1, 4, 40),\n",
    "    Task('D', 2, 6, 60),\n",
    "    Task('E', 4, 10, 100)\n",
    "\"\"\""
   ],
   "metadata": {
    "collapsed": false
   }
  },
  {
   "cell_type": "code",
   "execution_count": null,
   "outputs": [],
   "source": [
    "# generate random tasks"
   ],
   "metadata": {
    "collapsed": false
   }
  },
  {
   "cell_type": "code",
   "execution_count": null,
   "outputs": [],
   "source": [
    "# task size = 3"
   ],
   "metadata": {
    "collapsed": false
   }
  },
  {
   "cell_type": "code",
   "execution_count": 14,
   "outputs": [],
   "source": [
    "tasks = [Task('A', 2, 5, 50),\n",
    "    Task('B', 3, 8, 70),\n",
    "    Task('C', 1, 4, 40)]"
   ],
   "metadata": {
    "collapsed": false
   }
  },
  {
   "cell_type": "code",
   "execution_count": null,
   "outputs": [],
   "source": [
    "# evaluate fitness"
   ],
   "metadata": {
    "collapsed": false
   }
  },
  {
   "cell_type": "code",
   "execution_count": 5,
   "metadata": {
    "collapsed": true
   },
   "outputs": [],
   "source": [
    "def evaluate(schedule): #, tasks, break_time, work_limit):  # maximize profit\n",
    "    time = 0\n",
    "    fitness = 0\n",
    "    order = []\n",
    "    for task_id in schedule:\n",
    "        task = tasks[task_id]\n",
    "        #print(\"current taks is \", task.task_id)\n",
    "        #print(\"expected finish time\", time + task.duration)\n",
    "        #print(\"deadline\", task.deadline)\n",
    "        expected_time = time + task.duration\n",
    "        if expected_time <= task.deadline:\n",
    "            #print(\"finish a task\")\n",
    "            fitness += task.profit\n",
    "            order.append(task_id)\n",
    "            if (task.duration >= work_limit) | (expected_time % work_limit == 0 and time != 0):\n",
    "                #print(\"take a break\")\n",
    "                order.append('-1')\n",
    "                time += break_time\n",
    "            time += task.duration\n",
    "        #print(order)\n",
    "    return order, fitness"
   ]
  },
  {
   "cell_type": "code",
   "execution_count": null,
   "outputs": [],
   "source": [
    "# test"
   ],
   "metadata": {
    "collapsed": false
   }
  },
  {
   "cell_type": "code",
   "execution_count": 14,
   "outputs": [
    {
     "name": "stdout",
     "output_type": "stream",
     "text": [
      "current taks is  B\n",
      "expected finish time 3\n",
      "deadline 8\n",
      "finish a task\n",
      "take a break\n",
      "after a break, the time is  1\n",
      "[1, '-1']\n",
      "current taks is  A\n",
      "expected finish time 6\n",
      "deadline 5\n",
      "[1, '-1']\n",
      "current taks is  B\n",
      "expected finish time 7\n",
      "deadline 8\n",
      "finish a task\n",
      "take a break\n",
      "after a break, the time is  5\n",
      "[1, '-1', 1, '-1']\n"
     ]
    },
    {
     "data": {
      "text/plain": "140"
     },
     "execution_count": 14,
     "metadata": {},
     "output_type": "execute_result"
    }
   ],
   "source": [
    "evaluate([1, 0, 1])"
   ],
   "metadata": {
    "collapsed": false
   }
  },
  {
   "cell_type": "code",
   "execution_count": null,
   "outputs": [],
   "source": [
    "# verify size = 3"
   ],
   "metadata": {
    "collapsed": false
   }
  },
  {
   "cell_type": "code",
   "execution_count": 18,
   "outputs": [
    {
     "name": "stdout",
     "output_type": "stream",
     "text": [
      "[2, 1, '-1', 1, '-1']\n",
      "180\n",
      "0.0016598701477050781\n"
     ]
    }
   ],
   "source": [
    "start_time = time.time()\n",
    "candidate_schedule = list(itertools.product([0, 1, 2], repeat=3))\n",
    "sch = []\n",
    "fch = []\n",
    "for c in candidate_schedule:\n",
    "    s = list(c)\n",
    "    order, fitness = evaluate(s)\n",
    "    sch.append(order)\n",
    "    fch.append(fitness)\n",
    "index_max = max(range(len(fch)), key=fch.__getitem__)\n",
    "print(sch[index_max])\n",
    "run_time = time.time() - start_time\n",
    "print(max(fch))\n",
    "print(run_time)"
   ],
   "metadata": {
    "collapsed": false
   }
  },
  {
   "cell_type": "code",
   "execution_count": null,
   "outputs": [],
   "source": [
    "# verify size = 7"
   ],
   "metadata": {
    "collapsed": false
   }
  },
  {
   "cell_type": "code",
   "execution_count": 1,
   "outputs": [],
   "source": [
    "import importlib\n",
    "import utility as u"
   ],
   "metadata": {
    "collapsed": false
   }
  },
  {
   "cell_type": "code",
   "execution_count": 6,
   "outputs": [],
   "source": [
    "size = 7\n",
    "importlib.reload(u)\n",
    "tasks = u.generate_random_tasks(size, 5, 80, 25)"
   ],
   "metadata": {
    "collapsed": false
   }
  },
  {
   "cell_type": "code",
   "execution_count": 9,
   "outputs": [
    {
     "name": "stdout",
     "output_type": "stream",
     "text": [
      "[6, '-1', 6, '-1', 6, '-1', 6, '-1', 6, '-1', 6, '-1', 6, '-1']\n",
      "161\n",
      "8.646990299224854\n"
     ]
    }
   ],
   "source": [
    "start_time = time.time()\n",
    "candidate_schedule = list(itertools.product(list(range(7)), repeat=7))\n",
    "sch = []\n",
    "fch = []\n",
    "for c in candidate_schedule:\n",
    "    s = list(c)\n",
    "    order, fitness = evaluate(s)\n",
    "    sch.append(order)\n",
    "    fch.append(fitness)\n",
    "index_max = max(range(len(fch)), key=fch.__getitem__)\n",
    "print(sch[index_max])\n",
    "run_time = time.time() - start_time\n",
    "print(max(fch))\n",
    "print(run_time)"
   ],
   "metadata": {
    "collapsed": false
   }
  },
  {
   "cell_type": "code",
   "execution_count": null,
   "outputs": [],
   "source": [
    "# size 10"
   ],
   "metadata": {
    "collapsed": false
   }
  },
  {
   "cell_type": "code",
   "execution_count": 25,
   "outputs": [],
   "source": [
    "size = 10\n",
    "#importlib.reload(u)\n",
    "tasks = u.generate_random_tasks(size, 5, 80, 25)"
   ],
   "metadata": {
    "collapsed": false
   }
  },
  {
   "cell_type": "code",
   "execution_count": 26,
   "outputs": [],
   "source": [
    "# # Job Scheduling\n",
    "problem_ffp = mh.JobSchedulingGenerator().generate(seed=0, size=size, tasks=tasks, break_time=1, work_limit=2)\n",
    "#state = problem_ffp.get_state()"
   ],
   "metadata": {
    "collapsed": false
   }
  },
  {
   "cell_type": "code",
   "execution_count": 13,
   "outputs": [],
   "source": [
    "# GAJ runner class\n",
    "ga_ffp = mh.GARunner(problem=problem_ffp,\n",
    "              experiment_name='ffp_ga',\n",
    "              output_directory=None, # note: specify an output directory to have results saved to disk\n",
    "              seed=0,\n",
    "              iteration_list=2 ** np.arange(12),\n",
    "              max_attempts=500,\n",
    "              population_sizes=[1000],\n",
    "              mutation_rates=[0.08]) # Probability of a mutation at each element of the state vector during reproduction, expressed as a value between 0 and 1.\n",
    "\n",
    "# the two data frames will contain the results\n",
    "df_run_stats_ffp, df_run_curves_ffp = ga_ffp.run()"
   ],
   "metadata": {
    "collapsed": false
   }
  },
  {
   "cell_type": "code",
   "execution_count": 16,
   "outputs": [
    {
     "data": {
      "text/plain": "   Iteration  Fitness  FEvals      Time                           State  \\\n0          0     88.0       0  0.030996  [7, 6, 8, 8, 1, 6, 7, 7, 8, 1]   \n1          1    161.0       2  0.205177  [8, 5, 1, 9, 7, 2, 6, 0, 9, 1]   \n2          2    169.0       4  0.298804  [8, 5, 5, 6, 0, 9, 1, 9, 6, 3]   \n3          4    182.0       8  0.734613  [2, 1, 8, 6, 6, 9, 2, 6, 9, 3]   \n4          8    215.0      15  1.690638  [8, 8, 6, 5, 6, 9, 6, 6, 6, 9]   \n\n   Population Size  Mutation Rate  max_iters  \n0             1000           0.08       2048  \n1             1000           0.08       2048  \n2             1000           0.08       2048  \n3             1000           0.08       2048  \n4             1000           0.08       2048  ",
      "text/html": "<div>\n<style scoped>\n    .dataframe tbody tr th:only-of-type {\n        vertical-align: middle;\n    }\n\n    .dataframe tbody tr th {\n        vertical-align: top;\n    }\n\n    .dataframe thead th {\n        text-align: right;\n    }\n</style>\n<table border=\"1\" class=\"dataframe\">\n  <thead>\n    <tr style=\"text-align: right;\">\n      <th></th>\n      <th>Iteration</th>\n      <th>Fitness</th>\n      <th>FEvals</th>\n      <th>Time</th>\n      <th>State</th>\n      <th>Population Size</th>\n      <th>Mutation Rate</th>\n      <th>max_iters</th>\n    </tr>\n  </thead>\n  <tbody>\n    <tr>\n      <th>0</th>\n      <td>0</td>\n      <td>88.0</td>\n      <td>0</td>\n      <td>0.030996</td>\n      <td>[7, 6, 8, 8, 1, 6, 7, 7, 8, 1]</td>\n      <td>1000</td>\n      <td>0.08</td>\n      <td>2048</td>\n    </tr>\n    <tr>\n      <th>1</th>\n      <td>1</td>\n      <td>161.0</td>\n      <td>2</td>\n      <td>0.205177</td>\n      <td>[8, 5, 1, 9, 7, 2, 6, 0, 9, 1]</td>\n      <td>1000</td>\n      <td>0.08</td>\n      <td>2048</td>\n    </tr>\n    <tr>\n      <th>2</th>\n      <td>2</td>\n      <td>169.0</td>\n      <td>4</td>\n      <td>0.298804</td>\n      <td>[8, 5, 5, 6, 0, 9, 1, 9, 6, 3]</td>\n      <td>1000</td>\n      <td>0.08</td>\n      <td>2048</td>\n    </tr>\n    <tr>\n      <th>3</th>\n      <td>4</td>\n      <td>182.0</td>\n      <td>8</td>\n      <td>0.734613</td>\n      <td>[2, 1, 8, 6, 6, 9, 2, 6, 9, 3]</td>\n      <td>1000</td>\n      <td>0.08</td>\n      <td>2048</td>\n    </tr>\n    <tr>\n      <th>4</th>\n      <td>8</td>\n      <td>215.0</td>\n      <td>15</td>\n      <td>1.690638</td>\n      <td>[8, 8, 6, 5, 6, 9, 6, 6, 6, 9]</td>\n      <td>1000</td>\n      <td>0.08</td>\n      <td>2048</td>\n    </tr>\n  </tbody>\n</table>\n</div>"
     },
     "execution_count": 16,
     "metadata": {},
     "output_type": "execute_result"
    }
   ],
   "source": [
    "df_run_stats_ffp.head()"
   ],
   "metadata": {
    "collapsed": false
   }
  },
  {
   "cell_type": "code",
   "execution_count": 17,
   "outputs": [
    {
     "data": {
      "text/plain": "230.0"
     },
     "execution_count": 17,
     "metadata": {},
     "output_type": "execute_result"
    }
   ],
   "source": [
    "df_run_stats_ffp.Fitness.max()"
   ],
   "metadata": {
    "collapsed": false
   }
  },
  {
   "cell_type": "code",
   "execution_count": 9,
   "outputs": [],
   "source": [
    "# GAB-B runner class\n",
    "ga_ffp = mh.GAJSRunner(problem=problem_ffp,\n",
    "              experiment_name='ffp_ga',\n",
    "              output_directory=None, # note: specify an output directory to have results saved to disk\n",
    "              seed=0,\n",
    "              iteration_list=2 ** np.arange(12),\n",
    "              max_attempts=500,\n",
    "              population_sizes=[1000],\n",
    "              mutation_rates=[0.08]) # Probability of a mutation at each element of the state vector during reproduction, expressed as a value between 0 and 1.\n",
    "\n",
    "# the two data frames will contain the results\n",
    "df_run_stats_ffp, df_run_curves_ffp = ga_ffp.run()"
   ],
   "metadata": {
    "collapsed": false
   }
  },
  {
   "cell_type": "code",
   "execution_count": 10,
   "outputs": [
    {
     "data": {
      "text/plain": "230.0"
     },
     "execution_count": 10,
     "metadata": {},
     "output_type": "execute_result"
    }
   ],
   "source": [
    "df_run_curves_ffp['Fitness'].max()"
   ],
   "metadata": {
    "collapsed": false
   }
  },
  {
   "cell_type": "code",
   "execution_count": 27,
   "outputs": [],
   "source": [
    "# SA runner class\n",
    "sa_ffp = mh.SARunner(problem=problem_ffp,\n",
    "                     experiment_name='ffp_sa',\n",
    "                     output_directory=None,  # note: specify an output directory to have results saved to disk\n",
    "                     seed=0,\n",
    "                     iteration_list=2 ** np.arange(12),\n",
    "                     max_attempts=500,\n",
    "                     temperature_list=[1, 2, 5, 10, 20, 50, 100],\n",
    "                     decay_list=[mh.ExpDecay])\n",
    "\n",
    "# the two data frames will contain the results\n",
    "df_run_stats_ffp, df_run_curves_ffp = sa_ffp.run()"
   ],
   "metadata": {
    "collapsed": false
   }
  },
  {
   "cell_type": "code",
   "execution_count": 28,
   "outputs": [
    {
     "data": {
      "text/plain": "230.0"
     },
     "execution_count": 28,
     "metadata": {},
     "output_type": "execute_result"
    }
   ],
   "source": [
    "df_run_stats_ffp.Fitness.max()"
   ],
   "metadata": {
    "collapsed": false
   }
  },
  {
   "cell_type": "code",
   "execution_count": null,
   "outputs": [],
   "source": [
    "# size 13"
   ],
   "metadata": {
    "collapsed": false
   }
  },
  {
   "cell_type": "code",
   "execution_count": 21,
   "outputs": [],
   "source": [
    "size = 13\n",
    "tasks = u.generate_random_tasks(size, 5, 80, 25)"
   ],
   "metadata": {
    "collapsed": false
   }
  },
  {
   "cell_type": "code",
   "execution_count": 22,
   "outputs": [],
   "source": [
    "# # Job Scheduling\n",
    "problem_ffp = mh.JobSchedulingGenerator().generate(seed=0, size=size, tasks=tasks, break_time=1, work_limit=2)\n",
    "#state = problem_ffp.get_state()"
   ],
   "metadata": {
    "collapsed": false
   }
  },
  {
   "cell_type": "code",
   "execution_count": 10,
   "outputs": [],
   "source": [
    "# GAJ runner class\n",
    "ga_ffp = mh.GARunner(problem=problem_ffp,\n",
    "              experiment_name='ffp_ga',\n",
    "              output_directory=None, # note: specify an output directory to have results saved to disk\n",
    "              seed=0,\n",
    "              iteration_list=2 ** np.arange(12),\n",
    "              max_attempts=500,\n",
    "              population_sizes=[1000],\n",
    "              mutation_rates=[0.08]) # Probability of a mutation at each element of the state vector during reproduction, expressed as a value between 0 and 1.\n",
    "\n",
    "# the two data frames will contain the results\n",
    "df_run_stats_ffp, df_run_curves_ffp = ga_ffp.run()"
   ],
   "metadata": {
    "collapsed": false
   }
  },
  {
   "cell_type": "code",
   "execution_count": 11,
   "outputs": [
    {
     "data": {
      "text/plain": "299.0"
     },
     "execution_count": 11,
     "metadata": {},
     "output_type": "execute_result"
    }
   ],
   "source": [
    "df_run_stats_ffp.Fitness.max()"
   ],
   "metadata": {
    "collapsed": false
   }
  },
  {
   "cell_type": "code",
   "execution_count": 13,
   "outputs": [],
   "source": [
    "# GAB-B runner class\n",
    "ga_ffp = mh.GAJSRunner(problem=problem_ffp,\n",
    "              experiment_name='ffp_ga',\n",
    "              output_directory=None, # note: specify an output directory to have results saved to disk\n",
    "              seed=0,\n",
    "              iteration_list=2 ** np.arange(12),\n",
    "              max_attempts=500,\n",
    "              population_sizes=[1000],\n",
    "              mutation_rates=[0.08]) # Probability of a mutation at each element of the state vector during reproduction, expressed as a value between 0 and 1.\n",
    "\n",
    "# the two data frames will contain the results\n",
    "df_run_stats_ffp, df_run_curves_ffp = ga_ffp.run()"
   ],
   "metadata": {
    "collapsed": false
   }
  },
  {
   "cell_type": "code",
   "execution_count": 14,
   "outputs": [
    {
     "data": {
      "text/plain": "299.0"
     },
     "execution_count": 14,
     "metadata": {},
     "output_type": "execute_result"
    }
   ],
   "source": [
    "df_run_curves_ffp['Fitness'].max()"
   ],
   "metadata": {
    "collapsed": false
   }
  },
  {
   "cell_type": "code",
   "execution_count": 23,
   "outputs": [],
   "source": [
    "# SA runner class\n",
    "sa_ffp = mh.SARunner(problem=problem_ffp,\n",
    "                     experiment_name='ffp_sa',\n",
    "                     output_directory=None,  # note: specify an output directory to have results saved to disk\n",
    "                     seed=0,\n",
    "                     iteration_list=2 ** np.arange(12),\n",
    "                     max_attempts=500,\n",
    "                     temperature_list=[1, 2, 5, 10, 20, 50, 100],\n",
    "                     decay_list=[mh.ExpDecay])\n",
    "\n",
    "# the two data frames will contain the results\n",
    "df_run_stats_ffp, df_run_curves_ffp = sa_ffp.run()"
   ],
   "metadata": {
    "collapsed": false
   }
  },
  {
   "cell_type": "code",
   "execution_count": 24,
   "outputs": [
    {
     "data": {
      "text/plain": "299.0"
     },
     "execution_count": 24,
     "metadata": {},
     "output_type": "execute_result"
    }
   ],
   "source": [
    "df_run_stats_ffp.Fitness.max()"
   ],
   "metadata": {
    "collapsed": false
   }
  },
  {
   "cell_type": "code",
   "execution_count": 12,
   "outputs": [],
   "source": [
    "# size 18"
   ],
   "metadata": {
    "collapsed": false
   }
  },
  {
   "cell_type": "code",
   "execution_count": 15,
   "outputs": [],
   "source": [
    "size = 18\n",
    "tasks = u.generate_random_tasks(size, 5, 80, 25)"
   ],
   "metadata": {
    "collapsed": false
   }
  },
  {
   "cell_type": "code",
   "execution_count": 16,
   "outputs": [],
   "source": [
    "# # Job Scheduling\n",
    "problem_ffp = mh.JobSchedulingGenerator().generate(seed=0, size=size, tasks=tasks, break_time=1, work_limit=2)\n",
    "#state = problem_ffp.get_state()"
   ],
   "metadata": {
    "collapsed": false
   }
  },
  {
   "cell_type": "code",
   "execution_count": 16,
   "outputs": [],
   "source": [
    "# GAJ runner class\n",
    "ga_ffp = mh.GARunner(problem=problem_ffp,\n",
    "              experiment_name='ffp_ga',\n",
    "              output_directory=None, # note: specify an output directory to have results saved to disk\n",
    "              seed=0,\n",
    "              iteration_list=2 ** np.arange(12),\n",
    "              max_attempts=500,\n",
    "              population_sizes=[1000],\n",
    "              mutation_rates=[0.08]) # Probability of a mutation at each element of the state vector during reproduction, expressed as a value between 0 and 1.\n",
    "\n",
    "# the two data frames will contain the results\n",
    "df_run_stats_ffp, df_run_curves_ffp = ga_ffp.run()"
   ],
   "metadata": {
    "collapsed": false
   }
  },
  {
   "cell_type": "code",
   "execution_count": 17,
   "outputs": [
    {
     "data": {
      "text/plain": "422.0"
     },
     "execution_count": 17,
     "metadata": {},
     "output_type": "execute_result"
    }
   ],
   "source": [
    "df_run_stats_ffp.Fitness.max()"
   ],
   "metadata": {
    "collapsed": false
   }
  },
  {
   "cell_type": "code",
   "execution_count": 19,
   "outputs": [],
   "source": [
    "# SA runner class\n",
    "sa_ffp = mh.SARunner(problem=problem_ffp,\n",
    "                     experiment_name='ffp_sa',\n",
    "                     output_directory=None,  # note: specify an output directory to have results saved to disk\n",
    "                     seed=0,\n",
    "                     iteration_list=2 ** np.arange(12),\n",
    "                     max_attempts=500,\n",
    "                     temperature_list=[1, 2, 5, 10, 20, 50, 100],\n",
    "                     decay_list=[mh.ExpDecay])\n",
    "\n",
    "# the two data frames will contain the results\n",
    "df_run_stats_ffp, df_run_curves_ffp = sa_ffp.run()"
   ],
   "metadata": {
    "collapsed": false
   }
  },
  {
   "cell_type": "code",
   "execution_count": 20,
   "outputs": [
    {
     "data": {
      "text/plain": "422.0"
     },
     "execution_count": 20,
     "metadata": {},
     "output_type": "execute_result"
    }
   ],
   "source": [
    "df_run_stats_ffp.Fitness.max()"
   ],
   "metadata": {
    "collapsed": false
   }
  },
  {
   "cell_type": "code",
   "execution_count": 29,
   "outputs": [
    {
     "name": "stdout",
     "output_type": "stream",
     "text": [
      "Note: you may need to restart the kernel to use updated packages.\n"
     ]
    }
   ],
   "source": [
    "pip freeze > requirements.txt"
   ],
   "metadata": {
    "collapsed": false
   }
  },
  {
   "cell_type": "code",
   "execution_count": null,
   "outputs": [],
   "source": [],
   "metadata": {
    "collapsed": false
   }
  }
 ],
 "metadata": {
  "kernelspec": {
   "display_name": "Python 3",
   "language": "python",
   "name": "python3"
  },
  "language_info": {
   "codemirror_mode": {
    "name": "ipython",
    "version": 2
   },
   "file_extension": ".py",
   "mimetype": "text/x-python",
   "name": "python",
   "nbconvert_exporter": "python",
   "pygments_lexer": "ipython2",
   "version": "2.7.6"
  }
 },
 "nbformat": 4,
 "nbformat_minor": 0
}
