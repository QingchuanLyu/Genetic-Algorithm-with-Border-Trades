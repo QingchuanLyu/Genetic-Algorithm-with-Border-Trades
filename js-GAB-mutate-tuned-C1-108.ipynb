{
 "cells": [
  {
   "cell_type": "code",
   "execution_count": 1,
   "outputs": [
    {
     "name": "stdout",
     "output_type": "stream",
     "text": [
      "Processing ./mlrose\r\n",
      "  Preparing metadata (setup.py) ... \u001B[?25ldone\r\n",
      "\u001B[?25hRequirement already satisfied: numpy in /Users/qingchuanlyu/anaconda3/envs/cs7641/lib/python3.10/site-packages (from mlrose_hiive==2.2.4) (1.26.4)\r\n",
      "Requirement already satisfied: scipy in /Users/qingchuanlyu/anaconda3/envs/cs7641/lib/python3.10/site-packages (from mlrose_hiive==2.2.4) (1.14.1)\r\n",
      "Requirement already satisfied: scikit-learn in /Users/qingchuanlyu/anaconda3/envs/cs7641/lib/python3.10/site-packages (from mlrose_hiive==2.2.4) (1.4.2)\r\n",
      "Requirement already satisfied: pandas in /Users/qingchuanlyu/anaconda3/envs/cs7641/lib/python3.10/site-packages (from mlrose_hiive==2.2.4) (2.2.3)\r\n",
      "Requirement already satisfied: networkx in /Users/qingchuanlyu/anaconda3/envs/cs7641/lib/python3.10/site-packages (from mlrose_hiive==2.2.4) (3.3)\r\n",
      "Requirement already satisfied: joblib in /Users/qingchuanlyu/anaconda3/envs/cs7641/lib/python3.10/site-packages (from mlrose_hiive==2.2.4) (1.4.2)\r\n",
      "Requirement already satisfied: python-dateutil>=2.8.2 in /Users/qingchuanlyu/anaconda3/envs/cs7641/lib/python3.10/site-packages (from pandas->mlrose_hiive==2.2.4) (2.9.0.post0)\r\n",
      "Requirement already satisfied: pytz>=2020.1 in /Users/qingchuanlyu/anaconda3/envs/cs7641/lib/python3.10/site-packages (from pandas->mlrose_hiive==2.2.4) (2024.1)\r\n",
      "Requirement already satisfied: tzdata>=2022.7 in /Users/qingchuanlyu/anaconda3/envs/cs7641/lib/python3.10/site-packages (from pandas->mlrose_hiive==2.2.4) (2024.2)\r\n",
      "Requirement already satisfied: threadpoolctl>=2.0.0 in /Users/qingchuanlyu/anaconda3/envs/cs7641/lib/python3.10/site-packages (from scikit-learn->mlrose_hiive==2.2.4) (3.5.0)\r\n",
      "Requirement already satisfied: six>=1.5 in /Users/qingchuanlyu/anaconda3/envs/cs7641/lib/python3.10/site-packages (from python-dateutil>=2.8.2->pandas->mlrose_hiive==2.2.4) (1.16.0)\r\n",
      "Building wheels for collected packages: mlrose_hiive\r\n",
      "  Building wheel for mlrose_hiive (setup.py) ... \u001B[?25ldone\r\n",
      "\u001B[?25h  Created wheel for mlrose_hiive: filename=mlrose_hiive-2.2.4-py3-none-any.whl size=132356 sha256=c650357c0f84c356f67cec86d2b41492dae30c64663afbddb6d848a7c583fc50\r\n",
      "  Stored in directory: /private/var/folders/c6/5zg6wy5n121f2pzclkwbzplm0000gn/T/pip-ephem-wheel-cache-4wzzmsrt/wheels/77/c5/de/7a63a2c78a12ad335a5091a9209439e12d86616744464a5ae4\r\n",
      "Successfully built mlrose_hiive\r\n",
      "Installing collected packages: mlrose_hiive\r\n",
      "  Attempting uninstall: mlrose_hiive\r\n",
      "    Found existing installation: mlrose_hiive 2.2.4\r\n",
      "    Uninstalling mlrose_hiive-2.2.4:\r\n",
      "      Successfully uninstalled mlrose_hiive-2.2.4\r\n",
      "Successfully installed mlrose_hiive-2.2.4\r\n",
      "Note: you may need to restart the kernel to use updated packages.\n"
     ]
    }
   ],
   "source": [
    "pip install /Users/qingchuanlyu/Documents/Conferences/ICML-2025/icml2025/code/mlrose"
   ],
   "metadata": {
    "collapsed": false
   }
  },
  {
   "cell_type": "code",
   "execution_count": 2,
   "outputs": [
    {
     "data": {
      "text/plain": "'\\n# C1 tuned\\ndef border_swap(problem, next_gen, child, schedule):\\n    if schedule is None:\\n        print(\"order is none.\")\\n        return next_gen\\n    if len(next_gen) == 0:\\n        next_gen.append(child)\\n    else:\\n        for i in schedule:\\n            if schedule[i] == -1 and i < len(schedule) - 1:\\n                schedule[i-1], schedule[i+1] = schedule[i+1], schedule[i-1]\\n        temp_schedule = [i for i in schedule if i != -1]\\n        # check if the switched work better\\n        if problem.eval_fitness(temp_schedule) >= problem.eval_fitness(child):\\n            next_gen.append(temp_schedule)\\n        else:\\n            next_gen.append(child)\\n    return next_gen\\n\\n'"
     },
     "execution_count": 2,
     "metadata": {},
     "output_type": "execute_result"
    }
   ],
   "source": [
    "\"\"\"\n",
    "# C1 tuned\n",
    "def border_swap(problem, next_gen, child, schedule):\n",
    "    if schedule is None:\n",
    "        print(\"order is none.\")\n",
    "        return next_gen\n",
    "    if len(next_gen) == 0:\n",
    "        next_gen.append(child)\n",
    "    else:\n",
    "        for i in schedule:\n",
    "            if schedule[i] == -1 and i < len(schedule) - 1:\n",
    "                schedule[i-1], schedule[i+1] = schedule[i+1], schedule[i-1]\n",
    "        temp_schedule = [i for i in schedule if i != -1]\n",
    "        # check if the switched work better\n",
    "        if problem.eval_fitness(temp_schedule) >= problem.eval_fitness(child):\n",
    "            next_gen.append(temp_schedule)\n",
    "        else:\n",
    "            next_gen.append(child)\n",
    "    return next_gen\n",
    "\n",
    "\"\"\""
   ],
   "metadata": {
    "collapsed": false
   }
  },
  {
   "cell_type": "code",
   "execution_count": 3,
   "id": "b243b22c",
   "metadata": {},
   "outputs": [],
   "source": [
    "import mlrose_hiive as mh"
   ]
  },
  {
   "cell_type": "code",
   "execution_count": 4,
   "outputs": [],
   "source": [
    "#help(mh.runners)"
   ],
   "metadata": {
    "collapsed": false
   }
  },
  {
   "cell_type": "code",
   "execution_count": 1,
   "id": "cb9e02c3",
   "metadata": {},
   "outputs": [
    {
     "name": "stderr",
     "output_type": "stream",
     "text": [
      "/var/folders/c6/5zg6wy5n121f2pzclkwbzplm0000gn/T/ipykernel_8045/1000570959.py:7: DeprecationWarning: Importing display from IPython.core.display is deprecated since IPython 7.14, please import from IPython display\n",
      "  from IPython.core.display import display, HTML # for some notebook formatting.\n"
     ]
    }
   ],
   "source": [
    "import numpy as np\n",
    "\n",
    "from sklearn.model_selection import train_test_split\n",
    "from sklearn.preprocessing import MinMaxScaler, OneHotEncoder\n",
    "from sklearn.metrics import accuracy_score\n",
    "\n",
    "from IPython.core.display import display, HTML # for some notebook formatting.\n",
    "\n",
    "import logging\n",
    "import networkx as nx\n",
    "import matplotlib.pyplot as plt\n",
    "import string\n",
    "\n",
    "\n",
    "from ast import literal_eval\n",
    "\n",
    "from sklearn.model_selection import train_test_split\n",
    "from sklearn.preprocessing import MinMaxScaler, OneHotEncoder\n",
    "from sklearn.metrics import accuracy_score\n",
    "\n",
    "# switch off the chatter\n",
    "logging.basicConfig(level=logging.WARNING)"
   ]
  },
  {
   "cell_type": "code",
   "execution_count": 2,
   "id": "f314d532",
   "metadata": {},
   "outputs": [],
   "source": [
    "import pandas as pd\n",
    "import utility as u\n",
    "import importlib"
   ]
  },
  {
   "cell_type": "code",
   "execution_count": 7,
   "outputs": [],
   "source": [
    "class Task:\n",
    "    def __init__(self, task_id, duration, deadline, profit):\n",
    "        self.task_id = task_id\n",
    "        self.duration = duration\n",
    "        self.deadline = deadline\n",
    "        self.profit = profit"
   ],
   "metadata": {
    "collapsed": false
   }
  },
  {
   "cell_type": "code",
   "execution_count": 8,
   "outputs": [],
   "source": [
    "size = 108\n",
    "importlib.reload(u)\n",
    "tasks = u.generate_random_tasks(size, 5, 80, 25)"
   ],
   "metadata": {
    "collapsed": false
   }
  },
  {
   "cell_type": "code",
   "execution_count": 9,
   "outputs": [],
   "source": [
    "with open(\"108_tasks.txt\", \"a\") as f:\n",
    "    for t in tasks:\n",
    "        print(t.task_id, t.duration, t.deadline, t.profit, file=f)"
   ],
   "metadata": {
    "collapsed": false
   }
  },
  {
   "cell_type": "code",
   "execution_count": 10,
   "id": "c907b845",
   "metadata": {},
   "outputs": [],
   "source": [
    "# # Job Scheduling\n",
    "problem_ffp = mh.JobSchedulingGenerator().generate(seed=0, size=size, tasks=tasks, break_time=1, work_limit=2)\n",
    "#state = problem_ffp.get_state()"
   ]
  },
  {
   "cell_type": "code",
   "execution_count": 11,
   "outputs": [
    {
     "data": {
      "text/plain": "108"
     },
     "execution_count": 11,
     "metadata": {},
     "output_type": "execute_result"
    }
   ],
   "source": [
    "problem_ffp.length"
   ],
   "metadata": {
    "collapsed": false
   }
  },
  {
   "cell_type": "code",
   "execution_count": 12,
   "outputs": [
    {
     "data": {
      "text/plain": "245.0"
     },
     "execution_count": 12,
     "metadata": {},
     "output_type": "execute_result"
    }
   ],
   "source": [
    "problem_ffp.fitness"
   ],
   "metadata": {
    "collapsed": false
   }
  },
  {
   "cell_type": "code",
   "execution_count": 13,
   "id": "34174e8f",
   "metadata": {},
   "outputs": [],
   "source": [
    "# GA runner class\n",
    "# 1. tune population size and mutation rates\n",
    "ga_ffp = mh.GAJSRunner(problem=problem_ffp,\n",
    "              experiment_name='ffp_ga',\n",
    "              output_directory=None, # note: specify an output directory to have results saved to disk\n",
    "              seed=0,\n",
    "              iteration_list=2 ** np.arange(12),\n",
    "              max_attempts=500,\n",
    "              population_sizes=[40, 50, 60],\n",
    "              mutation_rates=[0.07, 0.08]) # Probability of a mutation at each element of the state vector during reproduction, expressed as a value between 0 and 1.\n",
    "\n",
    "# the two data frames will contain the results\n",
    "df_run_stats_ffp, df_run_curves_ffp = ga_ffp.run()"
   ]
  },
  {
   "cell_type": "code",
   "execution_count": 14,
   "id": "3139bc51",
   "metadata": {},
   "outputs": [
    {
     "data": {
      "text/plain": "(12251, 7)"
     },
     "execution_count": 14,
     "metadata": {},
     "output_type": "execute_result"
    }
   ],
   "source": [
    "df_run_curves_ffp.shape"
   ]
  },
  {
   "cell_type": "code",
   "execution_count": 15,
   "id": "78ec6ce8",
   "metadata": {},
   "outputs": [
    {
     "data": {
      "text/plain": "   Iteration      Time  Fitness  FEvals  Population Size  Mutation Rate  \\\n0          0  0.004886    274.0     0.0               40           0.07   \n1          1  0.031352    376.0    80.0               40           0.07   \n2          2  0.060041    381.0   160.0               40           0.07   \n3          3  0.091093    396.0   240.0               40           0.07   \n4          4  0.120461    396.0   319.0               40           0.07   \n\n   max_iters  \n0       2048  \n1       2048  \n2       2048  \n3       2048  \n4       2048  ",
      "text/html": "<div>\n<style scoped>\n    .dataframe tbody tr th:only-of-type {\n        vertical-align: middle;\n    }\n\n    .dataframe tbody tr th {\n        vertical-align: top;\n    }\n\n    .dataframe thead th {\n        text-align: right;\n    }\n</style>\n<table border=\"1\" class=\"dataframe\">\n  <thead>\n    <tr style=\"text-align: right;\">\n      <th></th>\n      <th>Iteration</th>\n      <th>Time</th>\n      <th>Fitness</th>\n      <th>FEvals</th>\n      <th>Population Size</th>\n      <th>Mutation Rate</th>\n      <th>max_iters</th>\n    </tr>\n  </thead>\n  <tbody>\n    <tr>\n      <th>0</th>\n      <td>0</td>\n      <td>0.004886</td>\n      <td>274.0</td>\n      <td>0.0</td>\n      <td>40</td>\n      <td>0.07</td>\n      <td>2048</td>\n    </tr>\n    <tr>\n      <th>1</th>\n      <td>1</td>\n      <td>0.031352</td>\n      <td>376.0</td>\n      <td>80.0</td>\n      <td>40</td>\n      <td>0.07</td>\n      <td>2048</td>\n    </tr>\n    <tr>\n      <th>2</th>\n      <td>2</td>\n      <td>0.060041</td>\n      <td>381.0</td>\n      <td>160.0</td>\n      <td>40</td>\n      <td>0.07</td>\n      <td>2048</td>\n    </tr>\n    <tr>\n      <th>3</th>\n      <td>3</td>\n      <td>0.091093</td>\n      <td>396.0</td>\n      <td>240.0</td>\n      <td>40</td>\n      <td>0.07</td>\n      <td>2048</td>\n    </tr>\n    <tr>\n      <th>4</th>\n      <td>4</td>\n      <td>0.120461</td>\n      <td>396.0</td>\n      <td>319.0</td>\n      <td>40</td>\n      <td>0.07</td>\n      <td>2048</td>\n    </tr>\n  </tbody>\n</table>\n</div>"
     },
     "execution_count": 15,
     "metadata": {},
     "output_type": "execute_result"
    }
   ],
   "source": [
    "df_run_curves_ffp.head()"
   ]
  },
  {
   "cell_type": "code",
   "execution_count": 16,
   "id": "a6cb09ff",
   "metadata": {},
   "outputs": [
    {
     "data": {
      "text/plain": "928.0"
     },
     "execution_count": 16,
     "metadata": {},
     "output_type": "execute_result"
    }
   ],
   "source": [
    "df_run_curves_ffp['Fitness'].max()"
   ]
  },
  {
   "cell_type": "code",
   "execution_count": 17,
   "outputs": [
    {
     "data": {
      "text/plain": "      Iteration       Time  Fitness    FEvals  Population Size  Mutation Rate  \\\n5973       1918  37.294121    928.0  190016.0               50           0.07   \n5974       1919  37.306899    928.0  190115.0               50           0.07   \n5975       1920  37.319297    928.0  190214.0               50           0.07   \n5976       1921  37.330942    928.0  190313.0               50           0.07   \n5977       1922  37.344259    928.0  190412.0               50           0.07   \n...         ...        ...      ...       ...              ...            ...   \n6099       2044   0.487024    928.0  202490.0               50           0.07   \n6100       2045   0.499626    928.0  202589.0               50           0.07   \n6101       2046   0.511881    928.0  202688.0               50           0.07   \n6102       2047   0.523373    928.0  202787.0               50           0.07   \n6103       2048   0.534156    928.0  202886.0               50           0.07   \n\n      max_iters  \n5973       2048  \n5974       2048  \n5975       2048  \n5976       2048  \n5977       2048  \n...         ...  \n6099       2048  \n6100       2048  \n6101       2048  \n6102       2048  \n6103       2048  \n\n[131 rows x 7 columns]",
      "text/html": "<div>\n<style scoped>\n    .dataframe tbody tr th:only-of-type {\n        vertical-align: middle;\n    }\n\n    .dataframe tbody tr th {\n        vertical-align: top;\n    }\n\n    .dataframe thead th {\n        text-align: right;\n    }\n</style>\n<table border=\"1\" class=\"dataframe\">\n  <thead>\n    <tr style=\"text-align: right;\">\n      <th></th>\n      <th>Iteration</th>\n      <th>Time</th>\n      <th>Fitness</th>\n      <th>FEvals</th>\n      <th>Population Size</th>\n      <th>Mutation Rate</th>\n      <th>max_iters</th>\n    </tr>\n  </thead>\n  <tbody>\n    <tr>\n      <th>5973</th>\n      <td>1918</td>\n      <td>37.294121</td>\n      <td>928.0</td>\n      <td>190016.0</td>\n      <td>50</td>\n      <td>0.07</td>\n      <td>2048</td>\n    </tr>\n    <tr>\n      <th>5974</th>\n      <td>1919</td>\n      <td>37.306899</td>\n      <td>928.0</td>\n      <td>190115.0</td>\n      <td>50</td>\n      <td>0.07</td>\n      <td>2048</td>\n    </tr>\n    <tr>\n      <th>5975</th>\n      <td>1920</td>\n      <td>37.319297</td>\n      <td>928.0</td>\n      <td>190214.0</td>\n      <td>50</td>\n      <td>0.07</td>\n      <td>2048</td>\n    </tr>\n    <tr>\n      <th>5976</th>\n      <td>1921</td>\n      <td>37.330942</td>\n      <td>928.0</td>\n      <td>190313.0</td>\n      <td>50</td>\n      <td>0.07</td>\n      <td>2048</td>\n    </tr>\n    <tr>\n      <th>5977</th>\n      <td>1922</td>\n      <td>37.344259</td>\n      <td>928.0</td>\n      <td>190412.0</td>\n      <td>50</td>\n      <td>0.07</td>\n      <td>2048</td>\n    </tr>\n    <tr>\n      <th>...</th>\n      <td>...</td>\n      <td>...</td>\n      <td>...</td>\n      <td>...</td>\n      <td>...</td>\n      <td>...</td>\n      <td>...</td>\n    </tr>\n    <tr>\n      <th>6099</th>\n      <td>2044</td>\n      <td>0.487024</td>\n      <td>928.0</td>\n      <td>202490.0</td>\n      <td>50</td>\n      <td>0.07</td>\n      <td>2048</td>\n    </tr>\n    <tr>\n      <th>6100</th>\n      <td>2045</td>\n      <td>0.499626</td>\n      <td>928.0</td>\n      <td>202589.0</td>\n      <td>50</td>\n      <td>0.07</td>\n      <td>2048</td>\n    </tr>\n    <tr>\n      <th>6101</th>\n      <td>2046</td>\n      <td>0.511881</td>\n      <td>928.0</td>\n      <td>202688.0</td>\n      <td>50</td>\n      <td>0.07</td>\n      <td>2048</td>\n    </tr>\n    <tr>\n      <th>6102</th>\n      <td>2047</td>\n      <td>0.523373</td>\n      <td>928.0</td>\n      <td>202787.0</td>\n      <td>50</td>\n      <td>0.07</td>\n      <td>2048</td>\n    </tr>\n    <tr>\n      <th>6103</th>\n      <td>2048</td>\n      <td>0.534156</td>\n      <td>928.0</td>\n      <td>202886.0</td>\n      <td>50</td>\n      <td>0.07</td>\n      <td>2048</td>\n    </tr>\n  </tbody>\n</table>\n<p>131 rows × 7 columns</p>\n</div>"
     },
     "execution_count": 17,
     "metadata": {},
     "output_type": "execute_result"
    }
   ],
   "source": [
    "df_run_curves_ffp[df_run_curves_ffp.Fitness == df_run_curves_ffp['Fitness'].max()]"
   ],
   "metadata": {
    "collapsed": false
   }
  },
  {
   "cell_type": "code",
   "execution_count": 18,
   "outputs": [],
   "source": [
    "# need to check Time and FEvals"
   ],
   "metadata": {
    "collapsed": false
   }
  },
  {
   "cell_type": "code",
   "execution_count": 19,
   "id": "59c463dd",
   "metadata": {},
   "outputs": [],
   "source": [
    "df_curves_bestfitness_ffp = df_run_curves_ffp[(df_run_curves_ffp['Fitness'] == df_run_curves_ffp['Fitness'].max())]"
   ]
  },
  {
   "cell_type": "code",
   "execution_count": 20,
   "id": "5e04b1a5",
   "metadata": {},
   "outputs": [
    {
     "data": {
      "text/plain": "      Iteration       Time  Fitness    FEvals  Population Size  Mutation Rate  \\\n5973       1918  37.294121    928.0  190016.0               50           0.07   \n5974       1919  37.306899    928.0  190115.0               50           0.07   \n5975       1920  37.319297    928.0  190214.0               50           0.07   \n5976       1921  37.330942    928.0  190313.0               50           0.07   \n5977       1922  37.344259    928.0  190412.0               50           0.07   \n...         ...        ...      ...       ...              ...            ...   \n6099       2044   0.487024    928.0  202490.0               50           0.07   \n6100       2045   0.499626    928.0  202589.0               50           0.07   \n6101       2046   0.511881    928.0  202688.0               50           0.07   \n6102       2047   0.523373    928.0  202787.0               50           0.07   \n6103       2048   0.534156    928.0  202886.0               50           0.07   \n\n      max_iters  \n5973       2048  \n5974       2048  \n5975       2048  \n5976       2048  \n5977       2048  \n...         ...  \n6099       2048  \n6100       2048  \n6101       2048  \n6102       2048  \n6103       2048  \n\n[131 rows x 7 columns]",
      "text/html": "<div>\n<style scoped>\n    .dataframe tbody tr th:only-of-type {\n        vertical-align: middle;\n    }\n\n    .dataframe tbody tr th {\n        vertical-align: top;\n    }\n\n    .dataframe thead th {\n        text-align: right;\n    }\n</style>\n<table border=\"1\" class=\"dataframe\">\n  <thead>\n    <tr style=\"text-align: right;\">\n      <th></th>\n      <th>Iteration</th>\n      <th>Time</th>\n      <th>Fitness</th>\n      <th>FEvals</th>\n      <th>Population Size</th>\n      <th>Mutation Rate</th>\n      <th>max_iters</th>\n    </tr>\n  </thead>\n  <tbody>\n    <tr>\n      <th>5973</th>\n      <td>1918</td>\n      <td>37.294121</td>\n      <td>928.0</td>\n      <td>190016.0</td>\n      <td>50</td>\n      <td>0.07</td>\n      <td>2048</td>\n    </tr>\n    <tr>\n      <th>5974</th>\n      <td>1919</td>\n      <td>37.306899</td>\n      <td>928.0</td>\n      <td>190115.0</td>\n      <td>50</td>\n      <td>0.07</td>\n      <td>2048</td>\n    </tr>\n    <tr>\n      <th>5975</th>\n      <td>1920</td>\n      <td>37.319297</td>\n      <td>928.0</td>\n      <td>190214.0</td>\n      <td>50</td>\n      <td>0.07</td>\n      <td>2048</td>\n    </tr>\n    <tr>\n      <th>5976</th>\n      <td>1921</td>\n      <td>37.330942</td>\n      <td>928.0</td>\n      <td>190313.0</td>\n      <td>50</td>\n      <td>0.07</td>\n      <td>2048</td>\n    </tr>\n    <tr>\n      <th>5977</th>\n      <td>1922</td>\n      <td>37.344259</td>\n      <td>928.0</td>\n      <td>190412.0</td>\n      <td>50</td>\n      <td>0.07</td>\n      <td>2048</td>\n    </tr>\n    <tr>\n      <th>...</th>\n      <td>...</td>\n      <td>...</td>\n      <td>...</td>\n      <td>...</td>\n      <td>...</td>\n      <td>...</td>\n      <td>...</td>\n    </tr>\n    <tr>\n      <th>6099</th>\n      <td>2044</td>\n      <td>0.487024</td>\n      <td>928.0</td>\n      <td>202490.0</td>\n      <td>50</td>\n      <td>0.07</td>\n      <td>2048</td>\n    </tr>\n    <tr>\n      <th>6100</th>\n      <td>2045</td>\n      <td>0.499626</td>\n      <td>928.0</td>\n      <td>202589.0</td>\n      <td>50</td>\n      <td>0.07</td>\n      <td>2048</td>\n    </tr>\n    <tr>\n      <th>6101</th>\n      <td>2046</td>\n      <td>0.511881</td>\n      <td>928.0</td>\n      <td>202688.0</td>\n      <td>50</td>\n      <td>0.07</td>\n      <td>2048</td>\n    </tr>\n    <tr>\n      <th>6102</th>\n      <td>2047</td>\n      <td>0.523373</td>\n      <td>928.0</td>\n      <td>202787.0</td>\n      <td>50</td>\n      <td>0.07</td>\n      <td>2048</td>\n    </tr>\n    <tr>\n      <th>6103</th>\n      <td>2048</td>\n      <td>0.534156</td>\n      <td>928.0</td>\n      <td>202886.0</td>\n      <td>50</td>\n      <td>0.07</td>\n      <td>2048</td>\n    </tr>\n  </tbody>\n</table>\n<p>131 rows × 7 columns</p>\n</div>"
     },
     "execution_count": 20,
     "metadata": {},
     "output_type": "execute_result"
    }
   ],
   "source": [
    "df_curves_bestfitness_ffp"
   ]
  },
  {
   "cell_type": "code",
   "execution_count": 21,
   "outputs": [
    {
     "data": {
      "text/plain": "   Population Size  Mutation Rate    FEvals  Iteration      Time\n0               50           0.07  190016.0     1983.0  0.001638",
      "text/html": "<div>\n<style scoped>\n    .dataframe tbody tr th:only-of-type {\n        vertical-align: middle;\n    }\n\n    .dataframe tbody tr th {\n        vertical-align: top;\n    }\n\n    .dataframe thead th {\n        text-align: right;\n    }\n</style>\n<table border=\"1\" class=\"dataframe\">\n  <thead>\n    <tr style=\"text-align: right;\">\n      <th></th>\n      <th>Population Size</th>\n      <th>Mutation Rate</th>\n      <th>FEvals</th>\n      <th>Iteration</th>\n      <th>Time</th>\n    </tr>\n  </thead>\n  <tbody>\n    <tr>\n      <th>0</th>\n      <td>50</td>\n      <td>0.07</td>\n      <td>190016.0</td>\n      <td>1983.0</td>\n      <td>0.001638</td>\n    </tr>\n  </tbody>\n</table>\n</div>"
     },
     "execution_count": 21,
     "metadata": {},
     "output_type": "execute_result"
    }
   ],
   "source": [
    "df_curves_bestfitness_ffp.groupby(['Population Size', 'Mutation Rate']).agg({'FEvals': 'min', 'Iteration': 'mean', 'Time': 'min'}).reset_index()\n",
    "# Temp = 1 => less Fevals. Pick temp=1"
   ],
   "metadata": {
    "collapsed": false
   }
  },
  {
   "cell_type": "code",
   "execution_count": 22,
   "id": "6e0ad656",
   "metadata": {},
   "outputs": [],
   "source": [
    "# tentatively, pick pop size = 50 and mutation_rate = 0.07, as the only choice"
   ]
  },
  {
   "cell_type": "code",
   "execution_count": 23,
   "id": "62fe58b2",
   "metadata": {},
   "outputs": [
    {
     "data": {
      "text/plain": "   Iteration      Time  Fitness  FEvals  Population Size  Mutation Rate  \\\n0          0  0.004886    274.0     0.0               40           0.07   \n1          1  0.031352    376.0    80.0               40           0.07   \n2          2  0.060041    381.0   160.0               40           0.07   \n3          3  0.091093    396.0   240.0               40           0.07   \n4          4  0.120461    396.0   319.0               40           0.07   \n\n   max_iters  \n0       2048  \n1       2048  \n2       2048  \n3       2048  \n4       2048  ",
      "text/html": "<div>\n<style scoped>\n    .dataframe tbody tr th:only-of-type {\n        vertical-align: middle;\n    }\n\n    .dataframe tbody tr th {\n        vertical-align: top;\n    }\n\n    .dataframe thead th {\n        text-align: right;\n    }\n</style>\n<table border=\"1\" class=\"dataframe\">\n  <thead>\n    <tr style=\"text-align: right;\">\n      <th></th>\n      <th>Iteration</th>\n      <th>Time</th>\n      <th>Fitness</th>\n      <th>FEvals</th>\n      <th>Population Size</th>\n      <th>Mutation Rate</th>\n      <th>max_iters</th>\n    </tr>\n  </thead>\n  <tbody>\n    <tr>\n      <th>0</th>\n      <td>0</td>\n      <td>0.004886</td>\n      <td>274.0</td>\n      <td>0.0</td>\n      <td>40</td>\n      <td>0.07</td>\n      <td>2048</td>\n    </tr>\n    <tr>\n      <th>1</th>\n      <td>1</td>\n      <td>0.031352</td>\n      <td>376.0</td>\n      <td>80.0</td>\n      <td>40</td>\n      <td>0.07</td>\n      <td>2048</td>\n    </tr>\n    <tr>\n      <th>2</th>\n      <td>2</td>\n      <td>0.060041</td>\n      <td>381.0</td>\n      <td>160.0</td>\n      <td>40</td>\n      <td>0.07</td>\n      <td>2048</td>\n    </tr>\n    <tr>\n      <th>3</th>\n      <td>3</td>\n      <td>0.091093</td>\n      <td>396.0</td>\n      <td>240.0</td>\n      <td>40</td>\n      <td>0.07</td>\n      <td>2048</td>\n    </tr>\n    <tr>\n      <th>4</th>\n      <td>4</td>\n      <td>0.120461</td>\n      <td>396.0</td>\n      <td>319.0</td>\n      <td>40</td>\n      <td>0.07</td>\n      <td>2048</td>\n    </tr>\n  </tbody>\n</table>\n</div>"
     },
     "execution_count": 23,
     "metadata": {},
     "output_type": "execute_result"
    }
   ],
   "source": [
    "df_run_curves_ffp.head()"
   ]
  },
  {
   "cell_type": "code",
   "execution_count": 24,
   "id": "4ce94f88",
   "metadata": {},
   "outputs": [],
   "source": [
    "# clean up an existing result table to store the iterative resutls\n",
    "df_iter_curves_ffp = df_run_curves_ffp.drop(df_run_curves_ffp.index, inplace=False)"
   ]
  },
  {
   "cell_type": "code",
   "execution_count": 25,
   "outputs": [],
   "source": [
    "# GA runner\n",
    "# 2. iterate through 10 seeds\n",
    "for s in range(10):\n",
    "    ga_ffp = mh.GAJSRunner(problem=problem_ffp,\n",
    "              experiment_name='ffp_ga_{s}',\n",
    "              output_directory=None, # note: specify an output directory to have results saved to disk\n",
    "              seed=s,\n",
    "              iteration_list=2 ** np.arange(12),\n",
    "              max_attempts=500,\n",
    "              population_sizes=[50], # 20 bits in total\n",
    "              mutation_rates=[0.07])\n",
    "\n",
    "    # the two data frames will contain the results\n",
    "    df_run_stats_ffp_sub, df_run_curves_ffp_sub = ga_ffp.run()\n",
    "    # append to the result df\n",
    "    df_iter_curves_ffp = pd.concat([df_iter_curves_ffp, df_run_curves_ffp_sub])"
   ],
   "metadata": {
    "collapsed": false
   }
  },
  {
   "cell_type": "code",
   "execution_count": 26,
   "outputs": [
    {
     "data": {
      "text/plain": "(19744, 7)"
     },
     "execution_count": 26,
     "metadata": {},
     "output_type": "execute_result"
    }
   ],
   "source": [
    "df_iter_curves_ffp.shape"
   ],
   "metadata": {
    "collapsed": false
   }
  },
  {
   "cell_type": "code",
   "execution_count": 27,
   "outputs": [
    {
     "data": {
      "text/plain": "   Iteration      Time  Fitness  FEvals  Population Size  Mutation Rate  \\\n0          0  0.007237    274.0     0.0               50           0.07   \n1          1  0.053196    400.0   100.0               50           0.07   \n2          2  0.089571    400.0   199.0               50           0.07   \n3          3  0.126470    410.0   299.0               50           0.07   \n4          4  0.153463    417.0   399.0               50           0.07   \n\n   max_iters  \n0       2048  \n1       2048  \n2       2048  \n3       2048  \n4       2048  ",
      "text/html": "<div>\n<style scoped>\n    .dataframe tbody tr th:only-of-type {\n        vertical-align: middle;\n    }\n\n    .dataframe tbody tr th {\n        vertical-align: top;\n    }\n\n    .dataframe thead th {\n        text-align: right;\n    }\n</style>\n<table border=\"1\" class=\"dataframe\">\n  <thead>\n    <tr style=\"text-align: right;\">\n      <th></th>\n      <th>Iteration</th>\n      <th>Time</th>\n      <th>Fitness</th>\n      <th>FEvals</th>\n      <th>Population Size</th>\n      <th>Mutation Rate</th>\n      <th>max_iters</th>\n    </tr>\n  </thead>\n  <tbody>\n    <tr>\n      <th>0</th>\n      <td>0</td>\n      <td>0.007237</td>\n      <td>274.0</td>\n      <td>0.0</td>\n      <td>50</td>\n      <td>0.07</td>\n      <td>2048</td>\n    </tr>\n    <tr>\n      <th>1</th>\n      <td>1</td>\n      <td>0.053196</td>\n      <td>400.0</td>\n      <td>100.0</td>\n      <td>50</td>\n      <td>0.07</td>\n      <td>2048</td>\n    </tr>\n    <tr>\n      <th>2</th>\n      <td>2</td>\n      <td>0.089571</td>\n      <td>400.0</td>\n      <td>199.0</td>\n      <td>50</td>\n      <td>0.07</td>\n      <td>2048</td>\n    </tr>\n    <tr>\n      <th>3</th>\n      <td>3</td>\n      <td>0.126470</td>\n      <td>410.0</td>\n      <td>299.0</td>\n      <td>50</td>\n      <td>0.07</td>\n      <td>2048</td>\n    </tr>\n    <tr>\n      <th>4</th>\n      <td>4</td>\n      <td>0.153463</td>\n      <td>417.0</td>\n      <td>399.0</td>\n      <td>50</td>\n      <td>0.07</td>\n      <td>2048</td>\n    </tr>\n  </tbody>\n</table>\n</div>"
     },
     "execution_count": 27,
     "metadata": {},
     "output_type": "execute_result"
    }
   ],
   "source": [
    "df_iter_curves_ffp.head()"
   ],
   "metadata": {
    "collapsed": false
   }
  },
  {
   "cell_type": "code",
   "execution_count": 28,
   "outputs": [
    {
     "data": {
      "text/plain": "928.0"
     },
     "execution_count": 28,
     "metadata": {},
     "output_type": "execute_result"
    }
   ],
   "source": [
    "df_iter_curves_ffp.Fitness.max()"
   ],
   "metadata": {
    "collapsed": false
   }
  },
  {
   "cell_type": "code",
   "execution_count": 3,
   "outputs": [],
   "source": [
    "#df_iter_curves_ffp.to_csv('gab_mutate_tuned_C1_js_108.csv')\n",
    "import pandas as pd\n",
    "df_iter_curves_ffp = pd.read_csv('../../csv-files/gab_mutate_tuned_C1_js_108.csv')"
   ],
   "metadata": {
    "collapsed": false
   }
  },
  {
   "cell_type": "code",
   "execution_count": 30,
   "outputs": [
    {
     "data": {
      "text/plain": "2048"
     },
     "execution_count": 30,
     "metadata": {},
     "output_type": "execute_result"
    }
   ],
   "source": [
    "df_iter_curves_ffp.Iteration.max()"
   ],
   "metadata": {
    "collapsed": false
   }
  },
  {
   "cell_type": "code",
   "execution_count": 4,
   "outputs": [],
   "source": [
    "df_fitness_iter_ffp = df_iter_curves_ffp.groupby('Iteration')\\\n",
    "                                .agg(avg_fitness=('Fitness', 'mean'), var_fitness = ('Fitness', 'var'))\\\n",
    "                                .reset_index()"
   ],
   "metadata": {
    "collapsed": false
   }
  },
  {
   "cell_type": "code",
   "execution_count": 32,
   "outputs": [
    {
     "data": {
      "text/plain": "(2049, 3)"
     },
     "execution_count": 32,
     "metadata": {},
     "output_type": "execute_result"
    }
   ],
   "source": [
    "df_fitness_iter_ffp.shape"
   ],
   "metadata": {
    "collapsed": false
   }
  },
  {
   "cell_type": "code",
   "execution_count": 33,
   "outputs": [
    {
     "data": {
      "text/plain": "   Iteration  avg_fitness  var_fitness\n0          0        316.3  1212.011111\n1          1        389.5   116.055556\n2          2        395.8   231.066667\n3          3        401.2   321.288889\n4          4        407.5   301.833333",
      "text/html": "<div>\n<style scoped>\n    .dataframe tbody tr th:only-of-type {\n        vertical-align: middle;\n    }\n\n    .dataframe tbody tr th {\n        vertical-align: top;\n    }\n\n    .dataframe thead th {\n        text-align: right;\n    }\n</style>\n<table border=\"1\" class=\"dataframe\">\n  <thead>\n    <tr style=\"text-align: right;\">\n      <th></th>\n      <th>Iteration</th>\n      <th>avg_fitness</th>\n      <th>var_fitness</th>\n    </tr>\n  </thead>\n  <tbody>\n    <tr>\n      <th>0</th>\n      <td>0</td>\n      <td>316.3</td>\n      <td>1212.011111</td>\n    </tr>\n    <tr>\n      <th>1</th>\n      <td>1</td>\n      <td>389.5</td>\n      <td>116.055556</td>\n    </tr>\n    <tr>\n      <th>2</th>\n      <td>2</td>\n      <td>395.8</td>\n      <td>231.066667</td>\n    </tr>\n    <tr>\n      <th>3</th>\n      <td>3</td>\n      <td>401.2</td>\n      <td>321.288889</td>\n    </tr>\n    <tr>\n      <th>4</th>\n      <td>4</td>\n      <td>407.5</td>\n      <td>301.833333</td>\n    </tr>\n  </tbody>\n</table>\n</div>"
     },
     "execution_count": 33,
     "metadata": {},
     "output_type": "execute_result"
    }
   ],
   "source": [
    "df_fitness_iter_ffp.head()"
   ],
   "metadata": {
    "collapsed": false
   }
  },
  {
   "cell_type": "code",
   "execution_count": 34,
   "outputs": [
    {
     "data": {
      "text/plain": "1918    1918\n1919    1919\n1920    1920\n1921    1921\n1922    1922\n        ... \n2044    2044\n2045    2045\n2046    2046\n2047    2047\n2048    2048\nName: Iteration, Length: 131, dtype: int64"
     },
     "execution_count": 34,
     "metadata": {},
     "output_type": "execute_result"
    }
   ],
   "source": [
    "# convergence point\n",
    "df_iter_curves_ffp[df_iter_curves_ffp.Fitness == df_iter_curves_ffp.Fitness.max()].Iteration"
   ],
   "metadata": {
    "collapsed": false
   }
  },
  {
   "cell_type": "code",
   "execution_count": 35,
   "outputs": [
    {
     "data": {
      "text/plain": "nan"
     },
     "execution_count": 35,
     "metadata": {},
     "output_type": "execute_result"
    }
   ],
   "source": [
    "# converge point-never converged\n",
    "df_fitness_iter_ffp[df_fitness_iter_ffp.avg_fitness >= df_iter_curves_ffp.Fitness.max()].Iteration.min()"
   ],
   "metadata": {
    "collapsed": false
   }
  },
  {
   "cell_type": "code",
   "execution_count": 5,
   "outputs": [],
   "source": [
    "df_fitness_iter_ffp['stddev_fitness'] = df_fitness_iter_ffp['var_fitness'].apply(np.sqrt)"
   ],
   "metadata": {
    "collapsed": false
   }
  },
  {
   "cell_type": "code",
   "execution_count": 37,
   "outputs": [
    {
     "data": {
      "text/plain": "   Iteration  avg_fitness  var_fitness  stddev_fitness\n0          0        316.3  1212.011111       34.813950\n1          1        389.5   116.055556       10.772908\n2          2        395.8   231.066667       15.200877\n3          3        401.2   321.288889       17.924533\n4          4        407.5   301.833333       17.373351",
      "text/html": "<div>\n<style scoped>\n    .dataframe tbody tr th:only-of-type {\n        vertical-align: middle;\n    }\n\n    .dataframe tbody tr th {\n        vertical-align: top;\n    }\n\n    .dataframe thead th {\n        text-align: right;\n    }\n</style>\n<table border=\"1\" class=\"dataframe\">\n  <thead>\n    <tr style=\"text-align: right;\">\n      <th></th>\n      <th>Iteration</th>\n      <th>avg_fitness</th>\n      <th>var_fitness</th>\n      <th>stddev_fitness</th>\n    </tr>\n  </thead>\n  <tbody>\n    <tr>\n      <th>0</th>\n      <td>0</td>\n      <td>316.3</td>\n      <td>1212.011111</td>\n      <td>34.813950</td>\n    </tr>\n    <tr>\n      <th>1</th>\n      <td>1</td>\n      <td>389.5</td>\n      <td>116.055556</td>\n      <td>10.772908</td>\n    </tr>\n    <tr>\n      <th>2</th>\n      <td>2</td>\n      <td>395.8</td>\n      <td>231.066667</td>\n      <td>15.200877</td>\n    </tr>\n    <tr>\n      <th>3</th>\n      <td>3</td>\n      <td>401.2</td>\n      <td>321.288889</td>\n      <td>17.924533</td>\n    </tr>\n    <tr>\n      <th>4</th>\n      <td>4</td>\n      <td>407.5</td>\n      <td>301.833333</td>\n      <td>17.373351</td>\n    </tr>\n  </tbody>\n</table>\n</div>"
     },
     "execution_count": 37,
     "metadata": {},
     "output_type": "execute_result"
    }
   ],
   "source": [
    "df_fitness_iter_ffp.head()"
   ],
   "metadata": {
    "collapsed": false
   }
  },
  {
   "cell_type": "code",
   "execution_count": 38,
   "outputs": [
    {
     "data": {
      "text/plain": "Text(0, 0.5, 'Fitness')"
     },
     "execution_count": 38,
     "metadata": {},
     "output_type": "execute_result"
    },
    {
     "data": {
      "text/plain": "<Figure size 640x480 with 1 Axes>",
      "image/png": "[encoded data removed]"
     },
     "metadata": {},
     "output_type": "display_data"
    }
   ],
   "source": [
    "plt.plot(df_fitness_iter_ffp.Iteration, df_fitness_iter_ffp.avg_fitness, 'k', color='#3F7F4C')\n",
    "plt.fill_between(df_fitness_iter_ffp.Iteration, df_fitness_iter_ffp.avg_fitness - df_fitness_iter_ffp.stddev_fitness\\\n",
    "                 , df_fitness_iter_ffp.avg_fitness + df_fitness_iter_ffp.stddev_fitness\\\n",
    "                 , alpha=0.5, edgecolor='#3F7F4C', facecolor='#7EFF99')\n",
    "plt.title(f'Fitness by Iterations with Problem Size {size} - GAB on Job Scheduling')\n",
    "plt.xlabel('Iterations')\n",
    "plt.ylabel('Fitness')"
   ],
   "metadata": {
    "collapsed": false
   }
  },
  {
   "cell_type": "code",
   "execution_count": 6,
   "outputs": [
    {
     "name": "stdout",
     "output_type": "stream",
     "text": [
      "147\n"
     ]
    }
   ],
   "source": [
    "# elbow analysis\n",
    "from kneed import DataGenerator, KneeLocator\n",
    "kneedle = KneeLocator(df_fitness_iter_ffp.Iteration, df_fitness_iter_ffp.avg_fitness, S=1.0, curve=\"concave\", direction=\"increasing\")\n",
    "\n",
    "print(kneedle.knee)"
   ],
   "metadata": {
    "collapsed": false
   }
  },
  {
   "cell_type": "code",
   "execution_count": 7,
   "outputs": [
    {
     "data": {
      "text/plain": "     Iteration  avg_fitness  var_fitness  stddev_fitness\n147        147        744.0  2538.444444       50.382978",
      "text/html": "<div>\n<style scoped>\n    .dataframe tbody tr th:only-of-type {\n        vertical-align: middle;\n    }\n\n    .dataframe tbody tr th {\n        vertical-align: top;\n    }\n\n    .dataframe thead th {\n        text-align: right;\n    }\n</style>\n<table border=\"1\" class=\"dataframe\">\n  <thead>\n    <tr style=\"text-align: right;\">\n      <th></th>\n      <th>Iteration</th>\n      <th>avg_fitness</th>\n      <th>var_fitness</th>\n      <th>stddev_fitness</th>\n    </tr>\n  </thead>\n  <tbody>\n    <tr>\n      <th>147</th>\n      <td>147</td>\n      <td>744.0</td>\n      <td>2538.444444</td>\n      <td>50.382978</td>\n    </tr>\n  </tbody>\n</table>\n</div>"
     },
     "execution_count": 7,
     "metadata": {},
     "output_type": "execute_result"
    }
   ],
   "source": [
    "df_fitness_iter_ffp[df_fitness_iter_ffp['Iteration'] == kneedle.knee]"
   ],
   "metadata": {
    "collapsed": false
   }
  },
  {
   "cell_type": "code",
   "execution_count": 39,
   "outputs": [
    {
     "data": {
      "text/plain": "912.0"
     },
     "execution_count": 39,
     "metadata": {},
     "output_type": "execute_result"
    }
   ],
   "source": [
    "df_fitness_iter_ffp.avg_fitness.max()"
   ],
   "metadata": {
    "collapsed": false
   }
  },
  {
   "cell_type": "code",
   "execution_count": 40,
   "outputs": [
    {
     "data": {
      "text/plain": "61.675134553742325"
     },
     "execution_count": 40,
     "metadata": {},
     "output_type": "execute_result"
    }
   ],
   "source": [
    "df_fitness_iter_ffp[df_fitness_iter_ffp['Iteration']>0].stddev_fitness.max()"
   ],
   "metadata": {
    "collapsed": false
   }
  },
  {
   "cell_type": "code",
   "execution_count": 41,
   "outputs": [
    {
     "data": {
      "text/plain": "(355    355\n 356    356\n Name: Iteration, dtype: int64,)"
     },
     "execution_count": 41,
     "metadata": {},
     "output_type": "execute_result"
    }
   ],
   "source": [
    "df_fitness_iter_ffp[df_fitness_iter_ffp.stddev_fitness == df_fitness_iter_ffp.stddev_fitness.max()].Iteration,"
   ],
   "metadata": {
    "collapsed": false
   }
  },
  {
   "cell_type": "code",
   "execution_count": 42,
   "outputs": [],
   "source": [
    "# Fevals - iteration"
   ],
   "metadata": {
    "collapsed": false
   }
  },
  {
   "cell_type": "code",
   "execution_count": 2,
   "outputs": [],
   "source": [
    "df_FEvals_iter_ffp = df_iter_curves_ffp.groupby('Iteration')\\\n",
    "                                .agg(avg_FEvals=('FEvals', 'mean'), var_FEvals = ('FEvals', 'var'))\\\n",
    "                                .reset_index()"
   ],
   "metadata": {
    "collapsed": false
   }
  },
  {
   "cell_type": "code",
   "execution_count": 3,
   "outputs": [
    {
     "data": {
      "text/plain": "202859.66666666666"
     },
     "execution_count": 3,
     "metadata": {},
     "output_type": "execute_result"
    }
   ],
   "source": [
    "df_FEvals_iter_ffp.avg_FEvals.max()"
   ],
   "metadata": {
    "collapsed": false
   }
  },
  {
   "cell_type": "code",
   "execution_count": 44,
   "outputs": [
    {
     "data": {
      "text/plain": "(2049, 3)"
     },
     "execution_count": 44,
     "metadata": {},
     "output_type": "execute_result"
    }
   ],
   "source": [
    "df_FEvals_iter_ffp.shape"
   ],
   "metadata": {
    "collapsed": false
   }
  },
  {
   "cell_type": "code",
   "execution_count": 45,
   "outputs": [
    {
     "data": {
      "text/plain": "   Iteration  avg_FEvals  var_FEvals\n0          0         0.0    0.000000\n1          1        99.9    0.100000\n2          2       199.2    0.400000\n3          3       298.6    0.711111\n4          4       398.3    0.455556",
      "text/html": "<div>\n<style scoped>\n    .dataframe tbody tr th:only-of-type {\n        vertical-align: middle;\n    }\n\n    .dataframe tbody tr th {\n        vertical-align: top;\n    }\n\n    .dataframe thead th {\n        text-align: right;\n    }\n</style>\n<table border=\"1\" class=\"dataframe\">\n  <thead>\n    <tr style=\"text-align: right;\">\n      <th></th>\n      <th>Iteration</th>\n      <th>avg_FEvals</th>\n      <th>var_FEvals</th>\n    </tr>\n  </thead>\n  <tbody>\n    <tr>\n      <th>0</th>\n      <td>0</td>\n      <td>0.0</td>\n      <td>0.000000</td>\n    </tr>\n    <tr>\n      <th>1</th>\n      <td>1</td>\n      <td>99.9</td>\n      <td>0.100000</td>\n    </tr>\n    <tr>\n      <th>2</th>\n      <td>2</td>\n      <td>199.2</td>\n      <td>0.400000</td>\n    </tr>\n    <tr>\n      <th>3</th>\n      <td>3</td>\n      <td>298.6</td>\n      <td>0.711111</td>\n    </tr>\n    <tr>\n      <th>4</th>\n      <td>4</td>\n      <td>398.3</td>\n      <td>0.455556</td>\n    </tr>\n  </tbody>\n</table>\n</div>"
     },
     "execution_count": 45,
     "metadata": {},
     "output_type": "execute_result"
    }
   ],
   "source": [
    "df_FEvals_iter_ffp.head()"
   ],
   "metadata": {
    "collapsed": false
   }
  },
  {
   "cell_type": "code",
   "execution_count": 46,
   "outputs": [],
   "source": [
    "df_FEvals_iter_ffp['stddev_FEvals'] = df_FEvals_iter_ffp['var_FEvals'].apply(np.sqrt)"
   ],
   "metadata": {
    "collapsed": false
   }
  },
  {
   "cell_type": "code",
   "execution_count": 47,
   "outputs": [
    {
     "data": {
      "text/plain": "(0.0, 16.2808681177254)"
     },
     "execution_count": 47,
     "metadata": {},
     "output_type": "execute_result"
    }
   ],
   "source": [
    "df_FEvals_iter_ffp['stddev_FEvals'].min(), df_FEvals_iter_ffp['stddev_FEvals'].max()"
   ],
   "metadata": {
    "collapsed": false
   }
  },
  {
   "cell_type": "code",
   "execution_count": 48,
   "outputs": [
    {
     "data": {
      "text/plain": "   Iteration  avg_FEvals  var_FEvals  stddev_FEvals\n0          0         0.0    0.000000       0.000000\n1          1        99.9    0.100000       0.316228\n2          2       199.2    0.400000       0.632456\n3          3       298.6    0.711111       0.843274\n4          4       398.3    0.455556       0.674949",
      "text/html": "<div>\n<style scoped>\n    .dataframe tbody tr th:only-of-type {\n        vertical-align: middle;\n    }\n\n    .dataframe tbody tr th {\n        vertical-align: top;\n    }\n\n    .dataframe thead th {\n        text-align: right;\n    }\n</style>\n<table border=\"1\" class=\"dataframe\">\n  <thead>\n    <tr style=\"text-align: right;\">\n      <th></th>\n      <th>Iteration</th>\n      <th>avg_FEvals</th>\n      <th>var_FEvals</th>\n      <th>stddev_FEvals</th>\n    </tr>\n  </thead>\n  <tbody>\n    <tr>\n      <th>0</th>\n      <td>0</td>\n      <td>0.0</td>\n      <td>0.000000</td>\n      <td>0.000000</td>\n    </tr>\n    <tr>\n      <th>1</th>\n      <td>1</td>\n      <td>99.9</td>\n      <td>0.100000</td>\n      <td>0.316228</td>\n    </tr>\n    <tr>\n      <th>2</th>\n      <td>2</td>\n      <td>199.2</td>\n      <td>0.400000</td>\n      <td>0.632456</td>\n    </tr>\n    <tr>\n      <th>3</th>\n      <td>3</td>\n      <td>298.6</td>\n      <td>0.711111</td>\n      <td>0.843274</td>\n    </tr>\n    <tr>\n      <th>4</th>\n      <td>4</td>\n      <td>398.3</td>\n      <td>0.455556</td>\n      <td>0.674949</td>\n    </tr>\n  </tbody>\n</table>\n</div>"
     },
     "execution_count": 48,
     "metadata": {},
     "output_type": "execute_result"
    }
   ],
   "source": [
    "df_FEvals_iter_ffp.head()"
   ],
   "metadata": {
    "collapsed": false
   }
  },
  {
   "cell_type": "code",
   "execution_count": 49,
   "outputs": [
    {
     "data": {
      "text/plain": "Text(0, 0.5, 'FEvals')"
     },
     "execution_count": 49,
     "metadata": {},
     "output_type": "execute_result"
    },
    {
     "data": {
      "text/plain": "<Figure size 640x480 with 1 Axes>",
      "image/png": "[encoded data removed]"
     },
     "metadata": {},
     "output_type": "display_data"
    }
   ],
   "source": [
    "plt.plot(df_FEvals_iter_ffp.Iteration, df_FEvals_iter_ffp.avg_FEvals, 'k', color='#3F7F4C')\n",
    "plt.fill_between(df_FEvals_iter_ffp.Iteration, df_FEvals_iter_ffp.avg_FEvals - df_FEvals_iter_ffp.stddev_FEvals\\\n",
    "                 , df_FEvals_iter_ffp.avg_FEvals + df_FEvals_iter_ffp.stddev_FEvals\\\n",
    "                 , alpha=0.5, edgecolor='#3F7F4C', facecolor='#7EFF99')\n",
    "plt.title('FEvals by Iterations - Genetic Algorithm')\n",
    "plt.xlabel('Iterations')\n",
    "plt.ylabel('FEvals')"
   ],
   "metadata": {
    "collapsed": false
   }
  },
  {
   "cell_type": "code",
   "execution_count": 50,
   "outputs": [],
   "source": [
    "# fitness - wall clock time"
   ],
   "metadata": {
    "collapsed": false
   }
  },
  {
   "cell_type": "code",
   "execution_count": 51,
   "outputs": [],
   "source": [
    "df_time_iter_ffp = df_iter_curves_ffp.groupby('Iteration')\\\n",
    "                                .agg(avg_time=('Time', 'mean'), var_time = ('Time', 'var'))\\\n",
    "                                .reset_index()"
   ],
   "metadata": {
    "collapsed": false
   }
  },
  {
   "cell_type": "code",
   "execution_count": 52,
   "outputs": [
    {
     "data": {
      "text/plain": "(2049, 3)"
     },
     "execution_count": 52,
     "metadata": {},
     "output_type": "execute_result"
    }
   ],
   "source": [
    "df_time_iter_ffp.shape"
   ],
   "metadata": {
    "collapsed": false
   }
  },
  {
   "cell_type": "code",
   "execution_count": 53,
   "outputs": [
    {
     "data": {
      "text/plain": "   Iteration  avg_time  var_time\n0          0  0.003171  0.000002\n1          1  0.027520  0.000101\n2          2  0.052468  0.000252\n3          3  0.078548  0.000461\n4          4  0.099049  0.000605",
      "text/html": "<div>\n<style scoped>\n    .dataframe tbody tr th:only-of-type {\n        vertical-align: middle;\n    }\n\n    .dataframe tbody tr th {\n        vertical-align: top;\n    }\n\n    .dataframe thead th {\n        text-align: right;\n    }\n</style>\n<table border=\"1\" class=\"dataframe\">\n  <thead>\n    <tr style=\"text-align: right;\">\n      <th></th>\n      <th>Iteration</th>\n      <th>avg_time</th>\n      <th>var_time</th>\n    </tr>\n  </thead>\n  <tbody>\n    <tr>\n      <th>0</th>\n      <td>0</td>\n      <td>0.003171</td>\n      <td>0.000002</td>\n    </tr>\n    <tr>\n      <th>1</th>\n      <td>1</td>\n      <td>0.027520</td>\n      <td>0.000101</td>\n    </tr>\n    <tr>\n      <th>2</th>\n      <td>2</td>\n      <td>0.052468</td>\n      <td>0.000252</td>\n    </tr>\n    <tr>\n      <th>3</th>\n      <td>3</td>\n      <td>0.078548</td>\n      <td>0.000461</td>\n    </tr>\n    <tr>\n      <th>4</th>\n      <td>4</td>\n      <td>0.099049</td>\n      <td>0.000605</td>\n    </tr>\n  </tbody>\n</table>\n</div>"
     },
     "execution_count": 53,
     "metadata": {},
     "output_type": "execute_result"
    }
   ],
   "source": [
    "df_time_iter_ffp.head()"
   ],
   "metadata": {
    "collapsed": false
   }
  },
  {
   "cell_type": "code",
   "execution_count": 54,
   "outputs": [],
   "source": [
    "df_time_iter_ffp['stddev_time'] = df_time_iter_ffp['var_time'].apply(np.sqrt)"
   ],
   "metadata": {
    "collapsed": false
   }
  },
  {
   "cell_type": "code",
   "execution_count": 55,
   "outputs": [
    {
     "data": {
      "text/plain": "   Iteration  avg_time  var_time  stddev_time\n0          0  0.003171  0.000002     0.001513\n1          1  0.027520  0.000101     0.010063\n2          2  0.052468  0.000252     0.015869\n3          3  0.078548  0.000461     0.021463\n4          4  0.099049  0.000605     0.024599",
      "text/html": "<div>\n<style scoped>\n    .dataframe tbody tr th:only-of-type {\n        vertical-align: middle;\n    }\n\n    .dataframe tbody tr th {\n        vertical-align: top;\n    }\n\n    .dataframe thead th {\n        text-align: right;\n    }\n</style>\n<table border=\"1\" class=\"dataframe\">\n  <thead>\n    <tr style=\"text-align: right;\">\n      <th></th>\n      <th>Iteration</th>\n      <th>avg_time</th>\n      <th>var_time</th>\n      <th>stddev_time</th>\n    </tr>\n  </thead>\n  <tbody>\n    <tr>\n      <th>0</th>\n      <td>0</td>\n      <td>0.003171</td>\n      <td>0.000002</td>\n      <td>0.001513</td>\n    </tr>\n    <tr>\n      <th>1</th>\n      <td>1</td>\n      <td>0.027520</td>\n      <td>0.000101</td>\n      <td>0.010063</td>\n    </tr>\n    <tr>\n      <th>2</th>\n      <td>2</td>\n      <td>0.052468</td>\n      <td>0.000252</td>\n      <td>0.015869</td>\n    </tr>\n    <tr>\n      <th>3</th>\n      <td>3</td>\n      <td>0.078548</td>\n      <td>0.000461</td>\n      <td>0.021463</td>\n    </tr>\n    <tr>\n      <th>4</th>\n      <td>4</td>\n      <td>0.099049</td>\n      <td>0.000605</td>\n      <td>0.024599</td>\n    </tr>\n  </tbody>\n</table>\n</div>"
     },
     "execution_count": 55,
     "metadata": {},
     "output_type": "execute_result"
    }
   ],
   "source": [
    "df_time_iter_ffp.head()"
   ],
   "metadata": {
    "collapsed": false
   }
  },
  {
   "cell_type": "code",
   "execution_count": 56,
   "outputs": [
    {
     "data": {
      "text/plain": "Text(0, 0.5, 'Time')"
     },
     "execution_count": 56,
     "metadata": {},
     "output_type": "execute_result"
    },
    {
     "data": {
      "text/plain": "<Figure size 640x480 with 1 Axes>",
      "image/png": "[encoded data removed]"
     },
     "metadata": {},
     "output_type": "display_data"
    }
   ],
   "source": [
    "plt.plot(df_time_iter_ffp.Iteration, df_time_iter_ffp.avg_time, 'k', color='#3F7F4C')\n",
    "plt.fill_between(df_time_iter_ffp.Iteration, df_time_iter_ffp.avg_time - df_time_iter_ffp.stddev_time\\\n",
    "                 , df_time_iter_ffp.avg_time + df_time_iter_ffp.stddev_time\\\n",
    "                 , alpha=0.5, edgecolor='#3F7F4C', facecolor='#7EFF99')\n",
    "plt.title('Wall Clock Time by Iterations - Genetic Algorithm')\n",
    "plt.xlabel('Iterations')\n",
    "plt.ylabel('Time')"
   ],
   "metadata": {
    "collapsed": false
   }
  },
  {
   "cell_type": "code",
   "execution_count": 57,
   "outputs": [
    {
     "data": {
      "text/plain": "8.458005045373621"
     },
     "execution_count": 57,
     "metadata": {},
     "output_type": "execute_result"
    }
   ],
   "source": [
    "df_time_iter_ffp.stddev_time.max()"
   ],
   "metadata": {
    "collapsed": false
   }
  },
  {
   "cell_type": "code",
   "execution_count": 58,
   "outputs": [
    {
     "data": {
      "text/plain": "2048    2048\nName: Iteration, dtype: int64"
     },
     "execution_count": 58,
     "metadata": {},
     "output_type": "execute_result"
    }
   ],
   "source": [
    "df_time_iter_ffp[df_time_iter_ffp.stddev_time == df_time_iter_ffp.stddev_time.max()].Iteration"
   ],
   "metadata": {
    "collapsed": false
   }
  },
  {
   "cell_type": "code",
   "execution_count": 59,
   "outputs": [
    {
     "data": {
      "text/plain": "48.99749870234518"
     },
     "execution_count": 59,
     "metadata": {},
     "output_type": "execute_result"
    }
   ],
   "source": [
    "df_time_iter_ffp.avg_time.max()"
   ],
   "metadata": {
    "collapsed": false
   }
  },
  {
   "cell_type": "code",
   "execution_count": 59,
   "outputs": [],
   "source": [],
   "metadata": {
    "collapsed": false
   }
  }
 ],
 "metadata": {
  "kernelspec": {
   "display_name": "Python 3 (ipykernel)",
   "language": "python",
   "name": "python3"
  },
  "language_info": {
   "codemirror_mode": {
    "name": "ipython",
    "version": 3
   },
   "file_extension": ".py",
   "mimetype": "text/x-python",
   "name": "python",
   "nbconvert_exporter": "python",
   "pygments_lexer": "ipython3",
   "version": "3.11.4"
  }
 },
 "nbformat": 4,
 "nbformat_minor": 5
}
