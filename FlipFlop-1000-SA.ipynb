{
 "cells": [
  {
   "cell_type": "code",
   "execution_count": 19,
   "id": "ea6f643d",
   "metadata": {},
   "outputs": [],
   "source": [
    "#pip install git+https://github.com/hiive/mlrose.git#egg=mlrose-hiive"
   ]
  },
  {
   "cell_type": "code",
   "execution_count": 20,
   "id": "44c9f00d",
   "metadata": {},
   "outputs": [],
   "source": [
    "#pip install git+https://github.com/knakamura13/mlrose-ky/#egg=mlrose-ky"
   ]
  },
  {
   "cell_type": "code",
   "execution_count": 21,
   "id": "44c41f2b",
   "metadata": {},
   "outputs": [],
   "source": [
    "import mlrose_hiive as mh"
   ]
  },
  {
   "cell_type": "code",
   "execution_count": 22,
   "id": "cb9e02c3",
   "metadata": {},
   "outputs": [],
   "source": [
    "import numpy as np\n",
    "\n",
    "from sklearn.model_selection import train_test_split\n",
    "from sklearn.preprocessing import MinMaxScaler, OneHotEncoder\n",
    "from sklearn.metrics import accuracy_score\n",
    "\n",
    "from IPython.core.display import display, HTML # for some notebook formatting.\n",
    "\n",
    "import logging\n",
    "import networkx as nx\n",
    "import matplotlib.pyplot as plt\n",
    "import string\n",
    "\n",
    "\n",
    "from ast import literal_eval\n",
    "\n",
    "from sklearn.model_selection import train_test_split\n",
    "from sklearn.preprocessing import MinMaxScaler, OneHotEncoder\n",
    "from sklearn.metrics import accuracy_score\n",
    "\n",
    "# switch off the chatter\n",
    "logging.basicConfig(level=logging.WARNING)"
   ]
  },
  {
   "cell_type": "code",
   "execution_count": 23,
   "id": "0ff2e27c",
   "metadata": {},
   "outputs": [],
   "source": [
    "import pandas as pd"
   ]
  },
  {
   "cell_type": "code",
   "execution_count": 24,
   "id": "c907b845",
   "metadata": {},
   "outputs": [],
   "source": [
    "# define a flip flop problem\n",
    "problem_ffp_1000 = mh.FlipFlopGenerator.generate(seed=0, size = 1000)"
   ]
  },
  {
   "cell_type": "code",
   "execution_count": 25,
   "id": "62ec61cd",
   "metadata": {},
   "outputs": [],
   "source": [
    "# SA runner class\n",
    "# 1. tune tempeature list\n",
    "sa_ffp = mh.SARunner(problem=problem_ffp_1000,\n",
    "              experiment_name='ffp_sa',\n",
    "              output_directory=None, # note: specify an output directory to have results saved to disk\n",
    "              seed=0,\n",
    "              iteration_list=2 ** np.arange(12),\n",
    "              max_attempts=500,\n",
    "              temperature_list=[1, 2, 5, 10, 20, 50],\n",
    "              decay_list=[mh.ExpDecay])\n",
    "\n",
    "# the two data frames will contain the results\n",
    "df_run_stats_ffp, df_run_curves_ffp = sa_ffp.run()"
   ]
  },
  {
   "cell_type": "code",
   "execution_count": 26,
   "id": "ce902c7d",
   "metadata": {},
   "outputs": [
    {
     "data": {
      "text/plain": "(12294, 6)"
     },
     "execution_count": 26,
     "metadata": {},
     "output_type": "execute_result"
    }
   ],
   "source": [
    "df_run_curves_ffp.shape"
   ]
  },
  {
   "cell_type": "code",
   "execution_count": 27,
   "id": "c3923a48",
   "metadata": {},
   "outputs": [
    {
     "data": {
      "text/plain": "   Iteration      Time  Fitness  FEvals Temperature  max_iters\n0          0  0.002371    516.0     0.0           1       2048\n1          1  0.009747    516.0     2.0           1       2048\n2          2  0.017588    516.0     4.0           1       2048\n3          3  0.024838    516.0     6.0           1       2048\n4          4  0.027209    516.0     8.0           1       2048",
      "text/html": "<div>\n<style scoped>\n    .dataframe tbody tr th:only-of-type {\n        vertical-align: middle;\n    }\n\n    .dataframe tbody tr th {\n        vertical-align: top;\n    }\n\n    .dataframe thead th {\n        text-align: right;\n    }\n</style>\n<table border=\"1\" class=\"dataframe\">\n  <thead>\n    <tr style=\"text-align: right;\">\n      <th></th>\n      <th>Iteration</th>\n      <th>Time</th>\n      <th>Fitness</th>\n      <th>FEvals</th>\n      <th>Temperature</th>\n      <th>max_iters</th>\n    </tr>\n  </thead>\n  <tbody>\n    <tr>\n      <th>0</th>\n      <td>0</td>\n      <td>0.002371</td>\n      <td>516.0</td>\n      <td>0.0</td>\n      <td>1</td>\n      <td>2048</td>\n    </tr>\n    <tr>\n      <th>1</th>\n      <td>1</td>\n      <td>0.009747</td>\n      <td>516.0</td>\n      <td>2.0</td>\n      <td>1</td>\n      <td>2048</td>\n    </tr>\n    <tr>\n      <th>2</th>\n      <td>2</td>\n      <td>0.017588</td>\n      <td>516.0</td>\n      <td>4.0</td>\n      <td>1</td>\n      <td>2048</td>\n    </tr>\n    <tr>\n      <th>3</th>\n      <td>3</td>\n      <td>0.024838</td>\n      <td>516.0</td>\n      <td>6.0</td>\n      <td>1</td>\n      <td>2048</td>\n    </tr>\n    <tr>\n      <th>4</th>\n      <td>4</td>\n      <td>0.027209</td>\n      <td>516.0</td>\n      <td>8.0</td>\n      <td>1</td>\n      <td>2048</td>\n    </tr>\n  </tbody>\n</table>\n</div>"
     },
     "execution_count": 27,
     "metadata": {},
     "output_type": "execute_result"
    }
   ],
   "source": [
    "df_run_curves_ffp.head()"
   ]
  },
  {
   "cell_type": "code",
   "execution_count": 28,
   "id": "e6c8b8a6",
   "metadata": {},
   "outputs": [
    {
     "data": {
      "text/plain": "Temperature\n1     2049\n2     2049\n5     2049\n10    2049\n20    2049\n50    2049\nName: count, dtype: int64"
     },
     "execution_count": 28,
     "metadata": {},
     "output_type": "execute_result"
    }
   ],
   "source": [
    "df_run_curves_ffp['Temperature'].value_counts() # what does it say?"
   ]
  },
  {
   "cell_type": "code",
   "execution_count": 29,
   "id": "bf4f03e6",
   "metadata": {},
   "outputs": [
    {
     "data": {
      "text/plain": "(12294, 6)"
     },
     "execution_count": 29,
     "metadata": {},
     "output_type": "execute_result"
    }
   ],
   "source": [
    "df_run_curves_ffp.shape"
   ]
  },
  {
   "cell_type": "code",
   "execution_count": 30,
   "id": "945d7920",
   "metadata": {},
   "outputs": [],
   "source": [
    "# need to check Time and FEvals"
   ]
  },
  {
   "cell_type": "code",
   "execution_count": 31,
   "id": "67e941a7",
   "metadata": {},
   "outputs": [
    {
     "data": {
      "text/plain": "      Iteration      Time  Fitness  FEvals Temperature  max_iters\n3992       1943  6.884120    828.0  2890.0           2       2048\n3993       1944  6.885396    828.0  2892.0           2       2048\n3994       1945  6.886894    828.0  2893.0           2       2048\n3995       1946  6.889752    828.0  2895.0           2       2048\n3996       1947  6.892235    828.0  2896.0           2       2048\n...         ...       ...      ...     ...         ...        ...\n4093       2044  7.086898    828.0  3031.0           2       2048\n4094       2045  7.088308    828.0  3032.0           2       2048\n4095       2046  7.090082    828.0  3033.0           2       2048\n4096       2047  7.091724    828.0  3034.0           2       2048\n4097       2048  7.094830    828.0  3035.0           2       2048\n\n[106 rows x 6 columns]",
      "text/html": "<div>\n<style scoped>\n    .dataframe tbody tr th:only-of-type {\n        vertical-align: middle;\n    }\n\n    .dataframe tbody tr th {\n        vertical-align: top;\n    }\n\n    .dataframe thead th {\n        text-align: right;\n    }\n</style>\n<table border=\"1\" class=\"dataframe\">\n  <thead>\n    <tr style=\"text-align: right;\">\n      <th></th>\n      <th>Iteration</th>\n      <th>Time</th>\n      <th>Fitness</th>\n      <th>FEvals</th>\n      <th>Temperature</th>\n      <th>max_iters</th>\n    </tr>\n  </thead>\n  <tbody>\n    <tr>\n      <th>3992</th>\n      <td>1943</td>\n      <td>6.884120</td>\n      <td>828.0</td>\n      <td>2890.0</td>\n      <td>2</td>\n      <td>2048</td>\n    </tr>\n    <tr>\n      <th>3993</th>\n      <td>1944</td>\n      <td>6.885396</td>\n      <td>828.0</td>\n      <td>2892.0</td>\n      <td>2</td>\n      <td>2048</td>\n    </tr>\n    <tr>\n      <th>3994</th>\n      <td>1945</td>\n      <td>6.886894</td>\n      <td>828.0</td>\n      <td>2893.0</td>\n      <td>2</td>\n      <td>2048</td>\n    </tr>\n    <tr>\n      <th>3995</th>\n      <td>1946</td>\n      <td>6.889752</td>\n      <td>828.0</td>\n      <td>2895.0</td>\n      <td>2</td>\n      <td>2048</td>\n    </tr>\n    <tr>\n      <th>3996</th>\n      <td>1947</td>\n      <td>6.892235</td>\n      <td>828.0</td>\n      <td>2896.0</td>\n      <td>2</td>\n      <td>2048</td>\n    </tr>\n    <tr>\n      <th>...</th>\n      <td>...</td>\n      <td>...</td>\n      <td>...</td>\n      <td>...</td>\n      <td>...</td>\n      <td>...</td>\n    </tr>\n    <tr>\n      <th>4093</th>\n      <td>2044</td>\n      <td>7.086898</td>\n      <td>828.0</td>\n      <td>3031.0</td>\n      <td>2</td>\n      <td>2048</td>\n    </tr>\n    <tr>\n      <th>4094</th>\n      <td>2045</td>\n      <td>7.088308</td>\n      <td>828.0</td>\n      <td>3032.0</td>\n      <td>2</td>\n      <td>2048</td>\n    </tr>\n    <tr>\n      <th>4095</th>\n      <td>2046</td>\n      <td>7.090082</td>\n      <td>828.0</td>\n      <td>3033.0</td>\n      <td>2</td>\n      <td>2048</td>\n    </tr>\n    <tr>\n      <th>4096</th>\n      <td>2047</td>\n      <td>7.091724</td>\n      <td>828.0</td>\n      <td>3034.0</td>\n      <td>2</td>\n      <td>2048</td>\n    </tr>\n    <tr>\n      <th>4097</th>\n      <td>2048</td>\n      <td>7.094830</td>\n      <td>828.0</td>\n      <td>3035.0</td>\n      <td>2</td>\n      <td>2048</td>\n    </tr>\n  </tbody>\n</table>\n<p>106 rows × 6 columns</p>\n</div>"
     },
     "execution_count": 31,
     "metadata": {},
     "output_type": "execute_result"
    }
   ],
   "source": [
    "df_run_curves_ffp[(df_run_curves_ffp['Fitness'] == df_run_curves_ffp['Fitness'].max())]"
   ]
  },
  {
   "cell_type": "code",
   "execution_count": 32,
   "id": "b4febb59",
   "metadata": {},
   "outputs": [
    {
     "data": {
      "text/plain": "Iteration        int64\nTime           float64\nFitness        float64\nFEvals         float64\nTemperature     object\nmax_iters        int64\ndtype: object"
     },
     "execution_count": 32,
     "metadata": {},
     "output_type": "execute_result"
    }
   ],
   "source": [
    "df_run_curves_ffp.dtypes"
   ]
  },
  {
   "cell_type": "code",
   "execution_count": 33,
   "id": "d3d67c61",
   "metadata": {},
   "outputs": [],
   "source": [
    "df_run_curves_ffp['Temperature'] = df_run_curves_ffp['Temperature'].astype(str).astype(float)"
   ]
  },
  {
   "cell_type": "code",
   "execution_count": 34,
   "id": "a44fd5ae",
   "metadata": {},
   "outputs": [],
   "source": [
    "df_curves_bestfitness_ffp = df_run_curves_ffp[(df_run_curves_ffp['Fitness'] == df_run_curves_ffp['Fitness'].max())]"
   ]
  },
  {
   "cell_type": "code",
   "execution_count": 35,
   "id": "d959631c",
   "metadata": {},
   "outputs": [
    {
     "data": {
      "text/plain": "      Iteration      Time  Fitness  FEvals  Temperature  max_iters\n3992       1943  6.884120    828.0  2890.0          2.0       2048\n3993       1944  6.885396    828.0  2892.0          2.0       2048\n3994       1945  6.886894    828.0  2893.0          2.0       2048\n3995       1946  6.889752    828.0  2895.0          2.0       2048\n3996       1947  6.892235    828.0  2896.0          2.0       2048\n...         ...       ...      ...     ...          ...        ...\n4093       2044  7.086898    828.0  3031.0          2.0       2048\n4094       2045  7.088308    828.0  3032.0          2.0       2048\n4095       2046  7.090082    828.0  3033.0          2.0       2048\n4096       2047  7.091724    828.0  3034.0          2.0       2048\n4097       2048  7.094830    828.0  3035.0          2.0       2048\n\n[106 rows x 6 columns]",
      "text/html": "<div>\n<style scoped>\n    .dataframe tbody tr th:only-of-type {\n        vertical-align: middle;\n    }\n\n    .dataframe tbody tr th {\n        vertical-align: top;\n    }\n\n    .dataframe thead th {\n        text-align: right;\n    }\n</style>\n<table border=\"1\" class=\"dataframe\">\n  <thead>\n    <tr style=\"text-align: right;\">\n      <th></th>\n      <th>Iteration</th>\n      <th>Time</th>\n      <th>Fitness</th>\n      <th>FEvals</th>\n      <th>Temperature</th>\n      <th>max_iters</th>\n    </tr>\n  </thead>\n  <tbody>\n    <tr>\n      <th>3992</th>\n      <td>1943</td>\n      <td>6.884120</td>\n      <td>828.0</td>\n      <td>2890.0</td>\n      <td>2.0</td>\n      <td>2048</td>\n    </tr>\n    <tr>\n      <th>3993</th>\n      <td>1944</td>\n      <td>6.885396</td>\n      <td>828.0</td>\n      <td>2892.0</td>\n      <td>2.0</td>\n      <td>2048</td>\n    </tr>\n    <tr>\n      <th>3994</th>\n      <td>1945</td>\n      <td>6.886894</td>\n      <td>828.0</td>\n      <td>2893.0</td>\n      <td>2.0</td>\n      <td>2048</td>\n    </tr>\n    <tr>\n      <th>3995</th>\n      <td>1946</td>\n      <td>6.889752</td>\n      <td>828.0</td>\n      <td>2895.0</td>\n      <td>2.0</td>\n      <td>2048</td>\n    </tr>\n    <tr>\n      <th>3996</th>\n      <td>1947</td>\n      <td>6.892235</td>\n      <td>828.0</td>\n      <td>2896.0</td>\n      <td>2.0</td>\n      <td>2048</td>\n    </tr>\n    <tr>\n      <th>...</th>\n      <td>...</td>\n      <td>...</td>\n      <td>...</td>\n      <td>...</td>\n      <td>...</td>\n      <td>...</td>\n    </tr>\n    <tr>\n      <th>4093</th>\n      <td>2044</td>\n      <td>7.086898</td>\n      <td>828.0</td>\n      <td>3031.0</td>\n      <td>2.0</td>\n      <td>2048</td>\n    </tr>\n    <tr>\n      <th>4094</th>\n      <td>2045</td>\n      <td>7.088308</td>\n      <td>828.0</td>\n      <td>3032.0</td>\n      <td>2.0</td>\n      <td>2048</td>\n    </tr>\n    <tr>\n      <th>4095</th>\n      <td>2046</td>\n      <td>7.090082</td>\n      <td>828.0</td>\n      <td>3033.0</td>\n      <td>2.0</td>\n      <td>2048</td>\n    </tr>\n    <tr>\n      <th>4096</th>\n      <td>2047</td>\n      <td>7.091724</td>\n      <td>828.0</td>\n      <td>3034.0</td>\n      <td>2.0</td>\n      <td>2048</td>\n    </tr>\n    <tr>\n      <th>4097</th>\n      <td>2048</td>\n      <td>7.094830</td>\n      <td>828.0</td>\n      <td>3035.0</td>\n      <td>2.0</td>\n      <td>2048</td>\n    </tr>\n  </tbody>\n</table>\n<p>106 rows × 6 columns</p>\n</div>"
     },
     "execution_count": 35,
     "metadata": {},
     "output_type": "execute_result"
    }
   ],
   "source": [
    "df_curves_bestfitness_ffp"
   ]
  },
  {
   "cell_type": "code",
   "execution_count": 36,
   "id": "468a884d",
   "metadata": {},
   "outputs": [
    {
     "data": {
      "text/plain": "   Temperature  FEvals  Iteration     Time\n0          2.0  2890.0       1943  6.88412",
      "text/html": "<div>\n<style scoped>\n    .dataframe tbody tr th:only-of-type {\n        vertical-align: middle;\n    }\n\n    .dataframe tbody tr th {\n        vertical-align: top;\n    }\n\n    .dataframe thead th {\n        text-align: right;\n    }\n</style>\n<table border=\"1\" class=\"dataframe\">\n  <thead>\n    <tr style=\"text-align: right;\">\n      <th></th>\n      <th>Temperature</th>\n      <th>FEvals</th>\n      <th>Iteration</th>\n      <th>Time</th>\n    </tr>\n  </thead>\n  <tbody>\n    <tr>\n      <th>0</th>\n      <td>2.0</td>\n      <td>2890.0</td>\n      <td>1943</td>\n      <td>6.88412</td>\n    </tr>\n  </tbody>\n</table>\n</div>"
     },
     "execution_count": 36,
     "metadata": {},
     "output_type": "execute_result"
    }
   ],
   "source": [
    "df_curves_bestfitness_ffp.groupby('Temperature').agg({'FEvals': 'min', 'Iteration': 'min', 'Time': 'min'}).reset_index()\n",
    "# Temp = 2 => only choice"
   ]
  },
  {
   "cell_type": "code",
   "execution_count": 37,
   "id": "7b4603fb",
   "metadata": {},
   "outputs": [],
   "source": [
    "# SA runner class\n",
    "# 2. tune decay, compare with the above results of the same temp\n",
    "sa_geom_ffp = mh.SARunner(problem=problem_ffp_1000,\n",
    "              experiment_name='ffp_sa',\n",
    "              output_directory=None, # note: specify an output directory to have results saved to disk\n",
    "              seed=0,\n",
    "              iteration_list=2 ** np.arange(12),\n",
    "              max_attempts=500,\n",
    "              temperature_list=[1, 2, 5, 10, 20, 50],\n",
    "              decay_list=[mh.GeomDecay])\n",
    "\n",
    "# the two data frames will contain the results\n",
    "df_run_stats_ffp, df_run_curves_ffp = sa_geom_ffp.run()"
   ]
  },
  {
   "cell_type": "code",
   "execution_count": 38,
   "id": "fa77c63c",
   "metadata": {},
   "outputs": [
    {
     "data": {
      "text/plain": "(12294, 6)"
     },
     "execution_count": 38,
     "metadata": {},
     "output_type": "execute_result"
    }
   ],
   "source": [
    "df_run_curves_ffp.shape"
   ]
  },
  {
   "cell_type": "code",
   "execution_count": 39,
   "id": "79b836b1",
   "metadata": {},
   "outputs": [
    {
     "data": {
      "text/plain": "   Iteration      Time  Fitness  FEvals Temperature  max_iters\n0          0  0.012573    516.0     0.0           1       2048\n1          1  0.057709    516.0     2.0           1       2048\n2          2  0.071962    516.0     4.0           1       2048\n3          3  0.083293    516.0     6.0           1       2048\n4          4  0.085471    516.0     8.0           1       2048",
      "text/html": "<div>\n<style scoped>\n    .dataframe tbody tr th:only-of-type {\n        vertical-align: middle;\n    }\n\n    .dataframe tbody tr th {\n        vertical-align: top;\n    }\n\n    .dataframe thead th {\n        text-align: right;\n    }\n</style>\n<table border=\"1\" class=\"dataframe\">\n  <thead>\n    <tr style=\"text-align: right;\">\n      <th></th>\n      <th>Iteration</th>\n      <th>Time</th>\n      <th>Fitness</th>\n      <th>FEvals</th>\n      <th>Temperature</th>\n      <th>max_iters</th>\n    </tr>\n  </thead>\n  <tbody>\n    <tr>\n      <th>0</th>\n      <td>0</td>\n      <td>0.012573</td>\n      <td>516.0</td>\n      <td>0.0</td>\n      <td>1</td>\n      <td>2048</td>\n    </tr>\n    <tr>\n      <th>1</th>\n      <td>1</td>\n      <td>0.057709</td>\n      <td>516.0</td>\n      <td>2.0</td>\n      <td>1</td>\n      <td>2048</td>\n    </tr>\n    <tr>\n      <th>2</th>\n      <td>2</td>\n      <td>0.071962</td>\n      <td>516.0</td>\n      <td>4.0</td>\n      <td>1</td>\n      <td>2048</td>\n    </tr>\n    <tr>\n      <th>3</th>\n      <td>3</td>\n      <td>0.083293</td>\n      <td>516.0</td>\n      <td>6.0</td>\n      <td>1</td>\n      <td>2048</td>\n    </tr>\n    <tr>\n      <th>4</th>\n      <td>4</td>\n      <td>0.085471</td>\n      <td>516.0</td>\n      <td>8.0</td>\n      <td>1</td>\n      <td>2048</td>\n    </tr>\n  </tbody>\n</table>\n</div>"
     },
     "execution_count": 39,
     "metadata": {},
     "output_type": "execute_result"
    }
   ],
   "source": [
    "df_run_curves_ffp.head()"
   ]
  },
  {
   "cell_type": "code",
   "execution_count": 40,
   "id": "6a844e98",
   "metadata": {},
   "outputs": [
    {
     "data": {
      "text/plain": "Temperature\n1     2049\n2     2049\n5     2049\n10    2049\n20    2049\n50    2049\nName: count, dtype: int64"
     },
     "execution_count": 40,
     "metadata": {},
     "output_type": "execute_result"
    }
   ],
   "source": [
    "df_run_curves_ffp['Temperature'].value_counts() # what does it say?"
   ]
  },
  {
   "cell_type": "code",
   "execution_count": 41,
   "id": "1dfd8aec",
   "metadata": {},
   "outputs": [],
   "source": [
    "# need to check Time and FEvals"
   ]
  },
  {
   "cell_type": "code",
   "execution_count": 42,
   "id": "3a565185",
   "metadata": {},
   "outputs": [
    {
     "data": {
      "text/plain": "      Iteration       Time  Fitness  FEvals Temperature  max_iters\n8167       2020  10.974019    824.0  3056.0          10       2048\n8168       2021  10.977855    824.0  3057.0          10       2048\n8169       2022  10.981147    824.0  3058.0          10       2048\n8170       2023  10.984784    824.0  3059.0          10       2048\n8171       2024  10.991407    824.0  3061.0          10       2048\n8172       2025  10.995200    824.0  3062.0          10       2048\n8173       2026  10.998194    824.0  3063.0          10       2048\n8174       2027  11.003935    824.0  3064.0          10       2048\n8175       2028  11.009679    824.0  3065.0          10       2048\n8176       2029  11.013476    824.0  3066.0          10       2048\n8177       2030  11.017104    824.0  3068.0          10       2048\n8178       2031  11.020749    824.0  3069.0          10       2048\n8179       2032  11.026601    824.0  3070.0          10       2048\n8180       2033  11.030695    824.0  3071.0          10       2048\n8181       2034  11.034453    824.0  3072.0          10       2048\n8182       2035  11.038331    824.0  3073.0          10       2048\n8183       2036  11.043448    824.0  3074.0          10       2048\n8184       2037  11.047191    824.0  3076.0          10       2048\n8185       2038  11.053368    824.0  3078.0          10       2048\n8186       2039  11.058683    824.0  3079.0          10       2048\n8187       2040  11.063744    824.0  3081.0          10       2048\n8188       2041  11.067625    824.0  3083.0          10       2048\n8189       2042  11.071530    824.0  3085.0          10       2048\n8190       2043  11.076413    824.0  3086.0          10       2048\n8191       2044  11.079921    824.0  3088.0          10       2048\n8192       2045  11.084062    824.0  3089.0          10       2048\n8193       2046  11.090932    824.0  3090.0          10       2048\n8194       2047  11.095851    824.0  3091.0          10       2048\n8195       2048  11.100802    824.0  3092.0          10       2048",
      "text/html": "<div>\n<style scoped>\n    .dataframe tbody tr th:only-of-type {\n        vertical-align: middle;\n    }\n\n    .dataframe tbody tr th {\n        vertical-align: top;\n    }\n\n    .dataframe thead th {\n        text-align: right;\n    }\n</style>\n<table border=\"1\" class=\"dataframe\">\n  <thead>\n    <tr style=\"text-align: right;\">\n      <th></th>\n      <th>Iteration</th>\n      <th>Time</th>\n      <th>Fitness</th>\n      <th>FEvals</th>\n      <th>Temperature</th>\n      <th>max_iters</th>\n    </tr>\n  </thead>\n  <tbody>\n    <tr>\n      <th>8167</th>\n      <td>2020</td>\n      <td>10.974019</td>\n      <td>824.0</td>\n      <td>3056.0</td>\n      <td>10</td>\n      <td>2048</td>\n    </tr>\n    <tr>\n      <th>8168</th>\n      <td>2021</td>\n      <td>10.977855</td>\n      <td>824.0</td>\n      <td>3057.0</td>\n      <td>10</td>\n      <td>2048</td>\n    </tr>\n    <tr>\n      <th>8169</th>\n      <td>2022</td>\n      <td>10.981147</td>\n      <td>824.0</td>\n      <td>3058.0</td>\n      <td>10</td>\n      <td>2048</td>\n    </tr>\n    <tr>\n      <th>8170</th>\n      <td>2023</td>\n      <td>10.984784</td>\n      <td>824.0</td>\n      <td>3059.0</td>\n      <td>10</td>\n      <td>2048</td>\n    </tr>\n    <tr>\n      <th>8171</th>\n      <td>2024</td>\n      <td>10.991407</td>\n      <td>824.0</td>\n      <td>3061.0</td>\n      <td>10</td>\n      <td>2048</td>\n    </tr>\n    <tr>\n      <th>8172</th>\n      <td>2025</td>\n      <td>10.995200</td>\n      <td>824.0</td>\n      <td>3062.0</td>\n      <td>10</td>\n      <td>2048</td>\n    </tr>\n    <tr>\n      <th>8173</th>\n      <td>2026</td>\n      <td>10.998194</td>\n      <td>824.0</td>\n      <td>3063.0</td>\n      <td>10</td>\n      <td>2048</td>\n    </tr>\n    <tr>\n      <th>8174</th>\n      <td>2027</td>\n      <td>11.003935</td>\n      <td>824.0</td>\n      <td>3064.0</td>\n      <td>10</td>\n      <td>2048</td>\n    </tr>\n    <tr>\n      <th>8175</th>\n      <td>2028</td>\n      <td>11.009679</td>\n      <td>824.0</td>\n      <td>3065.0</td>\n      <td>10</td>\n      <td>2048</td>\n    </tr>\n    <tr>\n      <th>8176</th>\n      <td>2029</td>\n      <td>11.013476</td>\n      <td>824.0</td>\n      <td>3066.0</td>\n      <td>10</td>\n      <td>2048</td>\n    </tr>\n    <tr>\n      <th>8177</th>\n      <td>2030</td>\n      <td>11.017104</td>\n      <td>824.0</td>\n      <td>3068.0</td>\n      <td>10</td>\n      <td>2048</td>\n    </tr>\n    <tr>\n      <th>8178</th>\n      <td>2031</td>\n      <td>11.020749</td>\n      <td>824.0</td>\n      <td>3069.0</td>\n      <td>10</td>\n      <td>2048</td>\n    </tr>\n    <tr>\n      <th>8179</th>\n      <td>2032</td>\n      <td>11.026601</td>\n      <td>824.0</td>\n      <td>3070.0</td>\n      <td>10</td>\n      <td>2048</td>\n    </tr>\n    <tr>\n      <th>8180</th>\n      <td>2033</td>\n      <td>11.030695</td>\n      <td>824.0</td>\n      <td>3071.0</td>\n      <td>10</td>\n      <td>2048</td>\n    </tr>\n    <tr>\n      <th>8181</th>\n      <td>2034</td>\n      <td>11.034453</td>\n      <td>824.0</td>\n      <td>3072.0</td>\n      <td>10</td>\n      <td>2048</td>\n    </tr>\n    <tr>\n      <th>8182</th>\n      <td>2035</td>\n      <td>11.038331</td>\n      <td>824.0</td>\n      <td>3073.0</td>\n      <td>10</td>\n      <td>2048</td>\n    </tr>\n    <tr>\n      <th>8183</th>\n      <td>2036</td>\n      <td>11.043448</td>\n      <td>824.0</td>\n      <td>3074.0</td>\n      <td>10</td>\n      <td>2048</td>\n    </tr>\n    <tr>\n      <th>8184</th>\n      <td>2037</td>\n      <td>11.047191</td>\n      <td>824.0</td>\n      <td>3076.0</td>\n      <td>10</td>\n      <td>2048</td>\n    </tr>\n    <tr>\n      <th>8185</th>\n      <td>2038</td>\n      <td>11.053368</td>\n      <td>824.0</td>\n      <td>3078.0</td>\n      <td>10</td>\n      <td>2048</td>\n    </tr>\n    <tr>\n      <th>8186</th>\n      <td>2039</td>\n      <td>11.058683</td>\n      <td>824.0</td>\n      <td>3079.0</td>\n      <td>10</td>\n      <td>2048</td>\n    </tr>\n    <tr>\n      <th>8187</th>\n      <td>2040</td>\n      <td>11.063744</td>\n      <td>824.0</td>\n      <td>3081.0</td>\n      <td>10</td>\n      <td>2048</td>\n    </tr>\n    <tr>\n      <th>8188</th>\n      <td>2041</td>\n      <td>11.067625</td>\n      <td>824.0</td>\n      <td>3083.0</td>\n      <td>10</td>\n      <td>2048</td>\n    </tr>\n    <tr>\n      <th>8189</th>\n      <td>2042</td>\n      <td>11.071530</td>\n      <td>824.0</td>\n      <td>3085.0</td>\n      <td>10</td>\n      <td>2048</td>\n    </tr>\n    <tr>\n      <th>8190</th>\n      <td>2043</td>\n      <td>11.076413</td>\n      <td>824.0</td>\n      <td>3086.0</td>\n      <td>10</td>\n      <td>2048</td>\n    </tr>\n    <tr>\n      <th>8191</th>\n      <td>2044</td>\n      <td>11.079921</td>\n      <td>824.0</td>\n      <td>3088.0</td>\n      <td>10</td>\n      <td>2048</td>\n    </tr>\n    <tr>\n      <th>8192</th>\n      <td>2045</td>\n      <td>11.084062</td>\n      <td>824.0</td>\n      <td>3089.0</td>\n      <td>10</td>\n      <td>2048</td>\n    </tr>\n    <tr>\n      <th>8193</th>\n      <td>2046</td>\n      <td>11.090932</td>\n      <td>824.0</td>\n      <td>3090.0</td>\n      <td>10</td>\n      <td>2048</td>\n    </tr>\n    <tr>\n      <th>8194</th>\n      <td>2047</td>\n      <td>11.095851</td>\n      <td>824.0</td>\n      <td>3091.0</td>\n      <td>10</td>\n      <td>2048</td>\n    </tr>\n    <tr>\n      <th>8195</th>\n      <td>2048</td>\n      <td>11.100802</td>\n      <td>824.0</td>\n      <td>3092.0</td>\n      <td>10</td>\n      <td>2048</td>\n    </tr>\n  </tbody>\n</table>\n</div>"
     },
     "execution_count": 42,
     "metadata": {},
     "output_type": "execute_result"
    }
   ],
   "source": [
    "df_run_curves_ffp[(df_run_curves_ffp['Fitness'] == df_run_curves_ffp['Fitness'].max())]"
   ]
  },
  {
   "cell_type": "code",
   "execution_count": 43,
   "id": "0d165a33",
   "metadata": {},
   "outputs": [
    {
     "data": {
      "text/plain": "Iteration        int64\nTime           float64\nFitness        float64\nFEvals         float64\nTemperature     object\nmax_iters        int64\ndtype: object"
     },
     "execution_count": 43,
     "metadata": {},
     "output_type": "execute_result"
    }
   ],
   "source": [
    "df_run_curves_ffp.dtypes"
   ]
  },
  {
   "cell_type": "code",
   "execution_count": 44,
   "id": "db074758",
   "metadata": {},
   "outputs": [],
   "source": [
    "df_run_curves_ffp['Temperature'] = df_run_curves_ffp['Temperature'].astype(str).astype(float)"
   ]
  },
  {
   "cell_type": "code",
   "execution_count": 45,
   "id": "8de1913a",
   "metadata": {},
   "outputs": [],
   "source": [
    "df_curves_bestfitness_ffp = df_run_curves_ffp[(df_run_curves_ffp['Fitness'] == df_run_curves_ffp['Fitness'].max())]"
   ]
  },
  {
   "cell_type": "code",
   "execution_count": 46,
   "id": "bcc7c243",
   "metadata": {},
   "outputs": [
    {
     "data": {
      "text/plain": "      Iteration       Time  Fitness  FEvals  Temperature  max_iters\n8167       2020  10.974019    824.0  3056.0         10.0       2048\n8168       2021  10.977855    824.0  3057.0         10.0       2048\n8169       2022  10.981147    824.0  3058.0         10.0       2048\n8170       2023  10.984784    824.0  3059.0         10.0       2048\n8171       2024  10.991407    824.0  3061.0         10.0       2048\n8172       2025  10.995200    824.0  3062.0         10.0       2048\n8173       2026  10.998194    824.0  3063.0         10.0       2048\n8174       2027  11.003935    824.0  3064.0         10.0       2048\n8175       2028  11.009679    824.0  3065.0         10.0       2048\n8176       2029  11.013476    824.0  3066.0         10.0       2048\n8177       2030  11.017104    824.0  3068.0         10.0       2048\n8178       2031  11.020749    824.0  3069.0         10.0       2048\n8179       2032  11.026601    824.0  3070.0         10.0       2048\n8180       2033  11.030695    824.0  3071.0         10.0       2048\n8181       2034  11.034453    824.0  3072.0         10.0       2048\n8182       2035  11.038331    824.0  3073.0         10.0       2048\n8183       2036  11.043448    824.0  3074.0         10.0       2048\n8184       2037  11.047191    824.0  3076.0         10.0       2048\n8185       2038  11.053368    824.0  3078.0         10.0       2048\n8186       2039  11.058683    824.0  3079.0         10.0       2048\n8187       2040  11.063744    824.0  3081.0         10.0       2048\n8188       2041  11.067625    824.0  3083.0         10.0       2048\n8189       2042  11.071530    824.0  3085.0         10.0       2048\n8190       2043  11.076413    824.0  3086.0         10.0       2048\n8191       2044  11.079921    824.0  3088.0         10.0       2048\n8192       2045  11.084062    824.0  3089.0         10.0       2048\n8193       2046  11.090932    824.0  3090.0         10.0       2048\n8194       2047  11.095851    824.0  3091.0         10.0       2048\n8195       2048  11.100802    824.0  3092.0         10.0       2048",
      "text/html": "<div>\n<style scoped>\n    .dataframe tbody tr th:only-of-type {\n        vertical-align: middle;\n    }\n\n    .dataframe tbody tr th {\n        vertical-align: top;\n    }\n\n    .dataframe thead th {\n        text-align: right;\n    }\n</style>\n<table border=\"1\" class=\"dataframe\">\n  <thead>\n    <tr style=\"text-align: right;\">\n      <th></th>\n      <th>Iteration</th>\n      <th>Time</th>\n      <th>Fitness</th>\n      <th>FEvals</th>\n      <th>Temperature</th>\n      <th>max_iters</th>\n    </tr>\n  </thead>\n  <tbody>\n    <tr>\n      <th>8167</th>\n      <td>2020</td>\n      <td>10.974019</td>\n      <td>824.0</td>\n      <td>3056.0</td>\n      <td>10.0</td>\n      <td>2048</td>\n    </tr>\n    <tr>\n      <th>8168</th>\n      <td>2021</td>\n      <td>10.977855</td>\n      <td>824.0</td>\n      <td>3057.0</td>\n      <td>10.0</td>\n      <td>2048</td>\n    </tr>\n    <tr>\n      <th>8169</th>\n      <td>2022</td>\n      <td>10.981147</td>\n      <td>824.0</td>\n      <td>3058.0</td>\n      <td>10.0</td>\n      <td>2048</td>\n    </tr>\n    <tr>\n      <th>8170</th>\n      <td>2023</td>\n      <td>10.984784</td>\n      <td>824.0</td>\n      <td>3059.0</td>\n      <td>10.0</td>\n      <td>2048</td>\n    </tr>\n    <tr>\n      <th>8171</th>\n      <td>2024</td>\n      <td>10.991407</td>\n      <td>824.0</td>\n      <td>3061.0</td>\n      <td>10.0</td>\n      <td>2048</td>\n    </tr>\n    <tr>\n      <th>8172</th>\n      <td>2025</td>\n      <td>10.995200</td>\n      <td>824.0</td>\n      <td>3062.0</td>\n      <td>10.0</td>\n      <td>2048</td>\n    </tr>\n    <tr>\n      <th>8173</th>\n      <td>2026</td>\n      <td>10.998194</td>\n      <td>824.0</td>\n      <td>3063.0</td>\n      <td>10.0</td>\n      <td>2048</td>\n    </tr>\n    <tr>\n      <th>8174</th>\n      <td>2027</td>\n      <td>11.003935</td>\n      <td>824.0</td>\n      <td>3064.0</td>\n      <td>10.0</td>\n      <td>2048</td>\n    </tr>\n    <tr>\n      <th>8175</th>\n      <td>2028</td>\n      <td>11.009679</td>\n      <td>824.0</td>\n      <td>3065.0</td>\n      <td>10.0</td>\n      <td>2048</td>\n    </tr>\n    <tr>\n      <th>8176</th>\n      <td>2029</td>\n      <td>11.013476</td>\n      <td>824.0</td>\n      <td>3066.0</td>\n      <td>10.0</td>\n      <td>2048</td>\n    </tr>\n    <tr>\n      <th>8177</th>\n      <td>2030</td>\n      <td>11.017104</td>\n      <td>824.0</td>\n      <td>3068.0</td>\n      <td>10.0</td>\n      <td>2048</td>\n    </tr>\n    <tr>\n      <th>8178</th>\n      <td>2031</td>\n      <td>11.020749</td>\n      <td>824.0</td>\n      <td>3069.0</td>\n      <td>10.0</td>\n      <td>2048</td>\n    </tr>\n    <tr>\n      <th>8179</th>\n      <td>2032</td>\n      <td>11.026601</td>\n      <td>824.0</td>\n      <td>3070.0</td>\n      <td>10.0</td>\n      <td>2048</td>\n    </tr>\n    <tr>\n      <th>8180</th>\n      <td>2033</td>\n      <td>11.030695</td>\n      <td>824.0</td>\n      <td>3071.0</td>\n      <td>10.0</td>\n      <td>2048</td>\n    </tr>\n    <tr>\n      <th>8181</th>\n      <td>2034</td>\n      <td>11.034453</td>\n      <td>824.0</td>\n      <td>3072.0</td>\n      <td>10.0</td>\n      <td>2048</td>\n    </tr>\n    <tr>\n      <th>8182</th>\n      <td>2035</td>\n      <td>11.038331</td>\n      <td>824.0</td>\n      <td>3073.0</td>\n      <td>10.0</td>\n      <td>2048</td>\n    </tr>\n    <tr>\n      <th>8183</th>\n      <td>2036</td>\n      <td>11.043448</td>\n      <td>824.0</td>\n      <td>3074.0</td>\n      <td>10.0</td>\n      <td>2048</td>\n    </tr>\n    <tr>\n      <th>8184</th>\n      <td>2037</td>\n      <td>11.047191</td>\n      <td>824.0</td>\n      <td>3076.0</td>\n      <td>10.0</td>\n      <td>2048</td>\n    </tr>\n    <tr>\n      <th>8185</th>\n      <td>2038</td>\n      <td>11.053368</td>\n      <td>824.0</td>\n      <td>3078.0</td>\n      <td>10.0</td>\n      <td>2048</td>\n    </tr>\n    <tr>\n      <th>8186</th>\n      <td>2039</td>\n      <td>11.058683</td>\n      <td>824.0</td>\n      <td>3079.0</td>\n      <td>10.0</td>\n      <td>2048</td>\n    </tr>\n    <tr>\n      <th>8187</th>\n      <td>2040</td>\n      <td>11.063744</td>\n      <td>824.0</td>\n      <td>3081.0</td>\n      <td>10.0</td>\n      <td>2048</td>\n    </tr>\n    <tr>\n      <th>8188</th>\n      <td>2041</td>\n      <td>11.067625</td>\n      <td>824.0</td>\n      <td>3083.0</td>\n      <td>10.0</td>\n      <td>2048</td>\n    </tr>\n    <tr>\n      <th>8189</th>\n      <td>2042</td>\n      <td>11.071530</td>\n      <td>824.0</td>\n      <td>3085.0</td>\n      <td>10.0</td>\n      <td>2048</td>\n    </tr>\n    <tr>\n      <th>8190</th>\n      <td>2043</td>\n      <td>11.076413</td>\n      <td>824.0</td>\n      <td>3086.0</td>\n      <td>10.0</td>\n      <td>2048</td>\n    </tr>\n    <tr>\n      <th>8191</th>\n      <td>2044</td>\n      <td>11.079921</td>\n      <td>824.0</td>\n      <td>3088.0</td>\n      <td>10.0</td>\n      <td>2048</td>\n    </tr>\n    <tr>\n      <th>8192</th>\n      <td>2045</td>\n      <td>11.084062</td>\n      <td>824.0</td>\n      <td>3089.0</td>\n      <td>10.0</td>\n      <td>2048</td>\n    </tr>\n    <tr>\n      <th>8193</th>\n      <td>2046</td>\n      <td>11.090932</td>\n      <td>824.0</td>\n      <td>3090.0</td>\n      <td>10.0</td>\n      <td>2048</td>\n    </tr>\n    <tr>\n      <th>8194</th>\n      <td>2047</td>\n      <td>11.095851</td>\n      <td>824.0</td>\n      <td>3091.0</td>\n      <td>10.0</td>\n      <td>2048</td>\n    </tr>\n    <tr>\n      <th>8195</th>\n      <td>2048</td>\n      <td>11.100802</td>\n      <td>824.0</td>\n      <td>3092.0</td>\n      <td>10.0</td>\n      <td>2048</td>\n    </tr>\n  </tbody>\n</table>\n</div>"
     },
     "execution_count": 46,
     "metadata": {},
     "output_type": "execute_result"
    }
   ],
   "source": [
    "df_curves_bestfitness_ffp"
   ]
  },
  {
   "cell_type": "code",
   "execution_count": 47,
   "id": "6760530b",
   "metadata": {},
   "outputs": [
    {
     "data": {
      "text/plain": "   Temperature  FEvals  Iteration       Time\n0         10.0  3056.0     2034.0  10.974019",
      "text/html": "<div>\n<style scoped>\n    .dataframe tbody tr th:only-of-type {\n        vertical-align: middle;\n    }\n\n    .dataframe tbody tr th {\n        vertical-align: top;\n    }\n\n    .dataframe thead th {\n        text-align: right;\n    }\n</style>\n<table border=\"1\" class=\"dataframe\">\n  <thead>\n    <tr style=\"text-align: right;\">\n      <th></th>\n      <th>Temperature</th>\n      <th>FEvals</th>\n      <th>Iteration</th>\n      <th>Time</th>\n    </tr>\n  </thead>\n  <tbody>\n    <tr>\n      <th>0</th>\n      <td>10.0</td>\n      <td>3056.0</td>\n      <td>2034.0</td>\n      <td>10.974019</td>\n    </tr>\n  </tbody>\n</table>\n</div>"
     },
     "execution_count": 47,
     "metadata": {},
     "output_type": "execute_result"
    }
   ],
   "source": [
    "df_curves_bestfitness_ffp.groupby('Temperature').agg({'FEvals': 'min', 'Iteration': 'mean', 'Time': 'min'}).reset_index()\n",
    "# Temp = 2  => less iterations, Fevals and time. Pick temp=2"
   ]
  },
  {
   "cell_type": "code",
   "execution_count": null,
   "id": "84e499cb",
   "metadata": {},
   "outputs": [],
   "source": [
    "# tentatively, pick exp decay with initial temp=2, as exp took less iteration, FEvals andtime to converge than geometric Decay"
   ]
  },
  {
   "cell_type": "code",
   "execution_count": 48,
   "id": "e6dba529",
   "metadata": {},
   "outputs": [
    {
     "data": {
      "text/plain": "   Iteration      Time  Fitness  FEvals  Temperature  max_iters\n0          0  0.012573    516.0     0.0          1.0       2048\n1          1  0.057709    516.0     2.0          1.0       2048\n2          2  0.071962    516.0     4.0          1.0       2048\n3          3  0.083293    516.0     6.0          1.0       2048\n4          4  0.085471    516.0     8.0          1.0       2048",
      "text/html": "<div>\n<style scoped>\n    .dataframe tbody tr th:only-of-type {\n        vertical-align: middle;\n    }\n\n    .dataframe tbody tr th {\n        vertical-align: top;\n    }\n\n    .dataframe thead th {\n        text-align: right;\n    }\n</style>\n<table border=\"1\" class=\"dataframe\">\n  <thead>\n    <tr style=\"text-align: right;\">\n      <th></th>\n      <th>Iteration</th>\n      <th>Time</th>\n      <th>Fitness</th>\n      <th>FEvals</th>\n      <th>Temperature</th>\n      <th>max_iters</th>\n    </tr>\n  </thead>\n  <tbody>\n    <tr>\n      <th>0</th>\n      <td>0</td>\n      <td>0.012573</td>\n      <td>516.0</td>\n      <td>0.0</td>\n      <td>1.0</td>\n      <td>2048</td>\n    </tr>\n    <tr>\n      <th>1</th>\n      <td>1</td>\n      <td>0.057709</td>\n      <td>516.0</td>\n      <td>2.0</td>\n      <td>1.0</td>\n      <td>2048</td>\n    </tr>\n    <tr>\n      <th>2</th>\n      <td>2</td>\n      <td>0.071962</td>\n      <td>516.0</td>\n      <td>4.0</td>\n      <td>1.0</td>\n      <td>2048</td>\n    </tr>\n    <tr>\n      <th>3</th>\n      <td>3</td>\n      <td>0.083293</td>\n      <td>516.0</td>\n      <td>6.0</td>\n      <td>1.0</td>\n      <td>2048</td>\n    </tr>\n    <tr>\n      <th>4</th>\n      <td>4</td>\n      <td>0.085471</td>\n      <td>516.0</td>\n      <td>8.0</td>\n      <td>1.0</td>\n      <td>2048</td>\n    </tr>\n  </tbody>\n</table>\n</div>"
     },
     "execution_count": 48,
     "metadata": {},
     "output_type": "execute_result"
    }
   ],
   "source": [
    "df_run_curves_ffp.head()"
   ]
  },
  {
   "cell_type": "code",
   "execution_count": 54,
   "id": "2753e8cf",
   "metadata": {},
   "outputs": [],
   "source": [
    "# clean up an existing result table to store the iterative resutls\n",
    "df_iter_curves_ffp = df_run_curves_ffp.drop(df_run_curves_ffp.index, inplace=False)"
   ]
  },
  {
   "cell_type": "code",
   "execution_count": 55,
   "id": "5f598458",
   "metadata": {},
   "outputs": [],
   "source": [
    "# SA runner\n",
    "# 3. iterate through 10 seeds\n",
    "for s in range(10):\n",
    "    sa_ffp = mh.SARunner(problem=problem_ffp_1000,\n",
    "              experiment_name='ffp_sa_{s}',\n",
    "              output_directory=None, # note: specify an output directory to have results saved to disk\n",
    "              seed=s,\n",
    "              iteration_list=2 ** np.arange(12),\n",
    "              max_attempts=500,\n",
    "              temperature_list=[2],\n",
    "              decay_list=[mh.ExpDecay])\n",
    "\n",
    "    df_run_stats_ffp_sub, df_run_curves_ffp_sub = sa_ffp.run()\n",
    "    # append to the result df\n",
    "    df_iter_curves_ffp = pd.concat([df_iter_curves_ffp, df_run_curves_ffp_sub])"
   ]
  },
  {
   "cell_type": "code",
   "execution_count": 87,
   "outputs": [],
   "source": [
    "df_iter_curves_ffp.to_csv('sa-flip-flop-ps1000.csv')"
   ],
   "metadata": {
    "collapsed": false
   }
  },
  {
   "cell_type": "code",
   "execution_count": 56,
   "id": "cc68f5f4",
   "metadata": {},
   "outputs": [
    {
     "data": {
      "text/plain": "(20490, 6)"
     },
     "execution_count": 56,
     "metadata": {},
     "output_type": "execute_result"
    }
   ],
   "source": [
    "df_iter_curves_ffp.shape"
   ]
  },
  {
   "cell_type": "code",
   "execution_count": 57,
   "id": "b0d25d2e",
   "metadata": {},
   "outputs": [
    {
     "data": {
      "text/plain": "   Iteration      Time  Fitness  FEvals Temperature  max_iters\n0          0  0.004023    516.0     0.0           2       2048\n1          1  0.017763    516.0     2.0           2       2048\n2          2  0.030494    516.0     4.0           2       2048\n3          3  0.042955    516.0     6.0           2       2048\n4          4  0.045205    516.0     8.0           2       2048",
      "text/html": "<div>\n<style scoped>\n    .dataframe tbody tr th:only-of-type {\n        vertical-align: middle;\n    }\n\n    .dataframe tbody tr th {\n        vertical-align: top;\n    }\n\n    .dataframe thead th {\n        text-align: right;\n    }\n</style>\n<table border=\"1\" class=\"dataframe\">\n  <thead>\n    <tr style=\"text-align: right;\">\n      <th></th>\n      <th>Iteration</th>\n      <th>Time</th>\n      <th>Fitness</th>\n      <th>FEvals</th>\n      <th>Temperature</th>\n      <th>max_iters</th>\n    </tr>\n  </thead>\n  <tbody>\n    <tr>\n      <th>0</th>\n      <td>0</td>\n      <td>0.004023</td>\n      <td>516.0</td>\n      <td>0.0</td>\n      <td>2</td>\n      <td>2048</td>\n    </tr>\n    <tr>\n      <th>1</th>\n      <td>1</td>\n      <td>0.017763</td>\n      <td>516.0</td>\n      <td>2.0</td>\n      <td>2</td>\n      <td>2048</td>\n    </tr>\n    <tr>\n      <th>2</th>\n      <td>2</td>\n      <td>0.030494</td>\n      <td>516.0</td>\n      <td>4.0</td>\n      <td>2</td>\n      <td>2048</td>\n    </tr>\n    <tr>\n      <th>3</th>\n      <td>3</td>\n      <td>0.042955</td>\n      <td>516.0</td>\n      <td>6.0</td>\n      <td>2</td>\n      <td>2048</td>\n    </tr>\n    <tr>\n      <th>4</th>\n      <td>4</td>\n      <td>0.045205</td>\n      <td>516.0</td>\n      <td>8.0</td>\n      <td>2</td>\n      <td>2048</td>\n    </tr>\n  </tbody>\n</table>\n</div>"
     },
     "execution_count": 57,
     "metadata": {},
     "output_type": "execute_result"
    }
   ],
   "source": [
    "df_iter_curves_ffp.head()"
   ]
  },
  {
   "cell_type": "code",
   "execution_count": 58,
   "id": "fc161f04",
   "metadata": {},
   "outputs": [
    {
     "data": {
      "text/plain": "2048"
     },
     "execution_count": 58,
     "metadata": {},
     "output_type": "execute_result"
    }
   ],
   "source": [
    "df_iter_curves_ffp.Iteration.max()"
   ]
  },
  {
   "cell_type": "code",
   "execution_count": 59,
   "id": "da2ca3f8",
   "metadata": {},
   "outputs": [],
   "source": [
    "df_fitness_iter_ffp = df_iter_curves_ffp.groupby('Iteration')\\\n",
    "                                .agg(avg_fitness=('Fitness', 'mean'), var_fitness = ('Fitness', 'var'))\\\n",
    "                                .reset_index()"
   ]
  },
  {
   "cell_type": "code",
   "execution_count": 60,
   "id": "c2e07adc",
   "metadata": {},
   "outputs": [
    {
     "data": {
      "text/plain": "(2049, 3)"
     },
     "execution_count": 60,
     "metadata": {},
     "output_type": "execute_result"
    }
   ],
   "source": [
    "df_fitness_iter_ffp.shape"
   ]
  },
  {
   "cell_type": "code",
   "execution_count": 61,
   "outputs": [
    {
     "data": {
      "text/plain": "828.0"
     },
     "execution_count": 61,
     "metadata": {},
     "output_type": "execute_result"
    }
   ],
   "source": [
    "df_iter_curves_ffp.Fitness.max()"
   ],
   "metadata": {
    "collapsed": false
   }
  },
  {
   "cell_type": "code",
   "execution_count": 62,
   "outputs": [
    {
     "data": {
      "text/plain": "812.9"
     },
     "execution_count": 62,
     "metadata": {},
     "output_type": "execute_result"
    }
   ],
   "source": [
    "df_fitness_iter_ffp.avg_fitness.max()"
   ],
   "metadata": {
    "collapsed": false
   }
  },
  {
   "cell_type": "code",
   "execution_count": 63,
   "outputs": [
    {
     "data": {
      "text/plain": "Empty DataFrame\nColumns: [Iteration, avg_fitness, var_fitness]\nIndex: []",
      "text/html": "<div>\n<style scoped>\n    .dataframe tbody tr th:only-of-type {\n        vertical-align: middle;\n    }\n\n    .dataframe tbody tr th {\n        vertical-align: top;\n    }\n\n    .dataframe thead th {\n        text-align: right;\n    }\n</style>\n<table border=\"1\" class=\"dataframe\">\n  <thead>\n    <tr style=\"text-align: right;\">\n      <th></th>\n      <th>Iteration</th>\n      <th>avg_fitness</th>\n      <th>var_fitness</th>\n    </tr>\n  </thead>\n  <tbody>\n  </tbody>\n</table>\n</div>"
     },
     "execution_count": 63,
     "metadata": {},
     "output_type": "execute_result"
    }
   ],
   "source": [
    "df_fitness_iter_ffp[df_fitness_iter_ffp.avg_fitness == df_iter_curves_ffp.Fitness.max()]"
   ],
   "metadata": {
    "collapsed": false
   }
  },
  {
   "cell_type": "code",
   "execution_count": 64,
   "outputs": [
    {
     "data": {
      "text/plain": "      Iteration  avg_fitness  var_fitness\n1500       1500        775.5   222.722222",
      "text/html": "<div>\n<style scoped>\n    .dataframe tbody tr th:only-of-type {\n        vertical-align: middle;\n    }\n\n    .dataframe tbody tr th {\n        vertical-align: top;\n    }\n\n    .dataframe thead th {\n        text-align: right;\n    }\n</style>\n<table border=\"1\" class=\"dataframe\">\n  <thead>\n    <tr style=\"text-align: right;\">\n      <th></th>\n      <th>Iteration</th>\n      <th>avg_fitness</th>\n      <th>var_fitness</th>\n    </tr>\n  </thead>\n  <tbody>\n    <tr>\n      <th>1500</th>\n      <td>1500</td>\n      <td>775.5</td>\n      <td>222.722222</td>\n    </tr>\n  </tbody>\n</table>\n</div>"
     },
     "execution_count": 64,
     "metadata": {},
     "output_type": "execute_result"
    }
   ],
   "source": [
    "df_fitness_iter_ffp[df_fitness_iter_ffp.Iteration ==  1500]"
   ],
   "metadata": {
    "collapsed": false
   }
  },
  {
   "cell_type": "code",
   "execution_count": 65,
   "outputs": [
    {
     "data": {
      "text/plain": "nan"
     },
     "execution_count": 65,
     "metadata": {},
     "output_type": "execute_result"
    }
   ],
   "source": [
    "# converge point\n",
    "df_fitness_iter_ffp[df_fitness_iter_ffp.avg_fitness >= df_iter_curves_ffp.Fitness.max() -1].Iteration.min()"
   ],
   "metadata": {
    "collapsed": false
   }
  },
  {
   "cell_type": "code",
   "execution_count": 66,
   "outputs": [
    {
     "data": {
      "text/plain": "(721.9, 812.9)"
     },
     "execution_count": 66,
     "metadata": {},
     "output_type": "execute_result"
    }
   ],
   "source": [
    "df_fitness_iter_ffp[df_fitness_iter_ffp.Iteration >= 927].avg_fitness.min(), df_fitness_iter_ffp[df_fitness_iter_ffp.Iteration >= 927].avg_fitness.max()"
   ],
   "metadata": {
    "collapsed": false
   }
  },
  {
   "cell_type": "code",
   "execution_count": 67,
   "outputs": [
    {
     "name": "stdout",
     "output_type": "stream",
     "text": [
      "927\n"
     ]
    }
   ],
   "source": [
    "for i in range(927, 2050):\n",
    "    if df_fitness_iter_ffp[df_fitness_iter_ffp.Iteration >= i].avg_fitness.min() >= 26:\n",
    "        print(i)\n",
    "        break"
   ],
   "metadata": {
    "collapsed": false
   }
  },
  {
   "cell_type": "code",
   "execution_count": 68,
   "id": "2f468f13",
   "metadata": {},
   "outputs": [],
   "source": [
    "df_fitness_iter_ffp['stddev_fitness'] = df_fitness_iter_ffp['var_fitness'].apply(np.sqrt)"
   ]
  },
  {
   "cell_type": "code",
   "execution_count": 69,
   "id": "7f9d8366",
   "metadata": {},
   "outputs": [
    {
     "data": {
      "text/plain": "   Iteration  avg_fitness  var_fitness  stddev_fitness\n0          0        496.0   233.777778       15.289793\n1          1        496.2   219.066667       14.800901\n2          2        496.2   231.066667       15.200877\n3          3        496.2   241.288889       15.533476\n4          4        496.8   253.511111       15.922032",
      "text/html": "<div>\n<style scoped>\n    .dataframe tbody tr th:only-of-type {\n        vertical-align: middle;\n    }\n\n    .dataframe tbody tr th {\n        vertical-align: top;\n    }\n\n    .dataframe thead th {\n        text-align: right;\n    }\n</style>\n<table border=\"1\" class=\"dataframe\">\n  <thead>\n    <tr style=\"text-align: right;\">\n      <th></th>\n      <th>Iteration</th>\n      <th>avg_fitness</th>\n      <th>var_fitness</th>\n      <th>stddev_fitness</th>\n    </tr>\n  </thead>\n  <tbody>\n    <tr>\n      <th>0</th>\n      <td>0</td>\n      <td>496.0</td>\n      <td>233.777778</td>\n      <td>15.289793</td>\n    </tr>\n    <tr>\n      <th>1</th>\n      <td>1</td>\n      <td>496.2</td>\n      <td>219.066667</td>\n      <td>14.800901</td>\n    </tr>\n    <tr>\n      <th>2</th>\n      <td>2</td>\n      <td>496.2</td>\n      <td>231.066667</td>\n      <td>15.200877</td>\n    </tr>\n    <tr>\n      <th>3</th>\n      <td>3</td>\n      <td>496.2</td>\n      <td>241.288889</td>\n      <td>15.533476</td>\n    </tr>\n    <tr>\n      <th>4</th>\n      <td>4</td>\n      <td>496.8</td>\n      <td>253.511111</td>\n      <td>15.922032</td>\n    </tr>\n  </tbody>\n</table>\n</div>"
     },
     "execution_count": 69,
     "metadata": {},
     "output_type": "execute_result"
    }
   ],
   "source": [
    "df_fitness_iter_ffp.head()"
   ]
  },
  {
   "cell_type": "code",
   "execution_count": 70,
   "id": "85e6ae0e",
   "metadata": {
    "scrolled": true
   },
   "outputs": [
    {
     "data": {
      "text/plain": "Text(0, 0.5, 'Fitness')"
     },
     "execution_count": 70,
     "metadata": {},
     "output_type": "execute_result"
    },
    {
     "data": {
      "text/plain": "<Figure size 640x480 with 1 Axes>",
      "image/png": "[encoded data removed]"
     },
     "metadata": {},
     "output_type": "display_data"
    }
   ],
   "source": [
    "plt.plot(df_fitness_iter_ffp.Iteration, df_fitness_iter_ffp.avg_fitness, 'k', color='#CC4F1B')\n",
    "plt.fill_between(df_fitness_iter_ffp.Iteration, df_fitness_iter_ffp.avg_fitness - df_fitness_iter_ffp.stddev_fitness\\\n",
    "                 , df_fitness_iter_ffp.avg_fitness + df_fitness_iter_ffp.stddev_fitness\\\n",
    "                 , alpha=0.5, edgecolor='#CC4F1B', facecolor='#FF9848')\n",
    "plt.title('Fitness by Iterations with size 1000 - Flip Flop Simulated Annealing')\n",
    "plt.xlabel('Iterations')\n",
    "plt.ylabel('Fitness')"
   ]
  },
  {
   "cell_type": "code",
   "execution_count": 71,
   "id": "fbc04d93",
   "metadata": {},
   "outputs": [],
   "source": [
    "# Fevals - iteration"
   ]
  },
  {
   "cell_type": "code",
   "execution_count": 72,
   "id": "1c497b46",
   "metadata": {},
   "outputs": [],
   "source": [
    "df_FEvals_iter_ffp = df_iter_curves_ffp.groupby('Iteration')\\\n",
    "                                .agg(avg_FEvals=('FEvals', 'mean'), var_FEvals = ('FEvals', 'var'))\\\n",
    "                                .reset_index()"
   ]
  },
  {
   "cell_type": "code",
   "execution_count": 73,
   "id": "3a1aeb3d",
   "metadata": {},
   "outputs": [
    {
     "data": {
      "text/plain": "(2049, 3)"
     },
     "execution_count": 73,
     "metadata": {},
     "output_type": "execute_result"
    }
   ],
   "source": [
    "df_FEvals_iter_ffp.shape"
   ]
  },
  {
   "cell_type": "code",
   "execution_count": 74,
   "id": "ac3b8261",
   "metadata": {},
   "outputs": [
    {
     "data": {
      "text/plain": "   Iteration  avg_FEvals  var_FEvals\n0          0         0.0    0.000000\n1          1         1.7    0.233333\n2          2         3.7    0.233333\n3          3         5.6    0.266667\n4          4         7.5    0.277778",
      "text/html": "<div>\n<style scoped>\n    .dataframe tbody tr th:only-of-type {\n        vertical-align: middle;\n    }\n\n    .dataframe tbody tr th {\n        vertical-align: top;\n    }\n\n    .dataframe thead th {\n        text-align: right;\n    }\n</style>\n<table border=\"1\" class=\"dataframe\">\n  <thead>\n    <tr style=\"text-align: right;\">\n      <th></th>\n      <th>Iteration</th>\n      <th>avg_FEvals</th>\n      <th>var_FEvals</th>\n    </tr>\n  </thead>\n  <tbody>\n    <tr>\n      <th>0</th>\n      <td>0</td>\n      <td>0.0</td>\n      <td>0.000000</td>\n    </tr>\n    <tr>\n      <th>1</th>\n      <td>1</td>\n      <td>1.7</td>\n      <td>0.233333</td>\n    </tr>\n    <tr>\n      <th>2</th>\n      <td>2</td>\n      <td>3.7</td>\n      <td>0.233333</td>\n    </tr>\n    <tr>\n      <th>3</th>\n      <td>3</td>\n      <td>5.6</td>\n      <td>0.266667</td>\n    </tr>\n    <tr>\n      <th>4</th>\n      <td>4</td>\n      <td>7.5</td>\n      <td>0.277778</td>\n    </tr>\n  </tbody>\n</table>\n</div>"
     },
     "execution_count": 74,
     "metadata": {},
     "output_type": "execute_result"
    }
   ],
   "source": [
    "df_FEvals_iter_ffp.head()"
   ]
  },
  {
   "cell_type": "code",
   "execution_count": 75,
   "id": "f8e819bd",
   "metadata": {},
   "outputs": [],
   "source": [
    "df_FEvals_iter_ffp['stddev_FEvals'] = df_FEvals_iter_ffp['var_FEvals'].apply(np.sqrt)"
   ]
  },
  {
   "cell_type": "code",
   "execution_count": 76,
   "id": "0bc580a0",
   "metadata": {},
   "outputs": [
    {
     "data": {
      "text/plain": "   Iteration  avg_FEvals  var_FEvals  stddev_FEvals\n0          0         0.0    0.000000       0.000000\n1          1         1.7    0.233333       0.483046\n2          2         3.7    0.233333       0.483046\n3          3         5.6    0.266667       0.516398\n4          4         7.5    0.277778       0.527046",
      "text/html": "<div>\n<style scoped>\n    .dataframe tbody tr th:only-of-type {\n        vertical-align: middle;\n    }\n\n    .dataframe tbody tr th {\n        vertical-align: top;\n    }\n\n    .dataframe thead th {\n        text-align: right;\n    }\n</style>\n<table border=\"1\" class=\"dataframe\">\n  <thead>\n    <tr style=\"text-align: right;\">\n      <th></th>\n      <th>Iteration</th>\n      <th>avg_FEvals</th>\n      <th>var_FEvals</th>\n      <th>stddev_FEvals</th>\n    </tr>\n  </thead>\n  <tbody>\n    <tr>\n      <th>0</th>\n      <td>0</td>\n      <td>0.0</td>\n      <td>0.000000</td>\n      <td>0.000000</td>\n    </tr>\n    <tr>\n      <th>1</th>\n      <td>1</td>\n      <td>1.7</td>\n      <td>0.233333</td>\n      <td>0.483046</td>\n    </tr>\n    <tr>\n      <th>2</th>\n      <td>2</td>\n      <td>3.7</td>\n      <td>0.233333</td>\n      <td>0.483046</td>\n    </tr>\n    <tr>\n      <th>3</th>\n      <td>3</td>\n      <td>5.6</td>\n      <td>0.266667</td>\n      <td>0.516398</td>\n    </tr>\n    <tr>\n      <th>4</th>\n      <td>4</td>\n      <td>7.5</td>\n      <td>0.277778</td>\n      <td>0.527046</td>\n    </tr>\n  </tbody>\n</table>\n</div>"
     },
     "execution_count": 76,
     "metadata": {},
     "output_type": "execute_result"
    }
   ],
   "source": [
    "df_FEvals_iter_ffp.head()"
   ]
  },
  {
   "cell_type": "code",
   "execution_count": 77,
   "id": "c2f72e89",
   "metadata": {
    "scrolled": true
   },
   "outputs": [
    {
     "data": {
      "text/plain": "Text(0, 0.5, 'Cumulative FEvals')"
     },
     "execution_count": 77,
     "metadata": {},
     "output_type": "execute_result"
    },
    {
     "data": {
      "text/plain": "<Figure size 640x480 with 1 Axes>",
      "image/png": "[encoded data removed]"
     },
     "metadata": {},
     "output_type": "display_data"
    }
   ],
   "source": [
    "plt.plot(df_FEvals_iter_ffp.Iteration, df_FEvals_iter_ffp.avg_FEvals, 'k', color='#CC4F1B')\n",
    "plt.fill_between(df_FEvals_iter_ffp.Iteration, df_FEvals_iter_ffp.avg_FEvals - df_FEvals_iter_ffp.stddev_FEvals\\\n",
    "                 , df_FEvals_iter_ffp.avg_FEvals + df_FEvals_iter_ffp.stddev_FEvals\\\n",
    "                 , alpha=0.5, edgecolor='#CC4F1B', facecolor='#FF9848')\n",
    "plt.title('FEvals by Iterations with size 1000 - Simulated Annealing on Flip Flop')\n",
    "plt.xlabel('Iterations')\n",
    "plt.ylabel('Cumulative FEvals')"
   ]
  },
  {
   "cell_type": "code",
   "execution_count": 78,
   "id": "ea52d9a0",
   "metadata": {},
   "outputs": [],
   "source": [
    "# fitness - wall clock time"
   ]
  },
  {
   "cell_type": "code",
   "execution_count": 79,
   "id": "b9d49476",
   "metadata": {},
   "outputs": [
    {
     "data": {
      "text/plain": "      Iteration      Time  Fitness  FEvals Temperature  max_iters\n2044       2044  2.896045    790.0  3176.0           2       2048\n2045       2045  2.897728    790.0  3178.0           2       2048\n2046       2046  2.899457    790.0  3180.0           2       2048\n2047       2047  2.900998    790.0  3181.0           2       2048\n2048       2048  2.902336    790.0  3182.0           2       2048",
      "text/html": "<div>\n<style scoped>\n    .dataframe tbody tr th:only-of-type {\n        vertical-align: middle;\n    }\n\n    .dataframe tbody tr th {\n        vertical-align: top;\n    }\n\n    .dataframe thead th {\n        text-align: right;\n    }\n</style>\n<table border=\"1\" class=\"dataframe\">\n  <thead>\n    <tr style=\"text-align: right;\">\n      <th></th>\n      <th>Iteration</th>\n      <th>Time</th>\n      <th>Fitness</th>\n      <th>FEvals</th>\n      <th>Temperature</th>\n      <th>max_iters</th>\n    </tr>\n  </thead>\n  <tbody>\n    <tr>\n      <th>2044</th>\n      <td>2044</td>\n      <td>2.896045</td>\n      <td>790.0</td>\n      <td>3176.0</td>\n      <td>2</td>\n      <td>2048</td>\n    </tr>\n    <tr>\n      <th>2045</th>\n      <td>2045</td>\n      <td>2.897728</td>\n      <td>790.0</td>\n      <td>3178.0</td>\n      <td>2</td>\n      <td>2048</td>\n    </tr>\n    <tr>\n      <th>2046</th>\n      <td>2046</td>\n      <td>2.899457</td>\n      <td>790.0</td>\n      <td>3180.0</td>\n      <td>2</td>\n      <td>2048</td>\n    </tr>\n    <tr>\n      <th>2047</th>\n      <td>2047</td>\n      <td>2.900998</td>\n      <td>790.0</td>\n      <td>3181.0</td>\n      <td>2</td>\n      <td>2048</td>\n    </tr>\n    <tr>\n      <th>2048</th>\n      <td>2048</td>\n      <td>2.902336</td>\n      <td>790.0</td>\n      <td>3182.0</td>\n      <td>2</td>\n      <td>2048</td>\n    </tr>\n  </tbody>\n</table>\n</div>"
     },
     "execution_count": 79,
     "metadata": {},
     "output_type": "execute_result"
    }
   ],
   "source": [
    "df_iter_curves_ffp.tail()"
   ]
  },
  {
   "cell_type": "code",
   "execution_count": 80,
   "id": "dc484616",
   "metadata": {},
   "outputs": [
    {
     "data": {
      "text/plain": "   Iteration      Time  Fitness  FEvals Temperature  max_iters\n0          0  0.004023    516.0     0.0           2       2048\n1          1  0.017763    516.0     2.0           2       2048\n2          2  0.030494    516.0     4.0           2       2048\n3          3  0.042955    516.0     6.0           2       2048\n4          4  0.045205    516.0     8.0           2       2048",
      "text/html": "<div>\n<style scoped>\n    .dataframe tbody tr th:only-of-type {\n        vertical-align: middle;\n    }\n\n    .dataframe tbody tr th {\n        vertical-align: top;\n    }\n\n    .dataframe thead th {\n        text-align: right;\n    }\n</style>\n<table border=\"1\" class=\"dataframe\">\n  <thead>\n    <tr style=\"text-align: right;\">\n      <th></th>\n      <th>Iteration</th>\n      <th>Time</th>\n      <th>Fitness</th>\n      <th>FEvals</th>\n      <th>Temperature</th>\n      <th>max_iters</th>\n    </tr>\n  </thead>\n  <tbody>\n    <tr>\n      <th>0</th>\n      <td>0</td>\n      <td>0.004023</td>\n      <td>516.0</td>\n      <td>0.0</td>\n      <td>2</td>\n      <td>2048</td>\n    </tr>\n    <tr>\n      <th>1</th>\n      <td>1</td>\n      <td>0.017763</td>\n      <td>516.0</td>\n      <td>2.0</td>\n      <td>2</td>\n      <td>2048</td>\n    </tr>\n    <tr>\n      <th>2</th>\n      <td>2</td>\n      <td>0.030494</td>\n      <td>516.0</td>\n      <td>4.0</td>\n      <td>2</td>\n      <td>2048</td>\n    </tr>\n    <tr>\n      <th>3</th>\n      <td>3</td>\n      <td>0.042955</td>\n      <td>516.0</td>\n      <td>6.0</td>\n      <td>2</td>\n      <td>2048</td>\n    </tr>\n    <tr>\n      <th>4</th>\n      <td>4</td>\n      <td>0.045205</td>\n      <td>516.0</td>\n      <td>8.0</td>\n      <td>2</td>\n      <td>2048</td>\n    </tr>\n  </tbody>\n</table>\n</div>"
     },
     "execution_count": 80,
     "metadata": {},
     "output_type": "execute_result"
    }
   ],
   "source": [
    "df_iter_curves_ffp.head()"
   ]
  },
  {
   "cell_type": "code",
   "execution_count": 81,
   "id": "10608580",
   "metadata": {},
   "outputs": [],
   "source": [
    "df_time_iter_ffp = df_iter_curves_ffp.groupby('Iteration')\\\n",
    "                                .agg(avg_time=('Time', 'mean'), var_time = ('Time', 'var'))\\\n",
    "                                .reset_index()"
   ]
  },
  {
   "cell_type": "code",
   "execution_count": 82,
   "id": "46896d91",
   "metadata": {},
   "outputs": [
    {
     "data": {
      "text/plain": "(2049, 3)"
     },
     "execution_count": 82,
     "metadata": {},
     "output_type": "execute_result"
    }
   ],
   "source": [
    "df_time_iter_ffp.shape"
   ]
  },
  {
   "cell_type": "code",
   "execution_count": 83,
   "id": "0a129b94",
   "metadata": {},
   "outputs": [
    {
     "data": {
      "text/plain": "   Iteration  avg_time      var_time\n0          0  0.001687  9.626417e-07\n1          1  0.008953  1.158886e-05\n2          2  0.016131  3.751966e-05\n3          3  0.022926  8.316668e-05\n4          4  0.024505  9.329910e-05",
      "text/html": "<div>\n<style scoped>\n    .dataframe tbody tr th:only-of-type {\n        vertical-align: middle;\n    }\n\n    .dataframe tbody tr th {\n        vertical-align: top;\n    }\n\n    .dataframe thead th {\n        text-align: right;\n    }\n</style>\n<table border=\"1\" class=\"dataframe\">\n  <thead>\n    <tr style=\"text-align: right;\">\n      <th></th>\n      <th>Iteration</th>\n      <th>avg_time</th>\n      <th>var_time</th>\n    </tr>\n  </thead>\n  <tbody>\n    <tr>\n      <th>0</th>\n      <td>0</td>\n      <td>0.001687</td>\n      <td>9.626417e-07</td>\n    </tr>\n    <tr>\n      <th>1</th>\n      <td>1</td>\n      <td>0.008953</td>\n      <td>1.158886e-05</td>\n    </tr>\n    <tr>\n      <th>2</th>\n      <td>2</td>\n      <td>0.016131</td>\n      <td>3.751966e-05</td>\n    </tr>\n    <tr>\n      <th>3</th>\n      <td>3</td>\n      <td>0.022926</td>\n      <td>8.316668e-05</td>\n    </tr>\n    <tr>\n      <th>4</th>\n      <td>4</td>\n      <td>0.024505</td>\n      <td>9.329910e-05</td>\n    </tr>\n  </tbody>\n</table>\n</div>"
     },
     "execution_count": 83,
     "metadata": {},
     "output_type": "execute_result"
    }
   ],
   "source": [
    "df_time_iter_ffp.head()"
   ]
  },
  {
   "cell_type": "code",
   "execution_count": 84,
   "id": "c44a9b11",
   "metadata": {},
   "outputs": [],
   "source": [
    "df_time_iter_ffp['stddev_time'] = df_time_iter_ffp['var_time'].apply(np.sqrt)"
   ]
  },
  {
   "cell_type": "code",
   "execution_count": 85,
   "id": "679b3282",
   "metadata": {},
   "outputs": [
    {
     "data": {
      "text/plain": "   Iteration  avg_time      var_time  stddev_time\n0          0  0.001687  9.626417e-07     0.000981\n1          1  0.008953  1.158886e-05     0.003404\n2          2  0.016131  3.751966e-05     0.006125\n3          3  0.022926  8.316668e-05     0.009120\n4          4  0.024505  9.329910e-05     0.009659",
      "text/html": "<div>\n<style scoped>\n    .dataframe tbody tr th:only-of-type {\n        vertical-align: middle;\n    }\n\n    .dataframe tbody tr th {\n        vertical-align: top;\n    }\n\n    .dataframe thead th {\n        text-align: right;\n    }\n</style>\n<table border=\"1\" class=\"dataframe\">\n  <thead>\n    <tr style=\"text-align: right;\">\n      <th></th>\n      <th>Iteration</th>\n      <th>avg_time</th>\n      <th>var_time</th>\n      <th>stddev_time</th>\n    </tr>\n  </thead>\n  <tbody>\n    <tr>\n      <th>0</th>\n      <td>0</td>\n      <td>0.001687</td>\n      <td>9.626417e-07</td>\n      <td>0.000981</td>\n    </tr>\n    <tr>\n      <th>1</th>\n      <td>1</td>\n      <td>0.008953</td>\n      <td>1.158886e-05</td>\n      <td>0.003404</td>\n    </tr>\n    <tr>\n      <th>2</th>\n      <td>2</td>\n      <td>0.016131</td>\n      <td>3.751966e-05</td>\n      <td>0.006125</td>\n    </tr>\n    <tr>\n      <th>3</th>\n      <td>3</td>\n      <td>0.022926</td>\n      <td>8.316668e-05</td>\n      <td>0.009120</td>\n    </tr>\n    <tr>\n      <th>4</th>\n      <td>4</td>\n      <td>0.024505</td>\n      <td>9.329910e-05</td>\n      <td>0.009659</td>\n    </tr>\n  </tbody>\n</table>\n</div>"
     },
     "execution_count": 85,
     "metadata": {},
     "output_type": "execute_result"
    }
   ],
   "source": [
    "df_time_iter_ffp.head()"
   ]
  },
  {
   "cell_type": "code",
   "execution_count": 86,
   "id": "b55953f2",
   "metadata": {
    "scrolled": true
   },
   "outputs": [
    {
     "data": {
      "text/plain": "Text(0, 0.5, 'Cumulative Time')"
     },
     "execution_count": 86,
     "metadata": {},
     "output_type": "execute_result"
    },
    {
     "data": {
      "text/plain": "<Figure size 640x480 with 1 Axes>",
      "image/png": "[encoded data removed]"
     },
     "metadata": {},
     "output_type": "display_data"
    }
   ],
   "source": [
    "plt.plot(df_time_iter_ffp.Iteration, df_time_iter_ffp.avg_time, 'k', color='#CC4F1B')\n",
    "plt.fill_between(df_time_iter_ffp.Iteration, df_time_iter_ffp.avg_time - df_time_iter_ffp.stddev_time\\\n",
    "                 , df_time_iter_ffp.avg_time + df_time_iter_ffp.stddev_time\\\n",
    "                 , alpha=0.5, edgecolor='#CC4F1B', facecolor='#FF9848')\n",
    "plt.title('Wall Clock Time by Iterations with Size 1000 - Simulated Annealing on Flip Flop')\n",
    "plt.xlabel('Iterations')\n",
    "plt.ylabel('Cumulative Time')"
   ]
  },
  {
   "cell_type": "code",
   "execution_count": 86,
   "outputs": [],
   "source": [],
   "metadata": {
    "collapsed": false
   }
  }
 ],
 "metadata": {
  "kernelspec": {
   "display_name": "Python 3 (ipykernel)",
   "language": "python",
   "name": "python3"
  },
  "language_info": {
   "codemirror_mode": {
    "name": "ipython",
    "version": 3
   },
   "file_extension": ".py",
   "mimetype": "text/x-python",
   "name": "python",
   "nbconvert_exporter": "python",
   "pygments_lexer": "ipython3",
   "version": "3.11.4"
  }
 },
 "nbformat": 4,
 "nbformat_minor": 5
}
